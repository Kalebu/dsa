{
 "cells": [
  {
   "cell_type": "markdown",
   "id": "2e456223",
   "metadata": {},
   "source": [
    "# lab_params.py"
   ]
  },
  {
   "cell_type": "code",
   "execution_count": 1,
   "id": "f2736bb4",
   "metadata": {},
   "outputs": [],
   "source": [
    "#!/usr/bin/env python\n",
    "\n",
    "import os\n",
    "\n",
    "# DB config\n",
    "DB_HOST='localhost'\n",
    "DB_NAME='postgres'\n",
    "DB_USER='postgres'\n",
    "DB_PASSWORD='postgres'\n",
    "DB_PORT=5432 # Default is 5432, if some service was using that port already then PostgreSQL's port may be 5433 instead\n",
    "\n",
    "# File paths\n",
    "RAW_DATA_FOLDER_PATH = 'raw_data'\n",
    "MOVE_RANGE_FILE_PATH = os.path.join(RAW_DATA_FOLDER_PATH ,'movement-range-2021-09-09.txt')\n",
    "COUNTRY_REGION_FILE_PATH = os.path.join(MOVE_RANGE_FILE_PATH , 'country_regions.txt')\n",
    "\n",
    "# Table names\n",
    "TEST_PREFIX=''\n",
    "MOVE_RANGE_TABLE_NAME = f'{TEST_PREFIX}rpl_move_range'\n",
    "COVID_SURVEY_TABLE_NAME = f'{TEST_PREFIX}rpl_covid_survey'\n",
    "\n",
    "# Time range (for COVID survey API)\n",
    "FROM_DATE = '2021-01-01'\n",
    "TO_DATE = '2021-06-30'\n",
    "\n",
    "# Other parameters\n",
    "SURVEY_INDICATORS = [\n",
    "    'mask',\n",
    "    'covid',\n",
    "    'tested_positive_14d',\n",
    "    'anosmia',\n",
    "    'covid_vaccine',\n",
    "]"
   ]
  },
  {
   "cell_type": "markdown",
   "id": "8e214de8",
   "metadata": {},
   "source": [
    "# lab_utils.py"
   ]
  },
  {
   "cell_type": "code",
   "execution_count": 2,
   "id": "8e17e81f",
   "metadata": {},
   "outputs": [],
   "source": [
    "#!/usr/bin/env python\n",
    "\n",
    "import pandas as pd\n",
    "import luigi\n",
    "import sqlite3\n",
    "import csv\n",
    "\n",
    "from lab_params import *\n",
    "\n",
    "\n",
    "# Returns objects to interact with database\n",
    "def connect_db():\n",
    "    conn = sqlite3.connect(DB_NAME)\n",
    "    cur = conn.cursor()\n",
    "    return conn, cur\n",
    "\n",
    "\n",
    "# Creates empty table in database\n",
    "def create_table(table_name, table_schema, drop_if_exists=False):\n",
    "    conn, cur = connect_db()\n",
    "    cols = ',\\n'.join([f'{col_name} {col_type}' for col_name, col_type in table_schema])\n",
    "    \n",
    "    if drop_if_exists:\n",
    "        sql = f'DROP TABLE IF EXISTS {table_name};'\n",
    "        print(sql)\n",
    "        print('\\n\\n')\n",
    "        cur.execute(sql)\n",
    "\n",
    "    sql = f\"\"\"\n",
    "        CREATE TABLE IF NOT EXISTS {table_name}(\n",
    "            {cols}\n",
    "        );\n",
    "    \"\"\"\n",
    "    print(sql)\n",
    "    print('\\n\\n')\n",
    "    cur.execute(sql)\n",
    "    conn.commit()\n",
    "    conn.close()\n",
    "\n",
    "\n",
    "# Loads data from file to table in database\n",
    "def load_file_in_table(\n",
    "    file_path,\n",
    "    table_name,\n",
    "    table_schema=None,\n",
    "    sep='\\t',\n",
    "    skip_header=True,\n",
    "    file_encoding='utf-8',\n",
    "    run_create_table=False,\n",
    "    overwrite_filter=None,\n",
    "):\n",
    "    conn, cur = connect_db()\n",
    "    \n",
    "    if run_create_table:\n",
    "        create_table(table_name, table_schema)\n",
    "    \n",
    "    if overwrite_filter:\n",
    "        sql = f'DELETE FROM {table_name} WHERE {overwrite_filter}'\n",
    "        print(sql)\n",
    "        cur.execute(sql)\n",
    "        print('\\n\\n')\n",
    "\n",
    "    print('-----------------------\\nFile loading: STARTED\\n-----------------------\\n')\n",
    "    insert_statement = f\"INSERT INTO {table_name} ({', '.join([col[0] for col in table_schema])}) VALUES({', '.join(['?' for col in table_schema])})\"\n",
    "    print(insert_statement)\n",
    "    df = pd.read_csv(file_path, sep=sep)\n",
    "    df.to_sql(table_name, con=conn, if_exists='append', index=False)\n",
    "    conn.close()\n",
    "    print('-----------------------\\nFile loading: FINISHED\\n-----------------------\\n')\n",
    "\n",
    "\n",
    "# Runs query on database, returns output as pandas.DataFrame\n",
    "def query_db(query):\n",
    "    conn, cur = connect_db()\n",
    "    output = pd.io.sql.read_sql_query(query, conn)\n",
    "    conn.close()\n",
    "    return output\n",
    "\n",
    "\n",
    "# Runs query, returns nothing\n",
    "def run_query(query, verbose=False):\n",
    "    conn, cur = connect_db()\n",
    "    if verbose:\n",
    "        print(query)\n",
    "    cur.execute(query)\n",
    "    conn.commit()\n",
    "    conn.close()\n",
    "\n",
    "\n",
    "# Returns a dataframe listing all tables in database\n",
    "def get_tables_list():\n",
    "    return query_db(\"SELECT name FROM sqlite_master WHERE type='table'\")\n",
    "\n",
    "\n",
    "# Returns True if table exists, False otherwise\n",
    "def table_exists(table_name):\n",
    "    return table_name in set(get_tables_list()[\"name\"])\n",
    "\n",
    "\n",
    "# ##########################\n",
    "# Luigi auxiliary utilities\n",
    "# ##########################\n",
    "\n",
    "class TableExists(luigi.Target):\n",
    "    def __init__(self, table_name):\n",
    "        super().__init__()\n",
    "        self.table_name = table_name\n",
    "\n",
    "    def exists(self):\n",
    "        return table_exists(self.table_name)\n",
    "\n",
    "\n",
    "class DataExists(luigi.Target):\n",
    "    def __init__(self, table_name, where_clause):\n",
    "        super().__init__()\n",
    "        self.table_name = table_name\n",
    "        self.where_clause = where_clause\n",
    "\n",
    "    def exists(self):\n",
    "        if TableExists(self.table_name).exists():\n",
    "            print(f'LOGGING: Table exists: {self.table_name}')\n",
    "            return query_db(f'SELECT * FROM {self.table_name} WHERE {self.where_clause} LIMIT 1').size > 0\n",
    "        else:\n",
    "            return False\n",
    "\n",
    "\n",
    "class DummyOutput(luigi.Target):\n",
    "    def __init__(self, dummy_variable=False):\n",
    "        super().__init__()\n",
    "        self.dummy_variable = dummy_variable\n",
    "\n",
    "    def exits(self):\n",
    "        print(f'DummyOutput: {self.dummy_variable}')\n",
    "        if self.dummy_variable:\n",
    "            return True\n",
    "        else:\n",
    "            return False\n",
    "\n",
    "\n",
    "# #########################\n",
    "# Other auxiliary functions\n",
    "# #########################\n",
    "\n",
    "def get_indicator_code(indicator):\n",
    "    indicator_to_code = {\n",
    "        'flu': 'ili',\n",
    "        'mask': 'mc',\n",
    "        'contact': 'dc',\n",
    "        'finance': 'hf',\n",
    "        'anosmia': 'anos',\n",
    "        'vaccine_acpt': 'vu',\n",
    "    }\n",
    "    return indicator_to_code.get(indicator, indicator)\n"
   ]
  },
  {
   "cell_type": "code",
   "execution_count": 3,
   "id": "49ade484",
   "metadata": {},
   "outputs": [],
   "source": [
    "import luigi\n",
    "import requests\n",
    "import json\n",
    "import os\n",
    "import pandas as pd"
   ]
  },
  {
   "cell_type": "markdown",
   "id": "213aa74a",
   "metadata": {},
   "source": [
    "# rpl_covid_survey.py"
   ]
  },
  {
   "cell_type": "code",
   "execution_count": 5,
   "id": "417ff956",
   "metadata": {},
   "outputs": [
    {
     "name": "stderr",
     "output_type": "stream",
     "text": [
      "DEBUG: Checking if MasterTask(test_prefix=test_1_, date=2021-01-01) is complete\n",
      "DEBUG: Checking if LoadReportIntoDB(test_prefix=test_1_, indicator=mask, country=Germany, date=2021-01-01) is complete\n",
      "DEBUG: Checking if LoadReportIntoDB(test_prefix=test_1_, indicator=mask, country=Japan, date=2021-01-01) is complete\n",
      "DEBUG: Checking if LoadReportIntoDB(test_prefix=test_1_, indicator=covid, country=Germany, date=2021-01-01) is complete\n",
      "DEBUG: Checking if LoadReportIntoDB(test_prefix=test_1_, indicator=covid, country=Japan, date=2021-01-01) is complete\n",
      "INFO: Informed scheduler that task   MasterTask_2021_01_01_test_1__53563b9853   has status   PENDING\n",
      "DEBUG: Checking if DownloadAPIReport(indicator=covid, country=Japan, date=2021-01-01) is complete\n",
      "DEBUG: Checking if CreateTable(test_prefix=test_1_, indicator=covid) is complete\n",
      "INFO: Informed scheduler that task   LoadReportIntoDB_Japan_2021_01_01_covid_c26c5ff14b   has status   PENDING\n",
      "INFO: Informed scheduler that task   CreateTable_covid_test_1__9544354bc1   has status   DONE\n",
      "INFO: Informed scheduler that task   DownloadAPIReport_Japan_2021_01_01_covid_ab4ec58261   has status   PENDING\n",
      "DEBUG: Checking if DownloadAPIReport(indicator=covid, country=Germany, date=2021-01-01) is complete\n",
      "INFO: Informed scheduler that task   LoadReportIntoDB_Germany_2021_01_01_covid_c9f7062edd   has status   PENDING\n",
      "INFO: Informed scheduler that task   DownloadAPIReport_Germany_2021_01_01_covid_68845450a4   has status   PENDING\n",
      "DEBUG: Checking if DownloadAPIReport(indicator=mask, country=Japan, date=2021-01-01) is complete\n",
      "DEBUG: Checking if CreateTable(test_prefix=test_1_, indicator=mask) is complete\n",
      "INFO: Informed scheduler that task   LoadReportIntoDB_Japan_2021_01_01_mask_f86ac82f06   has status   PENDING\n",
      "INFO: Informed scheduler that task   CreateTable_mask_test_1__0d2f0905ef   has status   DONE\n",
      "INFO: Informed scheduler that task   DownloadAPIReport_Japan_2021_01_01_mask_376d5d59c5   has status   PENDING\n",
      "DEBUG: Checking if DownloadAPIReport(indicator=mask, country=Germany, date=2021-01-01) is complete\n",
      "INFO: Informed scheduler that task   LoadReportIntoDB_Germany_2021_01_01_mask_eccd688635   has status   PENDING\n",
      "INFO: Informed scheduler that task   DownloadAPIReport_Germany_2021_01_01_mask_90a754514d   has status   PENDING\n",
      "INFO: Done scheduling tasks\n",
      "INFO: Running Worker with 5 processes\n",
      "DEBUG: Asking scheduler for work...\n",
      "DEBUG: Pending tasks: 9\n"
     ]
    },
    {
     "name": "stdout",
     "output_type": "stream",
     "text": [
      "LOGGING: Table exists: test_1_rpl_covid_survey_mask\n",
      "LOGGING: Table exists: test_1_rpl_covid_survey_mask\n",
      "LOGGING: Table exists: test_1_rpl_covid_survey_mask\n",
      "LOGGING: Table exists: test_1_rpl_covid_survey_covid\n",
      "LOGGING: Table exists: test_1_rpl_covid_survey_covid\n"
     ]
    },
    {
     "name": "stderr",
     "output_type": "stream",
     "text": [
      "DEBUG: Asking scheduler for work...\n",
      "DEBUG: Pending tasks: 8\n",
      "DEBUG: Asking scheduler for work...\n",
      "INFO: [pid 13068] Worker Worker(salt=655874230, workers=5, host=cabanzon-mbp, username=cabanzon, pid=11910) running   DownloadAPIReport(indicator=covid, country=Japan, date=2021-01-01)\n",
      "DEBUG: Pending tasks: 7\n"
     ]
    },
    {
     "name": "stdout",
     "output_type": "stream",
     "text": [
      "CALLING API:  https://covidmap.umd.edu/api/resources?indicator=covid&type=daily&country=Japan&daterange=20210101-20210101\n",
      "CALLING API: "
     ]
    },
    {
     "name": "stderr",
     "output_type": "stream",
     "text": [
      "DEBUG: Asking scheduler for work...\n",
      "INFO: [pid 13069] Worker Worker(salt=655874230, workers=5, host=cabanzon-mbp, username=cabanzon, pid=11910) running   DownloadAPIReport(indicator=covid, country=Germany, date=2021-01-01)\n"
     ]
    },
    {
     "name": "stdout",
     "output_type": "stream",
     "text": [
      " "
     ]
    },
    {
     "name": "stderr",
     "output_type": "stream",
     "text": [
      "DEBUG: Pending tasks: 6\n"
     ]
    },
    {
     "name": "stdout",
     "output_type": "stream",
     "text": [
      "https://covidmap.umd.edu/api/resources?indicator=covid&type=daily&country=Germany&daterange=20210101-20210101\n"
     ]
    },
    {
     "name": "stderr",
     "output_type": "stream",
     "text": [
      "objc[13068]: +[__NSCFConstantString initialize] may have been in progress in another thread when fork() was called.\n",
      "objc[13068]: +[__NSCFConstantString initialize] may have been in progress in another thread when fork() was called. We cannot safely call it or ignore it in the fork() child process. Crashing instead. Set a breakpoint on objc_initializeAfterForkError to debug.\n",
      "INFO: [pid 13070] Worker Worker(salt=655874230, workers=5, host=cabanzon-mbp, username=cabanzon, pid=11910) running   DownloadAPIReport(indicator=mask, country=Japan, date=2021-01-01)\n",
      "DEBUG: Asking scheduler for work...\n",
      "objc[13069]: +[__NSCFConstantString initialize] may have been in progress in another thread when fork() was called.\n",
      "objc[13069]: +[__NSCFConstantString initialize] may have been in progress in another thread when fork() was called. We cannot safely call it or ignore it in the fork() child process. Crashing instead. Set a breakpoint on objc_initializeAfterForkError to debug.\n"
     ]
    },
    {
     "name": "stdout",
     "output_type": "stream",
     "text": [
      "CALLING API: "
     ]
    },
    {
     "name": "stderr",
     "output_type": "stream",
     "text": [
      "DEBUG: Done\n"
     ]
    },
    {
     "name": "stdout",
     "output_type": "stream",
     "text": [
      " "
     ]
    },
    {
     "name": "stderr",
     "output_type": "stream",
     "text": [
      "DEBUG: There are no more tasks to run at this time\n"
     ]
    },
    {
     "name": "stdout",
     "output_type": "stream",
     "text": [
      "https://covidmap.umd.edu/api/resources?indicator=mask&type=daily&country=Japan&daterange=20210101-20210101"
     ]
    },
    {
     "name": "stderr",
     "output_type": "stream",
     "text": [
      "DEBUG: DownloadAPIReport_Japan_2021_01_01_covid_ab4ec58261 is currently run by worker Worker(salt=655874230, workers=5, host=cabanzon-mbp, username=cabanzon, pid=11910)\n"
     ]
    },
    {
     "name": "stdout",
     "output_type": "stream",
     "text": [
      "\n"
     ]
    },
    {
     "name": "stderr",
     "output_type": "stream",
     "text": [
      "INFO: [pid 13071] Worker Worker(salt=655874230, workers=5, host=cabanzon-mbp, username=cabanzon, pid=11910) running   DownloadAPIReport(indicator=mask, country=Germany, date=2021-01-01)\n",
      "DEBUG: DownloadAPIReport_Germany_2021_01_01_covid_68845450a4 is currently run by worker Worker(salt=655874230, workers=5, host=cabanzon-mbp, username=cabanzon, pid=11910)\n",
      "objc[13070]: +[__NSCFConstantString initialize] may have been in progress in another thread when fork() was called.\n",
      "objc[13070]: +[__NSCFConstantString initialize] may have been in progress in another thread when fork() was called. We cannot safely call it or ignore it in the fork() child process. Crashing instead. Set a breakpoint on objc_initializeAfterForkError to debug.\n"
     ]
    },
    {
     "name": "stdout",
     "output_type": "stream",
     "text": [
      "CALLING API: "
     ]
    },
    {
     "name": "stderr",
     "output_type": "stream",
     "text": [
      "DEBUG: DownloadAPIReport_Japan_2021_01_01_mask_376d5d59c5 is currently run by worker Worker(salt=655874230, workers=5, host=cabanzon-mbp, username=cabanzon, pid=11910)\n",
      "DEBUG: DownloadAPIReport_Germany_2021_01_01_mask_90a754514d is currently run by worker Worker(salt=655874230, workers=5, host=cabanzon-mbp, username=cabanzon, pid=11910)\n"
     ]
    },
    {
     "name": "stdout",
     "output_type": "stream",
     "text": [
      " https://covidmap.umd.edu/api/resources?indicator=mask&type=daily&country=Germany&daterange=20210101-20210101"
     ]
    },
    {
     "name": "stderr",
     "output_type": "stream",
     "text": [
      "INFO: Task DownloadAPIReport_Japan_2021_01_01_covid_ab4ec58261 died unexpectedly with exit code -6\n"
     ]
    },
    {
     "name": "stdout",
     "output_type": "stream",
     "text": [
      "\n"
     ]
    },
    {
     "name": "stderr",
     "output_type": "stream",
     "text": [
      "INFO: Task DownloadAPIReport_Germany_2021_01_01_covid_68845450a4 died unexpectedly with exit code -6\n",
      "INFO: Task DownloadAPIReport_Japan_2021_01_01_mask_376d5d59c5 died unexpectedly with exit code -6\n",
      "objc[13071]: +[__NSCFConstantString initialize] may have been in progress in another thread when fork() was called.\n",
      "objc[13071]: +[__NSCFConstantString initialize] may have been in progress in another thread when fork() was called. We cannot safely call it or ignore it in the fork() child process. Crashing instead. Set a breakpoint on objc_initializeAfterForkError to debug.\n",
      "INFO: Informed scheduler that task   DownloadAPIReport_Japan_2021_01_01_covid_ab4ec58261   has status   FAILED\n",
      "DEBUG: Asking scheduler for work...\n",
      "DEBUG: Done\n",
      "DEBUG: There are no more tasks to run at this time\n",
      "DEBUG: DownloadAPIReport_Germany_2021_01_01_covid_68845450a4 is currently run by worker Worker(salt=655874230, workers=5, host=cabanzon-mbp, username=cabanzon, pid=11910)\n",
      "DEBUG: DownloadAPIReport_Japan_2021_01_01_mask_376d5d59c5 is currently run by worker Worker(salt=655874230, workers=5, host=cabanzon-mbp, username=cabanzon, pid=11910)\n",
      "DEBUG: DownloadAPIReport_Germany_2021_01_01_mask_90a754514d is currently run by worker Worker(salt=655874230, workers=5, host=cabanzon-mbp, username=cabanzon, pid=11910)\n",
      "INFO: Task DownloadAPIReport_Germany_2021_01_01_covid_68845450a4 died unexpectedly with exit code -6\n",
      "INFO: Task DownloadAPIReport_Japan_2021_01_01_mask_376d5d59c5 died unexpectedly with exit code -6\n",
      "INFO: Task DownloadAPIReport_Germany_2021_01_01_mask_90a754514d died unexpectedly with exit code -6\n",
      "INFO: Informed scheduler that task   DownloadAPIReport_Germany_2021_01_01_covid_68845450a4   has status   FAILED\n",
      "DEBUG: Asking scheduler for work...\n",
      "DEBUG: Done\n",
      "DEBUG: There are no more tasks to run at this time\n",
      "DEBUG: DownloadAPIReport_Japan_2021_01_01_mask_376d5d59c5 is currently run by worker Worker(salt=655874230, workers=5, host=cabanzon-mbp, username=cabanzon, pid=11910)\n",
      "DEBUG: DownloadAPIReport_Germany_2021_01_01_mask_90a754514d is currently run by worker Worker(salt=655874230, workers=5, host=cabanzon-mbp, username=cabanzon, pid=11910)\n",
      "INFO: Task DownloadAPIReport_Japan_2021_01_01_mask_376d5d59c5 died unexpectedly with exit code -6\n",
      "INFO: Task DownloadAPIReport_Germany_2021_01_01_mask_90a754514d died unexpectedly with exit code -6\n",
      "INFO: Informed scheduler that task   DownloadAPIReport_Japan_2021_01_01_mask_376d5d59c5   has status   FAILED\n",
      "DEBUG: Asking scheduler for work...\n",
      "DEBUG: Done\n",
      "DEBUG: There are no more tasks to run at this time\n",
      "DEBUG: DownloadAPIReport_Germany_2021_01_01_mask_90a754514d is currently run by worker Worker(salt=655874230, workers=5, host=cabanzon-mbp, username=cabanzon, pid=11910)\n",
      "INFO: Task DownloadAPIReport_Germany_2021_01_01_mask_90a754514d died unexpectedly with exit code -6\n",
      "INFO: Task DownloadAPIReport_Germany_2021_01_01_mask_90a754514d died unexpectedly with exit code -6\n",
      "INFO: Task DownloadAPIReport_Germany_2021_01_01_mask_90a754514d died unexpectedly with exit code -6\n",
      "INFO: Informed scheduler that task   DownloadAPIReport_Germany_2021_01_01_mask_90a754514d   has status   FAILED\n",
      "DEBUG: Asking scheduler for work...\n",
      "DEBUG: Done\n",
      "DEBUG: There are no more tasks to run at this time\n",
      "DEBUG: There are 9 pending tasks possibly being run by other workers\n",
      "DEBUG: There are 9 pending tasks unique to this worker\n",
      "DEBUG: There are 9 pending tasks last scheduled by this worker\n",
      "INFO: Worker Worker(salt=655874230, workers=5, host=cabanzon-mbp, username=cabanzon, pid=11910) was stopped. Shutting down Keep-Alive thread\n",
      "INFO: \n",
      "===== Luigi Execution Summary =====\n",
      "\n",
      "Scheduled 11 tasks of which:\n",
      "* 2 complete ones were encountered:\n",
      "    - 2 CreateTable(test_prefix=test_1_, indicator=covid) and CreateTable(test_prefix=test_1_, indicator=mask)\n",
      "* 4 failed:\n",
      "    - 4 DownloadAPIReport(indicator=covid, country=Germany, date=2021-01-01) ...\n",
      "* 5 were left pending, among these:\n",
      "    * 5 had failed dependencies:\n",
      "        - 4 LoadReportIntoDB(test_prefix=test_1_, indicator=covid, country=Germany, date=2021-01-01) ...\n",
      "        - 1 MasterTask(test_prefix=test_1_, date=2021-01-01)\n",
      "\n",
      "This progress looks :( because there were failed tasks\n",
      "\n",
      "===== Luigi Execution Summary =====\n",
      "\n"
     ]
    }
   ],
   "source": [
    "# ###################\n",
    "# AUXILIARY FUNCTIONS\n",
    "# ###################\n",
    "\n",
    "# Renders the file path for the report to download\n",
    "def get_file_path(indicator, country, date):\n",
    "    date_no_dash = date.replace('-', '')\n",
    "    return os.path.join(RAW_DATA_FOLDER_PATH, f'covid_survey__{indicator}__{country}__{date_no_dash}__{date_no_dash}.txt')\n",
    "\n",
    "# Renders the table name for each different indicator\n",
    "def get_table_name(indicator, test_prefix):\n",
    "    return f'{test_prefix}{COVID_SURVEY_TABLE_NAME}_{indicator}'\n",
    "\n",
    "\n",
    "# ##############\n",
    "# PIPELINE TASKS\n",
    "# ##############\n",
    "\n",
    "class CreateTable(luigi.Task):\n",
    "    \"\"\"\n",
    "    Creates table in database.\n",
    "    \"\"\"\n",
    "    test_prefix = luigi.Parameter(default='')\n",
    "    indicator = luigi.Parameter()\n",
    "\n",
    "    def run(self):\n",
    "        indicator_code = get_indicator_code(self.indicator)\n",
    "        percent = 'pct' if self.indicator == 'covid' else 'percent'\n",
    "        table_schema = (\n",
    "            (f'{percent}_{indicator_code}', 'float'),\n",
    "            (f'{indicator_code}_se', 'float'),\n",
    "            (f'{percent}_{indicator_code}_unw', 'float'),\n",
    "            (f'{indicator_code}_se_unw', 'float'),\n",
    "            ('sample_size', 'NUMERIC'),\n",
    "            ('country', 'text'),\n",
    "            ('iso_code', 'text'),\n",
    "            ('gid_0', 'text'),\n",
    "            ('survey_date', 'NUMERIC'),\n",
    "        )\n",
    "        create_table(get_table_name(self.indicator, self.test_prefix), table_schema)\n",
    "\n",
    "    def output(self):\n",
    "        return TableExists(get_table_name(self.indicator, self.test_prefix))\n",
    "\n",
    "\n",
    "class DownloadAPIReport(luigi.Task):\n",
    "    \"\"\"\n",
    "    Downloads report from API.\n",
    "    \"\"\"\n",
    "    indicator = luigi.Parameter()\n",
    "    country = luigi.Parameter()\n",
    "    date = luigi.Parameter()\n",
    "\n",
    "    def run(self):\n",
    "        # Create folder is not existing\n",
    "        if RAW_DATA_FOLDER_PATH not in os.listdir():\n",
    "            os.mkdir(RAW_DATA_FOLDER_PATH)\n",
    "        file_path = get_file_path(self.indicator, self.country, self.date)\n",
    "        # Get params for API call\n",
    "        date_no_dash = self.date.replace('-', '')\n",
    "        url = f\"https://covidmap.umd.edu/api/resources?indicator={self.indicator}&type=daily&country={self.country}&daterange={date_no_dash}-{date_no_dash}\"\n",
    "        # Call API and save respond in CSV\n",
    "        print(\"CALLING API: \", url)\n",
    "        response = requests.get(url).text\n",
    "        response_dict = json.loads(response)\n",
    "        df = pd.DataFrame.from_dict(response_dict['data'])\n",
    "        df.to_csv(file_path, sep='\\t', index=False, encoding='utf-8')\n",
    "\n",
    "    def output(self):\n",
    "        file_path = get_file_path(self.indicator, self.country, self.date)\n",
    "        return luigi.LocalTarget(file_path)\n",
    "        \n",
    "\n",
    "class LoadReportIntoDB(luigi.Task):\n",
    "    \"\"\"\n",
    "    Loads report file into database.\n",
    "    \"\"\"\n",
    "    test_prefix = luigi.Parameter(default='')\n",
    "    indicator = luigi.Parameter()\n",
    "    country = luigi.Parameter()\n",
    "    date = luigi.Parameter()\n",
    "\n",
    "    def get_sql_filter(self):\n",
    "        return f\"country='{self.country}' AND survey_date = {self.date.replace('-','')}\"\n",
    "\n",
    "    def requires(self):\n",
    "        yield DownloadAPIReport(indicator=self.indicator, country=self.country, date=self.date)\n",
    "        yield CreateTable(indicator=self.indicator, test_prefix=self.test_prefix)\n",
    "\n",
    "    def run(self):\n",
    "        file_path = get_file_path(self.indicator, self.country, self.date)\n",
    "        indicator_code = get_indicator_code(self.indicator)\n",
    "        table_schema = (\n",
    "            (f'percent_{indicator_code}', 'float'),\n",
    "            (f'{indicator_code}_se', 'float'),\n",
    "            (f'percent_{indicator_code}_unw', 'float'),\n",
    "            (f'{indicator_code}_se_unw', 'float'),\n",
    "            ('sample_size', 'NUMERIC'),\n",
    "            ('country', 'text'),\n",
    "            ('iso_code', 'text'),\n",
    "            ('gid_0', 'text'),\n",
    "            ('survey_date', 'NUMERIC'),\n",
    "        )\n",
    "        load_file_in_table(\n",
    "            file_path,\n",
    "            get_table_name(self.indicator, self.test_prefix),\n",
    "            table_schema=table_schema,\n",
    "            overwrite_filter=self.get_sql_filter(),\n",
    "            skip_header=True,\n",
    "        )\n",
    "\n",
    "    def output(self):\n",
    "        return DataExists(table_name=get_table_name(self.indicator, self.test_prefix), where_clause=self.get_sql_filter())\n",
    "\n",
    "\n",
    "class MasterTask(luigi.WrapperTask):\n",
    "    \"\"\"\n",
    "    Generates tasks for several survey indicators and countries.\n",
    "    \"\"\"\n",
    "    test_prefix = luigi.Parameter(default='')\n",
    "    date = luigi.Parameter()\n",
    "\n",
    "    def requires(self):\n",
    "        for indicator in ['mask', 'covid']:\n",
    "            for country in ['Germany', 'Japan']:\n",
    "                yield LoadReportIntoDB(indicator=indicator, country=country, date=self.date, test_prefix=self.test_prefix)\n",
    "\n",
    "\n",
    "if __name__ == '__main__':\n",
    "     luigi.build([MasterTask(date='2021-01-01', test_prefix = 'test_1_')], workers=5, local_scheduler=True)\n"
   ]
  },
  {
   "cell_type": "markdown",
   "id": "eb839594",
   "metadata": {},
   "source": [
    "# covid_survey_covid_mask.py"
   ]
  },
  {
   "cell_type": "markdown",
   "id": "260c3c9a",
   "metadata": {},
   "source": [
    "# covid_survey_covid_mask_2.py"
   ]
  },
  {
   "cell_type": "markdown",
   "id": "25071ccd",
   "metadata": {},
   "source": [
    "# covid_survey_json.py"
   ]
  },
  {
   "cell_type": "code",
   "execution_count": null,
   "id": "faaa1344",
   "metadata": {},
   "outputs": [],
   "source": []
  }
 ],
 "metadata": {
  "kernelspec": {
   "display_name": "Python 3 (ipykernel)",
   "language": "python",
   "name": "python3"
  },
  "language_info": {
   "codemirror_mode": {
    "name": "ipython",
    "version": 3
   },
   "file_extension": ".py",
   "mimetype": "text/x-python",
   "name": "python",
   "nbconvert_exporter": "python",
   "pygments_lexer": "ipython3",
   "version": "3.7.5"
  }
 },
 "nbformat": 4,
 "nbformat_minor": 5
}
