{
  "nbformat": 4,
  "nbformat_minor": 0,
  "metadata": {
    "colab": {
      "name": "luigi_pipelines.ipynb",
      "provenance": [],
      "collapsed_sections": []
    },
    "kernelspec": {
      "name": "python3",
      "display_name": "Python 3"
    },
    "language_info": {
      "name": "python"
    }
  },
  "cells": [
    {
      "cell_type": "markdown",
      "source": [
        "# Notebook Learning Goals:\n",
        "1. Basics of a data pipelines framework (Luigi).\n",
        "2. Understand the importance of designing your data model and pipelines in a scalable way.\n",
        "3. Be aware of some of some of the idiosyncrasies coming from data, and how our designs should tackle them."
      ],
      "metadata": {
        "id": "B4QO2uJKWs3K"
      }
    },
    {
      "cell_type": "markdown",
      "source": [
        "# **0. Install Luigi**\n",
        "\n",
        "## Officially, what is Luigi?\n",
        "Luigi is a python package that helps you build data pipelines. *It handles dependency resolution, workflow management, visualization, handling failures, command line integration, and much more.* \n",
        "\n",
        "## What does this actually mean?\n",
        "\n",
        "The point of Luigi (or any pipeline package) is to handle the workflows associated with data -- like our sandwich example, once we're going from making 1 sandwich 1 time, to 100000 sandwiches every day, we need some tools to make sure things are tracked, automated, and run. It helps you connect a variety of tasks -- getting data from different places, modifying the data via SQL queries run on Hive/Presto/Spark etc, maybe running some custom code, and putting this finalized data into a new place!"
      ],
      "metadata": {
        "id": "s97G3Sz3x6hs"
      }
    },
    {
      "cell_type": "code",
      "source": [
        "!pip install luigi"
      ],
      "metadata": {
        "colab": {
          "base_uri": "https://localhost:8080/"
        },
        "id": "P8I04qLOwSmL",
        "outputId": "2e83e06a-898a-4bc0-e4e3-642686a8a46e"
      },
      "execution_count": null,
      "outputs": [
        {
          "output_type": "stream",
          "name": "stdout",
          "text": [
            "Looking in indexes: https://pypi.org/simple, https://us-python.pkg.dev/colab-wheels/public/simple/\n",
            "Collecting luigi\n",
            "  Downloading luigi-3.1.0.tar.gz (1.2 MB)\n",
            "\u001b[K     |████████████████████████████████| 1.2 MB 8.2 MB/s \n",
            "\u001b[?25hRequirement already satisfied: python-dateutil<3,>=2.7.5 in /usr/local/lib/python3.7/dist-packages (from luigi) (2.8.2)\n",
            "Requirement already satisfied: tenacity<9,>=8 in /usr/local/lib/python3.7/dist-packages (from luigi) (8.0.1)\n",
            "Collecting python-daemon\n",
            "  Downloading python_daemon-2.3.1-py2.py3-none-any.whl (34 kB)\n",
            "Requirement already satisfied: tornado<7,>=5.0 in /usr/local/lib/python3.7/dist-packages (from luigi) (5.1.1)\n",
            "Requirement already satisfied: six>=1.5 in /usr/local/lib/python3.7/dist-packages (from python-dateutil<3,>=2.7.5->luigi) (1.15.0)\n",
            "Requirement already satisfied: docutils in /usr/local/lib/python3.7/dist-packages (from python-daemon->luigi) (0.17.1)\n",
            "Collecting lockfile>=0.10\n",
            "  Downloading lockfile-0.12.2-py2.py3-none-any.whl (13 kB)\n",
            "Requirement already satisfied: setuptools in /usr/local/lib/python3.7/dist-packages (from python-daemon->luigi) (57.4.0)\n",
            "Building wheels for collected packages: luigi\n",
            "  Building wheel for luigi (setup.py) ... \u001b[?25l\u001b[?25hdone\n",
            "  Created wheel for luigi: filename=luigi-3.1.0-py3-none-any.whl size=1082166 sha256=1e5bc9521884bfbc492a56288736a9ac77105ec1748b4db779b90b01662d74f9\n",
            "  Stored in directory: /root/.cache/pip/wheels/27/41/3b/a16640f9d0d247f7c160f388183acc38487014956535736a9e\n",
            "Successfully built luigi\n",
            "Installing collected packages: lockfile, python-daemon, luigi\n",
            "Successfully installed lockfile-0.12.2 luigi-3.1.0 python-daemon-2.3.1\n"
          ]
        }
      ]
    },
    {
      "cell_type": "markdown",
      "source": [
        "# **0.1 lab_params.py**\n",
        "\n",
        "In this file, we define some parameters and file paths"
      ],
      "metadata": {
        "id": "noJkNjk0yIJ8"
      }
    },
    {
      "cell_type": "code",
      "execution_count": null,
      "metadata": {
        "id": "mlKudViDv-D-"
      },
      "outputs": [],
      "source": [
        "#!/usr/bin/env python\n",
        "\n",
        "import os\n",
        "\n",
        "DB_NAME = 'dsa.db'\n",
        "\n",
        "# File paths\n",
        "RAW_DATA_FOLDER_PATH = 'raw_data'\n",
        "MOVE_RANGE_FILE_PATH = os.path.join(RAW_DATA_FOLDER_PATH ,'movement-range-2021-09-09.txt')\n",
        "COUNTRY_REGION_FILE_PATH = os.path.join(MOVE_RANGE_FILE_PATH , 'country_regions.txt')\n",
        "\n",
        "# Table names\n",
        "# TEST_PREFIX=''\n",
        "# MOVE_RANGE_TABLE_NAME = f'{TEST_PREFIX}rpl_move_range'\n",
        "# COVID_SURVEY_TABLE_NAME = f'{TEST_PREFIX}rpl_covid_survey'\n",
        "\n",
        "# Time range (for COVID survey API)\n",
        "# FROM_DATE = '2021-01-01'\n",
        "# TO_DATE = '2021-06-30'\n",
        "\n",
        "# Other parameters\n",
        "INDICATORS = [\n",
        "    'covid',\n",
        "    'mask',\n",
        "    'covid_vaccine',\n",
        "    'anosmia',\n",
        "]\n",
        "\n",
        "COUNTRIES = ['Japan', 'Switzerland', 'Kenya', 'Algeria', 'Spain', 'Argentina', 'Poland', 'South Africa']"
      ]
    },
    {
      "cell_type": "code",
      "source": [
        "import requests \n",
        "import json\n",
        "import pandas as pd\n",
        "\n",
        "# request data from api\n",
        "response = requests.get(\"https://covidmap.umd.edu/api/country\").text\n",
        "print(\"API call finished\")\n",
        "\n",
        "# convert json data to dictionary\n",
        "response_dict = json.loads(response)\n",
        "\n",
        "# convert to pandas dataframe\n",
        "ALL_COUNTRIES = pd.DataFrame.from_dict(response_dict['data'])['country']"
      ],
      "metadata": {
        "colab": {
          "base_uri": "https://localhost:8080/"
        },
        "id": "Bu9hq9woWzKc",
        "outputId": "1be6bce8-c05c-4f4c-eea9-415c8d2e4531"
      },
      "execution_count": null,
      "outputs": [
        {
          "output_type": "stream",
          "name": "stdout",
          "text": [
            "API call finished\n"
          ]
        }
      ]
    },
    {
      "cell_type": "markdown",
      "source": [
        "# **0.2 lab_utils.py**\n",
        "\n",
        "Here we define some helper functions for our notebook"
      ],
      "metadata": {
        "id": "v5Awl6aNyMC9"
      }
    },
    {
      "cell_type": "code",
      "source": [
        "#!/usr/bin/env python\n",
        "\n",
        "import pandas as pd\n",
        "import luigi\n",
        "import sqlite3\n",
        "import csv\n",
        "\n",
        "\n",
        "# Returns objects to interact with database\n",
        "def connect_db():\n",
        "    conn = sqlite3.connect(DB_NAME)\n",
        "    cur = conn.cursor()\n",
        "    return conn, cur\n",
        "\n",
        "\n",
        "# Creates empty table in database\n",
        "def create_table(table_name, table_schema, drop_if_exists=False):\n",
        "    conn, cur = connect_db()\n",
        "    cols = ',\\n'.join([f'{col_name} {col_type}' for col_name, col_type in table_schema])\n",
        "    \n",
        "    if drop_if_exists:\n",
        "        sql = f'DROP TABLE IF EXISTS {table_name};'\n",
        "        print(sql)\n",
        "        print('\\n\\n')\n",
        "        cur.execute(sql)\n",
        "\n",
        "    sql = f\"\"\"\n",
        "        CREATE TABLE IF NOT EXISTS {table_name}(\n",
        "            {cols}\n",
        "        );\n",
        "    \"\"\"\n",
        "    print(sql)\n",
        "    print('\\n\\n')\n",
        "    cur.execute(sql)\n",
        "    conn.commit()\n",
        "    conn.close()\n",
        "\n",
        "\n",
        "# Loads data from file to table in database\n",
        "def load_file_in_table(\n",
        "    file_path,\n",
        "    table_name,\n",
        "    table_schema=None,\n",
        "    sep='\\t',\n",
        "    skip_header=True,\n",
        "    file_encoding='utf-8',\n",
        "    run_create_table=False,\n",
        "    overwrite_filter=None,\n",
        "):\n",
        "    conn, cur = connect_db()\n",
        "    \n",
        "    if run_create_table:\n",
        "        create_table(table_name, table_schema)\n",
        "    \n",
        "    if overwrite_filter:\n",
        "        sql = f'DELETE FROM {table_name} WHERE {overwrite_filter}'\n",
        "        print(sql)\n",
        "        cur.execute(sql)\n",
        "        print('\\n\\n')\n",
        "\n",
        "    print('-----------------------\\nFile loading: STARTED\\n-----------------------\\n')\n",
        "    insert_statement = f\"INSERT INTO {table_name} ({', '.join([col[0] for col in table_schema])}) VALUES({', '.join(['?' for col in table_schema])})\"\n",
        "    print(insert_statement)\n",
        "    df = pd.read_csv(file_path, sep=sep)\n",
        "    df.to_sql(table_name, con=conn, if_exists='append', index=False)\n",
        "    conn.close()\n",
        "    print('-----------------------\\nFile loading: FINISHED\\n-----------------------\\n')\n",
        "\n",
        "\n",
        "# Runs query on database, returns output as pandas.DataFrame\n",
        "def query_db(query):\n",
        "    conn, cur = connect_db()\n",
        "    output = pd.io.sql.read_sql_query(query, conn)\n",
        "    conn.close()\n",
        "    return output\n",
        "\n",
        "\n",
        "# Runs query, returns nothing\n",
        "def run_query(query, verbose=False):\n",
        "    conn, cur = connect_db()\n",
        "    if verbose:\n",
        "        print(query)\n",
        "    cur.execute(query)\n",
        "    conn.commit()\n",
        "    conn.close()\n",
        "\n",
        "\n",
        "# Returns a dataframe listing all tables in database\n",
        "def get_tables_list():\n",
        "    return query_db(\"SELECT name FROM sqlite_master WHERE type='table'\")\n",
        "\n",
        "\n",
        "# Returns True if table exists, False otherwise\n",
        "def table_exists(table_name):\n",
        "    return table_name in set(get_tables_list()[\"name\"])\n",
        "\n",
        "\n",
        "# ##########################\n",
        "# Luigi auxiliary utilities\n",
        "# ##########################\n",
        "\n",
        "class TableExists(luigi.Target):\n",
        "    def __init__(self, table_name):\n",
        "        super().__init__()\n",
        "        self.table_name = table_name\n",
        "\n",
        "    def exists(self):\n",
        "        return table_exists(self.table_name)\n",
        "\n",
        "\n",
        "class DataExists(luigi.Target):\n",
        "    def __init__(self, table_name, where_clause):\n",
        "        super().__init__()\n",
        "        self.table_name = table_name\n",
        "        self.where_clause = where_clause\n",
        "\n",
        "    def exists(self):\n",
        "        if TableExists(self.table_name).exists():\n",
        "            print(f'LOGGING: Table exists: {self.table_name}')\n",
        "            return query_db(f'SELECT * FROM {self.table_name} WHERE {self.where_clause} LIMIT 1').size > 0\n",
        "        else:\n",
        "            return False\n",
        "\n",
        "\n",
        "class DummyOutput(luigi.Target):\n",
        "    def __init__(self, dummy_variable=False):\n",
        "        super().__init__()\n",
        "        self.dummy_variable = dummy_variable\n",
        "\n",
        "    def exits(self):\n",
        "        print(f'DummyOutput: {self.dummy_variable}')\n",
        "        if self.dummy_variable:\n",
        "            return True\n",
        "        else:\n",
        "            return False\n",
        "\n",
        "\n",
        "# #########################\n",
        "# Other auxiliary functions\n",
        "# #########################\n",
        "\n",
        "def get_indicator_code(indicator):\n",
        "    indicator_to_code = {\n",
        "        'flu': 'ili',\n",
        "        'mask': 'mc',\n",
        "        'contact': 'dc',\n",
        "        'finance': 'hf',\n",
        "        'anosmia': 'anos',\n",
        "        'vaccine_acpt': 'vu',\n",
        "    }\n",
        "    return indicator_to_code.get(indicator, indicator)\n",
        "\n",
        "\n",
        "def get_pct_prefix(indicator):\n",
        "    pct_indicators = [\n",
        "        \"covid\",\n",
        "        \"tested_positive_14d\",\n",
        "        \"covid_vaccine\",\n",
        "    ]\n",
        "    if indicator in pct_indicators:\n",
        "        return \"pct\"\n",
        "    else:\n",
        "        return \"percent\"\n"
      ],
      "metadata": {
        "id": "AYEb-SjgwF0w"
      },
      "execution_count": null,
      "outputs": []
    },
    {
      "cell_type": "markdown",
      "source": [
        "# **1. Pipeline 1: Download daily reports from API**\n",
        "\n",
        "You can think of a data pipeline as a DAG (directed acyclic graph). This will make a lot more sense once we explain the pipeline \n",
        "\n",
        "The first pipeline that we're going to be looking at in this notebook has 4 tasks: \n",
        "\n",
        "1) DowloadAPIReport(): Download the data for a specific country+indicator pair from the API to a text file \n",
        "\n",
        "2) CreateTable(): Create a table in the database for a specific indicator.\n",
        "\n",
        "3) LoadReportIntoDB(): Load the data from the text file into the database.\n",
        "\n",
        "4) MasterTask(): A task to kick off all the various other tasks and provide input parameters\n",
        "\n",
        "In this scenario, for a basic pipeline run, the DAG is:\n",
        "\n",
        " Create------> Load. --> Master\n",
        "\n",
        " Download-^     \n",
        "\n",
        "A DAG is basically a graph where the connections between nodes have directions, and there's no circles in the graph.\n",
        "\n",
        "Imagine if you tried to run the Load before the Create -- the task would fail since we don't have a table schema for the data to be loaded into! \n",
        "\n",
        "However, you can see that in the Master Task (or in the logs!) we're actually generating 4 Creates, 8 Downloads, and 8 Loads -- because we're running the tasks for 4 indicators and 2 countires! Imagine having to do this by hand. \n",
        "![Untitled Diagram.jpg](data:image/jpeg;base64,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)\n",
        "\n",
        "Dags can get complicated and pipelines can run for weeks -- the most complicated pipeline (AND REALLY BAD) Neil worked on spun up 8000 tasks and ran for 4 days per 1 days data! "
      ],
      "metadata": {
        "id": "c-FiYdgqyXGF"
      }
    },
    {
      "cell_type": "markdown",
      "source": [
        ""
      ],
      "metadata": {
        "id": "SWuNCfdsym2y"
      }
    },
    {
      "cell_type": "code",
      "source": [
        "#!/usr/bin/env python\n",
        "\n",
        "import luigi\n",
        "import requests\n",
        "import json\n",
        "import os\n",
        "import pandas as pd\n",
        "\n",
        "\n",
        "# ###################\n",
        "# AUXILIARY FUNCTIONS\n",
        "# ###################\n",
        "\n",
        "# Renders the file path for the report to download\n",
        "def get_file_path(indicator, country, date):\n",
        "    date_no_dash = date.replace('-', '')\n",
        "    return os.path.join(RAW_DATA_FOLDER_PATH, f'covid_survey__{indicator}__{country}__{date_no_dash}__{date_no_dash}.txt')\n",
        "\n",
        "# Renders the table name for each different indicator\n",
        "def get_rpl_covid_survey_table_name(indicator, test_prefix):\n",
        "    return f'{test_prefix}rpl_covid_survey_{indicator}'\n",
        "\n",
        "\n",
        "# ##############\n",
        "# PIPELINE TASKS\n",
        "# ##############\n",
        "\n",
        "class CreateTable(luigi.Task):\n",
        "    \"\"\"\n",
        "    Creates table in database.\n",
        "    \"\"\"\n",
        "    test_prefix = luigi.Parameter(default='')\n",
        "    indicator = luigi.Parameter()\n",
        "\n",
        "    def run(self):\n",
        "        indicator_code = get_indicator_code(self.indicator)\n",
        "        percent = get_pct_prefix(self.indicator)\n",
        "        table_schema = (\n",
        "            (f'{percent}_{indicator_code}', 'float'),\n",
        "            (f'{indicator_code}_se', 'float'),\n",
        "            (f'{percent}_{indicator_code}_unw', 'float'),\n",
        "            (f'{indicator_code}_se_unw', 'float'),\n",
        "            ('sample_size', 'NUMERIC'),\n",
        "            ('country', 'text'),\n",
        "            ('iso_code', 'text'),\n",
        "            ('gid_0', 'text'),\n",
        "            ('survey_date', 'NUMERIC'),\n",
        "        )\n",
        "        create_table(get_rpl_covid_survey_table_name(self.indicator, self.test_prefix), table_schema)\n",
        "\n",
        "    def output(self):\n",
        "        return TableExists(get_rpl_covid_survey_table_name(self.indicator, self.test_prefix))\n",
        "\n",
        "\n",
        "class DownloadAPIReport(luigi.Task):\n",
        "    \"\"\"\n",
        "    Downloads report from API.\n",
        "    \"\"\"\n",
        "    indicator = luigi.Parameter()\n",
        "    country = luigi.Parameter()\n",
        "    date = luigi.Parameter()\n",
        "\n",
        "    def run(self):\n",
        "        # Create folder is not existing\n",
        "        if RAW_DATA_FOLDER_PATH not in os.listdir():\n",
        "            os.mkdir(RAW_DATA_FOLDER_PATH)\n",
        "        file_path = get_file_path(self.indicator, self.country, self.date)\n",
        "        # Get params for API call\n",
        "        date_no_dash = self.date.replace('-', '')\n",
        "        url = f\"https://covidmap.umd.edu/api/resources?indicator={self.indicator}&type=daily&country={self.country}&daterange={date_no_dash}-{date_no_dash}\"\n",
        "        # Call API and save respond in CSV\n",
        "        print(\"CALLING API: \", url)\n",
        "        response = requests.get(url).text\n",
        "        response_dict = json.loads(response)\n",
        "        df = pd.DataFrame.from_dict(response_dict['data'])\n",
        "        df.to_csv(file_path, sep='\\t', index=False, encoding='utf-8')\n",
        "\n",
        "    def output(self):\n",
        "        file_path = get_file_path(self.indicator, self.country, self.date)\n",
        "        return luigi.LocalTarget(file_path)\n",
        "        \n",
        "\n",
        "class LoadReportIntoDB(luigi.Task):\n",
        "    \"\"\"\n",
        "    Loads report file into database.\n",
        "    \"\"\"\n",
        "    test_prefix = luigi.Parameter(default='')\n",
        "    indicator = luigi.Parameter()\n",
        "    country = luigi.Parameter()\n",
        "    date = luigi.Parameter()\n",
        "\n",
        "    def get_sql_filter(self):\n",
        "        return f\"country='{self.country}' AND survey_date = {self.date.replace('-','')}\"\n",
        "\n",
        "    def requires(self):\n",
        "        yield DownloadAPIReport(indicator=self.indicator, country=self.country, date=self.date)\n",
        "        yield CreateTable(indicator=self.indicator, test_prefix=self.test_prefix)\n",
        "\n",
        "    def run(self):\n",
        "        file_path = get_file_path(self.indicator, self.country, self.date)\n",
        "        indicator_code = get_indicator_code(self.indicator)\n",
        "        percent = get_pct_prefix(self.indicator)\n",
        "        table_schema = (\n",
        "            (f'{percent}_{indicator_code}', 'float'),\n",
        "            (f'{indicator_code}_se', 'float'),\n",
        "            (f'{percent}_{indicator_code}_unw', 'float'),\n",
        "            (f'{indicator_code}_se_unw', 'float'),\n",
        "            ('sample_size', 'NUMERIC'),\n",
        "            ('country', 'text'),\n",
        "            ('iso_code', 'text'),\n",
        "            ('gid_0', 'text'),\n",
        "            ('survey_date', 'NUMERIC'),\n",
        "        )\n",
        "        load_file_in_table(\n",
        "            file_path,\n",
        "            get_rpl_covid_survey_table_name(self.indicator, self.test_prefix),\n",
        "            table_schema=table_schema,\n",
        "            overwrite_filter=self.get_sql_filter(),\n",
        "            skip_header=True,\n",
        "        )\n",
        "\n",
        "    def output(self):\n",
        "        return DataExists(\n",
        "            table_name=get_rpl_covid_survey_table_name(self.indicator, self.test_prefix),\n",
        "            where_clause=self.get_sql_filter()\n",
        "        )\n",
        "\n",
        "\n",
        "class MasterTask(luigi.WrapperTask):\n",
        "    \"\"\"\n",
        "    Generates tasks for several survey indicators and countries.\n",
        "    \"\"\"\n",
        "    test_prefix = luigi.Parameter(default='')\n",
        "    date = luigi.Parameter()\n",
        "\n",
        "    def requires(self):\n",
        "        for indicator in INDICATORS:\n",
        "            for country in COUNTRIES:\n",
        "                yield LoadReportIntoDB(indicator=indicator, country=country, date=self.date, test_prefix=self.test_prefix)\n",
        " \n",
        "\n",
        "DATE = '2021-07-01'\n",
        "TEST_PREFIX = ''\n",
        "\n",
        "if __name__ == '__main__':\n",
        "     luigi.build(\n",
        "         [MasterTask(\n",
        "             date=DATE,\n",
        "             test_prefix=TEST_PREFIX\n",
        "        )],\n",
        "         workers=5,\n",
        "         local_scheduler=True\n",
        "    )\n"
      ],
      "metadata": {
        "colab": {
          "base_uri": "https://localhost:8080/"
        },
        "id": "-Q4aa4U3wNYz",
        "outputId": "73b9b18b-5e99-4c40-c7a0-cc882fa3a46b"
      },
      "execution_count": null,
      "outputs": [
        {
          "output_type": "stream",
          "name": "stderr",
          "text": [
            "DEBUG: Checking if MasterTask(test_prefix=, date=2021-07-01) is complete\n",
            "DEBUG:luigi-interface:Checking if MasterTask(test_prefix=, date=2021-07-01) is complete\n",
            "DEBUG: Checking if LoadReportIntoDB(test_prefix=, indicator=covid, country=Japan, date=2021-07-01) is complete\n",
            "DEBUG:luigi-interface:Checking if LoadReportIntoDB(test_prefix=, indicator=covid, country=Japan, date=2021-07-01) is complete\n",
            "DEBUG: Checking if LoadReportIntoDB(test_prefix=, indicator=covid, country=Switzerland, date=2021-07-01) is complete\n",
            "DEBUG:luigi-interface:Checking if LoadReportIntoDB(test_prefix=, indicator=covid, country=Switzerland, date=2021-07-01) is complete\n",
            "DEBUG: Checking if LoadReportIntoDB(test_prefix=, indicator=covid, country=Kenya, date=2021-07-01) is complete\n",
            "DEBUG:luigi-interface:Checking if LoadReportIntoDB(test_prefix=, indicator=covid, country=Kenya, date=2021-07-01) is complete\n",
            "DEBUG: Checking if LoadReportIntoDB(test_prefix=, indicator=covid, country=Algeria, date=2021-07-01) is complete\n",
            "DEBUG:luigi-interface:Checking if LoadReportIntoDB(test_prefix=, indicator=covid, country=Algeria, date=2021-07-01) is complete\n",
            "DEBUG: Checking if LoadReportIntoDB(test_prefix=, indicator=covid, country=Spain, date=2021-07-01) is complete\n",
            "DEBUG:luigi-interface:Checking if LoadReportIntoDB(test_prefix=, indicator=covid, country=Spain, date=2021-07-01) is complete\n",
            "DEBUG: Checking if LoadReportIntoDB(test_prefix=, indicator=covid, country=Argentina, date=2021-07-01) is complete\n",
            "DEBUG:luigi-interface:Checking if LoadReportIntoDB(test_prefix=, indicator=covid, country=Argentina, date=2021-07-01) is complete\n",
            "DEBUG: Checking if LoadReportIntoDB(test_prefix=, indicator=covid, country=Poland, date=2021-07-01) is complete\n",
            "DEBUG:luigi-interface:Checking if LoadReportIntoDB(test_prefix=, indicator=covid, country=Poland, date=2021-07-01) is complete\n",
            "DEBUG: Checking if LoadReportIntoDB(test_prefix=, indicator=covid, country=South Africa, date=2021-07-01) is complete\n",
            "DEBUG:luigi-interface:Checking if LoadReportIntoDB(test_prefix=, indicator=covid, country=South Africa, date=2021-07-01) is complete\n",
            "DEBUG: Checking if LoadReportIntoDB(test_prefix=, indicator=mask, country=Japan, date=2021-07-01) is complete\n",
            "DEBUG:luigi-interface:Checking if LoadReportIntoDB(test_prefix=, indicator=mask, country=Japan, date=2021-07-01) is complete\n",
            "DEBUG: Checking if LoadReportIntoDB(test_prefix=, indicator=mask, country=Switzerland, date=2021-07-01) is complete\n",
            "DEBUG:luigi-interface:Checking if LoadReportIntoDB(test_prefix=, indicator=mask, country=Switzerland, date=2021-07-01) is complete\n",
            "DEBUG: Checking if LoadReportIntoDB(test_prefix=, indicator=mask, country=Kenya, date=2021-07-01) is complete\n",
            "DEBUG:luigi-interface:Checking if LoadReportIntoDB(test_prefix=, indicator=mask, country=Kenya, date=2021-07-01) is complete\n",
            "DEBUG: Checking if LoadReportIntoDB(test_prefix=, indicator=mask, country=Algeria, date=2021-07-01) is complete\n",
            "DEBUG:luigi-interface:Checking if LoadReportIntoDB(test_prefix=, indicator=mask, country=Algeria, date=2021-07-01) is complete\n",
            "DEBUG: Checking if LoadReportIntoDB(test_prefix=, indicator=mask, country=Spain, date=2021-07-01) is complete\n",
            "DEBUG:luigi-interface:Checking if LoadReportIntoDB(test_prefix=, indicator=mask, country=Spain, date=2021-07-01) is complete\n",
            "DEBUG: Checking if LoadReportIntoDB(test_prefix=, indicator=mask, country=Argentina, date=2021-07-01) is complete\n",
            "DEBUG:luigi-interface:Checking if LoadReportIntoDB(test_prefix=, indicator=mask, country=Argentina, date=2021-07-01) is complete\n",
            "DEBUG: Checking if LoadReportIntoDB(test_prefix=, indicator=mask, country=Poland, date=2021-07-01) is complete\n",
            "DEBUG:luigi-interface:Checking if LoadReportIntoDB(test_prefix=, indicator=mask, country=Poland, date=2021-07-01) is complete\n",
            "DEBUG: Checking if LoadReportIntoDB(test_prefix=, indicator=mask, country=South Africa, date=2021-07-01) is complete\n",
            "DEBUG:luigi-interface:Checking if LoadReportIntoDB(test_prefix=, indicator=mask, country=South Africa, date=2021-07-01) is complete\n",
            "DEBUG: Checking if LoadReportIntoDB(test_prefix=, indicator=covid_vaccine, country=Japan, date=2021-07-01) is complete\n",
            "DEBUG:luigi-interface:Checking if LoadReportIntoDB(test_prefix=, indicator=covid_vaccine, country=Japan, date=2021-07-01) is complete\n",
            "DEBUG: Checking if LoadReportIntoDB(test_prefix=, indicator=covid_vaccine, country=Switzerland, date=2021-07-01) is complete\n",
            "DEBUG:luigi-interface:Checking if LoadReportIntoDB(test_prefix=, indicator=covid_vaccine, country=Switzerland, date=2021-07-01) is complete\n",
            "DEBUG: Checking if LoadReportIntoDB(test_prefix=, indicator=covid_vaccine, country=Kenya, date=2021-07-01) is complete\n",
            "DEBUG:luigi-interface:Checking if LoadReportIntoDB(test_prefix=, indicator=covid_vaccine, country=Kenya, date=2021-07-01) is complete\n",
            "DEBUG: Checking if LoadReportIntoDB(test_prefix=, indicator=covid_vaccine, country=Algeria, date=2021-07-01) is complete\n",
            "DEBUG:luigi-interface:Checking if LoadReportIntoDB(test_prefix=, indicator=covid_vaccine, country=Algeria, date=2021-07-01) is complete\n",
            "DEBUG: Checking if LoadReportIntoDB(test_prefix=, indicator=covid_vaccine, country=Spain, date=2021-07-01) is complete\n",
            "DEBUG:luigi-interface:Checking if LoadReportIntoDB(test_prefix=, indicator=covid_vaccine, country=Spain, date=2021-07-01) is complete\n",
            "DEBUG: Checking if LoadReportIntoDB(test_prefix=, indicator=covid_vaccine, country=Argentina, date=2021-07-01) is complete\n",
            "DEBUG:luigi-interface:Checking if LoadReportIntoDB(test_prefix=, indicator=covid_vaccine, country=Argentina, date=2021-07-01) is complete\n",
            "DEBUG: Checking if LoadReportIntoDB(test_prefix=, indicator=covid_vaccine, country=Poland, date=2021-07-01) is complete\n",
            "DEBUG:luigi-interface:Checking if LoadReportIntoDB(test_prefix=, indicator=covid_vaccine, country=Poland, date=2021-07-01) is complete\n",
            "DEBUG: Checking if LoadReportIntoDB(test_prefix=, indicator=covid_vaccine, country=South Africa, date=2021-07-01) is complete\n",
            "DEBUG:luigi-interface:Checking if LoadReportIntoDB(test_prefix=, indicator=covid_vaccine, country=South Africa, date=2021-07-01) is complete\n",
            "DEBUG: Checking if LoadReportIntoDB(test_prefix=, indicator=anosmia, country=Japan, date=2021-07-01) is complete\n",
            "DEBUG:luigi-interface:Checking if LoadReportIntoDB(test_prefix=, indicator=anosmia, country=Japan, date=2021-07-01) is complete\n",
            "DEBUG: Checking if LoadReportIntoDB(test_prefix=, indicator=anosmia, country=Switzerland, date=2021-07-01) is complete\n",
            "DEBUG:luigi-interface:Checking if LoadReportIntoDB(test_prefix=, indicator=anosmia, country=Switzerland, date=2021-07-01) is complete\n",
            "DEBUG: Checking if LoadReportIntoDB(test_prefix=, indicator=anosmia, country=Kenya, date=2021-07-01) is complete\n",
            "DEBUG:luigi-interface:Checking if LoadReportIntoDB(test_prefix=, indicator=anosmia, country=Kenya, date=2021-07-01) is complete\n",
            "DEBUG: Checking if LoadReportIntoDB(test_prefix=, indicator=anosmia, country=Algeria, date=2021-07-01) is complete\n",
            "DEBUG:luigi-interface:Checking if LoadReportIntoDB(test_prefix=, indicator=anosmia, country=Algeria, date=2021-07-01) is complete\n",
            "DEBUG: Checking if LoadReportIntoDB(test_prefix=, indicator=anosmia, country=Spain, date=2021-07-01) is complete\n",
            "DEBUG:luigi-interface:Checking if LoadReportIntoDB(test_prefix=, indicator=anosmia, country=Spain, date=2021-07-01) is complete\n",
            "DEBUG: Checking if LoadReportIntoDB(test_prefix=, indicator=anosmia, country=Argentina, date=2021-07-01) is complete\n",
            "DEBUG:luigi-interface:Checking if LoadReportIntoDB(test_prefix=, indicator=anosmia, country=Argentina, date=2021-07-01) is complete\n",
            "DEBUG: Checking if LoadReportIntoDB(test_prefix=, indicator=anosmia, country=Poland, date=2021-07-01) is complete\n",
            "DEBUG:luigi-interface:Checking if LoadReportIntoDB(test_prefix=, indicator=anosmia, country=Poland, date=2021-07-01) is complete\n",
            "DEBUG: Checking if LoadReportIntoDB(test_prefix=, indicator=anosmia, country=South Africa, date=2021-07-01) is complete\n",
            "DEBUG:luigi-interface:Checking if LoadReportIntoDB(test_prefix=, indicator=anosmia, country=South Africa, date=2021-07-01) is complete\n",
            "DEBUG: Checking if LoadReportIntoDB(test_prefix=, indicator=tested_positive_14d, country=Japan, date=2021-07-01) is complete\n",
            "DEBUG:luigi-interface:Checking if LoadReportIntoDB(test_prefix=, indicator=tested_positive_14d, country=Japan, date=2021-07-01) is complete\n",
            "DEBUG: Checking if LoadReportIntoDB(test_prefix=, indicator=tested_positive_14d, country=Switzerland, date=2021-07-01) is complete\n",
            "DEBUG:luigi-interface:Checking if LoadReportIntoDB(test_prefix=, indicator=tested_positive_14d, country=Switzerland, date=2021-07-01) is complete\n",
            "DEBUG: Checking if LoadReportIntoDB(test_prefix=, indicator=tested_positive_14d, country=Kenya, date=2021-07-01) is complete\n",
            "DEBUG:luigi-interface:Checking if LoadReportIntoDB(test_prefix=, indicator=tested_positive_14d, country=Kenya, date=2021-07-01) is complete\n",
            "DEBUG: Checking if LoadReportIntoDB(test_prefix=, indicator=tested_positive_14d, country=Algeria, date=2021-07-01) is complete\n",
            "DEBUG:luigi-interface:Checking if LoadReportIntoDB(test_prefix=, indicator=tested_positive_14d, country=Algeria, date=2021-07-01) is complete\n",
            "DEBUG: Checking if LoadReportIntoDB(test_prefix=, indicator=tested_positive_14d, country=Spain, date=2021-07-01) is complete\n",
            "DEBUG:luigi-interface:Checking if LoadReportIntoDB(test_prefix=, indicator=tested_positive_14d, country=Spain, date=2021-07-01) is complete\n",
            "DEBUG: Checking if LoadReportIntoDB(test_prefix=, indicator=tested_positive_14d, country=Argentina, date=2021-07-01) is complete\n",
            "DEBUG:luigi-interface:Checking if LoadReportIntoDB(test_prefix=, indicator=tested_positive_14d, country=Argentina, date=2021-07-01) is complete\n",
            "DEBUG: Checking if LoadReportIntoDB(test_prefix=, indicator=tested_positive_14d, country=Poland, date=2021-07-01) is complete\n",
            "DEBUG:luigi-interface:Checking if LoadReportIntoDB(test_prefix=, indicator=tested_positive_14d, country=Poland, date=2021-07-01) is complete\n",
            "DEBUG: Checking if LoadReportIntoDB(test_prefix=, indicator=tested_positive_14d, country=South Africa, date=2021-07-01) is complete\n",
            "DEBUG:luigi-interface:Checking if LoadReportIntoDB(test_prefix=, indicator=tested_positive_14d, country=South Africa, date=2021-07-01) is complete\n",
            "INFO: Informed scheduler that task   MasterTask_2021_07_01__90be21f6f0   has status   PENDING\n",
            "INFO:luigi-interface:Informed scheduler that task   MasterTask_2021_07_01__90be21f6f0   has status   PENDING\n",
            "DEBUG: Checking if DownloadAPIReport(indicator=tested_positive_14d, country=South Africa, date=2021-07-01) is complete\n",
            "DEBUG:luigi-interface:Checking if DownloadAPIReport(indicator=tested_positive_14d, country=South Africa, date=2021-07-01) is complete\n",
            "DEBUG: Checking if CreateTable(test_prefix=, indicator=tested_positive_14d) is complete\n",
            "DEBUG:luigi-interface:Checking if CreateTable(test_prefix=, indicator=tested_positive_14d) is complete\n",
            "INFO: Informed scheduler that task   LoadReportIntoDB_South_Africa_2021_07_01_tested_positive__226391238d   has status   PENDING\n",
            "INFO:luigi-interface:Informed scheduler that task   LoadReportIntoDB_South_Africa_2021_07_01_tested_positive__226391238d   has status   PENDING\n",
            "INFO: Informed scheduler that task   CreateTable_tested_positive___d23bf2962f   has status   PENDING\n",
            "INFO:luigi-interface:Informed scheduler that task   CreateTable_tested_positive___d23bf2962f   has status   PENDING\n",
            "INFO: Informed scheduler that task   DownloadAPIReport_South_Africa_2021_07_01_tested_positive__1f2f135abf   has status   PENDING\n",
            "INFO:luigi-interface:Informed scheduler that task   DownloadAPIReport_South_Africa_2021_07_01_tested_positive__1f2f135abf   has status   PENDING\n",
            "DEBUG: Checking if DownloadAPIReport(indicator=tested_positive_14d, country=Poland, date=2021-07-01) is complete\n",
            "DEBUG:luigi-interface:Checking if DownloadAPIReport(indicator=tested_positive_14d, country=Poland, date=2021-07-01) is complete\n",
            "INFO: Informed scheduler that task   LoadReportIntoDB_Poland_2021_07_01_tested_positive__d06361f281   has status   PENDING\n",
            "INFO:luigi-interface:Informed scheduler that task   LoadReportIntoDB_Poland_2021_07_01_tested_positive__d06361f281   has status   PENDING\n",
            "INFO: Informed scheduler that task   DownloadAPIReport_Poland_2021_07_01_tested_positive__91f67d7b8a   has status   PENDING\n",
            "INFO:luigi-interface:Informed scheduler that task   DownloadAPIReport_Poland_2021_07_01_tested_positive__91f67d7b8a   has status   PENDING\n",
            "DEBUG: Checking if DownloadAPIReport(indicator=tested_positive_14d, country=Argentina, date=2021-07-01) is complete\n",
            "DEBUG:luigi-interface:Checking if DownloadAPIReport(indicator=tested_positive_14d, country=Argentina, date=2021-07-01) is complete\n",
            "INFO: Informed scheduler that task   LoadReportIntoDB_Argentina_2021_07_01_tested_positive__6d05e493cc   has status   PENDING\n",
            "INFO:luigi-interface:Informed scheduler that task   LoadReportIntoDB_Argentina_2021_07_01_tested_positive__6d05e493cc   has status   PENDING\n",
            "INFO: Informed scheduler that task   DownloadAPIReport_Argentina_2021_07_01_tested_positive__cc9351ebe8   has status   PENDING\n",
            "INFO:luigi-interface:Informed scheduler that task   DownloadAPIReport_Argentina_2021_07_01_tested_positive__cc9351ebe8   has status   PENDING\n",
            "DEBUG: Checking if DownloadAPIReport(indicator=tested_positive_14d, country=Spain, date=2021-07-01) is complete\n",
            "DEBUG:luigi-interface:Checking if DownloadAPIReport(indicator=tested_positive_14d, country=Spain, date=2021-07-01) is complete\n",
            "INFO: Informed scheduler that task   LoadReportIntoDB_Spain_2021_07_01_tested_positive__6464e7899b   has status   PENDING\n",
            "INFO:luigi-interface:Informed scheduler that task   LoadReportIntoDB_Spain_2021_07_01_tested_positive__6464e7899b   has status   PENDING\n",
            "INFO: Informed scheduler that task   DownloadAPIReport_Spain_2021_07_01_tested_positive__b4592a5257   has status   PENDING\n",
            "INFO:luigi-interface:Informed scheduler that task   DownloadAPIReport_Spain_2021_07_01_tested_positive__b4592a5257   has status   PENDING\n",
            "DEBUG: Checking if DownloadAPIReport(indicator=tested_positive_14d, country=Algeria, date=2021-07-01) is complete\n",
            "DEBUG:luigi-interface:Checking if DownloadAPIReport(indicator=tested_positive_14d, country=Algeria, date=2021-07-01) is complete\n",
            "INFO: Informed scheduler that task   LoadReportIntoDB_Algeria_2021_07_01_tested_positive__4e31e57077   has status   PENDING\n",
            "INFO:luigi-interface:Informed scheduler that task   LoadReportIntoDB_Algeria_2021_07_01_tested_positive__4e31e57077   has status   PENDING\n",
            "INFO: Informed scheduler that task   DownloadAPIReport_Algeria_2021_07_01_tested_positive__3bccedc21b   has status   PENDING\n",
            "INFO:luigi-interface:Informed scheduler that task   DownloadAPIReport_Algeria_2021_07_01_tested_positive__3bccedc21b   has status   PENDING\n",
            "DEBUG: Checking if DownloadAPIReport(indicator=tested_positive_14d, country=Kenya, date=2021-07-01) is complete\n",
            "DEBUG:luigi-interface:Checking if DownloadAPIReport(indicator=tested_positive_14d, country=Kenya, date=2021-07-01) is complete\n",
            "INFO: Informed scheduler that task   LoadReportIntoDB_Kenya_2021_07_01_tested_positive__3d44ef9b81   has status   PENDING\n",
            "INFO:luigi-interface:Informed scheduler that task   LoadReportIntoDB_Kenya_2021_07_01_tested_positive__3d44ef9b81   has status   PENDING\n",
            "INFO: Informed scheduler that task   DownloadAPIReport_Kenya_2021_07_01_tested_positive__1b9deab955   has status   PENDING\n",
            "INFO:luigi-interface:Informed scheduler that task   DownloadAPIReport_Kenya_2021_07_01_tested_positive__1b9deab955   has status   PENDING\n",
            "DEBUG: Checking if DownloadAPIReport(indicator=tested_positive_14d, country=Switzerland, date=2021-07-01) is complete\n",
            "DEBUG:luigi-interface:Checking if DownloadAPIReport(indicator=tested_positive_14d, country=Switzerland, date=2021-07-01) is complete\n",
            "INFO: Informed scheduler that task   LoadReportIntoDB_Switzerland_2021_07_01_tested_positive__b011a59843   has status   PENDING\n",
            "INFO:luigi-interface:Informed scheduler that task   LoadReportIntoDB_Switzerland_2021_07_01_tested_positive__b011a59843   has status   PENDING\n",
            "INFO: Informed scheduler that task   DownloadAPIReport_Switzerland_2021_07_01_tested_positive__0241858e65   has status   PENDING\n",
            "INFO:luigi-interface:Informed scheduler that task   DownloadAPIReport_Switzerland_2021_07_01_tested_positive__0241858e65   has status   PENDING\n",
            "DEBUG: Checking if DownloadAPIReport(indicator=tested_positive_14d, country=Japan, date=2021-07-01) is complete\n",
            "DEBUG:luigi-interface:Checking if DownloadAPIReport(indicator=tested_positive_14d, country=Japan, date=2021-07-01) is complete\n",
            "INFO: Informed scheduler that task   LoadReportIntoDB_Japan_2021_07_01_tested_positive__e6d60c008c   has status   PENDING\n",
            "INFO:luigi-interface:Informed scheduler that task   LoadReportIntoDB_Japan_2021_07_01_tested_positive__e6d60c008c   has status   PENDING\n",
            "INFO: Informed scheduler that task   DownloadAPIReport_Japan_2021_07_01_tested_positive__1a12003d41   has status   PENDING\n",
            "INFO:luigi-interface:Informed scheduler that task   DownloadAPIReport_Japan_2021_07_01_tested_positive__1a12003d41   has status   PENDING\n",
            "DEBUG: Checking if DownloadAPIReport(indicator=anosmia, country=South Africa, date=2021-07-01) is complete\n",
            "DEBUG:luigi-interface:Checking if DownloadAPIReport(indicator=anosmia, country=South Africa, date=2021-07-01) is complete\n",
            "DEBUG: Checking if CreateTable(test_prefix=, indicator=anosmia) is complete\n",
            "DEBUG:luigi-interface:Checking if CreateTable(test_prefix=, indicator=anosmia) is complete\n",
            "INFO: Informed scheduler that task   LoadReportIntoDB_South_Africa_2021_07_01_anosmia_0e91caf9a6   has status   PENDING\n",
            "INFO:luigi-interface:Informed scheduler that task   LoadReportIntoDB_South_Africa_2021_07_01_anosmia_0e91caf9a6   has status   PENDING\n",
            "INFO: Informed scheduler that task   CreateTable_anosmia__241f4b9a4e   has status   PENDING\n",
            "INFO:luigi-interface:Informed scheduler that task   CreateTable_anosmia__241f4b9a4e   has status   PENDING\n",
            "INFO: Informed scheduler that task   DownloadAPIReport_South_Africa_2021_07_01_anosmia_2bfa8943d0   has status   PENDING\n",
            "INFO:luigi-interface:Informed scheduler that task   DownloadAPIReport_South_Africa_2021_07_01_anosmia_2bfa8943d0   has status   PENDING\n",
            "DEBUG: Checking if DownloadAPIReport(indicator=anosmia, country=Poland, date=2021-07-01) is complete\n",
            "DEBUG:luigi-interface:Checking if DownloadAPIReport(indicator=anosmia, country=Poland, date=2021-07-01) is complete\n",
            "INFO: Informed scheduler that task   LoadReportIntoDB_Poland_2021_07_01_anosmia_7ca5635274   has status   PENDING\n",
            "INFO:luigi-interface:Informed scheduler that task   LoadReportIntoDB_Poland_2021_07_01_anosmia_7ca5635274   has status   PENDING\n",
            "INFO: Informed scheduler that task   DownloadAPIReport_Poland_2021_07_01_anosmia_0ef43deea1   has status   PENDING\n",
            "INFO:luigi-interface:Informed scheduler that task   DownloadAPIReport_Poland_2021_07_01_anosmia_0ef43deea1   has status   PENDING\n",
            "DEBUG: Checking if DownloadAPIReport(indicator=anosmia, country=Argentina, date=2021-07-01) is complete\n",
            "DEBUG:luigi-interface:Checking if DownloadAPIReport(indicator=anosmia, country=Argentina, date=2021-07-01) is complete\n",
            "INFO: Informed scheduler that task   LoadReportIntoDB_Argentina_2021_07_01_anosmia_068cb6ca82   has status   PENDING\n",
            "INFO:luigi-interface:Informed scheduler that task   LoadReportIntoDB_Argentina_2021_07_01_anosmia_068cb6ca82   has status   PENDING\n",
            "INFO: Informed scheduler that task   DownloadAPIReport_Argentina_2021_07_01_anosmia_36a6f74998   has status   PENDING\n",
            "INFO:luigi-interface:Informed scheduler that task   DownloadAPIReport_Argentina_2021_07_01_anosmia_36a6f74998   has status   PENDING\n",
            "DEBUG: Checking if DownloadAPIReport(indicator=anosmia, country=Spain, date=2021-07-01) is complete\n",
            "DEBUG:luigi-interface:Checking if DownloadAPIReport(indicator=anosmia, country=Spain, date=2021-07-01) is complete\n",
            "INFO: Informed scheduler that task   LoadReportIntoDB_Spain_2021_07_01_anosmia_b0aaa1b560   has status   PENDING\n",
            "INFO:luigi-interface:Informed scheduler that task   LoadReportIntoDB_Spain_2021_07_01_anosmia_b0aaa1b560   has status   PENDING\n",
            "INFO: Informed scheduler that task   DownloadAPIReport_Spain_2021_07_01_anosmia_cb0a5aafc6   has status   PENDING\n",
            "INFO:luigi-interface:Informed scheduler that task   DownloadAPIReport_Spain_2021_07_01_anosmia_cb0a5aafc6   has status   PENDING\n",
            "DEBUG: Checking if DownloadAPIReport(indicator=anosmia, country=Algeria, date=2021-07-01) is complete\n",
            "DEBUG:luigi-interface:Checking if DownloadAPIReport(indicator=anosmia, country=Algeria, date=2021-07-01) is complete\n",
            "INFO: Informed scheduler that task   LoadReportIntoDB_Algeria_2021_07_01_anosmia_73cd8e40ff   has status   PENDING\n",
            "INFO:luigi-interface:Informed scheduler that task   LoadReportIntoDB_Algeria_2021_07_01_anosmia_73cd8e40ff   has status   PENDING\n",
            "INFO: Informed scheduler that task   DownloadAPIReport_Algeria_2021_07_01_anosmia_453b68b9c6   has status   PENDING\n",
            "INFO:luigi-interface:Informed scheduler that task   DownloadAPIReport_Algeria_2021_07_01_anosmia_453b68b9c6   has status   PENDING\n",
            "DEBUG: Checking if DownloadAPIReport(indicator=anosmia, country=Kenya, date=2021-07-01) is complete\n",
            "DEBUG:luigi-interface:Checking if DownloadAPIReport(indicator=anosmia, country=Kenya, date=2021-07-01) is complete\n",
            "INFO: Informed scheduler that task   LoadReportIntoDB_Kenya_2021_07_01_anosmia_fa394442cf   has status   PENDING\n",
            "INFO:luigi-interface:Informed scheduler that task   LoadReportIntoDB_Kenya_2021_07_01_anosmia_fa394442cf   has status   PENDING\n",
            "INFO: Informed scheduler that task   DownloadAPIReport_Kenya_2021_07_01_anosmia_aa39edd864   has status   PENDING\n",
            "INFO:luigi-interface:Informed scheduler that task   DownloadAPIReport_Kenya_2021_07_01_anosmia_aa39edd864   has status   PENDING\n",
            "DEBUG: Checking if DownloadAPIReport(indicator=anosmia, country=Switzerland, date=2021-07-01) is complete\n",
            "DEBUG:luigi-interface:Checking if DownloadAPIReport(indicator=anosmia, country=Switzerland, date=2021-07-01) is complete\n",
            "INFO: Informed scheduler that task   LoadReportIntoDB_Switzerland_2021_07_01_anosmia_9a312c3d64   has status   PENDING\n",
            "INFO:luigi-interface:Informed scheduler that task   LoadReportIntoDB_Switzerland_2021_07_01_anosmia_9a312c3d64   has status   PENDING\n",
            "INFO: Informed scheduler that task   DownloadAPIReport_Switzerland_2021_07_01_anosmia_43766503ba   has status   PENDING\n",
            "INFO:luigi-interface:Informed scheduler that task   DownloadAPIReport_Switzerland_2021_07_01_anosmia_43766503ba   has status   PENDING\n",
            "DEBUG: Checking if DownloadAPIReport(indicator=anosmia, country=Japan, date=2021-07-01) is complete\n",
            "DEBUG:luigi-interface:Checking if DownloadAPIReport(indicator=anosmia, country=Japan, date=2021-07-01) is complete\n",
            "INFO: Informed scheduler that task   LoadReportIntoDB_Japan_2021_07_01_anosmia_00c5354164   has status   PENDING\n",
            "INFO:luigi-interface:Informed scheduler that task   LoadReportIntoDB_Japan_2021_07_01_anosmia_00c5354164   has status   PENDING\n",
            "INFO: Informed scheduler that task   DownloadAPIReport_Japan_2021_07_01_anosmia_61e6a8e81d   has status   PENDING\n",
            "INFO:luigi-interface:Informed scheduler that task   DownloadAPIReport_Japan_2021_07_01_anosmia_61e6a8e81d   has status   PENDING\n",
            "DEBUG: Checking if DownloadAPIReport(indicator=covid_vaccine, country=South Africa, date=2021-07-01) is complete\n",
            "DEBUG:luigi-interface:Checking if DownloadAPIReport(indicator=covid_vaccine, country=South Africa, date=2021-07-01) is complete\n",
            "DEBUG: Checking if CreateTable(test_prefix=, indicator=covid_vaccine) is complete\n",
            "DEBUG:luigi-interface:Checking if CreateTable(test_prefix=, indicator=covid_vaccine) is complete\n",
            "INFO: Informed scheduler that task   LoadReportIntoDB_South_Africa_2021_07_01_covid_vaccine_39bb60ff3f   has status   PENDING\n",
            "INFO:luigi-interface:Informed scheduler that task   LoadReportIntoDB_South_Africa_2021_07_01_covid_vaccine_39bb60ff3f   has status   PENDING\n",
            "INFO: Informed scheduler that task   CreateTable_covid_vaccine__14c3d4d432   has status   PENDING\n",
            "INFO:luigi-interface:Informed scheduler that task   CreateTable_covid_vaccine__14c3d4d432   has status   PENDING\n",
            "INFO: Informed scheduler that task   DownloadAPIReport_South_Africa_2021_07_01_covid_vaccine_f0981cd796   has status   PENDING\n",
            "INFO:luigi-interface:Informed scheduler that task   DownloadAPIReport_South_Africa_2021_07_01_covid_vaccine_f0981cd796   has status   PENDING\n",
            "DEBUG: Checking if DownloadAPIReport(indicator=covid_vaccine, country=Poland, date=2021-07-01) is complete\n",
            "DEBUG:luigi-interface:Checking if DownloadAPIReport(indicator=covid_vaccine, country=Poland, date=2021-07-01) is complete\n",
            "INFO: Informed scheduler that task   LoadReportIntoDB_Poland_2021_07_01_covid_vaccine_1b91bf223a   has status   PENDING\n",
            "INFO:luigi-interface:Informed scheduler that task   LoadReportIntoDB_Poland_2021_07_01_covid_vaccine_1b91bf223a   has status   PENDING\n",
            "INFO: Informed scheduler that task   DownloadAPIReport_Poland_2021_07_01_covid_vaccine_6504b8ef45   has status   PENDING\n",
            "INFO:luigi-interface:Informed scheduler that task   DownloadAPIReport_Poland_2021_07_01_covid_vaccine_6504b8ef45   has status   PENDING\n",
            "DEBUG: Checking if DownloadAPIReport(indicator=covid_vaccine, country=Argentina, date=2021-07-01) is complete\n",
            "DEBUG:luigi-interface:Checking if DownloadAPIReport(indicator=covid_vaccine, country=Argentina, date=2021-07-01) is complete\n",
            "INFO: Informed scheduler that task   LoadReportIntoDB_Argentina_2021_07_01_covid_vaccine_65a6a6a98f   has status   PENDING\n",
            "INFO:luigi-interface:Informed scheduler that task   LoadReportIntoDB_Argentina_2021_07_01_covid_vaccine_65a6a6a98f   has status   PENDING\n",
            "INFO: Informed scheduler that task   DownloadAPIReport_Argentina_2021_07_01_covid_vaccine_332fbbd364   has status   PENDING\n",
            "INFO:luigi-interface:Informed scheduler that task   DownloadAPIReport_Argentina_2021_07_01_covid_vaccine_332fbbd364   has status   PENDING\n",
            "DEBUG: Checking if DownloadAPIReport(indicator=covid_vaccine, country=Spain, date=2021-07-01) is complete\n",
            "DEBUG:luigi-interface:Checking if DownloadAPIReport(indicator=covid_vaccine, country=Spain, date=2021-07-01) is complete\n",
            "INFO: Informed scheduler that task   LoadReportIntoDB_Spain_2021_07_01_covid_vaccine_f2aac42905   has status   PENDING\n",
            "INFO:luigi-interface:Informed scheduler that task   LoadReportIntoDB_Spain_2021_07_01_covid_vaccine_f2aac42905   has status   PENDING\n",
            "INFO: Informed scheduler that task   DownloadAPIReport_Spain_2021_07_01_covid_vaccine_14c61945ce   has status   PENDING\n",
            "INFO:luigi-interface:Informed scheduler that task   DownloadAPIReport_Spain_2021_07_01_covid_vaccine_14c61945ce   has status   PENDING\n",
            "DEBUG: Checking if DownloadAPIReport(indicator=covid_vaccine, country=Algeria, date=2021-07-01) is complete\n",
            "DEBUG:luigi-interface:Checking if DownloadAPIReport(indicator=covid_vaccine, country=Algeria, date=2021-07-01) is complete\n",
            "INFO: Informed scheduler that task   LoadReportIntoDB_Algeria_2021_07_01_covid_vaccine_13433a7f2e   has status   PENDING\n",
            "INFO:luigi-interface:Informed scheduler that task   LoadReportIntoDB_Algeria_2021_07_01_covid_vaccine_13433a7f2e   has status   PENDING\n",
            "INFO: Informed scheduler that task   DownloadAPIReport_Algeria_2021_07_01_covid_vaccine_e17c1f0489   has status   PENDING\n",
            "INFO:luigi-interface:Informed scheduler that task   DownloadAPIReport_Algeria_2021_07_01_covid_vaccine_e17c1f0489   has status   PENDING\n",
            "DEBUG: Checking if DownloadAPIReport(indicator=covid_vaccine, country=Kenya, date=2021-07-01) is complete\n",
            "DEBUG:luigi-interface:Checking if DownloadAPIReport(indicator=covid_vaccine, country=Kenya, date=2021-07-01) is complete\n",
            "INFO: Informed scheduler that task   LoadReportIntoDB_Kenya_2021_07_01_covid_vaccine_a65fe8cb5c   has status   PENDING\n",
            "INFO:luigi-interface:Informed scheduler that task   LoadReportIntoDB_Kenya_2021_07_01_covid_vaccine_a65fe8cb5c   has status   PENDING\n",
            "INFO: Informed scheduler that task   DownloadAPIReport_Kenya_2021_07_01_covid_vaccine_0d5f4d5027   has status   PENDING\n",
            "INFO:luigi-interface:Informed scheduler that task   DownloadAPIReport_Kenya_2021_07_01_covid_vaccine_0d5f4d5027   has status   PENDING\n",
            "DEBUG: Checking if DownloadAPIReport(indicator=covid_vaccine, country=Switzerland, date=2021-07-01) is complete\n",
            "DEBUG:luigi-interface:Checking if DownloadAPIReport(indicator=covid_vaccine, country=Switzerland, date=2021-07-01) is complete\n",
            "INFO: Informed scheduler that task   LoadReportIntoDB_Switzerland_2021_07_01_covid_vaccine_13455f8402   has status   PENDING\n",
            "INFO:luigi-interface:Informed scheduler that task   LoadReportIntoDB_Switzerland_2021_07_01_covid_vaccine_13455f8402   has status   PENDING\n",
            "INFO: Informed scheduler that task   DownloadAPIReport_Switzerland_2021_07_01_covid_vaccine_44677dfd09   has status   PENDING\n",
            "INFO:luigi-interface:Informed scheduler that task   DownloadAPIReport_Switzerland_2021_07_01_covid_vaccine_44677dfd09   has status   PENDING\n",
            "DEBUG: Checking if DownloadAPIReport(indicator=covid_vaccine, country=Japan, date=2021-07-01) is complete\n",
            "DEBUG:luigi-interface:Checking if DownloadAPIReport(indicator=covid_vaccine, country=Japan, date=2021-07-01) is complete\n",
            "INFO: Informed scheduler that task   LoadReportIntoDB_Japan_2021_07_01_covid_vaccine_cb328d5c98   has status   PENDING\n",
            "INFO:luigi-interface:Informed scheduler that task   LoadReportIntoDB_Japan_2021_07_01_covid_vaccine_cb328d5c98   has status   PENDING\n",
            "INFO: Informed scheduler that task   DownloadAPIReport_Japan_2021_07_01_covid_vaccine_1d08892a58   has status   PENDING\n",
            "INFO:luigi-interface:Informed scheduler that task   DownloadAPIReport_Japan_2021_07_01_covid_vaccine_1d08892a58   has status   PENDING\n",
            "DEBUG: Checking if DownloadAPIReport(indicator=mask, country=South Africa, date=2021-07-01) is complete\n",
            "DEBUG:luigi-interface:Checking if DownloadAPIReport(indicator=mask, country=South Africa, date=2021-07-01) is complete\n",
            "DEBUG: Checking if CreateTable(test_prefix=, indicator=mask) is complete\n",
            "DEBUG:luigi-interface:Checking if CreateTable(test_prefix=, indicator=mask) is complete\n",
            "INFO: Informed scheduler that task   LoadReportIntoDB_South_Africa_2021_07_01_mask_f4a35f711b   has status   PENDING\n",
            "INFO:luigi-interface:Informed scheduler that task   LoadReportIntoDB_South_Africa_2021_07_01_mask_f4a35f711b   has status   PENDING\n",
            "INFO: Informed scheduler that task   CreateTable_mask__5c94466890   has status   PENDING\n",
            "INFO:luigi-interface:Informed scheduler that task   CreateTable_mask__5c94466890   has status   PENDING\n",
            "INFO: Informed scheduler that task   DownloadAPIReport_South_Africa_2021_07_01_mask_53b2715828   has status   PENDING\n",
            "INFO:luigi-interface:Informed scheduler that task   DownloadAPIReport_South_Africa_2021_07_01_mask_53b2715828   has status   PENDING\n",
            "DEBUG: Checking if DownloadAPIReport(indicator=mask, country=Poland, date=2021-07-01) is complete\n",
            "DEBUG:luigi-interface:Checking if DownloadAPIReport(indicator=mask, country=Poland, date=2021-07-01) is complete\n",
            "INFO: Informed scheduler that task   LoadReportIntoDB_Poland_2021_07_01_mask_db365f153a   has status   PENDING\n",
            "INFO:luigi-interface:Informed scheduler that task   LoadReportIntoDB_Poland_2021_07_01_mask_db365f153a   has status   PENDING\n",
            "INFO: Informed scheduler that task   DownloadAPIReport_Poland_2021_07_01_mask_35dd273c24   has status   PENDING\n",
            "INFO:luigi-interface:Informed scheduler that task   DownloadAPIReport_Poland_2021_07_01_mask_35dd273c24   has status   PENDING\n",
            "DEBUG: Checking if DownloadAPIReport(indicator=mask, country=Argentina, date=2021-07-01) is complete\n",
            "DEBUG:luigi-interface:Checking if DownloadAPIReport(indicator=mask, country=Argentina, date=2021-07-01) is complete\n",
            "INFO: Informed scheduler that task   LoadReportIntoDB_Argentina_2021_07_01_mask_1162d45086   has status   PENDING\n",
            "INFO:luigi-interface:Informed scheduler that task   LoadReportIntoDB_Argentina_2021_07_01_mask_1162d45086   has status   PENDING\n",
            "INFO: Informed scheduler that task   DownloadAPIReport_Argentina_2021_07_01_mask_30286e644b   has status   PENDING\n",
            "INFO:luigi-interface:Informed scheduler that task   DownloadAPIReport_Argentina_2021_07_01_mask_30286e644b   has status   PENDING\n",
            "DEBUG: Checking if DownloadAPIReport(indicator=mask, country=Spain, date=2021-07-01) is complete\n",
            "DEBUG:luigi-interface:Checking if DownloadAPIReport(indicator=mask, country=Spain, date=2021-07-01) is complete\n",
            "INFO: Informed scheduler that task   LoadReportIntoDB_Spain_2021_07_01_mask_bd42673511   has status   PENDING\n",
            "INFO:luigi-interface:Informed scheduler that task   LoadReportIntoDB_Spain_2021_07_01_mask_bd42673511   has status   PENDING\n",
            "INFO: Informed scheduler that task   DownloadAPIReport_Spain_2021_07_01_mask_18ecada74f   has status   PENDING\n",
            "INFO:luigi-interface:Informed scheduler that task   DownloadAPIReport_Spain_2021_07_01_mask_18ecada74f   has status   PENDING\n",
            "DEBUG: Checking if DownloadAPIReport(indicator=mask, country=Algeria, date=2021-07-01) is complete\n",
            "DEBUG:luigi-interface:Checking if DownloadAPIReport(indicator=mask, country=Algeria, date=2021-07-01) is complete\n",
            "INFO: Informed scheduler that task   LoadReportIntoDB_Algeria_2021_07_01_mask_ce107bffb8   has status   PENDING\n",
            "INFO:luigi-interface:Informed scheduler that task   LoadReportIntoDB_Algeria_2021_07_01_mask_ce107bffb8   has status   PENDING\n",
            "INFO: Informed scheduler that task   DownloadAPIReport_Algeria_2021_07_01_mask_42d9d8b29c   has status   PENDING\n",
            "INFO:luigi-interface:Informed scheduler that task   DownloadAPIReport_Algeria_2021_07_01_mask_42d9d8b29c   has status   PENDING\n",
            "DEBUG: Checking if DownloadAPIReport(indicator=mask, country=Kenya, date=2021-07-01) is complete\n",
            "DEBUG:luigi-interface:Checking if DownloadAPIReport(indicator=mask, country=Kenya, date=2021-07-01) is complete\n",
            "INFO: Informed scheduler that task   LoadReportIntoDB_Kenya_2021_07_01_mask_7ba1d5792c   has status   PENDING\n",
            "INFO:luigi-interface:Informed scheduler that task   LoadReportIntoDB_Kenya_2021_07_01_mask_7ba1d5792c   has status   PENDING\n",
            "INFO: Informed scheduler that task   DownloadAPIReport_Kenya_2021_07_01_mask_f4b3554b65   has status   PENDING\n",
            "INFO:luigi-interface:Informed scheduler that task   DownloadAPIReport_Kenya_2021_07_01_mask_f4b3554b65   has status   PENDING\n",
            "DEBUG: Checking if DownloadAPIReport(indicator=mask, country=Switzerland, date=2021-07-01) is complete\n",
            "DEBUG:luigi-interface:Checking if DownloadAPIReport(indicator=mask, country=Switzerland, date=2021-07-01) is complete\n",
            "INFO: Informed scheduler that task   LoadReportIntoDB_Switzerland_2021_07_01_mask_88620b9895   has status   PENDING\n",
            "INFO:luigi-interface:Informed scheduler that task   LoadReportIntoDB_Switzerland_2021_07_01_mask_88620b9895   has status   PENDING\n",
            "INFO: Informed scheduler that task   DownloadAPIReport_Switzerland_2021_07_01_mask_8fb84c42c3   has status   PENDING\n",
            "INFO:luigi-interface:Informed scheduler that task   DownloadAPIReport_Switzerland_2021_07_01_mask_8fb84c42c3   has status   PENDING\n",
            "DEBUG: Checking if DownloadAPIReport(indicator=mask, country=Japan, date=2021-07-01) is complete\n",
            "DEBUG:luigi-interface:Checking if DownloadAPIReport(indicator=mask, country=Japan, date=2021-07-01) is complete\n",
            "INFO: Informed scheduler that task   LoadReportIntoDB_Japan_2021_07_01_mask_086fa626a2   has status   PENDING\n",
            "INFO:luigi-interface:Informed scheduler that task   LoadReportIntoDB_Japan_2021_07_01_mask_086fa626a2   has status   PENDING\n",
            "INFO: Informed scheduler that task   DownloadAPIReport_Japan_2021_07_01_mask_c0a5cc55e4   has status   PENDING\n",
            "INFO:luigi-interface:Informed scheduler that task   DownloadAPIReport_Japan_2021_07_01_mask_c0a5cc55e4   has status   PENDING\n",
            "DEBUG: Checking if DownloadAPIReport(indicator=covid, country=South Africa, date=2021-07-01) is complete\n",
            "DEBUG:luigi-interface:Checking if DownloadAPIReport(indicator=covid, country=South Africa, date=2021-07-01) is complete\n",
            "DEBUG: Checking if CreateTable(test_prefix=, indicator=covid) is complete\n",
            "DEBUG:luigi-interface:Checking if CreateTable(test_prefix=, indicator=covid) is complete\n",
            "INFO: Informed scheduler that task   LoadReportIntoDB_South_Africa_2021_07_01_covid_e364bc9c3b   has status   PENDING\n",
            "INFO:luigi-interface:Informed scheduler that task   LoadReportIntoDB_South_Africa_2021_07_01_covid_e364bc9c3b   has status   PENDING\n",
            "INFO: Informed scheduler that task   CreateTable_covid__f5c38098ab   has status   PENDING\n",
            "INFO:luigi-interface:Informed scheduler that task   CreateTable_covid__f5c38098ab   has status   PENDING\n",
            "INFO: Informed scheduler that task   DownloadAPIReport_South_Africa_2021_07_01_covid_9fc2e2db9e   has status   PENDING\n",
            "INFO:luigi-interface:Informed scheduler that task   DownloadAPIReport_South_Africa_2021_07_01_covid_9fc2e2db9e   has status   PENDING\n",
            "DEBUG: Checking if DownloadAPIReport(indicator=covid, country=Poland, date=2021-07-01) is complete\n",
            "DEBUG:luigi-interface:Checking if DownloadAPIReport(indicator=covid, country=Poland, date=2021-07-01) is complete\n",
            "INFO: Informed scheduler that task   LoadReportIntoDB_Poland_2021_07_01_covid_4f3710ceb4   has status   PENDING\n",
            "INFO:luigi-interface:Informed scheduler that task   LoadReportIntoDB_Poland_2021_07_01_covid_4f3710ceb4   has status   PENDING\n",
            "INFO: Informed scheduler that task   DownloadAPIReport_Poland_2021_07_01_covid_8fbb2dfbd4   has status   PENDING\n",
            "INFO:luigi-interface:Informed scheduler that task   DownloadAPIReport_Poland_2021_07_01_covid_8fbb2dfbd4   has status   PENDING\n",
            "DEBUG: Checking if DownloadAPIReport(indicator=covid, country=Argentina, date=2021-07-01) is complete\n",
            "DEBUG:luigi-interface:Checking if DownloadAPIReport(indicator=covid, country=Argentina, date=2021-07-01) is complete\n",
            "INFO: Informed scheduler that task   LoadReportIntoDB_Argentina_2021_07_01_covid_53d569184d   has status   PENDING\n",
            "INFO:luigi-interface:Informed scheduler that task   LoadReportIntoDB_Argentina_2021_07_01_covid_53d569184d   has status   PENDING\n",
            "INFO: Informed scheduler that task   DownloadAPIReport_Argentina_2021_07_01_covid_27033ec65f   has status   PENDING\n",
            "INFO:luigi-interface:Informed scheduler that task   DownloadAPIReport_Argentina_2021_07_01_covid_27033ec65f   has status   PENDING\n",
            "DEBUG: Checking if DownloadAPIReport(indicator=covid, country=Spain, date=2021-07-01) is complete\n",
            "DEBUG:luigi-interface:Checking if DownloadAPIReport(indicator=covid, country=Spain, date=2021-07-01) is complete\n",
            "INFO: Informed scheduler that task   LoadReportIntoDB_Spain_2021_07_01_covid_0257dfb59b   has status   PENDING\n",
            "INFO:luigi-interface:Informed scheduler that task   LoadReportIntoDB_Spain_2021_07_01_covid_0257dfb59b   has status   PENDING\n",
            "INFO: Informed scheduler that task   DownloadAPIReport_Spain_2021_07_01_covid_bc0a57992c   has status   PENDING\n",
            "INFO:luigi-interface:Informed scheduler that task   DownloadAPIReport_Spain_2021_07_01_covid_bc0a57992c   has status   PENDING\n",
            "DEBUG: Checking if DownloadAPIReport(indicator=covid, country=Algeria, date=2021-07-01) is complete\n",
            "DEBUG:luigi-interface:Checking if DownloadAPIReport(indicator=covid, country=Algeria, date=2021-07-01) is complete\n",
            "INFO: Informed scheduler that task   LoadReportIntoDB_Algeria_2021_07_01_covid_f262a48387   has status   PENDING\n",
            "INFO:luigi-interface:Informed scheduler that task   LoadReportIntoDB_Algeria_2021_07_01_covid_f262a48387   has status   PENDING\n",
            "INFO: Informed scheduler that task   DownloadAPIReport_Algeria_2021_07_01_covid_796fa7c63b   has status   PENDING\n",
            "INFO:luigi-interface:Informed scheduler that task   DownloadAPIReport_Algeria_2021_07_01_covid_796fa7c63b   has status   PENDING\n",
            "DEBUG: Checking if DownloadAPIReport(indicator=covid, country=Kenya, date=2021-07-01) is complete\n",
            "DEBUG:luigi-interface:Checking if DownloadAPIReport(indicator=covid, country=Kenya, date=2021-07-01) is complete\n",
            "INFO: Informed scheduler that task   LoadReportIntoDB_Kenya_2021_07_01_covid_30f71966dc   has status   PENDING\n",
            "INFO:luigi-interface:Informed scheduler that task   LoadReportIntoDB_Kenya_2021_07_01_covid_30f71966dc   has status   PENDING\n",
            "INFO: Informed scheduler that task   DownloadAPIReport_Kenya_2021_07_01_covid_f9a561c497   has status   PENDING\n",
            "INFO:luigi-interface:Informed scheduler that task   DownloadAPIReport_Kenya_2021_07_01_covid_f9a561c497   has status   PENDING\n",
            "DEBUG: Checking if DownloadAPIReport(indicator=covid, country=Switzerland, date=2021-07-01) is complete\n",
            "DEBUG:luigi-interface:Checking if DownloadAPIReport(indicator=covid, country=Switzerland, date=2021-07-01) is complete\n",
            "INFO: Informed scheduler that task   LoadReportIntoDB_Switzerland_2021_07_01_covid_1d9d9ffd6a   has status   PENDING\n",
            "INFO:luigi-interface:Informed scheduler that task   LoadReportIntoDB_Switzerland_2021_07_01_covid_1d9d9ffd6a   has status   PENDING\n",
            "INFO: Informed scheduler that task   DownloadAPIReport_Switzerland_2021_07_01_covid_94b078ffb9   has status   PENDING\n",
            "INFO:luigi-interface:Informed scheduler that task   DownloadAPIReport_Switzerland_2021_07_01_covid_94b078ffb9   has status   PENDING\n",
            "DEBUG: Checking if DownloadAPIReport(indicator=covid, country=Japan, date=2021-07-01) is complete\n",
            "DEBUG:luigi-interface:Checking if DownloadAPIReport(indicator=covid, country=Japan, date=2021-07-01) is complete\n",
            "INFO: Informed scheduler that task   LoadReportIntoDB_Japan_2021_07_01_covid_0d3d4de3eb   has status   PENDING\n",
            "INFO:luigi-interface:Informed scheduler that task   LoadReportIntoDB_Japan_2021_07_01_covid_0d3d4de3eb   has status   PENDING\n",
            "INFO: Informed scheduler that task   DownloadAPIReport_Japan_2021_07_01_covid_6c8cb744d7   has status   PENDING\n",
            "INFO:luigi-interface:Informed scheduler that task   DownloadAPIReport_Japan_2021_07_01_covid_6c8cb744d7   has status   PENDING\n",
            "INFO: Done scheduling tasks\n",
            "INFO:luigi-interface:Done scheduling tasks\n",
            "INFO: Running Worker with 5 processes\n",
            "INFO:luigi-interface:Running Worker with 5 processes\n",
            "DEBUG: Asking scheduler for work...\n",
            "DEBUG:luigi-interface:Asking scheduler for work...\n",
            "DEBUG: Pending tasks: 86\n",
            "DEBUG:luigi-interface:Pending tasks: 86\n",
            "DEBUG: Asking scheduler for work...\n",
            "DEBUG:luigi-interface:Asking scheduler for work...\n",
            "DEBUG: Pending tasks: 85\n",
            "DEBUG:luigi-interface:Pending tasks: 85\n",
            "INFO: [pid 317] Worker Worker(salt=022105753, workers=5, host=4b9918451cd2, username=root, pid=61) running   CreateTable(test_prefix=, indicator=tested_positive_14d)\n",
            "DEBUG: Asking scheduler for work...\n",
            "INFO:luigi-interface:[pid 317] Worker Worker(salt=022105753, workers=5, host=4b9918451cd2, username=root, pid=61) running   CreateTable(test_prefix=, indicator=tested_positive_14d)\n",
            "DEBUG:luigi-interface:Asking scheduler for work...\n"
          ]
        },
        {
          "output_type": "stream",
          "name": "stdout",
          "text": [
            "\n",
            "        CREATE TABLE IF NOT EXISTS rpl_covid_survey_tested_positive_14d(\n",
            "            pct_tested_positive_14d float,\n",
            "tested_positive_14d_se float,\n",
            "pct_tested_positive_14d_unw float,\n",
            "tested_positive_14d_se_unw float,\n",
            "sample_size NUMERIC,\n",
            "country text,\n",
            "iso_code text,\n",
            "gid_0 text,\n",
            "survey_date NUMERIC\n",
            "        );\n",
            "    "
          ]
        },
        {
          "output_type": "stream",
          "name": "stderr",
          "text": [
            "DEBUG: Pending tasks: 84\n"
          ]
        },
        {
          "output_type": "stream",
          "name": "stdout",
          "text": [
            "\n"
          ]
        },
        {
          "output_type": "stream",
          "name": "stderr",
          "text": [
            "DEBUG:luigi-interface:Pending tasks: 84\n"
          ]
        },
        {
          "output_type": "stream",
          "name": "stdout",
          "text": [
            "\n",
            "\n"
          ]
        },
        {
          "output_type": "stream",
          "name": "stderr",
          "text": [
            "INFO: [pid 320] Worker Worker(salt=022105753, workers=5, host=4b9918451cd2, username=root, pid=61) running   DownloadAPIReport(indicator=tested_positive_14d, country=South Africa, date=2021-07-01)\n"
          ]
        },
        {
          "output_type": "stream",
          "name": "stdout",
          "text": [
            "\n"
          ]
        },
        {
          "output_type": "stream",
          "name": "stderr",
          "text": [
            "DEBUG: Asking scheduler for work...\n",
            "INFO: [pid 317] Worker Worker(salt=022105753, workers=5, host=4b9918451cd2, username=root, pid=61) done      CreateTable(test_prefix=, indicator=tested_positive_14d)\n",
            "DEBUG:luigi-interface:Asking scheduler for work...\n",
            "INFO:luigi-interface:[pid 317] Worker Worker(salt=022105753, workers=5, host=4b9918451cd2, username=root, pid=61) done      CreateTable(test_prefix=, indicator=tested_positive_14d)\n",
            "DEBUG: Pending tasks: 83\n",
            "INFO:luigi-interface:[pid 320] Worker Worker(salt=022105753, workers=5, host=4b9918451cd2, username=root, pid=61) running   DownloadAPIReport(indicator=tested_positive_14d, country=South Africa, date=2021-07-01)\n",
            "DEBUG:luigi-interface:Pending tasks: 83\n"
          ]
        },
        {
          "output_type": "stream",
          "name": "stdout",
          "text": [
            "CALLING API:  https://covidmap.umd.edu/api/resources?indicator=tested_positive_14d&type=daily&country=South Africa&daterange=20210701-20210701\n"
          ]
        },
        {
          "output_type": "stream",
          "name": "stderr",
          "text": [
            "INFO: [pid 335] Worker Worker(salt=022105753, workers=5, host=4b9918451cd2, username=root, pid=61) running   DownloadAPIReport(indicator=tested_positive_14d, country=Poland, date=2021-07-01)\n",
            "INFO:luigi-interface:[pid 335] Worker Worker(salt=022105753, workers=5, host=4b9918451cd2, username=root, pid=61) running   DownloadAPIReport(indicator=tested_positive_14d, country=Poland, date=2021-07-01)\n",
            "DEBUG: Asking scheduler for work...\n"
          ]
        },
        {
          "output_type": "stream",
          "name": "stdout",
          "text": [
            "CALLING API:  https://covidmap.umd.edu/api/resources?indicator=tested_positive_14d&type=daily&country=Poland&daterange=20210701-20210701\n"
          ]
        },
        {
          "output_type": "stream",
          "name": "stderr",
          "text": [
            "DEBUG:luigi-interface:Asking scheduler for work...\n",
            "DEBUG: Pending tasks: 82\n",
            "DEBUG:luigi-interface:Pending tasks: 82\n",
            "INFO: [pid 349] Worker Worker(salt=022105753, workers=5, host=4b9918451cd2, username=root, pid=61) running   DownloadAPIReport(indicator=tested_positive_14d, country=Argentina, date=2021-07-01)\n",
            "DEBUG: 5 running tasks, waiting for next task to finish\n",
            "DEBUG:luigi-interface:5 running tasks, waiting for next task to finish\n",
            "INFO:luigi-interface:[pid 349] Worker Worker(salt=022105753, workers=5, host=4b9918451cd2, username=root, pid=61) running   DownloadAPIReport(indicator=tested_positive_14d, country=Argentina, date=2021-07-01)\n",
            "INFO: Informed scheduler that task   CreateTable_tested_positive___d23bf2962f   has status   DONE\n"
          ]
        },
        {
          "output_type": "stream",
          "name": "stdout",
          "text": [
            "CALLING API:  https://covidmap.umd.edu/api/resources?indicator=tested_positive_14d&type=daily&country=Argentina&daterange=20210701-20210701\n"
          ]
        },
        {
          "output_type": "stream",
          "name": "stderr",
          "text": [
            "INFO:luigi-interface:Informed scheduler that task   CreateTable_tested_positive___d23bf2962f   has status   DONE\n",
            "INFO: [pid 354] Worker Worker(salt=022105753, workers=5, host=4b9918451cd2, username=root, pid=61) running   DownloadAPIReport(indicator=tested_positive_14d, country=Spain, date=2021-07-01)\n",
            "DEBUG: Asking scheduler for work...\n",
            "DEBUG:luigi-interface:Asking scheduler for work...\n",
            "DEBUG: Pending tasks: 81\n",
            "INFO:luigi-interface:[pid 354] Worker Worker(salt=022105753, workers=5, host=4b9918451cd2, username=root, pid=61) running   DownloadAPIReport(indicator=tested_positive_14d, country=Spain, date=2021-07-01)\n",
            "DEBUG:luigi-interface:Pending tasks: 81\n"
          ]
        },
        {
          "output_type": "stream",
          "name": "stdout",
          "text": [
            "CALLING API:  https://covidmap.umd.edu/api/resources?indicator=tested_positive_14d&type=daily&country=Spain&daterange=20210701-20210701\n"
          ]
        },
        {
          "output_type": "stream",
          "name": "stderr",
          "text": [
            "DEBUG: 5 running tasks, waiting for next task to finish\n",
            "DEBUG:luigi-interface:5 running tasks, waiting for next task to finish\n",
            "INFO: [pid 363] Worker Worker(salt=022105753, workers=5, host=4b9918451cd2, username=root, pid=61) running   DownloadAPIReport(indicator=tested_positive_14d, country=Algeria, date=2021-07-01)\n",
            "INFO:luigi-interface:[pid 363] Worker Worker(salt=022105753, workers=5, host=4b9918451cd2, username=root, pid=61) running   DownloadAPIReport(indicator=tested_positive_14d, country=Algeria, date=2021-07-01)\n"
          ]
        },
        {
          "output_type": "stream",
          "name": "stdout",
          "text": [
            "CALLING API:  https://covidmap.umd.edu/api/resources?indicator=tested_positive_14d&type=daily&country=Algeria&daterange=20210701-20210701\n"
          ]
        },
        {
          "output_type": "stream",
          "name": "stderr",
          "text": [
            "INFO: [pid 320] Worker Worker(salt=022105753, workers=5, host=4b9918451cd2, username=root, pid=61) done      DownloadAPIReport(indicator=tested_positive_14d, country=South Africa, date=2021-07-01)\n",
            "INFO:luigi-interface:[pid 320] Worker Worker(salt=022105753, workers=5, host=4b9918451cd2, username=root, pid=61) done      DownloadAPIReport(indicator=tested_positive_14d, country=South Africa, date=2021-07-01)\n",
            "INFO: Informed scheduler that task   DownloadAPIReport_South_Africa_2021_07_01_tested_positive__1f2f135abf   has status   DONE\n",
            "INFO:luigi-interface:Informed scheduler that task   DownloadAPIReport_South_Africa_2021_07_01_tested_positive__1f2f135abf   has status   DONE\n",
            "DEBUG: Asking scheduler for work...\n",
            "DEBUG:luigi-interface:Asking scheduler for work...\n",
            "DEBUG: Pending tasks: 80\n",
            "DEBUG:luigi-interface:Pending tasks: 80\n",
            "DEBUG: 5 running tasks, waiting for next task to finish\n",
            "DEBUG:luigi-interface:5 running tasks, waiting for next task to finish\n",
            "INFO: [pid 375] Worker Worker(salt=022105753, workers=5, host=4b9918451cd2, username=root, pid=61) running   LoadReportIntoDB(test_prefix=, indicator=tested_positive_14d, country=South Africa, date=2021-07-01)\n",
            "INFO:luigi-interface:[pid 375] Worker Worker(salt=022105753, workers=5, host=4b9918451cd2, username=root, pid=61) running   LoadReportIntoDB(test_prefix=, indicator=tested_positive_14d, country=South Africa, date=2021-07-01)\n"
          ]
        },
        {
          "output_type": "stream",
          "name": "stdout",
          "text": [
            "DELETE FROM rpl_covid_survey_tested_positive_14d WHERE country='South Africa' AND survey_date = 20210701\n",
            "\n",
            "\n",
            "\n",
            "-----------------------\n",
            "File loading: STARTED\n",
            "-----------------------\n",
            "\n",
            "INSERT INTO rpl_covid_survey_tested_positive_14d (pct_tested_positive_14d, tested_positive_14d_se, pct_tested_positive_14d_unw, tested_positive_14d_se_unw, sample_size, country, iso_code, gid_0, survey_date) VALUES(?, ?, ?, ?, ?, ?, ?, ?, ?)\n",
            "-----------------------\n",
            "File loading: FINISHED\n",
            "-----------------------\n",
            "\n"
          ]
        },
        {
          "output_type": "stream",
          "name": "stderr",
          "text": [
            "INFO: [pid 375] Worker Worker(salt=022105753, workers=5, host=4b9918451cd2, username=root, pid=61) done      LoadReportIntoDB(test_prefix=, indicator=tested_positive_14d, country=South Africa, date=2021-07-01)\n",
            "INFO:luigi-interface:[pid 375] Worker Worker(salt=022105753, workers=5, host=4b9918451cd2, username=root, pid=61) done      LoadReportIntoDB(test_prefix=, indicator=tested_positive_14d, country=South Africa, date=2021-07-01)\n",
            "INFO: Informed scheduler that task   LoadReportIntoDB_South_Africa_2021_07_01_tested_positive__226391238d   has status   DONE\n",
            "INFO:luigi-interface:Informed scheduler that task   LoadReportIntoDB_South_Africa_2021_07_01_tested_positive__226391238d   has status   DONE\n",
            "DEBUG: Asking scheduler for work...\n",
            "DEBUG:luigi-interface:Asking scheduler for work...\n",
            "DEBUG: Pending tasks: 79\n",
            "DEBUG:luigi-interface:Pending tasks: 79\n",
            "DEBUG: 5 running tasks, waiting for next task to finish\n",
            "DEBUG:luigi-interface:5 running tasks, waiting for next task to finish\n",
            "INFO: [pid 401] Worker Worker(salt=022105753, workers=5, host=4b9918451cd2, username=root, pid=61) running   DownloadAPIReport(indicator=tested_positive_14d, country=Kenya, date=2021-07-01)\n",
            "INFO:luigi-interface:[pid 401] Worker Worker(salt=022105753, workers=5, host=4b9918451cd2, username=root, pid=61) running   DownloadAPIReport(indicator=tested_positive_14d, country=Kenya, date=2021-07-01)\n"
          ]
        },
        {
          "output_type": "stream",
          "name": "stdout",
          "text": [
            "CALLING API:  https://covidmap.umd.edu/api/resources?indicator=tested_positive_14d&type=daily&country=Kenya&daterange=20210701-20210701\n"
          ]
        },
        {
          "output_type": "stream",
          "name": "stderr",
          "text": [
            "DEBUG: 5 running tasks, waiting for next task to finish\n",
            "DEBUG:luigi-interface:5 running tasks, waiting for next task to finish\n",
            "INFO: [pid 349] Worker Worker(salt=022105753, workers=5, host=4b9918451cd2, username=root, pid=61) done      DownloadAPIReport(indicator=tested_positive_14d, country=Argentina, date=2021-07-01)\n",
            "INFO: [pid 354] Worker Worker(salt=022105753, workers=5, host=4b9918451cd2, username=root, pid=61) done      DownloadAPIReport(indicator=tested_positive_14d, country=Spain, date=2021-07-01)\n",
            "INFO: [pid 335] Worker Worker(salt=022105753, workers=5, host=4b9918451cd2, username=root, pid=61) done      DownloadAPIReport(indicator=tested_positive_14d, country=Poland, date=2021-07-01)\n",
            "INFO: [pid 363] Worker Worker(salt=022105753, workers=5, host=4b9918451cd2, username=root, pid=61) done      DownloadAPIReport(indicator=tested_positive_14d, country=Algeria, date=2021-07-01)\n",
            "INFO:luigi-interface:[pid 354] Worker Worker(salt=022105753, workers=5, host=4b9918451cd2, username=root, pid=61) done      DownloadAPIReport(indicator=tested_positive_14d, country=Spain, date=2021-07-01)\n",
            "INFO:luigi-interface:[pid 335] Worker Worker(salt=022105753, workers=5, host=4b9918451cd2, username=root, pid=61) done      DownloadAPIReport(indicator=tested_positive_14d, country=Poland, date=2021-07-01)\n",
            "INFO:luigi-interface:[pid 349] Worker Worker(salt=022105753, workers=5, host=4b9918451cd2, username=root, pid=61) done      DownloadAPIReport(indicator=tested_positive_14d, country=Argentina, date=2021-07-01)\n",
            "INFO: Informed scheduler that task   DownloadAPIReport_Spain_2021_07_01_tested_positive__b4592a5257   has status   DONE\n",
            "INFO:luigi-interface:[pid 363] Worker Worker(salt=022105753, workers=5, host=4b9918451cd2, username=root, pid=61) done      DownloadAPIReport(indicator=tested_positive_14d, country=Algeria, date=2021-07-01)\n",
            "INFO:luigi-interface:Informed scheduler that task   DownloadAPIReport_Spain_2021_07_01_tested_positive__b4592a5257   has status   DONE\n",
            "DEBUG: Asking scheduler for work...\n",
            "DEBUG:luigi-interface:Asking scheduler for work...\n",
            "DEBUG: Pending tasks: 78\n",
            "DEBUG:luigi-interface:Pending tasks: 78\n",
            "DEBUG: 5 running tasks, waiting for next task to finish\n",
            "DEBUG:luigi-interface:5 running tasks, waiting for next task to finish\n",
            "INFO: Informed scheduler that task   DownloadAPIReport_Poland_2021_07_01_tested_positive__91f67d7b8a   has status   DONE\n",
            "INFO: [pid 428] Worker Worker(salt=022105753, workers=5, host=4b9918451cd2, username=root, pid=61) running   LoadReportIntoDB(test_prefix=, indicator=tested_positive_14d, country=Spain, date=2021-07-01)\n",
            "INFO:luigi-interface:Informed scheduler that task   DownloadAPIReport_Poland_2021_07_01_tested_positive__91f67d7b8a   has status   DONE\n",
            "DEBUG: Asking scheduler for work...\n",
            "INFO:luigi-interface:[pid 428] Worker Worker(salt=022105753, workers=5, host=4b9918451cd2, username=root, pid=61) running   LoadReportIntoDB(test_prefix=, indicator=tested_positive_14d, country=Spain, date=2021-07-01)\n",
            "DEBUG:luigi-interface:Asking scheduler for work...\n",
            "DEBUG: Pending tasks: 77\n",
            "DEBUG:luigi-interface:Pending tasks: 77\n"
          ]
        },
        {
          "output_type": "stream",
          "name": "stdout",
          "text": [
            "DELETE FROM rpl_covid_survey_tested_positive_14d WHERE country='Spain' AND survey_date = 20210701\n"
          ]
        },
        {
          "output_type": "stream",
          "name": "stderr",
          "text": [
            "DEBUG: 5 running tasks, waiting for next task to finish\n"
          ]
        },
        {
          "output_type": "stream",
          "name": "stdout",
          "text": [
            "\n",
            "\n"
          ]
        },
        {
          "output_type": "stream",
          "name": "stderr",
          "text": [
            "DEBUG:luigi-interface:5 running tasks, waiting for next task to finish\n"
          ]
        },
        {
          "output_type": "stream",
          "name": "stdout",
          "text": [
            "\n"
          ]
        },
        {
          "output_type": "stream",
          "name": "stderr",
          "text": [
            "INFO: Informed scheduler that task   DownloadAPIReport_Argentina_2021_07_01_tested_positive__cc9351ebe8   has status   DONE\n"
          ]
        },
        {
          "output_type": "stream",
          "name": "stdout",
          "text": [
            "-----------------------\n",
            "File loading: STARTED\n",
            "-----------------------\n"
          ]
        },
        {
          "output_type": "stream",
          "name": "stderr",
          "text": [
            "INFO:luigi-interface:Informed scheduler that task   DownloadAPIReport_Argentina_2021_07_01_tested_positive__cc9351ebe8   has status   DONE\n",
            "DEBUG: Asking scheduler for work...\n",
            "INFO: [pid 437] Worker Worker(salt=022105753, workers=5, host=4b9918451cd2, username=root, pid=61) running   LoadReportIntoDB(test_prefix=, indicator=tested_positive_14d, country=Poland, date=2021-07-01)\n",
            "DEBUG:luigi-interface:Asking scheduler for work...\n"
          ]
        },
        {
          "output_type": "stream",
          "name": "stdout",
          "text": [
            "\n"
          ]
        },
        {
          "output_type": "stream",
          "name": "stderr",
          "text": [
            "DEBUG: Pending tasks: 76\n",
            "INFO:luigi-interface:[pid 437] Worker Worker(salt=022105753, workers=5, host=4b9918451cd2, username=root, pid=61) running   LoadReportIntoDB(test_prefix=, indicator=tested_positive_14d, country=Poland, date=2021-07-01)\n",
            "DEBUG:luigi-interface:Pending tasks: 76\n"
          ]
        },
        {
          "output_type": "stream",
          "name": "stdout",
          "text": [
            "INSERT INTO rpl_covid_survey_tested_positive_14d (pct_tested_positive_14d, tested_positive_14d_se, pct_tested_positive_14d_unw, tested_positive_14d_se_unw, sample_size, country, iso_code, gid_0, survey_date) VALUES(?, ?, ?, ?, ?, ?, ?, ?, ?)\n"
          ]
        },
        {
          "output_type": "stream",
          "name": "stderr",
          "text": [
            "DEBUG: 5 running tasks, waiting for next task to finish\n"
          ]
        },
        {
          "output_type": "stream",
          "name": "stdout",
          "text": [
            "DELETE FROM rpl_covid_survey_tested_positive_14d WHERE country='Poland' AND survey_date = 20210701\n"
          ]
        },
        {
          "output_type": "stream",
          "name": "stderr",
          "text": [
            "DEBUG:luigi-interface:5 running tasks, waiting for next task to finish\n"
          ]
        },
        {
          "output_type": "stream",
          "name": "stdout",
          "text": [
            "-----------------------\n",
            "File loading: FINISHED\n",
            "-----------------------\n"
          ]
        },
        {
          "output_type": "stream",
          "name": "stderr",
          "text": [
            "INFO: Informed scheduler that task   DownloadAPIReport_Algeria_2021_07_01_tested_positive__3bccedc21b   has status   DONE\n",
            "INFO:luigi-interface:Informed scheduler that task   DownloadAPIReport_Algeria_2021_07_01_tested_positive__3bccedc21b   has status   DONE\n",
            "INFO: [pid 452] Worker Worker(salt=022105753, workers=5, host=4b9918451cd2, username=root, pid=61) running   LoadReportIntoDB(test_prefix=, indicator=tested_positive_14d, country=Argentina, date=2021-07-01)\n",
            "DEBUG: Asking scheduler for work...\n"
          ]
        },
        {
          "output_type": "stream",
          "name": "stdout",
          "text": [
            "\n",
            "\n"
          ]
        },
        {
          "output_type": "stream",
          "name": "stderr",
          "text": [
            "DEBUG:luigi-interface:Asking scheduler for work...\n"
          ]
        },
        {
          "output_type": "stream",
          "name": "stdout",
          "text": [
            "\n"
          ]
        },
        {
          "output_type": "stream",
          "name": "stderr",
          "text": [
            "DEBUG: Pending tasks: 75\n",
            "INFO:luigi-interface:[pid 452] Worker Worker(salt=022105753, workers=5, host=4b9918451cd2, username=root, pid=61) running   LoadReportIntoDB(test_prefix=, indicator=tested_positive_14d, country=Argentina, date=2021-07-01)\n",
            "DEBUG:luigi-interface:Pending tasks: 75\n"
          ]
        },
        {
          "output_type": "stream",
          "name": "stdout",
          "text": [
            "\n"
          ]
        },
        {
          "output_type": "stream",
          "name": "stderr",
          "text": [
            "INFO: [pid 428] Worker Worker(salt=022105753, workers=5, host=4b9918451cd2, username=root, pid=61) done      LoadReportIntoDB(test_prefix=, indicator=tested_positive_14d, country=Spain, date=2021-07-01)\n",
            "INFO:luigi-interface:[pid 428] Worker Worker(salt=022105753, workers=5, host=4b9918451cd2, username=root, pid=61) done      LoadReportIntoDB(test_prefix=, indicator=tested_positive_14d, country=Spain, date=2021-07-01)\n",
            "DEBUG: 5 running tasks, waiting for next task to finish\n"
          ]
        },
        {
          "output_type": "stream",
          "name": "stdout",
          "text": [
            "-----------------------\n",
            "File loading: STARTED\n",
            "-----------------------\n"
          ]
        },
        {
          "output_type": "stream",
          "name": "stderr",
          "text": [
            "DEBUG:luigi-interface:5 running tasks, waiting for next task to finish\n"
          ]
        },
        {
          "output_type": "stream",
          "name": "stdout",
          "text": [
            "\n"
          ]
        },
        {
          "output_type": "stream",
          "name": "stderr",
          "text": [
            "INFO: Informed scheduler that task   LoadReportIntoDB_Spain_2021_07_01_tested_positive__6464e7899b   has status   DONE\n"
          ]
        },
        {
          "output_type": "stream",
          "name": "stdout",
          "text": [
            "DELETE FROM rpl_covid_survey_tested_positive_14d WHERE country='Argentina' AND survey_date = 20210701\n"
          ]
        },
        {
          "output_type": "stream",
          "name": "stderr",
          "text": [
            "INFO:luigi-interface:Informed scheduler that task   LoadReportIntoDB_Spain_2021_07_01_tested_positive__6464e7899b   has status   DONE\n"
          ]
        },
        {
          "output_type": "stream",
          "name": "stdout",
          "text": [
            "INSERT INTO rpl_covid_survey_tested_positive_14d (pct_tested_positive_14d, tested_positive_14d_se, pct_tested_positive_14d_unw, tested_positive_14d_se_unw, sample_size, country, iso_code, gid_0, survey_date) VALUES(?, ?, ?, ?, ?, ?, ?, ?, ?)\n"
          ]
        },
        {
          "output_type": "stream",
          "name": "stderr",
          "text": [
            "DEBUG: Asking scheduler for work...\n",
            "DEBUG:luigi-interface:Asking scheduler for work...\n",
            "DEBUG: Pending tasks: 74\n",
            "INFO: [pid 478] Worker Worker(salt=022105753, workers=5, host=4b9918451cd2, username=root, pid=61) running   LoadReportIntoDB(test_prefix=, indicator=tested_positive_14d, country=Algeria, date=2021-07-01)\n",
            "DEBUG:luigi-interface:Pending tasks: 74\n",
            "INFO:luigi-interface:[pid 478] Worker Worker(salt=022105753, workers=5, host=4b9918451cd2, username=root, pid=61) running   LoadReportIntoDB(test_prefix=, indicator=tested_positive_14d, country=Algeria, date=2021-07-01)\n"
          ]
        },
        {
          "output_type": "stream",
          "name": "stdout",
          "text": [
            "DELETE FROM rpl_covid_survey_tested_positive_14d WHERE country='Algeria' AND survey_date = 20210701\n",
            "-----------------------\n",
            "File loading: FINISHED\n",
            "-----------------------\n"
          ]
        },
        {
          "output_type": "stream",
          "name": "stderr",
          "text": [
            "DEBUG: 5 running tasks, waiting for next task to finish\n"
          ]
        },
        {
          "output_type": "stream",
          "name": "stdout",
          "text": [
            "\n"
          ]
        },
        {
          "output_type": "stream",
          "name": "stderr",
          "text": [
            "DEBUG:luigi-interface:5 running tasks, waiting for next task to finish\n",
            "INFO: [pid 437] Worker Worker(salt=022105753, workers=5, host=4b9918451cd2, username=root, pid=61) done      LoadReportIntoDB(test_prefix=, indicator=tested_positive_14d, country=Poland, date=2021-07-01)\n"
          ]
        },
        {
          "output_type": "stream",
          "name": "stdout",
          "text": [
            "\n",
            "\n"
          ]
        },
        {
          "output_type": "stream",
          "name": "stderr",
          "text": [
            "INFO: [pid 487] Worker Worker(salt=022105753, workers=5, host=4b9918451cd2, username=root, pid=61) running   DownloadAPIReport(indicator=tested_positive_14d, country=Switzerland, date=2021-07-01)\n",
            "INFO:luigi-interface:[pid 487] Worker Worker(salt=022105753, workers=5, host=4b9918451cd2, username=root, pid=61) running   DownloadAPIReport(indicator=tested_positive_14d, country=Switzerland, date=2021-07-01)\n",
            "INFO:luigi-interface:[pid 437] Worker Worker(salt=022105753, workers=5, host=4b9918451cd2, username=root, pid=61) done      LoadReportIntoDB(test_prefix=, indicator=tested_positive_14d, country=Poland, date=2021-07-01)\n"
          ]
        },
        {
          "output_type": "stream",
          "name": "stdout",
          "text": [
            "\n"
          ]
        },
        {
          "output_type": "stream",
          "name": "stderr",
          "text": [
            "INFO: Informed scheduler that task   LoadReportIntoDB_Poland_2021_07_01_tested_positive__d06361f281   has status   DONE\n"
          ]
        },
        {
          "output_type": "stream",
          "name": "stdout",
          "text": [
            "CALLING API:  https://covidmap.umd.edu/api/resources?indicator=tested_positive_14d&type=daily&country=Switzerland&daterange=20210701-20210701\n"
          ]
        },
        {
          "output_type": "stream",
          "name": "stderr",
          "text": [
            "INFO:luigi-interface:Informed scheduler that task   LoadReportIntoDB_Poland_2021_07_01_tested_positive__d06361f281   has status   DONE\n"
          ]
        },
        {
          "output_type": "stream",
          "name": "stdout",
          "text": [
            "-----------------------\n",
            "File loading: STARTED\n",
            "-----------------------\n",
            "\n"
          ]
        },
        {
          "output_type": "stream",
          "name": "stderr",
          "text": [
            "DEBUG: Asking scheduler for work...\n"
          ]
        },
        {
          "output_type": "stream",
          "name": "stdout",
          "text": [
            "INSERT INTO rpl_covid_survey_tested_positive_14d (pct_tested_positive_14d, tested_positive_14d_se, pct_tested_positive_14d_unw, tested_positive_14d_se_unw, sample_size, country, iso_code, gid_0, survey_date) VALUES(?, ?, ?, ?, ?, ?, ?, ?, ?)\n"
          ]
        },
        {
          "output_type": "stream",
          "name": "stderr",
          "text": [
            "DEBUG:luigi-interface:Asking scheduler for work...\n",
            "DEBUG: Pending tasks: 73\n",
            "DEBUG:luigi-interface:Pending tasks: 73\n",
            "DEBUG: 5 running tasks, waiting for next task to finish\n",
            "INFO: [pid 511] Worker Worker(salt=022105753, workers=5, host=4b9918451cd2, username=root, pid=61) running   DownloadAPIReport(indicator=tested_positive_14d, country=Japan, date=2021-07-01)\n"
          ]
        },
        {
          "output_type": "stream",
          "name": "stdout",
          "text": [
            "\n",
            "\n"
          ]
        },
        {
          "output_type": "stream",
          "name": "stderr",
          "text": [
            "DEBUG:luigi-interface:5 running tasks, waiting for next task to finish\n"
          ]
        },
        {
          "output_type": "stream",
          "name": "stdout",
          "text": [
            "\n",
            "-----------------------\n",
            "File loading: STARTED\n",
            "-----------------------\n",
            "-----------------------\n",
            "File loading: FINISHED\n",
            "-----------------------\n"
          ]
        },
        {
          "output_type": "stream",
          "name": "stderr",
          "text": [
            "INFO:luigi-interface:[pid 511] Worker Worker(salt=022105753, workers=5, host=4b9918451cd2, username=root, pid=61) running   DownloadAPIReport(indicator=tested_positive_14d, country=Japan, date=2021-07-01)\n"
          ]
        },
        {
          "output_type": "stream",
          "name": "stdout",
          "text": [
            "CALLING API:  https://covidmap.umd.edu/api/resources?indicator=tested_positive_14d&type=daily&country=Japan&daterange=20210701-20210701\n",
            "\n",
            "\n",
            "INSERT INTO rpl_covid_survey_tested_positive_14d (pct_tested_positive_14d, tested_positive_14d_se, pct_tested_positive_14d_unw, tested_positive_14d_se_unw, sample_size, country, iso_code, gid_0, survey_date) VALUES(?, ?, ?, ?, ?, ?, ?, ?, ?)\n"
          ]
        },
        {
          "output_type": "stream",
          "name": "stderr",
          "text": [
            "INFO: [pid 401] Worker Worker(salt=022105753, workers=5, host=4b9918451cd2, username=root, pid=61) done      DownloadAPIReport(indicator=tested_positive_14d, country=Kenya, date=2021-07-01)\n",
            "INFO: [pid 478] Worker Worker(salt=022105753, workers=5, host=4b9918451cd2, username=root, pid=61) done      LoadReportIntoDB(test_prefix=, indicator=tested_positive_14d, country=Algeria, date=2021-07-01)\n",
            "INFO:luigi-interface:[pid 478] Worker Worker(salt=022105753, workers=5, host=4b9918451cd2, username=root, pid=61) done      LoadReportIntoDB(test_prefix=, indicator=tested_positive_14d, country=Algeria, date=2021-07-01)\n",
            "INFO: Informed scheduler that task   LoadReportIntoDB_Algeria_2021_07_01_tested_positive__4e31e57077   has status   DONE\n",
            "INFO:luigi-interface:Informed scheduler that task   LoadReportIntoDB_Algeria_2021_07_01_tested_positive__4e31e57077   has status   DONE\n",
            "INFO:luigi-interface:[pid 401] Worker Worker(salt=022105753, workers=5, host=4b9918451cd2, username=root, pid=61) done      DownloadAPIReport(indicator=tested_positive_14d, country=Kenya, date=2021-07-01)\n",
            "DEBUG: Asking scheduler for work...\n",
            "DEBUG:luigi-interface:Asking scheduler for work...\n",
            "DEBUG: Pending tasks: 72\n",
            "DEBUG:luigi-interface:Pending tasks: 72\n"
          ]
        },
        {
          "output_type": "stream",
          "name": "stdout",
          "text": [
            "-----------------------\n",
            "File loading: FINISHED\n",
            "-----------------------\n"
          ]
        },
        {
          "output_type": "stream",
          "name": "stderr",
          "text": [
            "DEBUG: 5 running tasks, waiting for next task to finish\n"
          ]
        },
        {
          "output_type": "stream",
          "name": "stdout",
          "text": [
            "\n"
          ]
        },
        {
          "output_type": "stream",
          "name": "stderr",
          "text": [
            "INFO: [pid 452] Worker Worker(salt=022105753, workers=5, host=4b9918451cd2, username=root, pid=61) done      LoadReportIntoDB(test_prefix=, indicator=tested_positive_14d, country=Argentina, date=2021-07-01)\n",
            "DEBUG:luigi-interface:5 running tasks, waiting for next task to finish\n",
            "INFO:luigi-interface:[pid 452] Worker Worker(salt=022105753, workers=5, host=4b9918451cd2, username=root, pid=61) done      LoadReportIntoDB(test_prefix=, indicator=tested_positive_14d, country=Argentina, date=2021-07-01)\n",
            "INFO: Informed scheduler that task   DownloadAPIReport_Kenya_2021_07_01_tested_positive__1b9deab955   has status   DONE\n",
            "INFO:luigi-interface:Informed scheduler that task   DownloadAPIReport_Kenya_2021_07_01_tested_positive__1b9deab955   has status   DONE\n",
            "INFO: [pid 544] Worker Worker(salt=022105753, workers=5, host=4b9918451cd2, username=root, pid=61) running   CreateTable(test_prefix=, indicator=anosmia)\n",
            "DEBUG: Asking scheduler for work...\n",
            "INFO:luigi-interface:[pid 544] Worker Worker(salt=022105753, workers=5, host=4b9918451cd2, username=root, pid=61) running   CreateTable(test_prefix=, indicator=anosmia)\n",
            "DEBUG:luigi-interface:Asking scheduler for work...\n",
            "DEBUG: Pending tasks: 71\n",
            "DEBUG:luigi-interface:Pending tasks: 71\n",
            "DEBUG: 5 running tasks, waiting for next task to finish\n"
          ]
        },
        {
          "output_type": "stream",
          "name": "stdout",
          "text": [
            "\n",
            "        CREATE TABLE IF NOT EXISTS rpl_covid_survey_anosmia(\n",
            "            percent_anos float,\n",
            "anos_se float,\n",
            "percent_anos_unw float,\n",
            "anos_se_unw float,\n",
            "sample_size NUMERIC,\n",
            "country text,\n",
            "iso_code text,\n",
            "gid_0 text,\n",
            "survey_date NUMERIC\n",
            "        );\n",
            "    "
          ]
        },
        {
          "output_type": "stream",
          "name": "stderr",
          "text": [
            "DEBUG:luigi-interface:5 running tasks, waiting for next task to finish\n"
          ]
        },
        {
          "output_type": "stream",
          "name": "stdout",
          "text": [
            "\n"
          ]
        },
        {
          "output_type": "stream",
          "name": "stderr",
          "text": [
            "INFO: Informed scheduler that task   LoadReportIntoDB_Argentina_2021_07_01_tested_positive__6d05e493cc   has status   DONE\n",
            "INFO:luigi-interface:Informed scheduler that task   LoadReportIntoDB_Argentina_2021_07_01_tested_positive__6d05e493cc   has status   DONE\n",
            "DEBUG: Asking scheduler for work...\n",
            "INFO: [pid 558] Worker Worker(salt=022105753, workers=5, host=4b9918451cd2, username=root, pid=61) running   LoadReportIntoDB(test_prefix=, indicator=tested_positive_14d, country=Kenya, date=2021-07-01)\n",
            "DEBUG:luigi-interface:Asking scheduler for work...\n",
            "INFO:luigi-interface:[pid 558] Worker Worker(salt=022105753, workers=5, host=4b9918451cd2, username=root, pid=61) running   LoadReportIntoDB(test_prefix=, indicator=tested_positive_14d, country=Kenya, date=2021-07-01)\n"
          ]
        },
        {
          "output_type": "stream",
          "name": "stdout",
          "text": [
            "\n",
            "\n"
          ]
        },
        {
          "output_type": "stream",
          "name": "stderr",
          "text": [
            "DEBUG: Pending tasks: 70\n"
          ]
        },
        {
          "output_type": "stream",
          "name": "stdout",
          "text": [
            "\n"
          ]
        },
        {
          "output_type": "stream",
          "name": "stderr",
          "text": [
            "INFO: [pid 544] Worker Worker(salt=022105753, workers=5, host=4b9918451cd2, username=root, pid=61) done      CreateTable(test_prefix=, indicator=anosmia)\n",
            "DEBUG:luigi-interface:Pending tasks: 70\n",
            "INFO:luigi-interface:[pid 544] Worker Worker(salt=022105753, workers=5, host=4b9918451cd2, username=root, pid=61) done      CreateTable(test_prefix=, indicator=anosmia)\n"
          ]
        },
        {
          "output_type": "stream",
          "name": "stdout",
          "text": [
            "DELETE FROM rpl_covid_survey_tested_positive_14d WHERE country='Kenya' AND survey_date = 20210701\n"
          ]
        },
        {
          "output_type": "stream",
          "name": "stderr",
          "text": [
            "DEBUG: 5 running tasks, waiting for next task to finish\n"
          ]
        },
        {
          "output_type": "stream",
          "name": "stdout",
          "text": [
            "\n",
            "\n"
          ]
        },
        {
          "output_type": "stream",
          "name": "stderr",
          "text": [
            "DEBUG:luigi-interface:5 running tasks, waiting for next task to finish\n",
            "INFO: Informed scheduler that task   CreateTable_anosmia__241f4b9a4e   has status   DONE\n",
            "INFO:luigi-interface:Informed scheduler that task   CreateTable_anosmia__241f4b9a4e   has status   DONE\n",
            "DEBUG: Asking scheduler for work...\n"
          ]
        },
        {
          "output_type": "stream",
          "name": "stdout",
          "text": [
            "\n"
          ]
        },
        {
          "output_type": "stream",
          "name": "stderr",
          "text": [
            "DEBUG:luigi-interface:Asking scheduler for work...\n",
            "DEBUG: Pending tasks: 69\n",
            "DEBUG:luigi-interface:Pending tasks: 69\n"
          ]
        },
        {
          "output_type": "stream",
          "name": "stdout",
          "text": [
            "-----------------------\n",
            "File loading: STARTED\n",
            "-----------------------\n"
          ]
        },
        {
          "output_type": "stream",
          "name": "stderr",
          "text": [
            "INFO: [pid 576] Worker Worker(salt=022105753, workers=5, host=4b9918451cd2, username=root, pid=61) running   DownloadAPIReport(indicator=anosmia, country=South Africa, date=2021-07-01)\n",
            "INFO:luigi-interface:[pid 576] Worker Worker(salt=022105753, workers=5, host=4b9918451cd2, username=root, pid=61) running   DownloadAPIReport(indicator=anosmia, country=South Africa, date=2021-07-01)\n",
            "DEBUG: 5 running tasks, waiting for next task to finish\n"
          ]
        },
        {
          "output_type": "stream",
          "name": "stdout",
          "text": [
            "\n"
          ]
        },
        {
          "output_type": "stream",
          "name": "stderr",
          "text": [
            "DEBUG:luigi-interface:5 running tasks, waiting for next task to finish\n"
          ]
        },
        {
          "output_type": "stream",
          "name": "stdout",
          "text": [
            "CALLING API:  https://covidmap.umd.edu/api/resources?indicator=anosmia&type=daily&country=South Africa&daterange=20210701-20210701\n",
            "INSERT INTO rpl_covid_survey_tested_positive_14d (pct_tested_positive_14d, tested_positive_14d_se, pct_tested_positive_14d_unw, tested_positive_14d_se_unw, sample_size, country, iso_code, gid_0, survey_date) VALUES(?, ?, ?, ?, ?, ?, ?, ?, ?)\n"
          ]
        },
        {
          "output_type": "stream",
          "name": "stderr",
          "text": [
            "INFO: [pid 593] Worker Worker(salt=022105753, workers=5, host=4b9918451cd2, username=root, pid=61) running   DownloadAPIReport(indicator=anosmia, country=Poland, date=2021-07-01)\n",
            "INFO:luigi-interface:[pid 593] Worker Worker(salt=022105753, workers=5, host=4b9918451cd2, username=root, pid=61) running   DownloadAPIReport(indicator=anosmia, country=Poland, date=2021-07-01)\n"
          ]
        },
        {
          "output_type": "stream",
          "name": "stdout",
          "text": [
            "CALLING API:  https://covidmap.umd.edu/api/resources?indicator=anosmia&type=daily&country=Poland&daterange=20210701-20210701\n",
            "-----------------------\n",
            "File loading: FINISHED\n",
            "-----------------------\n",
            "\n"
          ]
        },
        {
          "output_type": "stream",
          "name": "stderr",
          "text": [
            "INFO: [pid 558] Worker Worker(salt=022105753, workers=5, host=4b9918451cd2, username=root, pid=61) done      LoadReportIntoDB(test_prefix=, indicator=tested_positive_14d, country=Kenya, date=2021-07-01)\n",
            "INFO:luigi-interface:[pid 558] Worker Worker(salt=022105753, workers=5, host=4b9918451cd2, username=root, pid=61) done      LoadReportIntoDB(test_prefix=, indicator=tested_positive_14d, country=Kenya, date=2021-07-01)\n",
            "INFO: Informed scheduler that task   LoadReportIntoDB_Kenya_2021_07_01_tested_positive__3d44ef9b81   has status   DONE\n",
            "INFO:luigi-interface:Informed scheduler that task   LoadReportIntoDB_Kenya_2021_07_01_tested_positive__3d44ef9b81   has status   DONE\n",
            "DEBUG: Asking scheduler for work...\n",
            "DEBUG:luigi-interface:Asking scheduler for work...\n",
            "DEBUG: Pending tasks: 68\n",
            "DEBUG:luigi-interface:Pending tasks: 68\n",
            "DEBUG: 5 running tasks, waiting for next task to finish\n",
            "INFO: [pid 609] Worker Worker(salt=022105753, workers=5, host=4b9918451cd2, username=root, pid=61) running   DownloadAPIReport(indicator=anosmia, country=Argentina, date=2021-07-01)\n",
            "DEBUG:luigi-interface:5 running tasks, waiting for next task to finish\n",
            "INFO:luigi-interface:[pid 609] Worker Worker(salt=022105753, workers=5, host=4b9918451cd2, username=root, pid=61) running   DownloadAPIReport(indicator=anosmia, country=Argentina, date=2021-07-01)\n"
          ]
        },
        {
          "output_type": "stream",
          "name": "stdout",
          "text": [
            "CALLING API:  https://covidmap.umd.edu/api/resources?indicator=anosmia&type=daily&country=Argentina&daterange=20210701-20210701\n"
          ]
        },
        {
          "output_type": "stream",
          "name": "stderr",
          "text": [
            "INFO: [pid 487] Worker Worker(salt=022105753, workers=5, host=4b9918451cd2, username=root, pid=61) done      DownloadAPIReport(indicator=tested_positive_14d, country=Switzerland, date=2021-07-01)\n",
            "INFO:luigi-interface:[pid 487] Worker Worker(salt=022105753, workers=5, host=4b9918451cd2, username=root, pid=61) done      DownloadAPIReport(indicator=tested_positive_14d, country=Switzerland, date=2021-07-01)\n",
            "INFO: Informed scheduler that task   DownloadAPIReport_Switzerland_2021_07_01_tested_positive__0241858e65   has status   DONE\n",
            "INFO:luigi-interface:Informed scheduler that task   DownloadAPIReport_Switzerland_2021_07_01_tested_positive__0241858e65   has status   DONE\n",
            "DEBUG: Asking scheduler for work...\n",
            "DEBUG:luigi-interface:Asking scheduler for work...\n",
            "DEBUG: Pending tasks: 67\n",
            "DEBUG:luigi-interface:Pending tasks: 67\n",
            "DEBUG: 5 running tasks, waiting for next task to finish\n",
            "DEBUG:luigi-interface:5 running tasks, waiting for next task to finish\n",
            "INFO: [pid 621] Worker Worker(salt=022105753, workers=5, host=4b9918451cd2, username=root, pid=61) running   LoadReportIntoDB(test_prefix=, indicator=tested_positive_14d, country=Switzerland, date=2021-07-01)\n",
            "INFO:luigi-interface:[pid 621] Worker Worker(salt=022105753, workers=5, host=4b9918451cd2, username=root, pid=61) running   LoadReportIntoDB(test_prefix=, indicator=tested_positive_14d, country=Switzerland, date=2021-07-01)\n"
          ]
        },
        {
          "output_type": "stream",
          "name": "stdout",
          "text": [
            "DELETE FROM rpl_covid_survey_tested_positive_14d WHERE country='Switzerland' AND survey_date = 20210701\n",
            "\n",
            "\n",
            "\n",
            "-----------------------\n",
            "File loading: STARTED\n",
            "-----------------------\n",
            "\n",
            "INSERT INTO rpl_covid_survey_tested_positive_14d (pct_tested_positive_14d, tested_positive_14d_se, pct_tested_positive_14d_unw, tested_positive_14d_se_unw, sample_size, country, iso_code, gid_0, survey_date) VALUES(?, ?, ?, ?, ?, ?, ?, ?, ?)\n",
            "-----------------------\n",
            "File loading: FINISHED\n",
            "-----------------------\n",
            "\n"
          ]
        },
        {
          "output_type": "stream",
          "name": "stderr",
          "text": [
            "INFO: [pid 621] Worker Worker(salt=022105753, workers=5, host=4b9918451cd2, username=root, pid=61) done      LoadReportIntoDB(test_prefix=, indicator=tested_positive_14d, country=Switzerland, date=2021-07-01)\n",
            "INFO:luigi-interface:[pid 621] Worker Worker(salt=022105753, workers=5, host=4b9918451cd2, username=root, pid=61) done      LoadReportIntoDB(test_prefix=, indicator=tested_positive_14d, country=Switzerland, date=2021-07-01)\n",
            "INFO: Informed scheduler that task   LoadReportIntoDB_Switzerland_2021_07_01_tested_positive__b011a59843   has status   DONE\n",
            "INFO:luigi-interface:Informed scheduler that task   LoadReportIntoDB_Switzerland_2021_07_01_tested_positive__b011a59843   has status   DONE\n",
            "DEBUG: Asking scheduler for work...\n",
            "DEBUG:luigi-interface:Asking scheduler for work...\n",
            "DEBUG: Pending tasks: 66\n",
            "DEBUG:luigi-interface:Pending tasks: 66\n",
            "DEBUG: 5 running tasks, waiting for next task to finish\n",
            "DEBUG:luigi-interface:5 running tasks, waiting for next task to finish\n",
            "INFO: [pid 647] Worker Worker(salt=022105753, workers=5, host=4b9918451cd2, username=root, pid=61) running   DownloadAPIReport(indicator=anosmia, country=Spain, date=2021-07-01)\n",
            "INFO:luigi-interface:[pid 647] Worker Worker(salt=022105753, workers=5, host=4b9918451cd2, username=root, pid=61) running   DownloadAPIReport(indicator=anosmia, country=Spain, date=2021-07-01)\n"
          ]
        },
        {
          "output_type": "stream",
          "name": "stdout",
          "text": [
            "CALLING API:  https://covidmap.umd.edu/api/resources?indicator=anosmia&type=daily&country=Spain&daterange=20210701-20210701\n"
          ]
        },
        {
          "output_type": "stream",
          "name": "stderr",
          "text": [
            "DEBUG: 5 running tasks, waiting for next task to finish\n",
            "DEBUG:luigi-interface:5 running tasks, waiting for next task to finish\n",
            "INFO: [pid 576] Worker Worker(salt=022105753, workers=5, host=4b9918451cd2, username=root, pid=61) done      DownloadAPIReport(indicator=anosmia, country=South Africa, date=2021-07-01)\n",
            "INFO: [pid 511] Worker Worker(salt=022105753, workers=5, host=4b9918451cd2, username=root, pid=61) done      DownloadAPIReport(indicator=tested_positive_14d, country=Japan, date=2021-07-01)\n",
            "INFO:luigi-interface:[pid 511] Worker Worker(salt=022105753, workers=5, host=4b9918451cd2, username=root, pid=61) done      DownloadAPIReport(indicator=tested_positive_14d, country=Japan, date=2021-07-01)\n",
            "INFO: [pid 593] Worker Worker(salt=022105753, workers=5, host=4b9918451cd2, username=root, pid=61) done      DownloadAPIReport(indicator=anosmia, country=Poland, date=2021-07-01)\n",
            "INFO:luigi-interface:[pid 593] Worker Worker(salt=022105753, workers=5, host=4b9918451cd2, username=root, pid=61) done      DownloadAPIReport(indicator=anosmia, country=Poland, date=2021-07-01)\n",
            "INFO: Informed scheduler that task   DownloadAPIReport_Japan_2021_07_01_tested_positive__1a12003d41   has status   DONE\n",
            "INFO:luigi-interface:[pid 576] Worker Worker(salt=022105753, workers=5, host=4b9918451cd2, username=root, pid=61) done      DownloadAPIReport(indicator=anosmia, country=South Africa, date=2021-07-01)\n",
            "INFO:luigi-interface:Informed scheduler that task   DownloadAPIReport_Japan_2021_07_01_tested_positive__1a12003d41   has status   DONE\n",
            "DEBUG: Asking scheduler for work...\n",
            "DEBUG:luigi-interface:Asking scheduler for work...\n",
            "DEBUG: Pending tasks: 65\n",
            "DEBUG:luigi-interface:Pending tasks: 65\n",
            "DEBUG: 5 running tasks, waiting for next task to finish\n",
            "DEBUG:luigi-interface:5 running tasks, waiting for next task to finish\n",
            "INFO: Informed scheduler that task   DownloadAPIReport_Poland_2021_07_01_anosmia_0ef43deea1   has status   DONE\n",
            "INFO:luigi-interface:Informed scheduler that task   DownloadAPIReport_Poland_2021_07_01_anosmia_0ef43deea1   has status   DONE\n",
            "DEBUG: Asking scheduler for work...\n",
            "DEBUG:luigi-interface:Asking scheduler for work...\n",
            "DEBUG: Pending tasks: 64\n",
            "INFO: [pid 669] Worker Worker(salt=022105753, workers=5, host=4b9918451cd2, username=root, pid=61) running   LoadReportIntoDB(test_prefix=, indicator=tested_positive_14d, country=Japan, date=2021-07-01)\n",
            "DEBUG:luigi-interface:Pending tasks: 64\n",
            "DEBUG: 5 running tasks, waiting for next task to finish\n",
            "INFO:luigi-interface:[pid 669] Worker Worker(salt=022105753, workers=5, host=4b9918451cd2, username=root, pid=61) running   LoadReportIntoDB(test_prefix=, indicator=tested_positive_14d, country=Japan, date=2021-07-01)\n",
            "DEBUG:luigi-interface:5 running tasks, waiting for next task to finish\n",
            "INFO: Informed scheduler that task   DownloadAPIReport_South_Africa_2021_07_01_anosmia_2bfa8943d0   has status   DONE\n",
            "INFO:luigi-interface:Informed scheduler that task   DownloadAPIReport_South_Africa_2021_07_01_anosmia_2bfa8943d0   has status   DONE\n",
            "INFO: [pid 674] Worker Worker(salt=022105753, workers=5, host=4b9918451cd2, username=root, pid=61) running   LoadReportIntoDB(test_prefix=, indicator=anosmia, country=Poland, date=2021-07-01)\n",
            "DEBUG: Asking scheduler for work...\n"
          ]
        },
        {
          "output_type": "stream",
          "name": "stdout",
          "text": [
            "DELETE FROM rpl_covid_survey_tested_positive_14d WHERE country='Japan' AND survey_date = 20210701\n"
          ]
        },
        {
          "output_type": "stream",
          "name": "stderr",
          "text": [
            "DEBUG:luigi-interface:Asking scheduler for work...\n"
          ]
        },
        {
          "output_type": "stream",
          "name": "stdout",
          "text": [
            "\n",
            "\n"
          ]
        },
        {
          "output_type": "stream",
          "name": "stderr",
          "text": [
            "DEBUG: Pending tasks: 63\n",
            "INFO:luigi-interface:[pid 674] Worker Worker(salt=022105753, workers=5, host=4b9918451cd2, username=root, pid=61) running   LoadReportIntoDB(test_prefix=, indicator=anosmia, country=Poland, date=2021-07-01)\n",
            "DEBUG:luigi-interface:Pending tasks: 63\n"
          ]
        },
        {
          "output_type": "stream",
          "name": "stdout",
          "text": [
            "\n",
            "-----------------------\n",
            "File loading: STARTED\n",
            "-----------------------\n"
          ]
        },
        {
          "output_type": "stream",
          "name": "stderr",
          "text": [
            "DEBUG: 5 running tasks, waiting for next task to finish\n",
            "DEBUG:luigi-interface:5 running tasks, waiting for next task to finish\n"
          ]
        },
        {
          "output_type": "stream",
          "name": "stdout",
          "text": [
            "\n",
            "DELETE FROM rpl_covid_survey_anosmia WHERE country='Poland' AND survey_date = 20210701\n",
            "INSERT INTO rpl_covid_survey_tested_positive_14d (pct_tested_positive_14d, tested_positive_14d_se, pct_tested_positive_14d_unw, tested_positive_14d_se_unw, sample_size, country, iso_code, gid_0, survey_date) VALUES(?, ?, ?, ?, ?, ?, ?, ?, ?)\n"
          ]
        },
        {
          "output_type": "stream",
          "name": "stderr",
          "text": [
            "INFO: [pid 691] Worker Worker(salt=022105753, workers=5, host=4b9918451cd2, username=root, pid=61) running   LoadReportIntoDB(test_prefix=, indicator=anosmia, country=South Africa, date=2021-07-01)\n",
            "INFO:luigi-interface:[pid 691] Worker Worker(salt=022105753, workers=5, host=4b9918451cd2, username=root, pid=61) running   LoadReportIntoDB(test_prefix=, indicator=anosmia, country=South Africa, date=2021-07-01)\n"
          ]
        },
        {
          "output_type": "stream",
          "name": "stdout",
          "text": [
            "-----------------------\n",
            "File loading: FINISHED\n",
            "-----------------------\n",
            "\n"
          ]
        },
        {
          "output_type": "stream",
          "name": "stderr",
          "text": [
            "INFO: [pid 669] Worker Worker(salt=022105753, workers=5, host=4b9918451cd2, username=root, pid=61) done      LoadReportIntoDB(test_prefix=, indicator=tested_positive_14d, country=Japan, date=2021-07-01)\n"
          ]
        },
        {
          "output_type": "stream",
          "name": "stdout",
          "text": [
            "\n",
            "\n",
            "\n"
          ]
        },
        {
          "output_type": "stream",
          "name": "stderr",
          "text": [
            "INFO:luigi-interface:[pid 669] Worker Worker(salt=022105753, workers=5, host=4b9918451cd2, username=root, pid=61) done      LoadReportIntoDB(test_prefix=, indicator=tested_positive_14d, country=Japan, date=2021-07-01)\n",
            "INFO: Informed scheduler that task   LoadReportIntoDB_Japan_2021_07_01_tested_positive__e6d60c008c   has status   DONE\n"
          ]
        },
        {
          "output_type": "stream",
          "name": "stdout",
          "text": [
            "-----------------------\n",
            "File loading: STARTED\n",
            "-----------------------\n"
          ]
        },
        {
          "output_type": "stream",
          "name": "stderr",
          "text": [
            "INFO:luigi-interface:Informed scheduler that task   LoadReportIntoDB_Japan_2021_07_01_tested_positive__e6d60c008c   has status   DONE\n"
          ]
        },
        {
          "output_type": "stream",
          "name": "stdout",
          "text": [
            "\n"
          ]
        },
        {
          "output_type": "stream",
          "name": "stderr",
          "text": [
            "DEBUG: Asking scheduler for work...\n",
            "DEBUG:luigi-interface:Asking scheduler for work...\n"
          ]
        },
        {
          "output_type": "stream",
          "name": "stdout",
          "text": [
            "DELETE FROM rpl_covid_survey_anosmia WHERE country='South Africa' AND survey_date = 20210701\n"
          ]
        },
        {
          "output_type": "stream",
          "name": "stderr",
          "text": [
            "DEBUG: Pending tasks: 62\n"
          ]
        },
        {
          "output_type": "stream",
          "name": "stdout",
          "text": [
            "INSERT INTO rpl_covid_survey_anosmia (percent_anos, anos_se, percent_anos_unw, anos_se_unw, sample_size, country, iso_code, gid_0, survey_date) VALUES(?, ?, ?, ?, ?, ?, ?, ?, ?)\n"
          ]
        },
        {
          "output_type": "stream",
          "name": "stderr",
          "text": [
            "DEBUG:luigi-interface:Pending tasks: 62\n",
            "DEBUG: 5 running tasks, waiting for next task to finish\n",
            "DEBUG:luigi-interface:5 running tasks, waiting for next task to finish\n"
          ]
        },
        {
          "output_type": "stream",
          "name": "stdout",
          "text": [
            "-----------------------\n",
            "File loading: FINISHED\n",
            "-----------------------\n"
          ]
        },
        {
          "output_type": "stream",
          "name": "stderr",
          "text": [
            "INFO: Informed scheduler that task   LoadReportIntoDB_Poland_2021_07_01_anosmia_7ca5635274   has status   DONE\n"
          ]
        },
        {
          "output_type": "stream",
          "name": "stdout",
          "text": [
            "\n"
          ]
        },
        {
          "output_type": "stream",
          "name": "stderr",
          "text": [
            "INFO: [pid 674] Worker Worker(salt=022105753, workers=5, host=4b9918451cd2, username=root, pid=61) done      LoadReportIntoDB(test_prefix=, indicator=anosmia, country=Poland, date=2021-07-01)\n",
            "INFO:luigi-interface:Informed scheduler that task   LoadReportIntoDB_Poland_2021_07_01_anosmia_7ca5635274   has status   DONE\n",
            "INFO:luigi-interface:[pid 674] Worker Worker(salt=022105753, workers=5, host=4b9918451cd2, username=root, pid=61) done      LoadReportIntoDB(test_prefix=, indicator=anosmia, country=Poland, date=2021-07-01)\n",
            "INFO: [pid 719] Worker Worker(salt=022105753, workers=5, host=4b9918451cd2, username=root, pid=61) running   DownloadAPIReport(indicator=anosmia, country=Algeria, date=2021-07-01)\n",
            "DEBUG: Asking scheduler for work...\n"
          ]
        },
        {
          "output_type": "stream",
          "name": "stdout",
          "text": [
            "\n",
            "\n",
            "\n"
          ]
        },
        {
          "output_type": "stream",
          "name": "stderr",
          "text": [
            "DEBUG:luigi-interface:Asking scheduler for work...\n"
          ]
        },
        {
          "output_type": "stream",
          "name": "stdout",
          "text": [
            "-----------------------\n",
            "File loading: STARTED\n",
            "-----------------------\n",
            "\n"
          ]
        },
        {
          "output_type": "stream",
          "name": "stderr",
          "text": [
            "DEBUG: Pending tasks: 61\n"
          ]
        },
        {
          "output_type": "stream",
          "name": "stdout",
          "text": [
            "INSERT INTO rpl_covid_survey_anosmia (percent_anos, anos_se, percent_anos_unw, anos_se_unw, sample_size, country, iso_code, gid_0, survey_date) VALUES(?, ?, ?, ?, ?, ?, ?, ?, ?)\n"
          ]
        },
        {
          "output_type": "stream",
          "name": "stderr",
          "text": [
            "INFO:luigi-interface:[pid 719] Worker Worker(salt=022105753, workers=5, host=4b9918451cd2, username=root, pid=61) running   DownloadAPIReport(indicator=anosmia, country=Algeria, date=2021-07-01)\n",
            "DEBUG:luigi-interface:Pending tasks: 61\n"
          ]
        },
        {
          "output_type": "stream",
          "name": "stdout",
          "text": [
            "CALLING API:  https://covidmap.umd.edu/api/resources?indicator=anosmia&type=daily&country=Algeria&daterange=20210701-20210701\n"
          ]
        },
        {
          "output_type": "stream",
          "name": "stderr",
          "text": [
            "DEBUG: 5 running tasks, waiting for next task to finish\n",
            "DEBUG:luigi-interface:5 running tasks, waiting for next task to finish\n"
          ]
        },
        {
          "output_type": "stream",
          "name": "stdout",
          "text": [
            "-----------------------\n",
            "File loading: FINISHED\n",
            "-----------------------\n",
            "\n"
          ]
        },
        {
          "output_type": "stream",
          "name": "stderr",
          "text": [
            "INFO: [pid 745] Worker Worker(salt=022105753, workers=5, host=4b9918451cd2, username=root, pid=61) running   DownloadAPIReport(indicator=anosmia, country=Kenya, date=2021-07-01)\n",
            "INFO: [pid 691] Worker Worker(salt=022105753, workers=5, host=4b9918451cd2, username=root, pid=61) done      LoadReportIntoDB(test_prefix=, indicator=anosmia, country=South Africa, date=2021-07-01)\n",
            "INFO:luigi-interface:[pid 691] Worker Worker(salt=022105753, workers=5, host=4b9918451cd2, username=root, pid=61) done      LoadReportIntoDB(test_prefix=, indicator=anosmia, country=South Africa, date=2021-07-01)\n",
            "INFO: Informed scheduler that task   LoadReportIntoDB_South_Africa_2021_07_01_anosmia_0e91caf9a6   has status   DONE\n",
            "INFO:luigi-interface:[pid 745] Worker Worker(salt=022105753, workers=5, host=4b9918451cd2, username=root, pid=61) running   DownloadAPIReport(indicator=anosmia, country=Kenya, date=2021-07-01)\n",
            "INFO:luigi-interface:Informed scheduler that task   LoadReportIntoDB_South_Africa_2021_07_01_anosmia_0e91caf9a6   has status   DONE\n",
            "DEBUG: Asking scheduler for work...\n"
          ]
        },
        {
          "output_type": "stream",
          "name": "stdout",
          "text": [
            "CALLING API:  https://covidmap.umd.edu/api/resources?indicator=anosmia&type=daily&country=Kenya&daterange=20210701-20210701\n"
          ]
        },
        {
          "output_type": "stream",
          "name": "stderr",
          "text": [
            "DEBUG:luigi-interface:Asking scheduler for work...\n",
            "DEBUG: Pending tasks: 60\n",
            "DEBUG:luigi-interface:Pending tasks: 60\n",
            "DEBUG: 5 running tasks, waiting for next task to finish\n",
            "INFO: [pid 761] Worker Worker(salt=022105753, workers=5, host=4b9918451cd2, username=root, pid=61) running   DownloadAPIReport(indicator=anosmia, country=Switzerland, date=2021-07-01)\n",
            "INFO:luigi-interface:[pid 761] Worker Worker(salt=022105753, workers=5, host=4b9918451cd2, username=root, pid=61) running   DownloadAPIReport(indicator=anosmia, country=Switzerland, date=2021-07-01)\n",
            "DEBUG:luigi-interface:5 running tasks, waiting for next task to finish\n"
          ]
        },
        {
          "output_type": "stream",
          "name": "stdout",
          "text": [
            "CALLING API:  https://covidmap.umd.edu/api/resources?indicator=anosmia&type=daily&country=Switzerland&daterange=20210701-20210701\n"
          ]
        },
        {
          "output_type": "stream",
          "name": "stderr",
          "text": [
            "INFO: [pid 609] Worker Worker(salt=022105753, workers=5, host=4b9918451cd2, username=root, pid=61) done      DownloadAPIReport(indicator=anosmia, country=Argentina, date=2021-07-01)\n",
            "INFO:luigi-interface:[pid 609] Worker Worker(salt=022105753, workers=5, host=4b9918451cd2, username=root, pid=61) done      DownloadAPIReport(indicator=anosmia, country=Argentina, date=2021-07-01)\n",
            "INFO: Informed scheduler that task   DownloadAPIReport_Argentina_2021_07_01_anosmia_36a6f74998   has status   DONE\n",
            "INFO:luigi-interface:Informed scheduler that task   DownloadAPIReport_Argentina_2021_07_01_anosmia_36a6f74998   has status   DONE\n",
            "DEBUG: Asking scheduler for work...\n",
            "DEBUG:luigi-interface:Asking scheduler for work...\n",
            "DEBUG: Pending tasks: 59\n",
            "DEBUG:luigi-interface:Pending tasks: 59\n",
            "DEBUG: 5 running tasks, waiting for next task to finish\n",
            "DEBUG:luigi-interface:5 running tasks, waiting for next task to finish\n",
            "INFO: [pid 773] Worker Worker(salt=022105753, workers=5, host=4b9918451cd2, username=root, pid=61) running   LoadReportIntoDB(test_prefix=, indicator=anosmia, country=Argentina, date=2021-07-01)\n",
            "INFO:luigi-interface:[pid 773] Worker Worker(salt=022105753, workers=5, host=4b9918451cd2, username=root, pid=61) running   LoadReportIntoDB(test_prefix=, indicator=anosmia, country=Argentina, date=2021-07-01)\n"
          ]
        },
        {
          "output_type": "stream",
          "name": "stdout",
          "text": [
            "DELETE FROM rpl_covid_survey_anosmia WHERE country='Argentina' AND survey_date = 20210701\n",
            "\n",
            "\n",
            "\n",
            "-----------------------\n",
            "File loading: STARTED\n",
            "-----------------------\n",
            "\n",
            "INSERT INTO rpl_covid_survey_anosmia (percent_anos, anos_se, percent_anos_unw, anos_se_unw, sample_size, country, iso_code, gid_0, survey_date) VALUES(?, ?, ?, ?, ?, ?, ?, ?, ?)\n",
            "-----------------------\n",
            "File loading: FINISHED\n",
            "-----------------------\n",
            "\n"
          ]
        },
        {
          "output_type": "stream",
          "name": "stderr",
          "text": [
            "INFO: Informed scheduler that task   LoadReportIntoDB_Argentina_2021_07_01_anosmia_068cb6ca82   has status   DONE\n",
            "INFO:luigi-interface:Informed scheduler that task   LoadReportIntoDB_Argentina_2021_07_01_anosmia_068cb6ca82   has status   DONE\n",
            "INFO: [pid 773] Worker Worker(salt=022105753, workers=5, host=4b9918451cd2, username=root, pid=61) done      LoadReportIntoDB(test_prefix=, indicator=anosmia, country=Argentina, date=2021-07-01)\n",
            "DEBUG: Asking scheduler for work...\n",
            "DEBUG:luigi-interface:Asking scheduler for work...\n",
            "INFO:luigi-interface:[pid 773] Worker Worker(salt=022105753, workers=5, host=4b9918451cd2, username=root, pid=61) done      LoadReportIntoDB(test_prefix=, indicator=anosmia, country=Argentina, date=2021-07-01)\n",
            "DEBUG: Pending tasks: 58\n",
            "DEBUG:luigi-interface:Pending tasks: 58\n",
            "DEBUG: 5 running tasks, waiting for next task to finish\n",
            "DEBUG:luigi-interface:5 running tasks, waiting for next task to finish\n",
            "INFO: [pid 799] Worker Worker(salt=022105753, workers=5, host=4b9918451cd2, username=root, pid=61) running   DownloadAPIReport(indicator=anosmia, country=Japan, date=2021-07-01)\n",
            "INFO:luigi-interface:[pid 799] Worker Worker(salt=022105753, workers=5, host=4b9918451cd2, username=root, pid=61) running   DownloadAPIReport(indicator=anosmia, country=Japan, date=2021-07-01)\n"
          ]
        },
        {
          "output_type": "stream",
          "name": "stdout",
          "text": [
            "CALLING API:  https://covidmap.umd.edu/api/resources?indicator=anosmia&type=daily&country=Japan&daterange=20210701-20210701\n"
          ]
        },
        {
          "output_type": "stream",
          "name": "stderr",
          "text": [
            "INFO: [pid 647] Worker Worker(salt=022105753, workers=5, host=4b9918451cd2, username=root, pid=61) done      DownloadAPIReport(indicator=anosmia, country=Spain, date=2021-07-01)\n",
            "INFO:luigi-interface:[pid 647] Worker Worker(salt=022105753, workers=5, host=4b9918451cd2, username=root, pid=61) done      DownloadAPIReport(indicator=anosmia, country=Spain, date=2021-07-01)\n",
            "INFO: Informed scheduler that task   DownloadAPIReport_Spain_2021_07_01_anosmia_cb0a5aafc6   has status   DONE\n",
            "INFO:luigi-interface:Informed scheduler that task   DownloadAPIReport_Spain_2021_07_01_anosmia_cb0a5aafc6   has status   DONE\n",
            "DEBUG: Asking scheduler for work...\n",
            "DEBUG:luigi-interface:Asking scheduler for work...\n",
            "DEBUG: Pending tasks: 57\n",
            "DEBUG:luigi-interface:Pending tasks: 57\n",
            "DEBUG: 5 running tasks, waiting for next task to finish\n",
            "DEBUG:luigi-interface:5 running tasks, waiting for next task to finish\n",
            "INFO: [pid 811] Worker Worker(salt=022105753, workers=5, host=4b9918451cd2, username=root, pid=61) running   LoadReportIntoDB(test_prefix=, indicator=anosmia, country=Spain, date=2021-07-01)\n",
            "INFO:luigi-interface:[pid 811] Worker Worker(salt=022105753, workers=5, host=4b9918451cd2, username=root, pid=61) running   LoadReportIntoDB(test_prefix=, indicator=anosmia, country=Spain, date=2021-07-01)\n"
          ]
        },
        {
          "output_type": "stream",
          "name": "stdout",
          "text": [
            "DELETE FROM rpl_covid_survey_anosmia WHERE country='Spain' AND survey_date = 20210701\n",
            "\n",
            "\n",
            "\n",
            "-----------------------\n",
            "File loading: STARTED\n",
            "-----------------------\n",
            "INSERT INTO rpl_covid_survey_anosmia (percent_anos, anos_se, percent_anos_unw, anos_se_unw, sample_size, country, iso_code, gid_0, survey_date) VALUES(?, ?, ?, ?, ?, ?, ?, ?, ?)\n",
            "\n",
            "-----------------------\n",
            "File loading: FINISHED\n",
            "-----------------------\n",
            "\n"
          ]
        },
        {
          "output_type": "stream",
          "name": "stderr",
          "text": [
            "INFO: [pid 811] Worker Worker(salt=022105753, workers=5, host=4b9918451cd2, username=root, pid=61) done      LoadReportIntoDB(test_prefix=, indicator=anosmia, country=Spain, date=2021-07-01)\n",
            "INFO:luigi-interface:[pid 811] Worker Worker(salt=022105753, workers=5, host=4b9918451cd2, username=root, pid=61) done      LoadReportIntoDB(test_prefix=, indicator=anosmia, country=Spain, date=2021-07-01)\n",
            "INFO: Informed scheduler that task   LoadReportIntoDB_Spain_2021_07_01_anosmia_b0aaa1b560   has status   DONE\n",
            "INFO:luigi-interface:Informed scheduler that task   LoadReportIntoDB_Spain_2021_07_01_anosmia_b0aaa1b560   has status   DONE\n",
            "DEBUG: Asking scheduler for work...\n",
            "DEBUG:luigi-interface:Asking scheduler for work...\n",
            "DEBUG: Pending tasks: 56\n",
            "DEBUG:luigi-interface:Pending tasks: 56\n",
            "DEBUG: 5 running tasks, waiting for next task to finish\n",
            "DEBUG:luigi-interface:5 running tasks, waiting for next task to finish\n",
            "INFO: [pid 837] Worker Worker(salt=022105753, workers=5, host=4b9918451cd2, username=root, pid=61) running   CreateTable(test_prefix=, indicator=covid_vaccine)\n",
            "INFO:luigi-interface:[pid 837] Worker Worker(salt=022105753, workers=5, host=4b9918451cd2, username=root, pid=61) running   CreateTable(test_prefix=, indicator=covid_vaccine)\n"
          ]
        },
        {
          "output_type": "stream",
          "name": "stdout",
          "text": [
            "\n",
            "        CREATE TABLE IF NOT EXISTS rpl_covid_survey_covid_vaccine(\n",
            "            pct_covid_vaccine float,\n",
            "covid_vaccine_se float,\n",
            "pct_covid_vaccine_unw float,\n",
            "covid_vaccine_se_unw float,\n",
            "sample_size NUMERIC,\n",
            "country text,\n",
            "iso_code text,\n",
            "gid_0 text,\n",
            "survey_date NUMERIC\n",
            "        );\n",
            "    \n",
            "\n",
            "\n",
            "\n"
          ]
        },
        {
          "output_type": "stream",
          "name": "stderr",
          "text": [
            "INFO: [pid 837] Worker Worker(salt=022105753, workers=5, host=4b9918451cd2, username=root, pid=61) done      CreateTable(test_prefix=, indicator=covid_vaccine)\n",
            "INFO:luigi-interface:[pid 837] Worker Worker(salt=022105753, workers=5, host=4b9918451cd2, username=root, pid=61) done      CreateTable(test_prefix=, indicator=covid_vaccine)\n",
            "INFO: Informed scheduler that task   CreateTable_covid_vaccine__14c3d4d432   has status   DONE\n",
            "INFO:luigi-interface:Informed scheduler that task   CreateTable_covid_vaccine__14c3d4d432   has status   DONE\n",
            "DEBUG: Asking scheduler for work...\n",
            "DEBUG:luigi-interface:Asking scheduler for work...\n",
            "DEBUG: Pending tasks: 55\n",
            "DEBUG:luigi-interface:Pending tasks: 55\n",
            "DEBUG: 5 running tasks, waiting for next task to finish\n",
            "DEBUG:luigi-interface:5 running tasks, waiting for next task to finish\n",
            "INFO: [pid 855] Worker Worker(salt=022105753, workers=5, host=4b9918451cd2, username=root, pid=61) running   DownloadAPIReport(indicator=covid_vaccine, country=South Africa, date=2021-07-01)\n",
            "INFO:luigi-interface:[pid 855] Worker Worker(salt=022105753, workers=5, host=4b9918451cd2, username=root, pid=61) running   DownloadAPIReport(indicator=covid_vaccine, country=South Africa, date=2021-07-01)\n"
          ]
        },
        {
          "output_type": "stream",
          "name": "stdout",
          "text": [
            "CALLING API:  https://covidmap.umd.edu/api/resources?indicator=covid_vaccine&type=daily&country=South Africa&daterange=20210701-20210701\n"
          ]
        },
        {
          "output_type": "stream",
          "name": "stderr",
          "text": [
            "INFO: [pid 719] Worker Worker(salt=022105753, workers=5, host=4b9918451cd2, username=root, pid=61) done      DownloadAPIReport(indicator=anosmia, country=Algeria, date=2021-07-01)\n",
            "INFO: Informed scheduler that task   DownloadAPIReport_Algeria_2021_07_01_anosmia_453b68b9c6   has status   DONE\n",
            "INFO:luigi-interface:[pid 719] Worker Worker(salt=022105753, workers=5, host=4b9918451cd2, username=root, pid=61) done      DownloadAPIReport(indicator=anosmia, country=Algeria, date=2021-07-01)\n",
            "INFO: [pid 745] Worker Worker(salt=022105753, workers=5, host=4b9918451cd2, username=root, pid=61) done      DownloadAPIReport(indicator=anosmia, country=Kenya, date=2021-07-01)\n",
            "INFO:luigi-interface:[pid 745] Worker Worker(salt=022105753, workers=5, host=4b9918451cd2, username=root, pid=61) done      DownloadAPIReport(indicator=anosmia, country=Kenya, date=2021-07-01)\n",
            "INFO:luigi-interface:Informed scheduler that task   DownloadAPIReport_Algeria_2021_07_01_anosmia_453b68b9c6   has status   DONE\n",
            "DEBUG: Asking scheduler for work...\n",
            "DEBUG:luigi-interface:Asking scheduler for work...\n",
            "DEBUG: Pending tasks: 54\n",
            "DEBUG:luigi-interface:Pending tasks: 54\n",
            "INFO: [pid 761] Worker Worker(salt=022105753, workers=5, host=4b9918451cd2, username=root, pid=61) done      DownloadAPIReport(indicator=anosmia, country=Switzerland, date=2021-07-01)\n",
            "DEBUG: 5 running tasks, waiting for next task to finish\n",
            "DEBUG:luigi-interface:5 running tasks, waiting for next task to finish\n",
            "INFO: Informed scheduler that task   DownloadAPIReport_Kenya_2021_07_01_anosmia_aa39edd864   has status   DONE\n",
            "INFO:luigi-interface:Informed scheduler that task   DownloadAPIReport_Kenya_2021_07_01_anosmia_aa39edd864   has status   DONE\n",
            "INFO:luigi-interface:[pid 761] Worker Worker(salt=022105753, workers=5, host=4b9918451cd2, username=root, pid=61) done      DownloadAPIReport(indicator=anosmia, country=Switzerland, date=2021-07-01)\n",
            "DEBUG: Asking scheduler for work...\n",
            "DEBUG:luigi-interface:Asking scheduler for work...\n",
            "INFO: [pid 876] Worker Worker(salt=022105753, workers=5, host=4b9918451cd2, username=root, pid=61) running   LoadReportIntoDB(test_prefix=, indicator=anosmia, country=Algeria, date=2021-07-01)\n",
            "DEBUG: Pending tasks: 53\n",
            "DEBUG:luigi-interface:Pending tasks: 53\n",
            "INFO:luigi-interface:[pid 876] Worker Worker(salt=022105753, workers=5, host=4b9918451cd2, username=root, pid=61) running   LoadReportIntoDB(test_prefix=, indicator=anosmia, country=Algeria, date=2021-07-01)\n",
            "DEBUG: 5 running tasks, waiting for next task to finish\n",
            "DEBUG:luigi-interface:5 running tasks, waiting for next task to finish\n",
            "INFO: [pid 884] Worker Worker(salt=022105753, workers=5, host=4b9918451cd2, username=root, pid=61) running   LoadReportIntoDB(test_prefix=, indicator=anosmia, country=Kenya, date=2021-07-01)\n",
            "INFO: Informed scheduler that task   DownloadAPIReport_Switzerland_2021_07_01_anosmia_43766503ba   has status   DONE\n",
            "INFO:luigi-interface:Informed scheduler that task   DownloadAPIReport_Switzerland_2021_07_01_anosmia_43766503ba   has status   DONE\n",
            "INFO:luigi-interface:[pid 884] Worker Worker(salt=022105753, workers=5, host=4b9918451cd2, username=root, pid=61) running   LoadReportIntoDB(test_prefix=, indicator=anosmia, country=Kenya, date=2021-07-01)\n",
            "DEBUG: Asking scheduler for work...\n",
            "DEBUG:luigi-interface:Asking scheduler for work...\n"
          ]
        },
        {
          "output_type": "stream",
          "name": "stdout",
          "text": [
            "DELETE FROM rpl_covid_survey_anosmia WHERE country='Algeria' AND survey_date = 20210701\n"
          ]
        },
        {
          "output_type": "stream",
          "name": "stderr",
          "text": [
            "DEBUG: Pending tasks: 52\n",
            "DEBUG:luigi-interface:Pending tasks: 52\n"
          ]
        },
        {
          "output_type": "stream",
          "name": "stdout",
          "text": [
            "DELETE FROM rpl_covid_survey_anosmia WHERE country='Kenya' AND survey_date = 20210701\n",
            "\n",
            "\n"
          ]
        },
        {
          "output_type": "stream",
          "name": "stderr",
          "text": [
            "DEBUG: 5 running tasks, waiting for next task to finish\n",
            "DEBUG:luigi-interface:5 running tasks, waiting for next task to finish\n"
          ]
        },
        {
          "output_type": "stream",
          "name": "stdout",
          "text": [
            "\n",
            "-----------------------\n",
            "File loading: STARTED\n",
            "-----------------------\n",
            "\n",
            "INSERT INTO rpl_covid_survey_anosmia (percent_anos, anos_se, percent_anos_unw, anos_se_unw, sample_size, country, iso_code, gid_0, survey_date) VALUES(?, ?, ?, ?, ?, ?, ?, ?, ?)\n"
          ]
        },
        {
          "output_type": "stream",
          "name": "stderr",
          "text": [
            "INFO: [pid 897] Worker Worker(salt=022105753, workers=5, host=4b9918451cd2, username=root, pid=61) running   LoadReportIntoDB(test_prefix=, indicator=anosmia, country=Switzerland, date=2021-07-01)\n",
            "INFO:luigi-interface:[pid 897] Worker Worker(salt=022105753, workers=5, host=4b9918451cd2, username=root, pid=61) running   LoadReportIntoDB(test_prefix=, indicator=anosmia, country=Switzerland, date=2021-07-01)\n"
          ]
        },
        {
          "output_type": "stream",
          "name": "stdout",
          "text": [
            "DELETE FROM rpl_covid_survey_anosmia WHERE country='Switzerland' AND survey_date = 20210701\n",
            "-----------------------\n",
            "File loading: FINISHED\n",
            "-----------------------\n",
            "\n",
            "\n",
            "\n"
          ]
        },
        {
          "output_type": "stream",
          "name": "stderr",
          "text": [
            "INFO: [pid 876] Worker Worker(salt=022105753, workers=5, host=4b9918451cd2, username=root, pid=61) done      LoadReportIntoDB(test_prefix=, indicator=anosmia, country=Algeria, date=2021-07-01)\n"
          ]
        },
        {
          "output_type": "stream",
          "name": "stdout",
          "text": [
            "\n",
            "-----------------------\n",
            "File loading: STARTED\n",
            "-----------------------\n"
          ]
        },
        {
          "output_type": "stream",
          "name": "stderr",
          "text": [
            "INFO: Informed scheduler that task   LoadReportIntoDB_Algeria_2021_07_01_anosmia_73cd8e40ff   has status   DONE\n",
            "INFO:luigi-interface:Informed scheduler that task   LoadReportIntoDB_Algeria_2021_07_01_anosmia_73cd8e40ff   has status   DONE\n",
            "DEBUG: Asking scheduler for work...\n",
            "DEBUG:luigi-interface:Asking scheduler for work...\n",
            "DEBUG: Pending tasks: 51\n"
          ]
        },
        {
          "output_type": "stream",
          "name": "stdout",
          "text": [
            "\n"
          ]
        },
        {
          "output_type": "stream",
          "name": "stderr",
          "text": [
            "DEBUG:luigi-interface:Pending tasks: 51\n"
          ]
        },
        {
          "output_type": "stream",
          "name": "stdout",
          "text": [
            "INSERT INTO rpl_covid_survey_anosmia (percent_anos, anos_se, percent_anos_unw, anos_se_unw, sample_size, country, iso_code, gid_0, survey_date) VALUES(?, ?, ?, ?, ?, ?, ?, ?, ?)\n"
          ]
        },
        {
          "output_type": "stream",
          "name": "stderr",
          "text": [
            "DEBUG: 5 running tasks, waiting for next task to finish\n",
            "DEBUG:luigi-interface:5 running tasks, waiting for next task to finish\n",
            "INFO:luigi-interface:[pid 876] Worker Worker(salt=022105753, workers=5, host=4b9918451cd2, username=root, pid=61) done      LoadReportIntoDB(test_prefix=, indicator=anosmia, country=Algeria, date=2021-07-01)\n",
            "INFO: Informed scheduler that task   LoadReportIntoDB_Switzerland_2021_07_01_anosmia_9a312c3d64   has status   DONE\n"
          ]
        },
        {
          "output_type": "stream",
          "name": "stdout",
          "text": [
            "-----------------------\n",
            "File loading: FINISHED\n",
            "-----------------------\n"
          ]
        },
        {
          "output_type": "stream",
          "name": "stderr",
          "text": [
            "INFO:luigi-interface:Informed scheduler that task   LoadReportIntoDB_Switzerland_2021_07_01_anosmia_9a312c3d64   has status   DONE\n",
            "DEBUG: Asking scheduler for work...\n",
            "DEBUG:luigi-interface:Asking scheduler for work...\n",
            "DEBUG: Pending tasks: 50\n"
          ]
        },
        {
          "output_type": "stream",
          "name": "stdout",
          "text": [
            "\n"
          ]
        },
        {
          "output_type": "stream",
          "name": "stderr",
          "text": [
            "DEBUG:luigi-interface:Pending tasks: 50\n",
            "INFO: [pid 897] Worker Worker(salt=022105753, workers=5, host=4b9918451cd2, username=root, pid=61) done      LoadReportIntoDB(test_prefix=, indicator=anosmia, country=Switzerland, date=2021-07-01)\n",
            "INFO:luigi-interface:[pid 897] Worker Worker(salt=022105753, workers=5, host=4b9918451cd2, username=root, pid=61) done      LoadReportIntoDB(test_prefix=, indicator=anosmia, country=Switzerland, date=2021-07-01)\n"
          ]
        },
        {
          "output_type": "stream",
          "name": "stdout",
          "text": [
            "\n",
            "\n"
          ]
        },
        {
          "output_type": "stream",
          "name": "stderr",
          "text": [
            "DEBUG: 5 running tasks, waiting for next task to finish\n",
            "DEBUG:luigi-interface:5 running tasks, waiting for next task to finish\n"
          ]
        },
        {
          "output_type": "stream",
          "name": "stdout",
          "text": [
            "\n"
          ]
        },
        {
          "output_type": "stream",
          "name": "stderr",
          "text": [
            "INFO: [pid 936] Worker Worker(salt=022105753, workers=5, host=4b9918451cd2, username=root, pid=61) running   DownloadAPIReport(indicator=covid_vaccine, country=Poland, date=2021-07-01)\n"
          ]
        },
        {
          "output_type": "stream",
          "name": "stdout",
          "text": [
            "-----------------------\n",
            "File loading: STARTED\n",
            "-----------------------\n"
          ]
        },
        {
          "output_type": "stream",
          "name": "stderr",
          "text": [
            "INFO:luigi-interface:[pid 936] Worker Worker(salt=022105753, workers=5, host=4b9918451cd2, username=root, pid=61) running   DownloadAPIReport(indicator=covid_vaccine, country=Poland, date=2021-07-01)\n"
          ]
        },
        {
          "output_type": "stream",
          "name": "stdout",
          "text": [
            "\n",
            "INSERT INTO rpl_covid_survey_anosmia (percent_anos, anos_se, percent_anos_unw, anos_se_unw, sample_size, country, iso_code, gid_0, survey_date) VALUES(?, ?, ?, ?, ?, ?, ?, ?, ?)\n",
            "CALLING API:  https://covidmap.umd.edu/api/resources?indicator=covid_vaccine&type=daily&country=Poland&daterange=20210701-20210701\n",
            "-----------------------\n",
            "File loading: FINISHED\n",
            "-----------------------\n"
          ]
        },
        {
          "output_type": "stream",
          "name": "stderr",
          "text": [
            "INFO: [pid 953] Worker Worker(salt=022105753, workers=5, host=4b9918451cd2, username=root, pid=61) running   DownloadAPIReport(indicator=covid_vaccine, country=Argentina, date=2021-07-01)\n",
            "INFO:luigi-interface:[pid 953] Worker Worker(salt=022105753, workers=5, host=4b9918451cd2, username=root, pid=61) running   DownloadAPIReport(indicator=covid_vaccine, country=Argentina, date=2021-07-01)\n"
          ]
        },
        {
          "output_type": "stream",
          "name": "stdout",
          "text": [
            "\n",
            "CALLING API:  https://covidmap.umd.edu/api/resources?indicator=covid_vaccine&type=daily&country=Argentina&daterange=20210701-20210701\n"
          ]
        },
        {
          "output_type": "stream",
          "name": "stderr",
          "text": [
            "INFO: Informed scheduler that task   LoadReportIntoDB_Kenya_2021_07_01_anosmia_fa394442cf   has status   DONE\n",
            "INFO:luigi-interface:Informed scheduler that task   LoadReportIntoDB_Kenya_2021_07_01_anosmia_fa394442cf   has status   DONE\n",
            "DEBUG: Asking scheduler for work...\n",
            "INFO: [pid 884] Worker Worker(salt=022105753, workers=5, host=4b9918451cd2, username=root, pid=61) done      LoadReportIntoDB(test_prefix=, indicator=anosmia, country=Kenya, date=2021-07-01)\n",
            "DEBUG:luigi-interface:Asking scheduler for work...\n",
            "INFO:luigi-interface:[pid 884] Worker Worker(salt=022105753, workers=5, host=4b9918451cd2, username=root, pid=61) done      LoadReportIntoDB(test_prefix=, indicator=anosmia, country=Kenya, date=2021-07-01)\n",
            "DEBUG: Pending tasks: 49\n",
            "DEBUG:luigi-interface:Pending tasks: 49\n",
            "DEBUG: 5 running tasks, waiting for next task to finish\n",
            "DEBUG:luigi-interface:5 running tasks, waiting for next task to finish\n",
            "INFO: [pid 969] Worker Worker(salt=022105753, workers=5, host=4b9918451cd2, username=root, pid=61) running   DownloadAPIReport(indicator=covid_vaccine, country=Spain, date=2021-07-01)\n",
            "INFO:luigi-interface:[pid 969] Worker Worker(salt=022105753, workers=5, host=4b9918451cd2, username=root, pid=61) running   DownloadAPIReport(indicator=covid_vaccine, country=Spain, date=2021-07-01)\n"
          ]
        },
        {
          "output_type": "stream",
          "name": "stdout",
          "text": [
            "CALLING API:  https://covidmap.umd.edu/api/resources?indicator=covid_vaccine&type=daily&country=Spain&daterange=20210701-20210701\n"
          ]
        },
        {
          "output_type": "stream",
          "name": "stderr",
          "text": [
            "ERROR: [pid 953] Worker Worker(salt=022105753, workers=5, host=4b9918451cd2, username=root, pid=61) failed    DownloadAPIReport(indicator=covid_vaccine, country=Argentina, date=2021-07-01)\n",
            "Traceback (most recent call last):\n",
            "  File \"/usr/local/lib/python3.7/dist-packages/luigi/worker.py\", line 193, in run\n",
            "    new_deps = self._run_get_new_deps()\n",
            "  File \"/usr/local/lib/python3.7/dist-packages/luigi/worker.py\", line 133, in _run_get_new_deps\n",
            "    task_gen = self.task.run()\n",
            "  File \"<ipython-input-22-bd5c9e0e38b2>\", line 74, in run\n",
            "    response_dict = json.loads(response)\n",
            "  File \"/usr/lib/python3.7/json/__init__.py\", line 348, in loads\n",
            "    return _default_decoder.decode(s)\n",
            "  File \"/usr/lib/python3.7/json/decoder.py\", line 337, in decode\n",
            "    obj, end = self.raw_decode(s, idx=_w(s, 0).end())\n",
            "  File \"/usr/lib/python3.7/json/decoder.py\", line 355, in raw_decode\n",
            "    raise JSONDecodeError(\"Expecting value\", s, err.value) from None\n",
            "json.decoder.JSONDecodeError: Expecting value: line 1 column 1 (char 0)\n",
            "ERROR: [pid 936] Worker Worker(salt=022105753, workers=5, host=4b9918451cd2, username=root, pid=61) failed    DownloadAPIReport(indicator=covid_vaccine, country=Poland, date=2021-07-01)\n",
            "Traceback (most recent call last):\n",
            "  File \"/usr/local/lib/python3.7/dist-packages/luigi/worker.py\", line 193, in run\n",
            "    new_deps = self._run_get_new_deps()\n",
            "  File \"/usr/local/lib/python3.7/dist-packages/luigi/worker.py\", line 133, in _run_get_new_deps\n",
            "    task_gen = self.task.run()\n",
            "  File \"<ipython-input-22-bd5c9e0e38b2>\", line 74, in run\n",
            "    response_dict = json.loads(response)\n",
            "  File \"/usr/lib/python3.7/json/__init__.py\", line 348, in loads\n",
            "    return _default_decoder.decode(s)\n",
            "  File \"/usr/lib/python3.7/json/decoder.py\", line 337, in decode\n",
            "    obj, end = self.raw_decode(s, idx=_w(s, 0).end())\n",
            "  File \"/usr/lib/python3.7/json/decoder.py\", line 355, in raw_decode\n",
            "    raise JSONDecodeError(\"Expecting value\", s, err.value) from None\n",
            "json.decoder.JSONDecodeError: Expecting value: line 1 column 1 (char 0)\n",
            "ERROR:luigi-interface:[pid 953] Worker Worker(salt=022105753, workers=5, host=4b9918451cd2, username=root, pid=61) failed    DownloadAPIReport(indicator=covid_vaccine, country=Argentina, date=2021-07-01)\n",
            "Traceback (most recent call last):\n",
            "  File \"/usr/local/lib/python3.7/dist-packages/luigi/worker.py\", line 193, in run\n",
            "    new_deps = self._run_get_new_deps()\n",
            "  File \"/usr/local/lib/python3.7/dist-packages/luigi/worker.py\", line 133, in _run_get_new_deps\n",
            "    task_gen = self.task.run()\n",
            "  File \"<ipython-input-22-bd5c9e0e38b2>\", line 74, in run\n",
            "    response_dict = json.loads(response)\n",
            "  File \"/usr/lib/python3.7/json/__init__.py\", line 348, in loads\n",
            "    return _default_decoder.decode(s)\n",
            "  File \"/usr/lib/python3.7/json/decoder.py\", line 337, in decode\n",
            "    obj, end = self.raw_decode(s, idx=_w(s, 0).end())\n",
            "  File \"/usr/lib/python3.7/json/decoder.py\", line 355, in raw_decode\n",
            "    raise JSONDecodeError(\"Expecting value\", s, err.value) from None\n",
            "json.decoder.JSONDecodeError: Expecting value: line 1 column 1 (char 0)\n",
            "INFO: [pid 799] Worker Worker(salt=022105753, workers=5, host=4b9918451cd2, username=root, pid=61) done      DownloadAPIReport(indicator=anosmia, country=Japan, date=2021-07-01)\n",
            "ERROR:luigi-interface:[pid 936] Worker Worker(salt=022105753, workers=5, host=4b9918451cd2, username=root, pid=61) failed    DownloadAPIReport(indicator=covid_vaccine, country=Poland, date=2021-07-01)\n",
            "Traceback (most recent call last):\n",
            "  File \"/usr/local/lib/python3.7/dist-packages/luigi/worker.py\", line 193, in run\n",
            "    new_deps = self._run_get_new_deps()\n",
            "  File \"/usr/local/lib/python3.7/dist-packages/luigi/worker.py\", line 133, in _run_get_new_deps\n",
            "    task_gen = self.task.run()\n",
            "  File \"<ipython-input-22-bd5c9e0e38b2>\", line 74, in run\n",
            "    response_dict = json.loads(response)\n",
            "  File \"/usr/lib/python3.7/json/__init__.py\", line 348, in loads\n",
            "    return _default_decoder.decode(s)\n",
            "  File \"/usr/lib/python3.7/json/decoder.py\", line 337, in decode\n",
            "    obj, end = self.raw_decode(s, idx=_w(s, 0).end())\n",
            "  File \"/usr/lib/python3.7/json/decoder.py\", line 355, in raw_decode\n",
            "    raise JSONDecodeError(\"Expecting value\", s, err.value) from None\n",
            "json.decoder.JSONDecodeError: Expecting value: line 1 column 1 (char 0)\n",
            "INFO:luigi-interface:[pid 799] Worker Worker(salt=022105753, workers=5, host=4b9918451cd2, username=root, pid=61) done      DownloadAPIReport(indicator=anosmia, country=Japan, date=2021-07-01)\n",
            "INFO: [pid 855] Worker Worker(salt=022105753, workers=5, host=4b9918451cd2, username=root, pid=61) done      DownloadAPIReport(indicator=covid_vaccine, country=South Africa, date=2021-07-01)\n",
            "INFO: Informed scheduler that task   DownloadAPIReport_Poland_2021_07_01_covid_vaccine_6504b8ef45   has status   FAILED\n",
            "INFO:luigi-interface:[pid 855] Worker Worker(salt=022105753, workers=5, host=4b9918451cd2, username=root, pid=61) done      DownloadAPIReport(indicator=covid_vaccine, country=South Africa, date=2021-07-01)\n",
            "INFO:luigi-interface:Informed scheduler that task   DownloadAPIReport_Poland_2021_07_01_covid_vaccine_6504b8ef45   has status   FAILED\n",
            "DEBUG: Asking scheduler for work...\n",
            "DEBUG:luigi-interface:Asking scheduler for work...\n",
            "DEBUG: Pending tasks: 49\n",
            "DEBUG:luigi-interface:Pending tasks: 49\n",
            "DEBUG: 5 running tasks, waiting for next task to finish\n",
            "DEBUG:luigi-interface:5 running tasks, waiting for next task to finish\n",
            "INFO: Informed scheduler that task   DownloadAPIReport_Argentina_2021_07_01_covid_vaccine_332fbbd364   has status   FAILED\n",
            "INFO: [pid 996] Worker Worker(salt=022105753, workers=5, host=4b9918451cd2, username=root, pid=61) running   DownloadAPIReport(indicator=covid_vaccine, country=Algeria, date=2021-07-01)\n",
            "INFO:luigi-interface:Informed scheduler that task   DownloadAPIReport_Argentina_2021_07_01_covid_vaccine_332fbbd364   has status   FAILED\n",
            "DEBUG: Asking scheduler for work...\n",
            "DEBUG:luigi-interface:Asking scheduler for work...\n",
            "DEBUG: Pending tasks: 49\n",
            "INFO:luigi-interface:[pid 996] Worker Worker(salt=022105753, workers=5, host=4b9918451cd2, username=root, pid=61) running   DownloadAPIReport(indicator=covid_vaccine, country=Algeria, date=2021-07-01)\n",
            "DEBUG:luigi-interface:Pending tasks: 49\n"
          ]
        },
        {
          "output_type": "stream",
          "name": "stdout",
          "text": [
            "CALLING API:  https://covidmap.umd.edu/api/resources?indicator=covid_vaccine&type=daily&country=Algeria&daterange=20210701-20210701\n"
          ]
        },
        {
          "output_type": "stream",
          "name": "stderr",
          "text": [
            "DEBUG: 5 running tasks, waiting for next task to finish\n",
            "DEBUG:luigi-interface:5 running tasks, waiting for next task to finish\n",
            "INFO: [pid 1003] Worker Worker(salt=022105753, workers=5, host=4b9918451cd2, username=root, pid=61) running   DownloadAPIReport(indicator=covid_vaccine, country=Kenya, date=2021-07-01)\n",
            "INFO:luigi-interface:[pid 1003] Worker Worker(salt=022105753, workers=5, host=4b9918451cd2, username=root, pid=61) running   DownloadAPIReport(indicator=covid_vaccine, country=Kenya, date=2021-07-01)\n"
          ]
        },
        {
          "output_type": "stream",
          "name": "stdout",
          "text": [
            "CALLING API:  https://covidmap.umd.edu/api/resources?indicator=covid_vaccine&type=daily&country=Kenya&daterange=20210701-20210701\n"
          ]
        },
        {
          "output_type": "stream",
          "name": "stderr",
          "text": [
            "INFO: Informed scheduler that task   DownloadAPIReport_Japan_2021_07_01_anosmia_61e6a8e81d   has status   DONE\n",
            "INFO:luigi-interface:Informed scheduler that task   DownloadAPIReport_Japan_2021_07_01_anosmia_61e6a8e81d   has status   DONE\n",
            "DEBUG: Asking scheduler for work...\n",
            "DEBUG:luigi-interface:Asking scheduler for work...\n",
            "DEBUG: Pending tasks: 48\n",
            "DEBUG:luigi-interface:Pending tasks: 48\n",
            "DEBUG: 5 running tasks, waiting for next task to finish\n",
            "DEBUG:luigi-interface:5 running tasks, waiting for next task to finish\n",
            "INFO: [pid 1010] Worker Worker(salt=022105753, workers=5, host=4b9918451cd2, username=root, pid=61) running   LoadReportIntoDB(test_prefix=, indicator=anosmia, country=Japan, date=2021-07-01)\n",
            "INFO:luigi-interface:[pid 1010] Worker Worker(salt=022105753, workers=5, host=4b9918451cd2, username=root, pid=61) running   LoadReportIntoDB(test_prefix=, indicator=anosmia, country=Japan, date=2021-07-01)\n",
            "INFO: Informed scheduler that task   DownloadAPIReport_South_Africa_2021_07_01_covid_vaccine_f0981cd796   has status   DONE\n",
            "INFO:luigi-interface:Informed scheduler that task   DownloadAPIReport_South_Africa_2021_07_01_covid_vaccine_f0981cd796   has status   DONE\n",
            "DEBUG: Asking scheduler for work...\n",
            "DEBUG:luigi-interface:Asking scheduler for work...\n"
          ]
        },
        {
          "output_type": "stream",
          "name": "stdout",
          "text": [
            "DELETE FROM rpl_covid_survey_anosmia WHERE country='Japan' AND survey_date = 20210701\n"
          ]
        },
        {
          "output_type": "stream",
          "name": "stderr",
          "text": [
            "DEBUG: Pending tasks: 47\n",
            "DEBUG:luigi-interface:Pending tasks: 47\n"
          ]
        },
        {
          "output_type": "stream",
          "name": "stdout",
          "text": [
            "\n",
            "\n"
          ]
        },
        {
          "output_type": "stream",
          "name": "stderr",
          "text": [
            "DEBUG: 5 running tasks, waiting for next task to finish\n"
          ]
        },
        {
          "output_type": "stream",
          "name": "stdout",
          "text": [
            "\n"
          ]
        },
        {
          "output_type": "stream",
          "name": "stderr",
          "text": [
            "DEBUG:luigi-interface:5 running tasks, waiting for next task to finish\n"
          ]
        },
        {
          "output_type": "stream",
          "name": "stdout",
          "text": [
            "-----------------------\n",
            "File loading: STARTED\n",
            "-----------------------\n",
            "\n"
          ]
        },
        {
          "output_type": "stream",
          "name": "stderr",
          "text": [
            "INFO: [pid 1023] Worker Worker(salt=022105753, workers=5, host=4b9918451cd2, username=root, pid=61) running   LoadReportIntoDB(test_prefix=, indicator=covid_vaccine, country=South Africa, date=2021-07-01)\n",
            "INFO:luigi-interface:[pid 1023] Worker Worker(salt=022105753, workers=5, host=4b9918451cd2, username=root, pid=61) running   LoadReportIntoDB(test_prefix=, indicator=covid_vaccine, country=South Africa, date=2021-07-01)\n"
          ]
        },
        {
          "output_type": "stream",
          "name": "stdout",
          "text": [
            "INSERT INTO rpl_covid_survey_anosmia (percent_anos, anos_se, percent_anos_unw, anos_se_unw, sample_size, country, iso_code, gid_0, survey_date) VALUES(?, ?, ?, ?, ?, ?, ?, ?, ?)\n",
            "DELETE FROM rpl_covid_survey_covid_vaccine WHERE country='South Africa' AND survey_date = 20210701\n",
            "-----------------------\n",
            "File loading: FINISHED\n",
            "-----------------------\n",
            "\n",
            "\n",
            "\n",
            "\n",
            "-----------------------\n",
            "File loading: STARTED\n",
            "-----------------------\n"
          ]
        },
        {
          "output_type": "stream",
          "name": "stderr",
          "text": [
            "INFO: [pid 1010] Worker Worker(salt=022105753, workers=5, host=4b9918451cd2, username=root, pid=61) done      LoadReportIntoDB(test_prefix=, indicator=anosmia, country=Japan, date=2021-07-01)\n"
          ]
        },
        {
          "output_type": "stream",
          "name": "stdout",
          "text": [
            "\n"
          ]
        },
        {
          "output_type": "stream",
          "name": "stderr",
          "text": [
            "INFO:luigi-interface:[pid 1010] Worker Worker(salt=022105753, workers=5, host=4b9918451cd2, username=root, pid=61) done      LoadReportIntoDB(test_prefix=, indicator=anosmia, country=Japan, date=2021-07-01)\n"
          ]
        },
        {
          "output_type": "stream",
          "name": "stdout",
          "text": [
            "INSERT INTO rpl_covid_survey_covid_vaccine (pct_covid_vaccine, covid_vaccine_se, pct_covid_vaccine_unw, covid_vaccine_se_unw, sample_size, country, iso_code, gid_0, survey_date) VALUES(?, ?, ?, ?, ?, ?, ?, ?, ?)\n"
          ]
        },
        {
          "output_type": "stream",
          "name": "stderr",
          "text": [
            "INFO: Informed scheduler that task   LoadReportIntoDB_Japan_2021_07_01_anosmia_00c5354164   has status   DONE\n",
            "INFO:luigi-interface:Informed scheduler that task   LoadReportIntoDB_Japan_2021_07_01_anosmia_00c5354164   has status   DONE\n",
            "DEBUG: Asking scheduler for work...\n",
            "DEBUG:luigi-interface:Asking scheduler for work...\n",
            "DEBUG: Pending tasks: 46\n",
            "DEBUG:luigi-interface:Pending tasks: 46\n",
            "DEBUG: 5 running tasks, waiting for next task to finish\n",
            "DEBUG:luigi-interface:5 running tasks, waiting for next task to finish\n"
          ]
        },
        {
          "output_type": "stream",
          "name": "stdout",
          "text": [
            "-----------------------\n",
            "File loading: FINISHED\n",
            "-----------------------\n"
          ]
        },
        {
          "output_type": "stream",
          "name": "stderr",
          "text": [
            "INFO: [pid 1053] Worker Worker(salt=022105753, workers=5, host=4b9918451cd2, username=root, pid=61) running   DownloadAPIReport(indicator=covid_vaccine, country=Switzerland, date=2021-07-01)\n"
          ]
        },
        {
          "output_type": "stream",
          "name": "stdout",
          "text": [
            "\n"
          ]
        },
        {
          "output_type": "stream",
          "name": "stderr",
          "text": [
            "INFO:luigi-interface:[pid 1053] Worker Worker(salt=022105753, workers=5, host=4b9918451cd2, username=root, pid=61) running   DownloadAPIReport(indicator=covid_vaccine, country=Switzerland, date=2021-07-01)\n",
            "INFO: [pid 1023] Worker Worker(salt=022105753, workers=5, host=4b9918451cd2, username=root, pid=61) done      LoadReportIntoDB(test_prefix=, indicator=covid_vaccine, country=South Africa, date=2021-07-01)\n",
            "INFO: Informed scheduler that task   LoadReportIntoDB_South_Africa_2021_07_01_covid_vaccine_39bb60ff3f   has status   DONE\n",
            "INFO:luigi-interface:Informed scheduler that task   LoadReportIntoDB_South_Africa_2021_07_01_covid_vaccine_39bb60ff3f   has status   DONE\n",
            "INFO:luigi-interface:[pid 1023] Worker Worker(salt=022105753, workers=5, host=4b9918451cd2, username=root, pid=61) done      LoadReportIntoDB(test_prefix=, indicator=covid_vaccine, country=South Africa, date=2021-07-01)\n",
            "DEBUG: Asking scheduler for work...\n",
            "DEBUG:luigi-interface:Asking scheduler for work...\n",
            "DEBUG: Pending tasks: 45\n"
          ]
        },
        {
          "output_type": "stream",
          "name": "stdout",
          "text": [
            "CALLING API:  https://covidmap.umd.edu/api/resources?indicator=covid_vaccine&type=daily&country=Switzerland&daterange=20210701-20210701\n"
          ]
        },
        {
          "output_type": "stream",
          "name": "stderr",
          "text": [
            "DEBUG:luigi-interface:Pending tasks: 45\n",
            "DEBUG: 5 running tasks, waiting for next task to finish\n",
            "DEBUG:luigi-interface:5 running tasks, waiting for next task to finish\n",
            "INFO: [pid 1069] Worker Worker(salt=022105753, workers=5, host=4b9918451cd2, username=root, pid=61) running   DownloadAPIReport(indicator=covid_vaccine, country=Japan, date=2021-07-01)\n",
            "INFO:luigi-interface:[pid 1069] Worker Worker(salt=022105753, workers=5, host=4b9918451cd2, username=root, pid=61) running   DownloadAPIReport(indicator=covid_vaccine, country=Japan, date=2021-07-01)\n"
          ]
        },
        {
          "output_type": "stream",
          "name": "stdout",
          "text": [
            "CALLING API:  https://covidmap.umd.edu/api/resources?indicator=covid_vaccine&type=daily&country=Japan&daterange=20210701-20210701\n"
          ]
        },
        {
          "output_type": "stream",
          "name": "stderr",
          "text": [
            "INFO: [pid 996] Worker Worker(salt=022105753, workers=5, host=4b9918451cd2, username=root, pid=61) done      DownloadAPIReport(indicator=covid_vaccine, country=Algeria, date=2021-07-01)\n",
            "INFO:luigi-interface:[pid 996] Worker Worker(salt=022105753, workers=5, host=4b9918451cd2, username=root, pid=61) done      DownloadAPIReport(indicator=covid_vaccine, country=Algeria, date=2021-07-01)\n",
            "INFO: Informed scheduler that task   DownloadAPIReport_Algeria_2021_07_01_covid_vaccine_e17c1f0489   has status   DONE\n",
            "INFO:luigi-interface:Informed scheduler that task   DownloadAPIReport_Algeria_2021_07_01_covid_vaccine_e17c1f0489   has status   DONE\n",
            "DEBUG: Asking scheduler for work...\n",
            "DEBUG:luigi-interface:Asking scheduler for work...\n",
            "DEBUG: Pending tasks: 44\n",
            "DEBUG:luigi-interface:Pending tasks: 44\n",
            "DEBUG: 5 running tasks, waiting for next task to finish\n",
            "DEBUG:luigi-interface:5 running tasks, waiting for next task to finish\n",
            "INFO: [pid 1081] Worker Worker(salt=022105753, workers=5, host=4b9918451cd2, username=root, pid=61) running   LoadReportIntoDB(test_prefix=, indicator=covid_vaccine, country=Algeria, date=2021-07-01)\n",
            "INFO:luigi-interface:[pid 1081] Worker Worker(salt=022105753, workers=5, host=4b9918451cd2, username=root, pid=61) running   LoadReportIntoDB(test_prefix=, indicator=covid_vaccine, country=Algeria, date=2021-07-01)\n"
          ]
        },
        {
          "output_type": "stream",
          "name": "stdout",
          "text": [
            "DELETE FROM rpl_covid_survey_covid_vaccine WHERE country='Algeria' AND survey_date = 20210701\n",
            "\n",
            "\n",
            "\n",
            "-----------------------\n",
            "File loading: STARTED\n",
            "-----------------------\n",
            "\n",
            "INSERT INTO rpl_covid_survey_covid_vaccine (pct_covid_vaccine, covid_vaccine_se, pct_covid_vaccine_unw, covid_vaccine_se_unw, sample_size, country, iso_code, gid_0, survey_date) VALUES(?, ?, ?, ?, ?, ?, ?, ?, ?)\n",
            "-----------------------\n",
            "File loading: FINISHED\n",
            "-----------------------\n",
            "\n"
          ]
        },
        {
          "output_type": "stream",
          "name": "stderr",
          "text": [
            "INFO: [pid 1081] Worker Worker(salt=022105753, workers=5, host=4b9918451cd2, username=root, pid=61) done      LoadReportIntoDB(test_prefix=, indicator=covid_vaccine, country=Algeria, date=2021-07-01)\n",
            "INFO:luigi-interface:[pid 1081] Worker Worker(salt=022105753, workers=5, host=4b9918451cd2, username=root, pid=61) done      LoadReportIntoDB(test_prefix=, indicator=covid_vaccine, country=Algeria, date=2021-07-01)\n",
            "INFO: Informed scheduler that task   LoadReportIntoDB_Algeria_2021_07_01_covid_vaccine_13433a7f2e   has status   DONE\n",
            "INFO:luigi-interface:Informed scheduler that task   LoadReportIntoDB_Algeria_2021_07_01_covid_vaccine_13433a7f2e   has status   DONE\n",
            "DEBUG: Asking scheduler for work...\n",
            "DEBUG:luigi-interface:Asking scheduler for work...\n",
            "DEBUG: Pending tasks: 43\n",
            "DEBUG:luigi-interface:Pending tasks: 43\n",
            "DEBUG: 5 running tasks, waiting for next task to finish\n",
            "DEBUG:luigi-interface:5 running tasks, waiting for next task to finish\n",
            "INFO: [pid 1107] Worker Worker(salt=022105753, workers=5, host=4b9918451cd2, username=root, pid=61) running   CreateTable(test_prefix=, indicator=mask)\n",
            "INFO:luigi-interface:[pid 1107] Worker Worker(salt=022105753, workers=5, host=4b9918451cd2, username=root, pid=61) running   CreateTable(test_prefix=, indicator=mask)\n"
          ]
        },
        {
          "output_type": "stream",
          "name": "stdout",
          "text": [
            "\n",
            "        CREATE TABLE IF NOT EXISTS rpl_covid_survey_mask(\n",
            "            percent_mc float,\n",
            "mc_se float,\n",
            "percent_mc_unw float,\n",
            "mc_se_unw float,\n",
            "sample_size NUMERIC,\n",
            "country text,\n",
            "iso_code text,\n",
            "gid_0 text,\n",
            "survey_date NUMERIC\n",
            "        );\n",
            "    \n",
            "\n",
            "\n",
            "\n"
          ]
        },
        {
          "output_type": "stream",
          "name": "stderr",
          "text": [
            "INFO: [pid 1107] Worker Worker(salt=022105753, workers=5, host=4b9918451cd2, username=root, pid=61) done      CreateTable(test_prefix=, indicator=mask)\n",
            "INFO:luigi-interface:[pid 1107] Worker Worker(salt=022105753, workers=5, host=4b9918451cd2, username=root, pid=61) done      CreateTable(test_prefix=, indicator=mask)\n",
            "INFO: Informed scheduler that task   CreateTable_mask__5c94466890   has status   DONE\n",
            "INFO:luigi-interface:Informed scheduler that task   CreateTable_mask__5c94466890   has status   DONE\n",
            "DEBUG: Asking scheduler for work...\n",
            "DEBUG:luigi-interface:Asking scheduler for work...\n",
            "DEBUG: Pending tasks: 42\n",
            "DEBUG:luigi-interface:Pending tasks: 42\n",
            "DEBUG: 5 running tasks, waiting for next task to finish\n",
            "DEBUG:luigi-interface:5 running tasks, waiting for next task to finish\n",
            "INFO: [pid 1125] Worker Worker(salt=022105753, workers=5, host=4b9918451cd2, username=root, pid=61) running   DownloadAPIReport(indicator=mask, country=South Africa, date=2021-07-01)\n",
            "INFO:luigi-interface:[pid 1125] Worker Worker(salt=022105753, workers=5, host=4b9918451cd2, username=root, pid=61) running   DownloadAPIReport(indicator=mask, country=South Africa, date=2021-07-01)\n"
          ]
        },
        {
          "output_type": "stream",
          "name": "stdout",
          "text": [
            "CALLING API:  https://covidmap.umd.edu/api/resources?indicator=mask&type=daily&country=South Africa&daterange=20210701-20210701\n"
          ]
        },
        {
          "output_type": "stream",
          "name": "stderr",
          "text": [
            "INFO: [pid 1003] Worker Worker(salt=022105753, workers=5, host=4b9918451cd2, username=root, pid=61) done      DownloadAPIReport(indicator=covid_vaccine, country=Kenya, date=2021-07-01)\n",
            "INFO:luigi-interface:[pid 1003] Worker Worker(salt=022105753, workers=5, host=4b9918451cd2, username=root, pid=61) done      DownloadAPIReport(indicator=covid_vaccine, country=Kenya, date=2021-07-01)\n",
            "INFO: Informed scheduler that task   DownloadAPIReport_Kenya_2021_07_01_covid_vaccine_0d5f4d5027   has status   DONE\n",
            "INFO:luigi-interface:Informed scheduler that task   DownloadAPIReport_Kenya_2021_07_01_covid_vaccine_0d5f4d5027   has status   DONE\n",
            "DEBUG: Asking scheduler for work...\n",
            "DEBUG:luigi-interface:Asking scheduler for work...\n",
            "DEBUG: Pending tasks: 41\n",
            "DEBUG:luigi-interface:Pending tasks: 41\n",
            "DEBUG: 5 running tasks, waiting for next task to finish\n",
            "DEBUG:luigi-interface:5 running tasks, waiting for next task to finish\n",
            "INFO: [pid 1137] Worker Worker(salt=022105753, workers=5, host=4b9918451cd2, username=root, pid=61) running   LoadReportIntoDB(test_prefix=, indicator=covid_vaccine, country=Kenya, date=2021-07-01)\n",
            "INFO:luigi-interface:[pid 1137] Worker Worker(salt=022105753, workers=5, host=4b9918451cd2, username=root, pid=61) running   LoadReportIntoDB(test_prefix=, indicator=covid_vaccine, country=Kenya, date=2021-07-01)\n"
          ]
        },
        {
          "output_type": "stream",
          "name": "stdout",
          "text": [
            "DELETE FROM rpl_covid_survey_covid_vaccine WHERE country='Kenya' AND survey_date = 20210701\n",
            "\n",
            "\n",
            "\n",
            "-----------------------\n",
            "File loading: STARTED\n",
            "-----------------------\n",
            "\n",
            "INSERT INTO rpl_covid_survey_covid_vaccine (pct_covid_vaccine, covid_vaccine_se, pct_covid_vaccine_unw, covid_vaccine_se_unw, sample_size, country, iso_code, gid_0, survey_date) VALUES(?, ?, ?, ?, ?, ?, ?, ?, ?)\n",
            "-----------------------\n",
            "File loading: FINISHED\n",
            "-----------------------\n",
            "\n"
          ]
        },
        {
          "output_type": "stream",
          "name": "stderr",
          "text": [
            "INFO: [pid 1137] Worker Worker(salt=022105753, workers=5, host=4b9918451cd2, username=root, pid=61) done      LoadReportIntoDB(test_prefix=, indicator=covid_vaccine, country=Kenya, date=2021-07-01)\n",
            "INFO:luigi-interface:[pid 1137] Worker Worker(salt=022105753, workers=5, host=4b9918451cd2, username=root, pid=61) done      LoadReportIntoDB(test_prefix=, indicator=covid_vaccine, country=Kenya, date=2021-07-01)\n",
            "INFO: Informed scheduler that task   LoadReportIntoDB_Kenya_2021_07_01_covid_vaccine_a65fe8cb5c   has status   DONE\n",
            "INFO:luigi-interface:Informed scheduler that task   LoadReportIntoDB_Kenya_2021_07_01_covid_vaccine_a65fe8cb5c   has status   DONE\n",
            "DEBUG: Asking scheduler for work...\n",
            "DEBUG:luigi-interface:Asking scheduler for work...\n",
            "DEBUG: Pending tasks: 40\n",
            "DEBUG:luigi-interface:Pending tasks: 40\n",
            "DEBUG: 5 running tasks, waiting for next task to finish\n",
            "DEBUG:luigi-interface:5 running tasks, waiting for next task to finish\n",
            "INFO: [pid 1165] Worker Worker(salt=022105753, workers=5, host=4b9918451cd2, username=root, pid=61) running   DownloadAPIReport(indicator=mask, country=Poland, date=2021-07-01)\n",
            "INFO:luigi-interface:[pid 1165] Worker Worker(salt=022105753, workers=5, host=4b9918451cd2, username=root, pid=61) running   DownloadAPIReport(indicator=mask, country=Poland, date=2021-07-01)\n"
          ]
        },
        {
          "output_type": "stream",
          "name": "stdout",
          "text": [
            "CALLING API:  https://covidmap.umd.edu/api/resources?indicator=mask&type=daily&country=Poland&daterange=20210701-20210701\n"
          ]
        },
        {
          "output_type": "stream",
          "name": "stderr",
          "text": [
            "INFO: [pid 1053] Worker Worker(salt=022105753, workers=5, host=4b9918451cd2, username=root, pid=61) done      DownloadAPIReport(indicator=covid_vaccine, country=Switzerland, date=2021-07-01)\n",
            "INFO:luigi-interface:[pid 1053] Worker Worker(salt=022105753, workers=5, host=4b9918451cd2, username=root, pid=61) done      DownloadAPIReport(indicator=covid_vaccine, country=Switzerland, date=2021-07-01)\n",
            "INFO: Informed scheduler that task   DownloadAPIReport_Switzerland_2021_07_01_covid_vaccine_44677dfd09   has status   DONE\n",
            "INFO:luigi-interface:Informed scheduler that task   DownloadAPIReport_Switzerland_2021_07_01_covid_vaccine_44677dfd09   has status   DONE\n",
            "DEBUG: Asking scheduler for work...\n",
            "DEBUG:luigi-interface:Asking scheduler for work...\n",
            "DEBUG: Pending tasks: 39\n",
            "DEBUG:luigi-interface:Pending tasks: 39\n",
            "DEBUG: 5 running tasks, waiting for next task to finish\n",
            "DEBUG:luigi-interface:5 running tasks, waiting for next task to finish\n",
            "INFO: [pid 1177] Worker Worker(salt=022105753, workers=5, host=4b9918451cd2, username=root, pid=61) running   LoadReportIntoDB(test_prefix=, indicator=covid_vaccine, country=Switzerland, date=2021-07-01)\n",
            "INFO:luigi-interface:[pid 1177] Worker Worker(salt=022105753, workers=5, host=4b9918451cd2, username=root, pid=61) running   LoadReportIntoDB(test_prefix=, indicator=covid_vaccine, country=Switzerland, date=2021-07-01)\n"
          ]
        },
        {
          "output_type": "stream",
          "name": "stdout",
          "text": [
            "DELETE FROM rpl_covid_survey_covid_vaccine WHERE country='Switzerland' AND survey_date = 20210701\n",
            "\n",
            "\n",
            "\n",
            "-----------------------\n",
            "File loading: STARTED\n",
            "-----------------------\n",
            "\n",
            "INSERT INTO rpl_covid_survey_covid_vaccine (pct_covid_vaccine, covid_vaccine_se, pct_covid_vaccine_unw, covid_vaccine_se_unw, sample_size, country, iso_code, gid_0, survey_date) VALUES(?, ?, ?, ?, ?, ?, ?, ?, ?)\n",
            "-----------------------\n",
            "File loading: FINISHED\n",
            "-----------------------\n",
            "\n"
          ]
        },
        {
          "output_type": "stream",
          "name": "stderr",
          "text": [
            "INFO: [pid 1177] Worker Worker(salt=022105753, workers=5, host=4b9918451cd2, username=root, pid=61) done      LoadReportIntoDB(test_prefix=, indicator=covid_vaccine, country=Switzerland, date=2021-07-01)\n",
            "INFO:luigi-interface:[pid 1177] Worker Worker(salt=022105753, workers=5, host=4b9918451cd2, username=root, pid=61) done      LoadReportIntoDB(test_prefix=, indicator=covid_vaccine, country=Switzerland, date=2021-07-01)\n",
            "INFO: Informed scheduler that task   LoadReportIntoDB_Switzerland_2021_07_01_covid_vaccine_13455f8402   has status   DONE\n",
            "INFO:luigi-interface:Informed scheduler that task   LoadReportIntoDB_Switzerland_2021_07_01_covid_vaccine_13455f8402   has status   DONE\n",
            "DEBUG: Asking scheduler for work...\n",
            "DEBUG:luigi-interface:Asking scheduler for work...\n",
            "DEBUG: Pending tasks: 38\n",
            "DEBUG:luigi-interface:Pending tasks: 38\n",
            "DEBUG: 5 running tasks, waiting for next task to finish\n",
            "DEBUG:luigi-interface:5 running tasks, waiting for next task to finish\n",
            "INFO: [pid 1203] Worker Worker(salt=022105753, workers=5, host=4b9918451cd2, username=root, pid=61) running   DownloadAPIReport(indicator=mask, country=Argentina, date=2021-07-01)\n",
            "INFO:luigi-interface:[pid 1203] Worker Worker(salt=022105753, workers=5, host=4b9918451cd2, username=root, pid=61) running   DownloadAPIReport(indicator=mask, country=Argentina, date=2021-07-01)\n"
          ]
        },
        {
          "output_type": "stream",
          "name": "stdout",
          "text": [
            "CALLING API:  https://covidmap.umd.edu/api/resources?indicator=mask&type=daily&country=Argentina&daterange=20210701-20210701\n"
          ]
        },
        {
          "output_type": "stream",
          "name": "stderr",
          "text": [
            "DEBUG: 5 running tasks, waiting for next task to finish\n",
            "DEBUG:luigi-interface:5 running tasks, waiting for next task to finish\n",
            "INFO: [pid 1125] Worker Worker(salt=022105753, workers=5, host=4b9918451cd2, username=root, pid=61) done      DownloadAPIReport(indicator=mask, country=South Africa, date=2021-07-01)\n",
            "INFO:luigi-interface:[pid 1125] Worker Worker(salt=022105753, workers=5, host=4b9918451cd2, username=root, pid=61) done      DownloadAPIReport(indicator=mask, country=South Africa, date=2021-07-01)\n",
            "INFO: [pid 1069] Worker Worker(salt=022105753, workers=5, host=4b9918451cd2, username=root, pid=61) done      DownloadAPIReport(indicator=covid_vaccine, country=Japan, date=2021-07-01)\n",
            "INFO: Informed scheduler that task   DownloadAPIReport_Spain_2021_07_01_covid_vaccine_14c61945ce   has status   DONE\n",
            "INFO: [pid 969] Worker Worker(salt=022105753, workers=5, host=4b9918451cd2, username=root, pid=61) done      DownloadAPIReport(indicator=covid_vaccine, country=Spain, date=2021-07-01)\n",
            "INFO:luigi-interface:Informed scheduler that task   DownloadAPIReport_Spain_2021_07_01_covid_vaccine_14c61945ce   has status   DONE\n",
            "INFO:luigi-interface:[pid 969] Worker Worker(salt=022105753, workers=5, host=4b9918451cd2, username=root, pid=61) done      DownloadAPIReport(indicator=covid_vaccine, country=Spain, date=2021-07-01)\n",
            "DEBUG: Asking scheduler for work...\n",
            "DEBUG:luigi-interface:Asking scheduler for work...\n",
            "INFO:luigi-interface:[pid 1069] Worker Worker(salt=022105753, workers=5, host=4b9918451cd2, username=root, pid=61) done      DownloadAPIReport(indicator=covid_vaccine, country=Japan, date=2021-07-01)\n",
            "DEBUG: Pending tasks: 37\n",
            "DEBUG:luigi-interface:Pending tasks: 37\n",
            "DEBUG: 5 running tasks, waiting for next task to finish\n",
            "DEBUG:luigi-interface:5 running tasks, waiting for next task to finish\n",
            "INFO: Informed scheduler that task   DownloadAPIReport_South_Africa_2021_07_01_mask_53b2715828   has status   DONE\n",
            "INFO:luigi-interface:Informed scheduler that task   DownloadAPIReport_South_Africa_2021_07_01_mask_53b2715828   has status   DONE\n",
            "DEBUG: Asking scheduler for work...\n",
            "INFO: [pid 1225] Worker Worker(salt=022105753, workers=5, host=4b9918451cd2, username=root, pid=61) running   LoadReportIntoDB(test_prefix=, indicator=covid_vaccine, country=Spain, date=2021-07-01)\n",
            "DEBUG:luigi-interface:Asking scheduler for work...\n",
            "INFO:luigi-interface:[pid 1225] Worker Worker(salt=022105753, workers=5, host=4b9918451cd2, username=root, pid=61) running   LoadReportIntoDB(test_prefix=, indicator=covid_vaccine, country=Spain, date=2021-07-01)\n",
            "DEBUG: Pending tasks: 36\n",
            "DEBUG:luigi-interface:Pending tasks: 36\n"
          ]
        },
        {
          "output_type": "stream",
          "name": "stdout",
          "text": [
            "DELETE FROM rpl_covid_survey_covid_vaccine WHERE country='Spain' AND survey_date = 20210701\n",
            "\n",
            "\n",
            "\n"
          ]
        },
        {
          "output_type": "stream",
          "name": "stderr",
          "text": [
            "DEBUG: 5 running tasks, waiting for next task to finish\n"
          ]
        },
        {
          "output_type": "stream",
          "name": "stdout",
          "text": [
            "-----------------------\n",
            "File loading: STARTED\n",
            "-----------------------\n"
          ]
        },
        {
          "output_type": "stream",
          "name": "stderr",
          "text": [
            "DEBUG:luigi-interface:5 running tasks, waiting for next task to finish\n"
          ]
        },
        {
          "output_type": "stream",
          "name": "stdout",
          "text": [
            "\n"
          ]
        },
        {
          "output_type": "stream",
          "name": "stderr",
          "text": [
            "INFO: Informed scheduler that task   DownloadAPIReport_Japan_2021_07_01_covid_vaccine_1d08892a58   has status   DONE\n",
            "INFO: [pid 1238] Worker Worker(salt=022105753, workers=5, host=4b9918451cd2, username=root, pid=61) running   LoadReportIntoDB(test_prefix=, indicator=mask, country=South Africa, date=2021-07-01)\n",
            "INFO:luigi-interface:Informed scheduler that task   DownloadAPIReport_Japan_2021_07_01_covid_vaccine_1d08892a58   has status   DONE\n"
          ]
        },
        {
          "output_type": "stream",
          "name": "stdout",
          "text": [
            "INSERT INTO rpl_covid_survey_covid_vaccine (pct_covid_vaccine, covid_vaccine_se, pct_covid_vaccine_unw, covid_vaccine_se_unw, sample_size, country, iso_code, gid_0, survey_date) VALUES(?, ?, ?, ?, ?, ?, ?, ?, ?)\n"
          ]
        },
        {
          "output_type": "stream",
          "name": "stderr",
          "text": [
            "DEBUG: Asking scheduler for work...\n",
            "INFO:luigi-interface:[pid 1238] Worker Worker(salt=022105753, workers=5, host=4b9918451cd2, username=root, pid=61) running   LoadReportIntoDB(test_prefix=, indicator=mask, country=South Africa, date=2021-07-01)\n"
          ]
        },
        {
          "output_type": "stream",
          "name": "stdout",
          "text": [
            "DELETE FROM rpl_covid_survey_mask WHERE country='South Africa' AND survey_date = 20210701\n"
          ]
        },
        {
          "output_type": "stream",
          "name": "stderr",
          "text": [
            "DEBUG:luigi-interface:Asking scheduler for work...\n"
          ]
        },
        {
          "output_type": "stream",
          "name": "stdout",
          "text": [
            "-----------------------\n",
            "File loading: FINISHED\n",
            "-----------------------\n"
          ]
        },
        {
          "output_type": "stream",
          "name": "stderr",
          "text": [
            "DEBUG: Pending tasks: 35\n"
          ]
        },
        {
          "output_type": "stream",
          "name": "stdout",
          "text": [
            "\n"
          ]
        },
        {
          "output_type": "stream",
          "name": "stderr",
          "text": [
            "DEBUG:luigi-interface:Pending tasks: 35\n",
            "INFO: [pid 1225] Worker Worker(salt=022105753, workers=5, host=4b9918451cd2, username=root, pid=61) done      LoadReportIntoDB(test_prefix=, indicator=covid_vaccine, country=Spain, date=2021-07-01)\n"
          ]
        },
        {
          "output_type": "stream",
          "name": "stdout",
          "text": [
            "\n",
            "\n",
            "\n"
          ]
        },
        {
          "output_type": "stream",
          "name": "stderr",
          "text": [
            "INFO:luigi-interface:[pid 1225] Worker Worker(salt=022105753, workers=5, host=4b9918451cd2, username=root, pid=61) done      LoadReportIntoDB(test_prefix=, indicator=covid_vaccine, country=Spain, date=2021-07-01)\n"
          ]
        },
        {
          "output_type": "stream",
          "name": "stdout",
          "text": [
            "-----------------------\n",
            "File loading: STARTED\n",
            "-----------------------\n",
            "\n",
            "INSERT INTO rpl_covid_survey_mask (percent_mc, mc_se, percent_mc_unw, mc_se_unw, sample_size, country, iso_code, gid_0, survey_date) VALUES(?, ?, ?, ?, ?, ?, ?, ?, ?)\n"
          ]
        },
        {
          "output_type": "stream",
          "name": "stderr",
          "text": [
            "DEBUG: 5 running tasks, waiting for next task to finish\n"
          ]
        },
        {
          "output_type": "stream",
          "name": "stdout",
          "text": [
            "-----------------------\n",
            "File loading: FINISHED\n",
            "-----------------------\n"
          ]
        },
        {
          "output_type": "stream",
          "name": "stderr",
          "text": [
            "INFO:luigi-interface:[pid 1268] Worker Worker(salt=022105753, workers=5, host=4b9918451cd2, username=root, pid=61) running   LoadReportIntoDB(test_prefix=, indicator=covid_vaccine, country=Japan, date=2021-07-01)\n",
            "DEBUG:luigi-interface:5 running tasks, waiting for next task to finish\n",
            "INFO: [pid 1268] Worker Worker(salt=022105753, workers=5, host=4b9918451cd2, username=root, pid=61) running   LoadReportIntoDB(test_prefix=, indicator=covid_vaccine, country=Japan, date=2021-07-01)\n"
          ]
        },
        {
          "output_type": "stream",
          "name": "stdout",
          "text": [
            "\n"
          ]
        },
        {
          "output_type": "stream",
          "name": "stderr",
          "text": [
            "INFO: [pid 1238] Worker Worker(salt=022105753, workers=5, host=4b9918451cd2, username=root, pid=61) done      LoadReportIntoDB(test_prefix=, indicator=mask, country=South Africa, date=2021-07-01)\n",
            "INFO:luigi-interface:[pid 1238] Worker Worker(salt=022105753, workers=5, host=4b9918451cd2, username=root, pid=61) done      LoadReportIntoDB(test_prefix=, indicator=mask, country=South Africa, date=2021-07-01)\n",
            "INFO: Informed scheduler that task   LoadReportIntoDB_Spain_2021_07_01_covid_vaccine_f2aac42905   has status   DONE\n"
          ]
        },
        {
          "output_type": "stream",
          "name": "stdout",
          "text": [
            "DELETE FROM rpl_covid_survey_covid_vaccine WHERE country='Japan' AND survey_date = 20210701\n"
          ]
        },
        {
          "output_type": "stream",
          "name": "stderr",
          "text": [
            "INFO:luigi-interface:Informed scheduler that task   LoadReportIntoDB_Spain_2021_07_01_covid_vaccine_f2aac42905   has status   DONE\n"
          ]
        },
        {
          "output_type": "stream",
          "name": "stdout",
          "text": [
            "\n",
            "\n",
            "\n"
          ]
        },
        {
          "output_type": "stream",
          "name": "stderr",
          "text": [
            "DEBUG: Asking scheduler for work...\n"
          ]
        },
        {
          "output_type": "stream",
          "name": "stdout",
          "text": [
            "-----------------------\n",
            "File loading: STARTED\n",
            "-----------------------\n"
          ]
        },
        {
          "output_type": "stream",
          "name": "stderr",
          "text": [
            "DEBUG:luigi-interface:Asking scheduler for work...\n"
          ]
        },
        {
          "output_type": "stream",
          "name": "stdout",
          "text": [
            "\n"
          ]
        },
        {
          "output_type": "stream",
          "name": "stderr",
          "text": [
            "DEBUG: Pending tasks: 34\n"
          ]
        },
        {
          "output_type": "stream",
          "name": "stdout",
          "text": [
            "INSERT INTO rpl_covid_survey_covid_vaccine (pct_covid_vaccine, covid_vaccine_se, pct_covid_vaccine_unw, covid_vaccine_se_unw, sample_size, country, iso_code, gid_0, survey_date) VALUES(?, ?, ?, ?, ?, ?, ?, ?, ?)\n"
          ]
        },
        {
          "output_type": "stream",
          "name": "stderr",
          "text": [
            "DEBUG:luigi-interface:Pending tasks: 34\n",
            "DEBUG: 5 running tasks, waiting for next task to finish\n",
            "DEBUG:luigi-interface:5 running tasks, waiting for next task to finish\n"
          ]
        },
        {
          "output_type": "stream",
          "name": "stdout",
          "text": [
            "-----------------------\n",
            "File loading: FINISHED\n",
            "-----------------------\n"
          ]
        },
        {
          "output_type": "stream",
          "name": "stderr",
          "text": [
            "INFO: Informed scheduler that task   LoadReportIntoDB_South_Africa_2021_07_01_mask_f4a35f711b   has status   DONE\n"
          ]
        },
        {
          "output_type": "stream",
          "name": "stdout",
          "text": [
            "\n"
          ]
        },
        {
          "output_type": "stream",
          "name": "stderr",
          "text": [
            "INFO:luigi-interface:Informed scheduler that task   LoadReportIntoDB_South_Africa_2021_07_01_mask_f4a35f711b   has status   DONE\n",
            "DEBUG: Asking scheduler for work...\n",
            "INFO: [pid 1296] Worker Worker(salt=022105753, workers=5, host=4b9918451cd2, username=root, pid=61) running   DownloadAPIReport(indicator=mask, country=Spain, date=2021-07-01)\n",
            "DEBUG:luigi-interface:Asking scheduler for work...\n",
            "INFO: [pid 1268] Worker Worker(salt=022105753, workers=5, host=4b9918451cd2, username=root, pid=61) done      LoadReportIntoDB(test_prefix=, indicator=covid_vaccine, country=Japan, date=2021-07-01)\n",
            "DEBUG: Pending tasks: 33\n",
            "INFO:luigi-interface:[pid 1268] Worker Worker(salt=022105753, workers=5, host=4b9918451cd2, username=root, pid=61) done      LoadReportIntoDB(test_prefix=, indicator=covid_vaccine, country=Japan, date=2021-07-01)\n",
            "DEBUG:luigi-interface:Pending tasks: 33\n",
            "INFO:luigi-interface:[pid 1296] Worker Worker(salt=022105753, workers=5, host=4b9918451cd2, username=root, pid=61) running   DownloadAPIReport(indicator=mask, country=Spain, date=2021-07-01)\n"
          ]
        },
        {
          "output_type": "stream",
          "name": "stdout",
          "text": [
            "CALLING API:  https://covidmap.umd.edu/api/resources?indicator=mask&type=daily&country=Spain&daterange=20210701-20210701\n"
          ]
        },
        {
          "output_type": "stream",
          "name": "stderr",
          "text": [
            "DEBUG: 5 running tasks, waiting for next task to finish\n",
            "INFO: [pid 1310] Worker Worker(salt=022105753, workers=5, host=4b9918451cd2, username=root, pid=61) running   DownloadAPIReport(indicator=mask, country=Algeria, date=2021-07-01)\n",
            "DEBUG:luigi-interface:5 running tasks, waiting for next task to finish\n",
            "INFO: Informed scheduler that task   LoadReportIntoDB_Japan_2021_07_01_covid_vaccine_cb328d5c98   has status   DONE\n",
            "INFO:luigi-interface:[pid 1310] Worker Worker(salt=022105753, workers=5, host=4b9918451cd2, username=root, pid=61) running   DownloadAPIReport(indicator=mask, country=Algeria, date=2021-07-01)\n",
            "INFO:luigi-interface:Informed scheduler that task   LoadReportIntoDB_Japan_2021_07_01_covid_vaccine_cb328d5c98   has status   DONE\n",
            "DEBUG: Asking scheduler for work...\n",
            "DEBUG:luigi-interface:Asking scheduler for work...\n",
            "DEBUG: Pending tasks: 32\n",
            "DEBUG:luigi-interface:Pending tasks: 32\n"
          ]
        },
        {
          "output_type": "stream",
          "name": "stdout",
          "text": [
            "CALLING API:  https://covidmap.umd.edu/api/resources?indicator=mask&type=daily&country=Algeria&daterange=20210701-20210701\n"
          ]
        },
        {
          "output_type": "stream",
          "name": "stderr",
          "text": [
            "DEBUG: 5 running tasks, waiting for next task to finish\n",
            "DEBUG:luigi-interface:5 running tasks, waiting for next task to finish\n",
            "INFO: [pid 1317] Worker Worker(salt=022105753, workers=5, host=4b9918451cd2, username=root, pid=61) running   DownloadAPIReport(indicator=mask, country=Kenya, date=2021-07-01)\n",
            "INFO:luigi-interface:[pid 1317] Worker Worker(salt=022105753, workers=5, host=4b9918451cd2, username=root, pid=61) running   DownloadAPIReport(indicator=mask, country=Kenya, date=2021-07-01)\n"
          ]
        },
        {
          "output_type": "stream",
          "name": "stdout",
          "text": [
            "CALLING API:  https://covidmap.umd.edu/api/resources?indicator=mask&type=daily&country=Kenya&daterange=20210701-20210701\n"
          ]
        },
        {
          "output_type": "stream",
          "name": "stderr",
          "text": [
            "INFO: [pid 1203] Worker Worker(salt=022105753, workers=5, host=4b9918451cd2, username=root, pid=61) done      DownloadAPIReport(indicator=mask, country=Argentina, date=2021-07-01)\n",
            "INFO:luigi-interface:[pid 1203] Worker Worker(salt=022105753, workers=5, host=4b9918451cd2, username=root, pid=61) done      DownloadAPIReport(indicator=mask, country=Argentina, date=2021-07-01)\n",
            "INFO: Informed scheduler that task   DownloadAPIReport_Argentina_2021_07_01_mask_30286e644b   has status   DONE\n",
            "INFO:luigi-interface:Informed scheduler that task   DownloadAPIReport_Argentina_2021_07_01_mask_30286e644b   has status   DONE\n",
            "DEBUG: Asking scheduler for work...\n",
            "DEBUG:luigi-interface:Asking scheduler for work...\n",
            "DEBUG: Pending tasks: 31\n",
            "DEBUG:luigi-interface:Pending tasks: 31\n",
            "DEBUG: 5 running tasks, waiting for next task to finish\n",
            "INFO: [pid 1165] Worker Worker(salt=022105753, workers=5, host=4b9918451cd2, username=root, pid=61) done      DownloadAPIReport(indicator=mask, country=Poland, date=2021-07-01)\n",
            "DEBUG:luigi-interface:5 running tasks, waiting for next task to finish\n",
            "INFO: [pid 1331] Worker Worker(salt=022105753, workers=5, host=4b9918451cd2, username=root, pid=61) running   LoadReportIntoDB(test_prefix=, indicator=mask, country=Argentina, date=2021-07-01)\n",
            "INFO:luigi-interface:[pid 1331] Worker Worker(salt=022105753, workers=5, host=4b9918451cd2, username=root, pid=61) running   LoadReportIntoDB(test_prefix=, indicator=mask, country=Argentina, date=2021-07-01)\n",
            "INFO:luigi-interface:[pid 1165] Worker Worker(salt=022105753, workers=5, host=4b9918451cd2, username=root, pid=61) done      DownloadAPIReport(indicator=mask, country=Poland, date=2021-07-01)\n",
            "INFO: Informed scheduler that task   DownloadAPIReport_Poland_2021_07_01_mask_35dd273c24   has status   DONE\n",
            "INFO:luigi-interface:Informed scheduler that task   DownloadAPIReport_Poland_2021_07_01_mask_35dd273c24   has status   DONE\n",
            "DEBUG: Asking scheduler for work...\n"
          ]
        },
        {
          "output_type": "stream",
          "name": "stdout",
          "text": [
            "DELETE FROM rpl_covid_survey_mask WHERE country='Argentina' AND survey_date = 20210701\n"
          ]
        },
        {
          "output_type": "stream",
          "name": "stderr",
          "text": [
            "DEBUG:luigi-interface:Asking scheduler for work...\n"
          ]
        },
        {
          "output_type": "stream",
          "name": "stdout",
          "text": [
            "\n",
            "\n"
          ]
        },
        {
          "output_type": "stream",
          "name": "stderr",
          "text": [
            "DEBUG: Pending tasks: 30\n"
          ]
        },
        {
          "output_type": "stream",
          "name": "stdout",
          "text": [
            "\n"
          ]
        },
        {
          "output_type": "stream",
          "name": "stderr",
          "text": [
            "DEBUG:luigi-interface:Pending tasks: 30\n"
          ]
        },
        {
          "output_type": "stream",
          "name": "stdout",
          "text": [
            "-----------------------\n",
            "File loading: STARTED\n",
            "-----------------------\n",
            "\n",
            "INSERT INTO rpl_covid_survey_mask (percent_mc, mc_se, percent_mc_unw, mc_se_unw, sample_size, country, iso_code, gid_0, survey_date) VALUES(?, ?, ?, ?, ?, ?, ?, ?, ?)\n"
          ]
        },
        {
          "output_type": "stream",
          "name": "stderr",
          "text": [
            "DEBUG: 5 running tasks, waiting for next task to finish\n",
            "DEBUG:luigi-interface:5 running tasks, waiting for next task to finish\n",
            "INFO: [pid 1351] Worker Worker(salt=022105753, workers=5, host=4b9918451cd2, username=root, pid=61) running   LoadReportIntoDB(test_prefix=, indicator=mask, country=Poland, date=2021-07-01)\n",
            "INFO:luigi-interface:[pid 1351] Worker Worker(salt=022105753, workers=5, host=4b9918451cd2, username=root, pid=61) running   LoadReportIntoDB(test_prefix=, indicator=mask, country=Poland, date=2021-07-01)\n"
          ]
        },
        {
          "output_type": "stream",
          "name": "stdout",
          "text": [
            "-----------------------\n",
            "File loading: FINISHED\n",
            "-----------------------\n",
            "\n",
            "DELETE FROM rpl_covid_survey_mask WHERE country='Poland' AND survey_date = 20210701\n"
          ]
        },
        {
          "output_type": "stream",
          "name": "stderr",
          "text": [
            "INFO: [pid 1331] Worker Worker(salt=022105753, workers=5, host=4b9918451cd2, username=root, pid=61) done      LoadReportIntoDB(test_prefix=, indicator=mask, country=Argentina, date=2021-07-01)\n",
            "INFO:luigi-interface:[pid 1331] Worker Worker(salt=022105753, workers=5, host=4b9918451cd2, username=root, pid=61) done      LoadReportIntoDB(test_prefix=, indicator=mask, country=Argentina, date=2021-07-01)\n"
          ]
        },
        {
          "output_type": "stream",
          "name": "stdout",
          "text": [
            "\n",
            "\n"
          ]
        },
        {
          "output_type": "stream",
          "name": "stderr",
          "text": [
            "INFO: Informed scheduler that task   LoadReportIntoDB_Argentina_2021_07_01_mask_1162d45086   has status   DONE\n",
            "INFO:luigi-interface:Informed scheduler that task   LoadReportIntoDB_Argentina_2021_07_01_mask_1162d45086   has status   DONE\n",
            "DEBUG: Asking scheduler for work...\n",
            "DEBUG:luigi-interface:Asking scheduler for work...\n",
            "DEBUG: Pending tasks: 29\n",
            "DEBUG:luigi-interface:Pending tasks: 29\n"
          ]
        },
        {
          "output_type": "stream",
          "name": "stdout",
          "text": [
            "\n"
          ]
        },
        {
          "output_type": "stream",
          "name": "stderr",
          "text": [
            "DEBUG: 5 running tasks, waiting for next task to finish\n"
          ]
        },
        {
          "output_type": "stream",
          "name": "stdout",
          "text": [
            "-----------------------\n",
            "File loading: STARTED\n",
            "-----------------------\n"
          ]
        },
        {
          "output_type": "stream",
          "name": "stderr",
          "text": [
            "DEBUG:luigi-interface:5 running tasks, waiting for next task to finish\n"
          ]
        },
        {
          "output_type": "stream",
          "name": "stdout",
          "text": [
            "\n",
            "INSERT INTO rpl_covid_survey_mask (percent_mc, mc_se, percent_mc_unw, mc_se_unw, sample_size, country, iso_code, gid_0, survey_date) VALUES(?, ?, ?, ?, ?, ?, ?, ?, ?)\n"
          ]
        },
        {
          "output_type": "stream",
          "name": "stderr",
          "text": [
            "INFO: [pid 1373] Worker Worker(salt=022105753, workers=5, host=4b9918451cd2, username=root, pid=61) running   DownloadAPIReport(indicator=mask, country=Switzerland, date=2021-07-01)\n",
            "INFO:luigi-interface:[pid 1373] Worker Worker(salt=022105753, workers=5, host=4b9918451cd2, username=root, pid=61) running   DownloadAPIReport(indicator=mask, country=Switzerland, date=2021-07-01)\n"
          ]
        },
        {
          "output_type": "stream",
          "name": "stdout",
          "text": [
            "CALLING API:  https://covidmap.umd.edu/api/resources?indicator=mask&type=daily&country=Switzerland&daterange=20210701-20210701\n",
            "-----------------------\n",
            "File loading: FINISHED\n",
            "-----------------------\n",
            "\n"
          ]
        },
        {
          "output_type": "stream",
          "name": "stderr",
          "text": [
            "INFO: [pid 1351] Worker Worker(salt=022105753, workers=5, host=4b9918451cd2, username=root, pid=61) done      LoadReportIntoDB(test_prefix=, indicator=mask, country=Poland, date=2021-07-01)\n",
            "INFO:luigi-interface:[pid 1351] Worker Worker(salt=022105753, workers=5, host=4b9918451cd2, username=root, pid=61) done      LoadReportIntoDB(test_prefix=, indicator=mask, country=Poland, date=2021-07-01)\n",
            "INFO: Informed scheduler that task   LoadReportIntoDB_Poland_2021_07_01_mask_db365f153a   has status   DONE\n",
            "INFO:luigi-interface:Informed scheduler that task   LoadReportIntoDB_Poland_2021_07_01_mask_db365f153a   has status   DONE\n",
            "DEBUG: Asking scheduler for work...\n",
            "DEBUG:luigi-interface:Asking scheduler for work...\n",
            "DEBUG: Pending tasks: 28\n",
            "DEBUG:luigi-interface:Pending tasks: 28\n",
            "DEBUG: 5 running tasks, waiting for next task to finish\n",
            "DEBUG:luigi-interface:5 running tasks, waiting for next task to finish\n",
            "INFO: [pid 1393] Worker Worker(salt=022105753, workers=5, host=4b9918451cd2, username=root, pid=61) running   DownloadAPIReport(indicator=mask, country=Japan, date=2021-07-01)\n",
            "INFO:luigi-interface:[pid 1393] Worker Worker(salt=022105753, workers=5, host=4b9918451cd2, username=root, pid=61) running   DownloadAPIReport(indicator=mask, country=Japan, date=2021-07-01)\n"
          ]
        },
        {
          "output_type": "stream",
          "name": "stdout",
          "text": [
            "CALLING API:  https://covidmap.umd.edu/api/resources?indicator=mask&type=daily&country=Japan&daterange=20210701-20210701\n"
          ]
        },
        {
          "output_type": "stream",
          "name": "stderr",
          "text": [
            "INFO: [pid 1310] Worker Worker(salt=022105753, workers=5, host=4b9918451cd2, username=root, pid=61) done      DownloadAPIReport(indicator=mask, country=Algeria, date=2021-07-01)\n",
            "INFO:luigi-interface:[pid 1310] Worker Worker(salt=022105753, workers=5, host=4b9918451cd2, username=root, pid=61) done      DownloadAPIReport(indicator=mask, country=Algeria, date=2021-07-01)\n",
            "INFO: [pid 1296] Worker Worker(salt=022105753, workers=5, host=4b9918451cd2, username=root, pid=61) done      DownloadAPIReport(indicator=mask, country=Spain, date=2021-07-01)\n",
            "INFO:luigi-interface:[pid 1296] Worker Worker(salt=022105753, workers=5, host=4b9918451cd2, username=root, pid=61) done      DownloadAPIReport(indicator=mask, country=Spain, date=2021-07-01)\n",
            "INFO: Informed scheduler that task   DownloadAPIReport_Algeria_2021_07_01_mask_42d9d8b29c   has status   DONE\n",
            "INFO:luigi-interface:Informed scheduler that task   DownloadAPIReport_Algeria_2021_07_01_mask_42d9d8b29c   has status   DONE\n",
            "DEBUG: Asking scheduler for work...\n",
            "DEBUG:luigi-interface:Asking scheduler for work...\n",
            "DEBUG: Pending tasks: 27\n",
            "DEBUG:luigi-interface:Pending tasks: 27\n",
            "DEBUG: 5 running tasks, waiting for next task to finish\n",
            "DEBUG:luigi-interface:5 running tasks, waiting for next task to finish\n",
            "INFO: Informed scheduler that task   DownloadAPIReport_Spain_2021_07_01_mask_18ecada74f   has status   DONE\n",
            "INFO:luigi-interface:Informed scheduler that task   DownloadAPIReport_Spain_2021_07_01_mask_18ecada74f   has status   DONE\n",
            "DEBUG: Asking scheduler for work...\n",
            "DEBUG:luigi-interface:Asking scheduler for work...\n",
            "INFO: [pid 1410] Worker Worker(salt=022105753, workers=5, host=4b9918451cd2, username=root, pid=61) running   LoadReportIntoDB(test_prefix=, indicator=mask, country=Algeria, date=2021-07-01)\n",
            "DEBUG: Pending tasks: 26\n",
            "INFO:luigi-interface:[pid 1410] Worker Worker(salt=022105753, workers=5, host=4b9918451cd2, username=root, pid=61) running   LoadReportIntoDB(test_prefix=, indicator=mask, country=Algeria, date=2021-07-01)\n",
            "DEBUG:luigi-interface:Pending tasks: 26\n",
            "DEBUG: 5 running tasks, waiting for next task to finish\n"
          ]
        },
        {
          "output_type": "stream",
          "name": "stdout",
          "text": [
            "DELETE FROM rpl_covid_survey_mask WHERE country='Algeria' AND survey_date = 20210701\n"
          ]
        },
        {
          "output_type": "stream",
          "name": "stderr",
          "text": [
            "DEBUG:luigi-interface:5 running tasks, waiting for next task to finish\n",
            "INFO: [pid 1417] Worker Worker(salt=022105753, workers=5, host=4b9918451cd2, username=root, pid=61) running   LoadReportIntoDB(test_prefix=, indicator=mask, country=Spain, date=2021-07-01)\n"
          ]
        },
        {
          "output_type": "stream",
          "name": "stdout",
          "text": [
            "\n",
            "\n",
            "\n",
            "\n",
            "-----------------------\n",
            "File loading: STARTED\n",
            "-----------------------\n"
          ]
        },
        {
          "output_type": "stream",
          "name": "stderr",
          "text": [
            "INFO:luigi-interface:[pid 1417] Worker Worker(salt=022105753, workers=5, host=4b9918451cd2, username=root, pid=61) running   LoadReportIntoDB(test_prefix=, indicator=mask, country=Spain, date=2021-07-01)\n"
          ]
        },
        {
          "output_type": "stream",
          "name": "stdout",
          "text": [
            "DELETE FROM rpl_covid_survey_mask WHERE country='Spain' AND survey_date = 20210701\n",
            "INSERT INTO rpl_covid_survey_mask (percent_mc, mc_se, percent_mc_unw, mc_se_unw, sample_size, country, iso_code, gid_0, survey_date) VALUES(?, ?, ?, ?, ?, ?, ?, ?, ?)\n",
            "-----------------------\n",
            "File loading: FINISHED\n",
            "-----------------------\n",
            "\n",
            "\n",
            "\n"
          ]
        },
        {
          "output_type": "stream",
          "name": "stderr",
          "text": [
            "INFO: [pid 1410] Worker Worker(salt=022105753, workers=5, host=4b9918451cd2, username=root, pid=61) done      LoadReportIntoDB(test_prefix=, indicator=mask, country=Algeria, date=2021-07-01)\n",
            "INFO:luigi-interface:[pid 1410] Worker Worker(salt=022105753, workers=5, host=4b9918451cd2, username=root, pid=61) done      LoadReportIntoDB(test_prefix=, indicator=mask, country=Algeria, date=2021-07-01)\n",
            "INFO: Informed scheduler that task   LoadReportIntoDB_Algeria_2021_07_01_mask_ce107bffb8   has status   DONE\n",
            "INFO:luigi-interface:Informed scheduler that task   LoadReportIntoDB_Algeria_2021_07_01_mask_ce107bffb8   has status   DONE\n"
          ]
        },
        {
          "output_type": "stream",
          "name": "stdout",
          "text": [
            "\n",
            "-----------------------\n",
            "File loading: STARTED\n",
            "-----------------------\n"
          ]
        },
        {
          "output_type": "stream",
          "name": "stderr",
          "text": [
            "DEBUG: Asking scheduler for work...\n",
            "DEBUG:luigi-interface:Asking scheduler for work...\n"
          ]
        },
        {
          "output_type": "stream",
          "name": "stdout",
          "text": [
            "\n",
            "INSERT INTO rpl_covid_survey_mask (percent_mc, mc_se, percent_mc_unw, mc_se_unw, sample_size, country, iso_code, gid_0, survey_date) VALUES(?, ?, ?, ?, ?, ?, ?, ?, ?)\n"
          ]
        },
        {
          "output_type": "stream",
          "name": "stderr",
          "text": [
            "DEBUG: Pending tasks: 25\n",
            "DEBUG:luigi-interface:Pending tasks: 25\n",
            "DEBUG: 5 running tasks, waiting for next task to finish\n",
            "DEBUG:luigi-interface:5 running tasks, waiting for next task to finish\n",
            "INFO: [pid 1453] Worker Worker(salt=022105753, workers=5, host=4b9918451cd2, username=root, pid=61) running   DownloadAPIReport(indicator=covid, country=South Africa, date=2021-07-01)\n"
          ]
        },
        {
          "output_type": "stream",
          "name": "stdout",
          "text": [
            "-----------------------\n",
            "File loading: FINISHED\n",
            "-----------------------\n",
            "\n"
          ]
        },
        {
          "output_type": "stream",
          "name": "stderr",
          "text": [
            "INFO:luigi-interface:[pid 1453] Worker Worker(salt=022105753, workers=5, host=4b9918451cd2, username=root, pid=61) running   DownloadAPIReport(indicator=covid, country=South Africa, date=2021-07-01)\n"
          ]
        },
        {
          "output_type": "stream",
          "name": "stdout",
          "text": [
            "CALLING API:  https://covidmap.umd.edu/api/resources?indicator=covid&type=daily&country=South Africa&daterange=20210701-20210701\n"
          ]
        },
        {
          "output_type": "stream",
          "name": "stderr",
          "text": [
            "INFO: [pid 1417] Worker Worker(salt=022105753, workers=5, host=4b9918451cd2, username=root, pid=61) done      LoadReportIntoDB(test_prefix=, indicator=mask, country=Spain, date=2021-07-01)\n",
            "INFO: Informed scheduler that task   LoadReportIntoDB_Spain_2021_07_01_mask_bd42673511   has status   DONE\n",
            "INFO:luigi-interface:Informed scheduler that task   LoadReportIntoDB_Spain_2021_07_01_mask_bd42673511   has status   DONE\n",
            "DEBUG: Asking scheduler for work...\n",
            "DEBUG:luigi-interface:Asking scheduler for work...\n",
            "INFO:luigi-interface:[pid 1417] Worker Worker(salt=022105753, workers=5, host=4b9918451cd2, username=root, pid=61) done      LoadReportIntoDB(test_prefix=, indicator=mask, country=Spain, date=2021-07-01)\n",
            "DEBUG: Pending tasks: 24\n",
            "DEBUG:luigi-interface:Pending tasks: 24\n",
            "DEBUG: 5 running tasks, waiting for next task to finish\n",
            "DEBUG:luigi-interface:5 running tasks, waiting for next task to finish\n",
            "INFO: [pid 1469] Worker Worker(salt=022105753, workers=5, host=4b9918451cd2, username=root, pid=61) running   CreateTable(test_prefix=, indicator=covid)\n",
            "INFO:luigi-interface:[pid 1469] Worker Worker(salt=022105753, workers=5, host=4b9918451cd2, username=root, pid=61) running   CreateTable(test_prefix=, indicator=covid)\n"
          ]
        },
        {
          "output_type": "stream",
          "name": "stdout",
          "text": [
            "\n",
            "        CREATE TABLE IF NOT EXISTS rpl_covid_survey_covid(\n",
            "            pct_covid float,\n",
            "covid_se float,\n",
            "pct_covid_unw float,\n",
            "covid_se_unw float,\n",
            "sample_size NUMERIC,\n",
            "country text,\n",
            "iso_code text,\n",
            "gid_0 text,\n",
            "survey_date NUMERIC\n",
            "        );\n",
            "    \n",
            "\n",
            "\n",
            "\n"
          ]
        },
        {
          "output_type": "stream",
          "name": "stderr",
          "text": [
            "INFO: [pid 1469] Worker Worker(salt=022105753, workers=5, host=4b9918451cd2, username=root, pid=61) done      CreateTable(test_prefix=, indicator=covid)\n",
            "INFO:luigi-interface:[pid 1469] Worker Worker(salt=022105753, workers=5, host=4b9918451cd2, username=root, pid=61) done      CreateTable(test_prefix=, indicator=covid)\n",
            "INFO: Informed scheduler that task   CreateTable_covid__f5c38098ab   has status   DONE\n",
            "INFO: [pid 1317] Worker Worker(salt=022105753, workers=5, host=4b9918451cd2, username=root, pid=61) done      DownloadAPIReport(indicator=mask, country=Kenya, date=2021-07-01)\n",
            "INFO:luigi-interface:Informed scheduler that task   CreateTable_covid__f5c38098ab   has status   DONE\n",
            "DEBUG: Asking scheduler for work...\n",
            "DEBUG:luigi-interface:Asking scheduler for work...\n",
            "DEBUG: Pending tasks: 23\n",
            "DEBUG:luigi-interface:Pending tasks: 23\n",
            "INFO:luigi-interface:[pid 1317] Worker Worker(salt=022105753, workers=5, host=4b9918451cd2, username=root, pid=61) done      DownloadAPIReport(indicator=mask, country=Kenya, date=2021-07-01)\n",
            "DEBUG: 5 running tasks, waiting for next task to finish\n",
            "DEBUG:luigi-interface:5 running tasks, waiting for next task to finish\n",
            "INFO: [pid 1491] Worker Worker(salt=022105753, workers=5, host=4b9918451cd2, username=root, pid=61) running   DownloadAPIReport(indicator=covid, country=Poland, date=2021-07-01)\n",
            "INFO: Informed scheduler that task   DownloadAPIReport_Kenya_2021_07_01_mask_f4b3554b65   has status   DONE\n",
            "INFO:luigi-interface:Informed scheduler that task   DownloadAPIReport_Kenya_2021_07_01_mask_f4b3554b65   has status   DONE\n",
            "DEBUG: Asking scheduler for work...\n",
            "DEBUG:luigi-interface:Asking scheduler for work...\n",
            "INFO:luigi-interface:[pid 1491] Worker Worker(salt=022105753, workers=5, host=4b9918451cd2, username=root, pid=61) running   DownloadAPIReport(indicator=covid, country=Poland, date=2021-07-01)\n",
            "DEBUG: Pending tasks: 22\n",
            "DEBUG:luigi-interface:Pending tasks: 22\n",
            "DEBUG: 5 running tasks, waiting for next task to finish\n",
            "DEBUG:luigi-interface:5 running tasks, waiting for next task to finish\n"
          ]
        },
        {
          "output_type": "stream",
          "name": "stdout",
          "text": [
            "CALLING API:  https://covidmap.umd.edu/api/resources?indicator=covid&type=daily&country=Poland&daterange=20210701-20210701\n"
          ]
        },
        {
          "output_type": "stream",
          "name": "stderr",
          "text": [
            "INFO: [pid 1499] Worker Worker(salt=022105753, workers=5, host=4b9918451cd2, username=root, pid=61) running   LoadReportIntoDB(test_prefix=, indicator=mask, country=Kenya, date=2021-07-01)\n",
            "INFO:luigi-interface:[pid 1499] Worker Worker(salt=022105753, workers=5, host=4b9918451cd2, username=root, pid=61) running   LoadReportIntoDB(test_prefix=, indicator=mask, country=Kenya, date=2021-07-01)\n"
          ]
        },
        {
          "output_type": "stream",
          "name": "stdout",
          "text": [
            "DELETE FROM rpl_covid_survey_mask WHERE country='Kenya' AND survey_date = 20210701\n",
            "-----------------------\n",
            "File loading: STARTED\n",
            "-----------------------\n",
            "\n",
            "\n",
            "\n",
            "\n",
            "INSERT INTO rpl_covid_survey_mask (percent_mc, mc_se, percent_mc_unw, mc_se_unw, sample_size, country, iso_code, gid_0, survey_date) VALUES(?, ?, ?, ?, ?, ?, ?, ?, ?)\n",
            "-----------------------\n",
            "File loading: FINISHED\n",
            "-----------------------\n",
            "\n"
          ]
        },
        {
          "output_type": "stream",
          "name": "stderr",
          "text": [
            "INFO: [pid 1499] Worker Worker(salt=022105753, workers=5, host=4b9918451cd2, username=root, pid=61) done      LoadReportIntoDB(test_prefix=, indicator=mask, country=Kenya, date=2021-07-01)\n",
            "INFO:luigi-interface:[pid 1499] Worker Worker(salt=022105753, workers=5, host=4b9918451cd2, username=root, pid=61) done      LoadReportIntoDB(test_prefix=, indicator=mask, country=Kenya, date=2021-07-01)\n",
            "INFO: Informed scheduler that task   LoadReportIntoDB_Kenya_2021_07_01_mask_7ba1d5792c   has status   DONE\n",
            "INFO:luigi-interface:Informed scheduler that task   LoadReportIntoDB_Kenya_2021_07_01_mask_7ba1d5792c   has status   DONE\n",
            "DEBUG: Asking scheduler for work...\n",
            "DEBUG:luigi-interface:Asking scheduler for work...\n",
            "DEBUG: Pending tasks: 21\n",
            "DEBUG:luigi-interface:Pending tasks: 21\n",
            "DEBUG: 5 running tasks, waiting for next task to finish\n",
            "DEBUG:luigi-interface:5 running tasks, waiting for next task to finish\n",
            "INFO: [pid 1525] Worker Worker(salt=022105753, workers=5, host=4b9918451cd2, username=root, pid=61) running   DownloadAPIReport(indicator=covid, country=Argentina, date=2021-07-01)\n",
            "INFO:luigi-interface:[pid 1525] Worker Worker(salt=022105753, workers=5, host=4b9918451cd2, username=root, pid=61) running   DownloadAPIReport(indicator=covid, country=Argentina, date=2021-07-01)\n"
          ]
        },
        {
          "output_type": "stream",
          "name": "stdout",
          "text": [
            "CALLING API:  https://covidmap.umd.edu/api/resources?indicator=covid&type=daily&country=Argentina&daterange=20210701-20210701\n"
          ]
        },
        {
          "output_type": "stream",
          "name": "stderr",
          "text": [
            "INFO: [pid 1373] Worker Worker(salt=022105753, workers=5, host=4b9918451cd2, username=root, pid=61) done      DownloadAPIReport(indicator=mask, country=Switzerland, date=2021-07-01)\n",
            "INFO: [pid 1393] Worker Worker(salt=022105753, workers=5, host=4b9918451cd2, username=root, pid=61) done      DownloadAPIReport(indicator=mask, country=Japan, date=2021-07-01)\n",
            "INFO:luigi-interface:[pid 1373] Worker Worker(salt=022105753, workers=5, host=4b9918451cd2, username=root, pid=61) done      DownloadAPIReport(indicator=mask, country=Switzerland, date=2021-07-01)\n",
            "INFO:luigi-interface:[pid 1393] Worker Worker(salt=022105753, workers=5, host=4b9918451cd2, username=root, pid=61) done      DownloadAPIReport(indicator=mask, country=Japan, date=2021-07-01)\n",
            "INFO: Informed scheduler that task   DownloadAPIReport_Japan_2021_07_01_mask_c0a5cc55e4   has status   DONE\n",
            "INFO:luigi-interface:Informed scheduler that task   DownloadAPIReport_Japan_2021_07_01_mask_c0a5cc55e4   has status   DONE\n",
            "DEBUG: Asking scheduler for work...\n",
            "DEBUG:luigi-interface:Asking scheduler for work...\n",
            "DEBUG: Pending tasks: 20\n",
            "DEBUG:luigi-interface:Pending tasks: 20\n",
            "DEBUG: 5 running tasks, waiting for next task to finish\n",
            "DEBUG:luigi-interface:5 running tasks, waiting for next task to finish\n",
            "INFO: Informed scheduler that task   DownloadAPIReport_Switzerland_2021_07_01_mask_8fb84c42c3   has status   DONE\n",
            "INFO:luigi-interface:Informed scheduler that task   DownloadAPIReport_Switzerland_2021_07_01_mask_8fb84c42c3   has status   DONE\n",
            "DEBUG: Asking scheduler for work...\n",
            "DEBUG:luigi-interface:Asking scheduler for work...\n",
            "DEBUG: Pending tasks: 19\n",
            "DEBUG:luigi-interface:Pending tasks: 19\n",
            "DEBUG: 5 running tasks, waiting for next task to finish\n",
            "DEBUG:luigi-interface:5 running tasks, waiting for next task to finish\n",
            "INFO: [pid 1542] Worker Worker(salt=022105753, workers=5, host=4b9918451cd2, username=root, pid=61) running   LoadReportIntoDB(test_prefix=, indicator=mask, country=Japan, date=2021-07-01)\n",
            "INFO: Informed scheduler that task   DownloadAPIReport_South_Africa_2021_07_01_covid_9fc2e2db9e   has status   DONE\n",
            "INFO: [pid 1453] Worker Worker(salt=022105753, workers=5, host=4b9918451cd2, username=root, pid=61) done      DownloadAPIReport(indicator=covid, country=South Africa, date=2021-07-01)\n",
            "INFO: [pid 1525] Worker Worker(salt=022105753, workers=5, host=4b9918451cd2, username=root, pid=61) done      DownloadAPIReport(indicator=covid, country=Argentina, date=2021-07-01)\n",
            "INFO:luigi-interface:[pid 1542] Worker Worker(salt=022105753, workers=5, host=4b9918451cd2, username=root, pid=61) running   LoadReportIntoDB(test_prefix=, indicator=mask, country=Japan, date=2021-07-01)\n",
            "INFO:luigi-interface:[pid 1453] Worker Worker(salt=022105753, workers=5, host=4b9918451cd2, username=root, pid=61) done      DownloadAPIReport(indicator=covid, country=South Africa, date=2021-07-01)\n",
            "INFO:luigi-interface:[pid 1525] Worker Worker(salt=022105753, workers=5, host=4b9918451cd2, username=root, pid=61) done      DownloadAPIReport(indicator=covid, country=Argentina, date=2021-07-01)\n"
          ]
        },
        {
          "output_type": "stream",
          "name": "stdout",
          "text": [
            "DELETE FROM rpl_covid_survey_mask WHERE country='Japan' AND survey_date = 20210701\n"
          ]
        },
        {
          "output_type": "stream",
          "name": "stderr",
          "text": [
            "INFO: [pid 1491] Worker Worker(salt=022105753, workers=5, host=4b9918451cd2, username=root, pid=61) done      DownloadAPIReport(indicator=covid, country=Poland, date=2021-07-01)\n",
            "INFO:luigi-interface:Informed scheduler that task   DownloadAPIReport_South_Africa_2021_07_01_covid_9fc2e2db9e   has status   DONE\n"
          ]
        },
        {
          "output_type": "stream",
          "name": "stdout",
          "text": [
            "\n",
            "\n"
          ]
        },
        {
          "output_type": "stream",
          "name": "stderr",
          "text": [
            "INFO:luigi-interface:[pid 1491] Worker Worker(salt=022105753, workers=5, host=4b9918451cd2, username=root, pid=61) done      DownloadAPIReport(indicator=covid, country=Poland, date=2021-07-01)\n"
          ]
        },
        {
          "output_type": "stream",
          "name": "stdout",
          "text": [
            "\n"
          ]
        },
        {
          "output_type": "stream",
          "name": "stderr",
          "text": [
            "INFO: [pid 1547] Worker Worker(salt=022105753, workers=5, host=4b9918451cd2, username=root, pid=61) running   LoadReportIntoDB(test_prefix=, indicator=mask, country=Switzerland, date=2021-07-01)\n"
          ]
        },
        {
          "output_type": "stream",
          "name": "stdout",
          "text": [
            "-----------------------\n",
            "File loading: STARTED\n",
            "-----------------------\n",
            "\n"
          ]
        },
        {
          "output_type": "stream",
          "name": "stderr",
          "text": [
            "DEBUG: Asking scheduler for work...\n"
          ]
        },
        {
          "output_type": "stream",
          "name": "stdout",
          "text": [
            "INSERT INTO rpl_covid_survey_mask (percent_mc, mc_se, percent_mc_unw, mc_se_unw, sample_size, country, iso_code, gid_0, survey_date) VALUES(?, ?, ?, ?, ?, ?, ?, ?, ?)\n"
          ]
        },
        {
          "output_type": "stream",
          "name": "stderr",
          "text": [
            "INFO:luigi-interface:[pid 1547] Worker Worker(salt=022105753, workers=5, host=4b9918451cd2, username=root, pid=61) running   LoadReportIntoDB(test_prefix=, indicator=mask, country=Switzerland, date=2021-07-01)\n",
            "DEBUG:luigi-interface:Asking scheduler for work...\n"
          ]
        },
        {
          "output_type": "stream",
          "name": "stdout",
          "text": [
            "DELETE FROM rpl_covid_survey_mask WHERE country='Switzerland' AND survey_date = 20210701\n"
          ]
        },
        {
          "output_type": "stream",
          "name": "stderr",
          "text": [
            "DEBUG: Pending tasks: 18\n",
            "DEBUG:luigi-interface:Pending tasks: 18\n",
            "DEBUG: 5 running tasks, waiting for next task to finish\n"
          ]
        },
        {
          "output_type": "stream",
          "name": "stdout",
          "text": [
            "-----------------------\n",
            "File loading: FINISHED\n",
            "-----------------------\n"
          ]
        },
        {
          "output_type": "stream",
          "name": "stderr",
          "text": [
            "DEBUG:luigi-interface:5 running tasks, waiting for next task to finish\n"
          ]
        },
        {
          "output_type": "stream",
          "name": "stdout",
          "text": [
            "\n",
            "\n",
            "\n"
          ]
        },
        {
          "output_type": "stream",
          "name": "stderr",
          "text": [
            "INFO: Informed scheduler that task   DownloadAPIReport_Argentina_2021_07_01_covid_27033ec65f   has status   DONE\n",
            "INFO: [pid 1542] Worker Worker(salt=022105753, workers=5, host=4b9918451cd2, username=root, pid=61) done      LoadReportIntoDB(test_prefix=, indicator=mask, country=Japan, date=2021-07-01)\n",
            "INFO:luigi-interface:Informed scheduler that task   DownloadAPIReport_Argentina_2021_07_01_covid_27033ec65f   has status   DONE\n"
          ]
        },
        {
          "output_type": "stream",
          "name": "stdout",
          "text": [
            "\n"
          ]
        },
        {
          "output_type": "stream",
          "name": "stderr",
          "text": [
            "DEBUG: Asking scheduler for work...\n",
            "INFO:luigi-interface:[pid 1542] Worker Worker(salt=022105753, workers=5, host=4b9918451cd2, username=root, pid=61) done      LoadReportIntoDB(test_prefix=, indicator=mask, country=Japan, date=2021-07-01)\n",
            "DEBUG:luigi-interface:Asking scheduler for work...\n"
          ]
        },
        {
          "output_type": "stream",
          "name": "stdout",
          "text": [
            "-----------------------\n",
            "File loading: STARTED\n",
            "-----------------------\n"
          ]
        },
        {
          "output_type": "stream",
          "name": "stderr",
          "text": [
            "DEBUG: Pending tasks: 17\n"
          ]
        },
        {
          "output_type": "stream",
          "name": "stdout",
          "text": [
            "\n"
          ]
        },
        {
          "output_type": "stream",
          "name": "stderr",
          "text": [
            "DEBUG:luigi-interface:Pending tasks: 17\n",
            "INFO: [pid 1581] Worker Worker(salt=022105753, workers=5, host=4b9918451cd2, username=root, pid=61) running   LoadReportIntoDB(test_prefix=, indicator=covid, country=South Africa, date=2021-07-01)\n"
          ]
        },
        {
          "output_type": "stream",
          "name": "stdout",
          "text": [
            "INSERT INTO rpl_covid_survey_mask (percent_mc, mc_se, percent_mc_unw, mc_se_unw, sample_size, country, iso_code, gid_0, survey_date) VALUES(?, ?, ?, ?, ?, ?, ?, ?, ?)\n"
          ]
        },
        {
          "output_type": "stream",
          "name": "stderr",
          "text": [
            "INFO:luigi-interface:[pid 1581] Worker Worker(salt=022105753, workers=5, host=4b9918451cd2, username=root, pid=61) running   LoadReportIntoDB(test_prefix=, indicator=covid, country=South Africa, date=2021-07-01)\n",
            "DEBUG: 5 running tasks, waiting for next task to finish\n"
          ]
        },
        {
          "output_type": "stream",
          "name": "stdout",
          "text": [
            "DELETE FROM rpl_covid_survey_covid WHERE country='South Africa' AND survey_date = 20210701\n"
          ]
        },
        {
          "output_type": "stream",
          "name": "stderr",
          "text": [
            "DEBUG:luigi-interface:5 running tasks, waiting for next task to finish\n"
          ]
        },
        {
          "output_type": "stream",
          "name": "stdout",
          "text": [
            "-----------------------\n",
            "File loading: FINISHED\n",
            "-----------------------\n"
          ]
        },
        {
          "output_type": "stream",
          "name": "stderr",
          "text": [
            "INFO: Informed scheduler that task   DownloadAPIReport_Poland_2021_07_01_covid_8fbb2dfbd4   has status   DONE\n"
          ]
        },
        {
          "output_type": "stream",
          "name": "stdout",
          "text": [
            "\n"
          ]
        },
        {
          "output_type": "stream",
          "name": "stderr",
          "text": [
            "INFO:luigi-interface:Informed scheduler that task   DownloadAPIReport_Poland_2021_07_01_covid_8fbb2dfbd4   has status   DONE\n",
            "INFO: [pid 1547] Worker Worker(salt=022105753, workers=5, host=4b9918451cd2, username=root, pid=61) done      LoadReportIntoDB(test_prefix=, indicator=mask, country=Switzerland, date=2021-07-01)\n",
            "DEBUG: Asking scheduler for work...\n"
          ]
        },
        {
          "output_type": "stream",
          "name": "stdout",
          "text": [
            "\n",
            "\n"
          ]
        },
        {
          "output_type": "stream",
          "name": "stderr",
          "text": [
            "INFO:luigi-interface:[pid 1547] Worker Worker(salt=022105753, workers=5, host=4b9918451cd2, username=root, pid=61) done      LoadReportIntoDB(test_prefix=, indicator=mask, country=Switzerland, date=2021-07-01)\n",
            "DEBUG:luigi-interface:Asking scheduler for work...\n"
          ]
        },
        {
          "output_type": "stream",
          "name": "stdout",
          "text": [
            "\n"
          ]
        },
        {
          "output_type": "stream",
          "name": "stderr",
          "text": [
            "INFO: [pid 1611] Worker Worker(salt=022105753, workers=5, host=4b9918451cd2, username=root, pid=61) running   LoadReportIntoDB(test_prefix=, indicator=covid, country=Argentina, date=2021-07-01)\n",
            "DEBUG: Pending tasks: 16\n"
          ]
        },
        {
          "output_type": "stream",
          "name": "stdout",
          "text": [
            "-----------------------\n",
            "File loading: STARTED\n",
            "-----------------------\n",
            "\n"
          ]
        },
        {
          "output_type": "stream",
          "name": "stderr",
          "text": [
            "DEBUG:luigi-interface:Pending tasks: 16\n",
            "INFO:luigi-interface:[pid 1611] Worker Worker(salt=022105753, workers=5, host=4b9918451cd2, username=root, pid=61) running   LoadReportIntoDB(test_prefix=, indicator=covid, country=Argentina, date=2021-07-01)\n"
          ]
        },
        {
          "output_type": "stream",
          "name": "stdout",
          "text": [
            "INSERT INTO rpl_covid_survey_covid (pct_covid, covid_se, pct_covid_unw, covid_se_unw, sample_size, country, iso_code, gid_0, survey_date) VALUES(?, ?, ?, ?, ?, ?, ?, ?, ?)\n"
          ]
        },
        {
          "output_type": "stream",
          "name": "stderr",
          "text": [
            "DEBUG: 5 running tasks, waiting for next task to finish\n"
          ]
        },
        {
          "output_type": "stream",
          "name": "stdout",
          "text": [
            "-----------------------\n",
            "File loading: FINISHED\n",
            "-----------------------\n"
          ]
        },
        {
          "output_type": "stream",
          "name": "stderr",
          "text": [
            "DEBUG:luigi-interface:5 running tasks, waiting for next task to finish\n"
          ]
        },
        {
          "output_type": "stream",
          "name": "stdout",
          "text": [
            "\n"
          ]
        },
        {
          "output_type": "stream",
          "name": "stderr",
          "text": [
            "INFO: Informed scheduler that task   LoadReportIntoDB_Japan_2021_07_01_mask_086fa626a2   has status   DONE\n"
          ]
        },
        {
          "output_type": "stream",
          "name": "stdout",
          "text": [
            "DELETE FROM rpl_covid_survey_covid WHERE country='Argentina' AND survey_date = 20210701\n"
          ]
        },
        {
          "output_type": "stream",
          "name": "stderr",
          "text": [
            "INFO:luigi-interface:Informed scheduler that task   LoadReportIntoDB_Japan_2021_07_01_mask_086fa626a2   has status   DONE\n",
            "INFO: [pid 1581] Worker Worker(salt=022105753, workers=5, host=4b9918451cd2, username=root, pid=61) done      LoadReportIntoDB(test_prefix=, indicator=covid, country=South Africa, date=2021-07-01)\n",
            "DEBUG: Asking scheduler for work...\n"
          ]
        },
        {
          "output_type": "stream",
          "name": "stdout",
          "text": [
            "\n",
            "\n"
          ]
        },
        {
          "output_type": "stream",
          "name": "stderr",
          "text": [
            "DEBUG:luigi-interface:Asking scheduler for work...\n",
            "INFO: [pid 1635] Worker Worker(salt=022105753, workers=5, host=4b9918451cd2, username=root, pid=61) running   LoadReportIntoDB(test_prefix=, indicator=covid, country=Poland, date=2021-07-01)\n",
            "DEBUG: Pending tasks: 15\n"
          ]
        },
        {
          "output_type": "stream",
          "name": "stdout",
          "text": [
            "\n"
          ]
        },
        {
          "output_type": "stream",
          "name": "stderr",
          "text": [
            "DEBUG:luigi-interface:Pending tasks: 15\n"
          ]
        },
        {
          "output_type": "stream",
          "name": "stdout",
          "text": [
            "-----------------------\n",
            "File loading: STARTED\n",
            "-----------------------\n"
          ]
        },
        {
          "output_type": "stream",
          "name": "stderr",
          "text": [
            "INFO:luigi-interface:[pid 1581] Worker Worker(salt=022105753, workers=5, host=4b9918451cd2, username=root, pid=61) done      LoadReportIntoDB(test_prefix=, indicator=covid, country=South Africa, date=2021-07-01)\n"
          ]
        },
        {
          "output_type": "stream",
          "name": "stdout",
          "text": [
            "\n"
          ]
        },
        {
          "output_type": "stream",
          "name": "stderr",
          "text": [
            "DEBUG: 5 running tasks, waiting for next task to finish\n"
          ]
        },
        {
          "output_type": "stream",
          "name": "stdout",
          "text": [
            "INSERT INTO rpl_covid_survey_covid (pct_covid, covid_se, pct_covid_unw, covid_se_unw, sample_size, country, iso_code, gid_0, survey_date) VALUES(?, ?, ?, ?, ?, ?, ?, ?, ?)\n"
          ]
        },
        {
          "output_type": "stream",
          "name": "stderr",
          "text": [
            "INFO:luigi-interface:[pid 1635] Worker Worker(salt=022105753, workers=5, host=4b9918451cd2, username=root, pid=61) running   LoadReportIntoDB(test_prefix=, indicator=covid, country=Poland, date=2021-07-01)\n"
          ]
        },
        {
          "output_type": "stream",
          "name": "stdout",
          "text": [
            "DELETE FROM rpl_covid_survey_covid WHERE country='Poland' AND survey_date = 20210701\n",
            "-----------------------\n",
            "File loading: FINISHED\n",
            "-----------------------\n",
            "\n",
            "\n",
            "\n"
          ]
        },
        {
          "output_type": "stream",
          "name": "stderr",
          "text": [
            "DEBUG:luigi-interface:5 running tasks, waiting for next task to finish\n",
            "INFO: [pid 1659] Worker Worker(salt=022105753, workers=5, host=4b9918451cd2, username=root, pid=61) running   DownloadAPIReport(indicator=covid, country=Spain, date=2021-07-01)\n",
            "INFO: [pid 1611] Worker Worker(salt=022105753, workers=5, host=4b9918451cd2, username=root, pid=61) done      LoadReportIntoDB(test_prefix=, indicator=covid, country=Argentina, date=2021-07-01)\n",
            "INFO: Informed scheduler that task   LoadReportIntoDB_Switzerland_2021_07_01_mask_88620b9895   has status   DONE\n",
            "INFO:luigi-interface:[pid 1659] Worker Worker(salt=022105753, workers=5, host=4b9918451cd2, username=root, pid=61) running   DownloadAPIReport(indicator=covid, country=Spain, date=2021-07-01)\n",
            "INFO:luigi-interface:Informed scheduler that task   LoadReportIntoDB_Switzerland_2021_07_01_mask_88620b9895   has status   DONE\n"
          ]
        },
        {
          "output_type": "stream",
          "name": "stdout",
          "text": [
            "CALLING API:  https://covidmap.umd.edu/api/resources?indicator=covid&type=daily&country=Spain&daterange=20210701-20210701\n",
            "\n"
          ]
        },
        {
          "output_type": "stream",
          "name": "stderr",
          "text": [
            "DEBUG: Asking scheduler for work...\n"
          ]
        },
        {
          "output_type": "stream",
          "name": "stdout",
          "text": [
            "-----------------------\n",
            "File loading: STARTED\n",
            "-----------------------\n"
          ]
        },
        {
          "output_type": "stream",
          "name": "stderr",
          "text": [
            "INFO:luigi-interface:[pid 1611] Worker Worker(salt=022105753, workers=5, host=4b9918451cd2, username=root, pid=61) done      LoadReportIntoDB(test_prefix=, indicator=covid, country=Argentina, date=2021-07-01)\n",
            "DEBUG:luigi-interface:Asking scheduler for work...\n"
          ]
        },
        {
          "output_type": "stream",
          "name": "stdout",
          "text": [
            "\n",
            "INSERT INTO rpl_covid_survey_covid (pct_covid, covid_se, pct_covid_unw, covid_se_unw, sample_size, country, iso_code, gid_0, survey_date) VALUES(?, ?, ?, ?, ?, ?, ?, ?, ?)\n"
          ]
        },
        {
          "output_type": "stream",
          "name": "stderr",
          "text": [
            "DEBUG: Pending tasks: 14\n",
            "DEBUG:luigi-interface:Pending tasks: 14\n",
            "DEBUG: 5 running tasks, waiting for next task to finish\n"
          ]
        },
        {
          "output_type": "stream",
          "name": "stdout",
          "text": [
            "-----------------------\n",
            "File loading: FINISHED\n",
            "-----------------------\n"
          ]
        },
        {
          "output_type": "stream",
          "name": "stderr",
          "text": [
            "DEBUG:luigi-interface:5 running tasks, waiting for next task to finish\n"
          ]
        },
        {
          "output_type": "stream",
          "name": "stdout",
          "text": [
            "\n"
          ]
        },
        {
          "output_type": "stream",
          "name": "stderr",
          "text": [
            "INFO: Informed scheduler that task   LoadReportIntoDB_South_Africa_2021_07_01_covid_e364bc9c3b   has status   DONE\n",
            "INFO: [pid 1635] Worker Worker(salt=022105753, workers=5, host=4b9918451cd2, username=root, pid=61) done      LoadReportIntoDB(test_prefix=, indicator=covid, country=Poland, date=2021-07-01)\n",
            "INFO: [pid 1685] Worker Worker(salt=022105753, workers=5, host=4b9918451cd2, username=root, pid=61) running   DownloadAPIReport(indicator=covid, country=Algeria, date=2021-07-01)\n",
            "INFO:luigi-interface:[pid 1635] Worker Worker(salt=022105753, workers=5, host=4b9918451cd2, username=root, pid=61) done      LoadReportIntoDB(test_prefix=, indicator=covid, country=Poland, date=2021-07-01)\n",
            "INFO:luigi-interface:Informed scheduler that task   LoadReportIntoDB_South_Africa_2021_07_01_covid_e364bc9c3b   has status   DONE\n",
            "INFO:luigi-interface:[pid 1685] Worker Worker(salt=022105753, workers=5, host=4b9918451cd2, username=root, pid=61) running   DownloadAPIReport(indicator=covid, country=Algeria, date=2021-07-01)\n",
            "DEBUG: Asking scheduler for work...\n"
          ]
        },
        {
          "output_type": "stream",
          "name": "stdout",
          "text": [
            "CALLING API:  https://covidmap.umd.edu/api/resources?indicator=covid&type=daily&country=Algeria&daterange=20210701-20210701\n"
          ]
        },
        {
          "output_type": "stream",
          "name": "stderr",
          "text": [
            "DEBUG:luigi-interface:Asking scheduler for work...\n",
            "DEBUG: Pending tasks: 13\n",
            "DEBUG:luigi-interface:Pending tasks: 13\n",
            "DEBUG: 5 running tasks, waiting for next task to finish\n",
            "DEBUG:luigi-interface:5 running tasks, waiting for next task to finish\n",
            "INFO: [pid 1701] Worker Worker(salt=022105753, workers=5, host=4b9918451cd2, username=root, pid=61) running   DownloadAPIReport(indicator=covid, country=Kenya, date=2021-07-01)\n",
            "INFO: Informed scheduler that task   LoadReportIntoDB_Argentina_2021_07_01_covid_53d569184d   has status   DONE\n",
            "INFO:luigi-interface:[pid 1701] Worker Worker(salt=022105753, workers=5, host=4b9918451cd2, username=root, pid=61) running   DownloadAPIReport(indicator=covid, country=Kenya, date=2021-07-01)\n",
            "INFO:luigi-interface:Informed scheduler that task   LoadReportIntoDB_Argentina_2021_07_01_covid_53d569184d   has status   DONE\n",
            "DEBUG: Asking scheduler for work...\n",
            "DEBUG:luigi-interface:Asking scheduler for work...\n"
          ]
        },
        {
          "output_type": "stream",
          "name": "stdout",
          "text": [
            "CALLING API:  https://covidmap.umd.edu/api/resources?indicator=covid&type=daily&country=Kenya&daterange=20210701-20210701\n"
          ]
        },
        {
          "output_type": "stream",
          "name": "stderr",
          "text": [
            "DEBUG: Pending tasks: 12\n",
            "DEBUG:luigi-interface:Pending tasks: 12\n",
            "DEBUG: 5 running tasks, waiting for next task to finish\n",
            "DEBUG:luigi-interface:5 running tasks, waiting for next task to finish\n",
            "INFO: Informed scheduler that task   LoadReportIntoDB_Poland_2021_07_01_covid_4f3710ceb4   has status   DONE\n",
            "INFO:luigi-interface:Informed scheduler that task   LoadReportIntoDB_Poland_2021_07_01_covid_4f3710ceb4   has status   DONE\n",
            "DEBUG: Asking scheduler for work...\n",
            "DEBUG:luigi-interface:Asking scheduler for work...\n",
            "DEBUG: Pending tasks: 11\n",
            "DEBUG:luigi-interface:Pending tasks: 11\n",
            "DEBUG: 5 running tasks, waiting for next task to finish\n",
            "DEBUG:luigi-interface:5 running tasks, waiting for next task to finish\n",
            "INFO: [pid 1708] Worker Worker(salt=022105753, workers=5, host=4b9918451cd2, username=root, pid=61) running   DownloadAPIReport(indicator=covid, country=Switzerland, date=2021-07-01)\n",
            "INFO:luigi-interface:[pid 1708] Worker Worker(salt=022105753, workers=5, host=4b9918451cd2, username=root, pid=61) running   DownloadAPIReport(indicator=covid, country=Switzerland, date=2021-07-01)\n"
          ]
        },
        {
          "output_type": "stream",
          "name": "stdout",
          "text": [
            "CALLING API:  https://covidmap.umd.edu/api/resources?indicator=covid&type=daily&country=Switzerland&daterange=20210701-20210701\n"
          ]
        },
        {
          "output_type": "stream",
          "name": "stderr",
          "text": [
            "INFO: [pid 1711] Worker Worker(salt=022105753, workers=5, host=4b9918451cd2, username=root, pid=61) running   DownloadAPIReport(indicator=covid, country=Japan, date=2021-07-01)\n",
            "INFO:luigi-interface:[pid 1711] Worker Worker(salt=022105753, workers=5, host=4b9918451cd2, username=root, pid=61) running   DownloadAPIReport(indicator=covid, country=Japan, date=2021-07-01)\n"
          ]
        },
        {
          "output_type": "stream",
          "name": "stdout",
          "text": [
            "CALLING API:  https://covidmap.umd.edu/api/resources?indicator=covid&type=daily&country=Japan&daterange=20210701-20210701\n"
          ]
        },
        {
          "output_type": "stream",
          "name": "stderr",
          "text": [
            "INFO: [pid 1659] Worker Worker(salt=022105753, workers=5, host=4b9918451cd2, username=root, pid=61) done      DownloadAPIReport(indicator=covid, country=Spain, date=2021-07-01)\n",
            "INFO:luigi-interface:[pid 1659] Worker Worker(salt=022105753, workers=5, host=4b9918451cd2, username=root, pid=61) done      DownloadAPIReport(indicator=covid, country=Spain, date=2021-07-01)\n",
            "INFO: Informed scheduler that task   DownloadAPIReport_Spain_2021_07_01_covid_bc0a57992c   has status   DONE\n",
            "INFO:luigi-interface:Informed scheduler that task   DownloadAPIReport_Spain_2021_07_01_covid_bc0a57992c   has status   DONE\n",
            "DEBUG: Asking scheduler for work...\n",
            "DEBUG:luigi-interface:Asking scheduler for work...\n",
            "DEBUG: Pending tasks: 10\n",
            "DEBUG:luigi-interface:Pending tasks: 10\n",
            "DEBUG: 5 running tasks, waiting for next task to finish\n",
            "DEBUG:luigi-interface:5 running tasks, waiting for next task to finish\n",
            "INFO: [pid 1727] Worker Worker(salt=022105753, workers=5, host=4b9918451cd2, username=root, pid=61) running   LoadReportIntoDB(test_prefix=, indicator=covid, country=Spain, date=2021-07-01)\n",
            "INFO:luigi-interface:[pid 1727] Worker Worker(salt=022105753, workers=5, host=4b9918451cd2, username=root, pid=61) running   LoadReportIntoDB(test_prefix=, indicator=covid, country=Spain, date=2021-07-01)\n"
          ]
        },
        {
          "output_type": "stream",
          "name": "stdout",
          "text": [
            "DELETE FROM rpl_covid_survey_covid WHERE country='Spain' AND survey_date = 20210701\n",
            "\n",
            "\n",
            "\n",
            "-----------------------\n",
            "File loading: STARTED\n",
            "-----------------------\n",
            "\n",
            "INSERT INTO rpl_covid_survey_covid (pct_covid, covid_se, pct_covid_unw, covid_se_unw, sample_size, country, iso_code, gid_0, survey_date) VALUES(?, ?, ?, ?, ?, ?, ?, ?, ?)\n"
          ]
        },
        {
          "output_type": "stream",
          "name": "stderr",
          "text": [
            "INFO: [pid 1685] Worker Worker(salt=022105753, workers=5, host=4b9918451cd2, username=root, pid=61) done      DownloadAPIReport(indicator=covid, country=Algeria, date=2021-07-01)\n",
            "INFO:luigi-interface:[pid 1685] Worker Worker(salt=022105753, workers=5, host=4b9918451cd2, username=root, pid=61) done      DownloadAPIReport(indicator=covid, country=Algeria, date=2021-07-01)\n"
          ]
        },
        {
          "output_type": "stream",
          "name": "stdout",
          "text": [
            "-----------------------\n",
            "File loading: FINISHED\n",
            "-----------------------\n",
            "\n"
          ]
        },
        {
          "output_type": "stream",
          "name": "stderr",
          "text": [
            "INFO: [pid 1727] Worker Worker(salt=022105753, workers=5, host=4b9918451cd2, username=root, pid=61) done      LoadReportIntoDB(test_prefix=, indicator=covid, country=Spain, date=2021-07-01)\n",
            "INFO: Informed scheduler that task   DownloadAPIReport_Algeria_2021_07_01_covid_796fa7c63b   has status   DONE\n",
            "INFO:luigi-interface:[pid 1727] Worker Worker(salt=022105753, workers=5, host=4b9918451cd2, username=root, pid=61) done      LoadReportIntoDB(test_prefix=, indicator=covid, country=Spain, date=2021-07-01)\n",
            "INFO:luigi-interface:Informed scheduler that task   DownloadAPIReport_Algeria_2021_07_01_covid_796fa7c63b   has status   DONE\n",
            "DEBUG: Asking scheduler for work...\n",
            "DEBUG:luigi-interface:Asking scheduler for work...\n",
            "DEBUG: Pending tasks: 9\n",
            "DEBUG:luigi-interface:Pending tasks: 9\n",
            "DEBUG: 5 running tasks, waiting for next task to finish\n",
            "INFO: [pid 1701] Worker Worker(salt=022105753, workers=5, host=4b9918451cd2, username=root, pid=61) done      DownloadAPIReport(indicator=covid, country=Kenya, date=2021-07-01)\n",
            "DEBUG:luigi-interface:5 running tasks, waiting for next task to finish\n",
            "INFO:luigi-interface:[pid 1701] Worker Worker(salt=022105753, workers=5, host=4b9918451cd2, username=root, pid=61) done      DownloadAPIReport(indicator=covid, country=Kenya, date=2021-07-01)\n",
            "INFO: Informed scheduler that task   LoadReportIntoDB_Spain_2021_07_01_covid_0257dfb59b   has status   DONE\n",
            "INFO: [pid 1708] Worker Worker(salt=022105753, workers=5, host=4b9918451cd2, username=root, pid=61) done      DownloadAPIReport(indicator=covid, country=Switzerland, date=2021-07-01)\n",
            "INFO:luigi-interface:Informed scheduler that task   LoadReportIntoDB_Spain_2021_07_01_covid_0257dfb59b   has status   DONE\n",
            "INFO:luigi-interface:[pid 1708] Worker Worker(salt=022105753, workers=5, host=4b9918451cd2, username=root, pid=61) done      DownloadAPIReport(indicator=covid, country=Switzerland, date=2021-07-01)\n",
            "DEBUG: Asking scheduler for work...\n",
            "INFO: [pid 1760] Worker Worker(salt=022105753, workers=5, host=4b9918451cd2, username=root, pid=61) running   LoadReportIntoDB(test_prefix=, indicator=covid, country=Algeria, date=2021-07-01)\n",
            "DEBUG:luigi-interface:Asking scheduler for work...\n",
            "INFO: [pid 1711] Worker Worker(salt=022105753, workers=5, host=4b9918451cd2, username=root, pid=61) done      DownloadAPIReport(indicator=covid, country=Japan, date=2021-07-01)\n",
            "DEBUG: Done\n",
            "INFO:luigi-interface:[pid 1760] Worker Worker(salt=022105753, workers=5, host=4b9918451cd2, username=root, pid=61) running   LoadReportIntoDB(test_prefix=, indicator=covid, country=Algeria, date=2021-07-01)\n",
            "DEBUG:luigi-interface:Done\n",
            "INFO:luigi-interface:[pid 1711] Worker Worker(salt=022105753, workers=5, host=4b9918451cd2, username=root, pid=61) done      DownloadAPIReport(indicator=covid, country=Japan, date=2021-07-01)\n",
            "DEBUG: There are no more tasks to run at this time\n"
          ]
        },
        {
          "output_type": "stream",
          "name": "stdout",
          "text": [
            "DELETE FROM rpl_covid_survey_covid WHERE country='Algeria' AND survey_date = 20210701\n"
          ]
        },
        {
          "output_type": "stream",
          "name": "stderr",
          "text": [
            "DEBUG:luigi-interface:There are no more tasks to run at this time\n"
          ]
        },
        {
          "output_type": "stream",
          "name": "stdout",
          "text": [
            "\n",
            "\n"
          ]
        },
        {
          "output_type": "stream",
          "name": "stderr",
          "text": [
            "DEBUG: DownloadAPIReport_Kenya_2021_07_01_covid_f9a561c497 is currently run by worker Worker(salt=022105753, workers=5, host=4b9918451cd2, username=root, pid=61)\n",
            "DEBUG:luigi-interface:DownloadAPIReport_Kenya_2021_07_01_covid_f9a561c497 is currently run by worker Worker(salt=022105753, workers=5, host=4b9918451cd2, username=root, pid=61)\n",
            "DEBUG: DownloadAPIReport_Switzerland_2021_07_01_covid_94b078ffb9 is currently run by worker Worker(salt=022105753, workers=5, host=4b9918451cd2, username=root, pid=61)\n",
            "DEBUG:luigi-interface:DownloadAPIReport_Switzerland_2021_07_01_covid_94b078ffb9 is currently run by worker Worker(salt=022105753, workers=5, host=4b9918451cd2, username=root, pid=61)\n"
          ]
        },
        {
          "output_type": "stream",
          "name": "stdout",
          "text": [
            "\n"
          ]
        },
        {
          "output_type": "stream",
          "name": "stderr",
          "text": [
            "DEBUG: DownloadAPIReport_Japan_2021_07_01_covid_6c8cb744d7 is currently run by worker Worker(salt=022105753, workers=5, host=4b9918451cd2, username=root, pid=61)\n"
          ]
        },
        {
          "output_type": "stream",
          "name": "stdout",
          "text": [
            "-----------------------\n",
            "File loading: STARTED\n",
            "-----------------------\n"
          ]
        },
        {
          "output_type": "stream",
          "name": "stderr",
          "text": [
            "DEBUG:luigi-interface:DownloadAPIReport_Japan_2021_07_01_covid_6c8cb744d7 is currently run by worker Worker(salt=022105753, workers=5, host=4b9918451cd2, username=root, pid=61)\n",
            "DEBUG: LoadReportIntoDB_Algeria_2021_07_01_covid_f262a48387 is currently run by worker Worker(salt=022105753, workers=5, host=4b9918451cd2, username=root, pid=61)\n",
            "DEBUG:luigi-interface:LoadReportIntoDB_Algeria_2021_07_01_covid_f262a48387 is currently run by worker Worker(salt=022105753, workers=5, host=4b9918451cd2, username=root, pid=61)\n"
          ]
        },
        {
          "output_type": "stream",
          "name": "stdout",
          "text": [
            "\n"
          ]
        },
        {
          "output_type": "stream",
          "name": "stderr",
          "text": [
            "INFO: Informed scheduler that task   DownloadAPIReport_Kenya_2021_07_01_covid_f9a561c497   has status   DONE\n"
          ]
        },
        {
          "output_type": "stream",
          "name": "stdout",
          "text": [
            "INSERT INTO rpl_covid_survey_covid (pct_covid, covid_se, pct_covid_unw, covid_se_unw, sample_size, country, iso_code, gid_0, survey_date) VALUES(?, ?, ?, ?, ?, ?, ?, ?, ?)\n"
          ]
        },
        {
          "output_type": "stream",
          "name": "stderr",
          "text": [
            "INFO:luigi-interface:Informed scheduler that task   DownloadAPIReport_Kenya_2021_07_01_covid_f9a561c497   has status   DONE\n",
            "DEBUG: Asking scheduler for work...\n",
            "DEBUG:luigi-interface:Asking scheduler for work...\n",
            "DEBUG: Pending tasks: 8\n",
            "DEBUG:luigi-interface:Pending tasks: 8\n",
            "DEBUG: Asking scheduler for work...\n",
            "DEBUG:luigi-interface:Asking scheduler for work...\n",
            "DEBUG: Done\n",
            "DEBUG:luigi-interface:Done\n"
          ]
        },
        {
          "output_type": "stream",
          "name": "stdout",
          "text": [
            "-----------------------\n",
            "File loading: FINISHED\n",
            "-----------------------\n"
          ]
        },
        {
          "output_type": "stream",
          "name": "stderr",
          "text": [
            "DEBUG: There are no more tasks to run at this time\n",
            "INFO: [pid 1790] Worker Worker(salt=022105753, workers=5, host=4b9918451cd2, username=root, pid=61) running   LoadReportIntoDB(test_prefix=, indicator=covid, country=Kenya, date=2021-07-01)\n",
            "DEBUG:luigi-interface:There are no more tasks to run at this time\n"
          ]
        },
        {
          "output_type": "stream",
          "name": "stdout",
          "text": [
            "\n"
          ]
        },
        {
          "output_type": "stream",
          "name": "stderr",
          "text": [
            "DEBUG: DownloadAPIReport_Switzerland_2021_07_01_covid_94b078ffb9 is currently run by worker Worker(salt=022105753, workers=5, host=4b9918451cd2, username=root, pid=61)\n",
            "INFO:luigi-interface:[pid 1790] Worker Worker(salt=022105753, workers=5, host=4b9918451cd2, username=root, pid=61) running   LoadReportIntoDB(test_prefix=, indicator=covid, country=Kenya, date=2021-07-01)\n",
            "DEBUG:luigi-interface:DownloadAPIReport_Switzerland_2021_07_01_covid_94b078ffb9 is currently run by worker Worker(salt=022105753, workers=5, host=4b9918451cd2, username=root, pid=61)\n",
            "INFO: [pid 1760] Worker Worker(salt=022105753, workers=5, host=4b9918451cd2, username=root, pid=61) done      LoadReportIntoDB(test_prefix=, indicator=covid, country=Algeria, date=2021-07-01)\n",
            "DEBUG: DownloadAPIReport_Japan_2021_07_01_covid_6c8cb744d7 is currently run by worker Worker(salt=022105753, workers=5, host=4b9918451cd2, username=root, pid=61)\n",
            "INFO:luigi-interface:[pid 1760] Worker Worker(salt=022105753, workers=5, host=4b9918451cd2, username=root, pid=61) done      LoadReportIntoDB(test_prefix=, indicator=covid, country=Algeria, date=2021-07-01)\n",
            "DEBUG:luigi-interface:DownloadAPIReport_Japan_2021_07_01_covid_6c8cb744d7 is currently run by worker Worker(salt=022105753, workers=5, host=4b9918451cd2, username=root, pid=61)\n",
            "DEBUG: LoadReportIntoDB_Algeria_2021_07_01_covid_f262a48387 is currently run by worker Worker(salt=022105753, workers=5, host=4b9918451cd2, username=root, pid=61)\n",
            "DEBUG:luigi-interface:LoadReportIntoDB_Algeria_2021_07_01_covid_f262a48387 is currently run by worker Worker(salt=022105753, workers=5, host=4b9918451cd2, username=root, pid=61)\n",
            "DEBUG: LoadReportIntoDB_Kenya_2021_07_01_covid_30f71966dc is currently run by worker Worker(salt=022105753, workers=5, host=4b9918451cd2, username=root, pid=61)\n",
            "DEBUG:luigi-interface:LoadReportIntoDB_Kenya_2021_07_01_covid_30f71966dc is currently run by worker Worker(salt=022105753, workers=5, host=4b9918451cd2, username=root, pid=61)\n",
            "INFO: Informed scheduler that task   DownloadAPIReport_Switzerland_2021_07_01_covid_94b078ffb9   has status   DONE\n"
          ]
        },
        {
          "output_type": "stream",
          "name": "stdout",
          "text": [
            "DELETE FROM rpl_covid_survey_covid WHERE country='Kenya' AND survey_date = 20210701\n"
          ]
        },
        {
          "output_type": "stream",
          "name": "stderr",
          "text": [
            "INFO:luigi-interface:Informed scheduler that task   DownloadAPIReport_Switzerland_2021_07_01_covid_94b078ffb9   has status   DONE\n",
            "DEBUG: Asking scheduler for work...\n",
            "DEBUG:luigi-interface:Asking scheduler for work...\n",
            "DEBUG: Pending tasks: 7\n"
          ]
        },
        {
          "output_type": "stream",
          "name": "stdout",
          "text": [
            "\n",
            "\n"
          ]
        },
        {
          "output_type": "stream",
          "name": "stderr",
          "text": [
            "DEBUG:luigi-interface:Pending tasks: 7\n"
          ]
        },
        {
          "output_type": "stream",
          "name": "stdout",
          "text": [
            "\n"
          ]
        },
        {
          "output_type": "stream",
          "name": "stderr",
          "text": [
            "DEBUG: Asking scheduler for work...\n"
          ]
        },
        {
          "output_type": "stream",
          "name": "stdout",
          "text": [
            "-----------------------\n",
            "File loading: STARTED\n",
            "-----------------------\n"
          ]
        },
        {
          "output_type": "stream",
          "name": "stderr",
          "text": [
            "DEBUG:luigi-interface:Asking scheduler for work...\n"
          ]
        },
        {
          "output_type": "stream",
          "name": "stdout",
          "text": [
            "\n"
          ]
        },
        {
          "output_type": "stream",
          "name": "stderr",
          "text": [
            "DEBUG: Done\n",
            "INFO: [pid 1812] Worker Worker(salt=022105753, workers=5, host=4b9918451cd2, username=root, pid=61) running   LoadReportIntoDB(test_prefix=, indicator=covid, country=Switzerland, date=2021-07-01)\n",
            "DEBUG:luigi-interface:Done\n"
          ]
        },
        {
          "output_type": "stream",
          "name": "stdout",
          "text": [
            "INSERT INTO rpl_covid_survey_covid (pct_covid, covid_se, pct_covid_unw, covid_se_unw, sample_size, country, iso_code, gid_0, survey_date) VALUES(?, ?, ?, ?, ?, ?, ?, ?, ?)\n"
          ]
        },
        {
          "output_type": "stream",
          "name": "stderr",
          "text": [
            "DEBUG: There are no more tasks to run at this time\n",
            "INFO:luigi-interface:[pid 1812] Worker Worker(salt=022105753, workers=5, host=4b9918451cd2, username=root, pid=61) running   LoadReportIntoDB(test_prefix=, indicator=covid, country=Switzerland, date=2021-07-01)\n",
            "DEBUG:luigi-interface:There are no more tasks to run at this time\n",
            "DEBUG: DownloadAPIReport_Japan_2021_07_01_covid_6c8cb744d7 is currently run by worker Worker(salt=022105753, workers=5, host=4b9918451cd2, username=root, pid=61)\n",
            "DEBUG:luigi-interface:DownloadAPIReport_Japan_2021_07_01_covid_6c8cb744d7 is currently run by worker Worker(salt=022105753, workers=5, host=4b9918451cd2, username=root, pid=61)\n",
            "DEBUG: LoadReportIntoDB_Algeria_2021_07_01_covid_f262a48387 is currently run by worker Worker(salt=022105753, workers=5, host=4b9918451cd2, username=root, pid=61)\n",
            "DEBUG:luigi-interface:LoadReportIntoDB_Algeria_2021_07_01_covid_f262a48387 is currently run by worker Worker(salt=022105753, workers=5, host=4b9918451cd2, username=root, pid=61)\n",
            "DEBUG: LoadReportIntoDB_Kenya_2021_07_01_covid_30f71966dc is currently run by worker Worker(salt=022105753, workers=5, host=4b9918451cd2, username=root, pid=61)\n",
            "DEBUG:luigi-interface:LoadReportIntoDB_Kenya_2021_07_01_covid_30f71966dc is currently run by worker Worker(salt=022105753, workers=5, host=4b9918451cd2, username=root, pid=61)\n"
          ]
        },
        {
          "output_type": "stream",
          "name": "stdout",
          "text": [
            "DELETE FROM rpl_covid_survey_covid WHERE country='Switzerland' AND survey_date = 20210701\n"
          ]
        },
        {
          "output_type": "stream",
          "name": "stderr",
          "text": [
            "DEBUG: LoadReportIntoDB_Switzerland_2021_07_01_covid_1d9d9ffd6a is currently run by worker Worker(salt=022105753, workers=5, host=4b9918451cd2, username=root, pid=61)\n",
            "DEBUG:luigi-interface:LoadReportIntoDB_Switzerland_2021_07_01_covid_1d9d9ffd6a is currently run by worker Worker(salt=022105753, workers=5, host=4b9918451cd2, username=root, pid=61)\n",
            "INFO: Informed scheduler that task   DownloadAPIReport_Japan_2021_07_01_covid_6c8cb744d7   has status   DONE\n",
            "INFO:luigi-interface:Informed scheduler that task   DownloadAPIReport_Japan_2021_07_01_covid_6c8cb744d7   has status   DONE\n",
            "DEBUG: Asking scheduler for work...\n"
          ]
        },
        {
          "output_type": "stream",
          "name": "stdout",
          "text": [
            "-----------------------\n",
            "File loading: FINISHED\n",
            "-----------------------\n"
          ]
        },
        {
          "output_type": "stream",
          "name": "stderr",
          "text": [
            "DEBUG:luigi-interface:Asking scheduler for work...\n"
          ]
        },
        {
          "output_type": "stream",
          "name": "stdout",
          "text": [
            "\n",
            "\n"
          ]
        },
        {
          "output_type": "stream",
          "name": "stderr",
          "text": [
            "DEBUG: Pending tasks: 6\n"
          ]
        },
        {
          "output_type": "stream",
          "name": "stdout",
          "text": [
            "\n"
          ]
        },
        {
          "output_type": "stream",
          "name": "stderr",
          "text": [
            "DEBUG:luigi-interface:Pending tasks: 6\n"
          ]
        },
        {
          "output_type": "stream",
          "name": "stdout",
          "text": [
            "\n",
            "-----------------------\n",
            "File loading: STARTED\n",
            "-----------------------\n"
          ]
        },
        {
          "output_type": "stream",
          "name": "stderr",
          "text": [
            "DEBUG: Asking scheduler for work...\n",
            "INFO: [pid 1790] Worker Worker(salt=022105753, workers=5, host=4b9918451cd2, username=root, pid=61) done      LoadReportIntoDB(test_prefix=, indicator=covid, country=Kenya, date=2021-07-01)\n",
            "DEBUG:luigi-interface:Asking scheduler for work...\n"
          ]
        },
        {
          "output_type": "stream",
          "name": "stdout",
          "text": [
            "\n"
          ]
        },
        {
          "output_type": "stream",
          "name": "stderr",
          "text": [
            "DEBUG: Done\n"
          ]
        },
        {
          "output_type": "stream",
          "name": "stdout",
          "text": [
            "INSERT INTO rpl_covid_survey_covid (pct_covid, covid_se, pct_covid_unw, covid_se_unw, sample_size, country, iso_code, gid_0, survey_date) VALUES(?, ?, ?, ?, ?, ?, ?, ?, ?)\n"
          ]
        },
        {
          "output_type": "stream",
          "name": "stderr",
          "text": [
            "DEBUG:luigi-interface:Done\n",
            "INFO: [pid 1837] Worker Worker(salt=022105753, workers=5, host=4b9918451cd2, username=root, pid=61) running   LoadReportIntoDB(test_prefix=, indicator=covid, country=Japan, date=2021-07-01)\n",
            "DEBUG: There are no more tasks to run at this time\n",
            "INFO:luigi-interface:[pid 1837] Worker Worker(salt=022105753, workers=5, host=4b9918451cd2, username=root, pid=61) running   LoadReportIntoDB(test_prefix=, indicator=covid, country=Japan, date=2021-07-01)\n",
            "DEBUG:luigi-interface:There are no more tasks to run at this time\n",
            "INFO:luigi-interface:[pid 1790] Worker Worker(salt=022105753, workers=5, host=4b9918451cd2, username=root, pid=61) done      LoadReportIntoDB(test_prefix=, indicator=covid, country=Kenya, date=2021-07-01)\n",
            "DEBUG: LoadReportIntoDB_Algeria_2021_07_01_covid_f262a48387 is currently run by worker Worker(salt=022105753, workers=5, host=4b9918451cd2, username=root, pid=61)\n"
          ]
        },
        {
          "output_type": "stream",
          "name": "stdout",
          "text": [
            "DELETE FROM rpl_covid_survey_covid WHERE country='Japan' AND survey_date = 20210701\n"
          ]
        },
        {
          "output_type": "stream",
          "name": "stderr",
          "text": [
            "DEBUG:luigi-interface:LoadReportIntoDB_Algeria_2021_07_01_covid_f262a48387 is currently run by worker Worker(salt=022105753, workers=5, host=4b9918451cd2, username=root, pid=61)\n",
            "DEBUG: LoadReportIntoDB_Kenya_2021_07_01_covid_30f71966dc is currently run by worker Worker(salt=022105753, workers=5, host=4b9918451cd2, username=root, pid=61)\n"
          ]
        },
        {
          "output_type": "stream",
          "name": "stdout",
          "text": [
            "-----------------------\n",
            "File loading: FINISHED\n",
            "-----------------------\n"
          ]
        },
        {
          "output_type": "stream",
          "name": "stderr",
          "text": [
            "DEBUG:luigi-interface:LoadReportIntoDB_Kenya_2021_07_01_covid_30f71966dc is currently run by worker Worker(salt=022105753, workers=5, host=4b9918451cd2, username=root, pid=61)\n"
          ]
        },
        {
          "output_type": "stream",
          "name": "stdout",
          "text": [
            "\n",
            "\n"
          ]
        },
        {
          "output_type": "stream",
          "name": "stderr",
          "text": [
            "DEBUG: LoadReportIntoDB_Switzerland_2021_07_01_covid_1d9d9ffd6a is currently run by worker Worker(salt=022105753, workers=5, host=4b9918451cd2, username=root, pid=61)\n"
          ]
        },
        {
          "output_type": "stream",
          "name": "stdout",
          "text": [
            "\n"
          ]
        },
        {
          "output_type": "stream",
          "name": "stderr",
          "text": [
            "DEBUG:luigi-interface:LoadReportIntoDB_Switzerland_2021_07_01_covid_1d9d9ffd6a is currently run by worker Worker(salt=022105753, workers=5, host=4b9918451cd2, username=root, pid=61)\n"
          ]
        },
        {
          "output_type": "stream",
          "name": "stdout",
          "text": [
            "\n"
          ]
        },
        {
          "output_type": "stream",
          "name": "stderr",
          "text": [
            "DEBUG: LoadReportIntoDB_Japan_2021_07_01_covid_0d3d4de3eb is currently run by worker Worker(salt=022105753, workers=5, host=4b9918451cd2, username=root, pid=61)\n",
            "INFO: [pid 1812] Worker Worker(salt=022105753, workers=5, host=4b9918451cd2, username=root, pid=61) done      LoadReportIntoDB(test_prefix=, indicator=covid, country=Switzerland, date=2021-07-01)\n",
            "DEBUG:luigi-interface:LoadReportIntoDB_Japan_2021_07_01_covid_0d3d4de3eb is currently run by worker Worker(salt=022105753, workers=5, host=4b9918451cd2, username=root, pid=61)\n",
            "INFO: Informed scheduler that task   LoadReportIntoDB_Algeria_2021_07_01_covid_f262a48387   has status   DONE\n"
          ]
        },
        {
          "output_type": "stream",
          "name": "stdout",
          "text": [
            "-----------------------\n",
            "File loading: STARTED\n",
            "-----------------------\n"
          ]
        },
        {
          "output_type": "stream",
          "name": "stderr",
          "text": [
            "INFO:luigi-interface:Informed scheduler that task   LoadReportIntoDB_Algeria_2021_07_01_covid_f262a48387   has status   DONE\n"
          ]
        },
        {
          "output_type": "stream",
          "name": "stdout",
          "text": [
            "\n"
          ]
        },
        {
          "output_type": "stream",
          "name": "stderr",
          "text": [
            "DEBUG: Asking scheduler for work...\n",
            "INFO:luigi-interface:[pid 1812] Worker Worker(salt=022105753, workers=5, host=4b9918451cd2, username=root, pid=61) done      LoadReportIntoDB(test_prefix=, indicator=covid, country=Switzerland, date=2021-07-01)\n",
            "DEBUG:luigi-interface:Asking scheduler for work...\n"
          ]
        },
        {
          "output_type": "stream",
          "name": "stdout",
          "text": [
            "INSERT INTO rpl_covid_survey_covid (pct_covid, covid_se, pct_covid_unw, covid_se_unw, sample_size, country, iso_code, gid_0, survey_date) VALUES(?, ?, ?, ?, ?, ?, ?, ?, ?)\n"
          ]
        },
        {
          "output_type": "stream",
          "name": "stderr",
          "text": [
            "DEBUG: Done\n",
            "DEBUG:luigi-interface:Done\n",
            "DEBUG: There are no more tasks to run at this time\n",
            "DEBUG:luigi-interface:There are no more tasks to run at this time\n",
            "DEBUG: LoadReportIntoDB_Kenya_2021_07_01_covid_30f71966dc is currently run by worker Worker(salt=022105753, workers=5, host=4b9918451cd2, username=root, pid=61)\n",
            "DEBUG:luigi-interface:LoadReportIntoDB_Kenya_2021_07_01_covid_30f71966dc is currently run by worker Worker(salt=022105753, workers=5, host=4b9918451cd2, username=root, pid=61)\n"
          ]
        },
        {
          "output_type": "stream",
          "name": "stdout",
          "text": [
            "-----------------------\n",
            "File loading: FINISHED\n",
            "-----------------------\n"
          ]
        },
        {
          "output_type": "stream",
          "name": "stderr",
          "text": [
            "DEBUG: LoadReportIntoDB_Switzerland_2021_07_01_covid_1d9d9ffd6a is currently run by worker Worker(salt=022105753, workers=5, host=4b9918451cd2, username=root, pid=61)\n"
          ]
        },
        {
          "output_type": "stream",
          "name": "stdout",
          "text": [
            "\n"
          ]
        },
        {
          "output_type": "stream",
          "name": "stderr",
          "text": [
            "DEBUG:luigi-interface:LoadReportIntoDB_Switzerland_2021_07_01_covid_1d9d9ffd6a is currently run by worker Worker(salt=022105753, workers=5, host=4b9918451cd2, username=root, pid=61)\n",
            "INFO: [pid 1837] Worker Worker(salt=022105753, workers=5, host=4b9918451cd2, username=root, pid=61) done      LoadReportIntoDB(test_prefix=, indicator=covid, country=Japan, date=2021-07-01)\n",
            "INFO:luigi-interface:[pid 1837] Worker Worker(salt=022105753, workers=5, host=4b9918451cd2, username=root, pid=61) done      LoadReportIntoDB(test_prefix=, indicator=covid, country=Japan, date=2021-07-01)\n",
            "DEBUG: LoadReportIntoDB_Japan_2021_07_01_covid_0d3d4de3eb is currently run by worker Worker(salt=022105753, workers=5, host=4b9918451cd2, username=root, pid=61)\n",
            "DEBUG:luigi-interface:LoadReportIntoDB_Japan_2021_07_01_covid_0d3d4de3eb is currently run by worker Worker(salt=022105753, workers=5, host=4b9918451cd2, username=root, pid=61)\n",
            "INFO: Informed scheduler that task   LoadReportIntoDB_Kenya_2021_07_01_covid_30f71966dc   has status   DONE\n",
            "INFO:luigi-interface:Informed scheduler that task   LoadReportIntoDB_Kenya_2021_07_01_covid_30f71966dc   has status   DONE\n",
            "DEBUG: Asking scheduler for work...\n",
            "DEBUG:luigi-interface:Asking scheduler for work...\n",
            "DEBUG: Done\n",
            "DEBUG:luigi-interface:Done\n",
            "DEBUG: There are no more tasks to run at this time\n",
            "DEBUG:luigi-interface:There are no more tasks to run at this time\n",
            "DEBUG: LoadReportIntoDB_Switzerland_2021_07_01_covid_1d9d9ffd6a is currently run by worker Worker(salt=022105753, workers=5, host=4b9918451cd2, username=root, pid=61)\n",
            "DEBUG:luigi-interface:LoadReportIntoDB_Switzerland_2021_07_01_covid_1d9d9ffd6a is currently run by worker Worker(salt=022105753, workers=5, host=4b9918451cd2, username=root, pid=61)\n",
            "DEBUG: LoadReportIntoDB_Japan_2021_07_01_covid_0d3d4de3eb is currently run by worker Worker(salt=022105753, workers=5, host=4b9918451cd2, username=root, pid=61)\n",
            "DEBUG:luigi-interface:LoadReportIntoDB_Japan_2021_07_01_covid_0d3d4de3eb is currently run by worker Worker(salt=022105753, workers=5, host=4b9918451cd2, username=root, pid=61)\n",
            "INFO: Informed scheduler that task   LoadReportIntoDB_Switzerland_2021_07_01_covid_1d9d9ffd6a   has status   DONE\n",
            "INFO:luigi-interface:Informed scheduler that task   LoadReportIntoDB_Switzerland_2021_07_01_covid_1d9d9ffd6a   has status   DONE\n",
            "DEBUG: Asking scheduler for work...\n",
            "DEBUG:luigi-interface:Asking scheduler for work...\n",
            "DEBUG: Done\n",
            "DEBUG:luigi-interface:Done\n",
            "DEBUG: There are no more tasks to run at this time\n",
            "DEBUG:luigi-interface:There are no more tasks to run at this time\n",
            "DEBUG: LoadReportIntoDB_Japan_2021_07_01_covid_0d3d4de3eb is currently run by worker Worker(salt=022105753, workers=5, host=4b9918451cd2, username=root, pid=61)\n",
            "DEBUG:luigi-interface:LoadReportIntoDB_Japan_2021_07_01_covid_0d3d4de3eb is currently run by worker Worker(salt=022105753, workers=5, host=4b9918451cd2, username=root, pid=61)\n",
            "INFO: Informed scheduler that task   LoadReportIntoDB_Japan_2021_07_01_covid_0d3d4de3eb   has status   DONE\n",
            "INFO:luigi-interface:Informed scheduler that task   LoadReportIntoDB_Japan_2021_07_01_covid_0d3d4de3eb   has status   DONE\n",
            "DEBUG: Asking scheduler for work...\n",
            "DEBUG:luigi-interface:Asking scheduler for work...\n",
            "DEBUG: Done\n",
            "DEBUG:luigi-interface:Done\n",
            "DEBUG: There are no more tasks to run at this time\n",
            "DEBUG:luigi-interface:There are no more tasks to run at this time\n",
            "DEBUG: There are 5 pending tasks possibly being run by other workers\n",
            "DEBUG:luigi-interface:There are 5 pending tasks possibly being run by other workers\n",
            "DEBUG: There are 5 pending tasks unique to this worker\n",
            "DEBUG:luigi-interface:There are 5 pending tasks unique to this worker\n",
            "DEBUG: There are 5 pending tasks last scheduled by this worker\n",
            "DEBUG:luigi-interface:There are 5 pending tasks last scheduled by this worker\n",
            "INFO: Worker Worker(salt=022105753, workers=5, host=4b9918451cd2, username=root, pid=61) was stopped. Shutting down Keep-Alive thread\n",
            "INFO:luigi-interface:Worker Worker(salt=022105753, workers=5, host=4b9918451cd2, username=root, pid=61) was stopped. Shutting down Keep-Alive thread\n",
            "INFO: \n",
            "===== Luigi Execution Summary =====\n",
            "\n",
            "Scheduled 86 tasks of which:\n",
            "* 81 ran successfully:\n",
            "    - 5 CreateTable(test_prefix=, indicator=anosmia) ...\n",
            "    - 38 DownloadAPIReport(indicator=anosmia, country=Algeria, date=2021-07-01) ...\n",
            "    - 38 LoadReportIntoDB(test_prefix=, indicator=anosmia, country=Algeria, date=2021-07-01) ...\n",
            "* 2 failed:\n",
            "    - 2 DownloadAPIReport(indicator=covid_vaccine, country=Argentina, date=2021-07-01) and DownloadAPIReport(indicator=covid_vaccine, country=Poland, date=2021-07-01)\n",
            "* 3 were left pending, among these:\n",
            "    * 3 had failed dependencies:\n",
            "        - 2 LoadReportIntoDB(test_prefix=, indicator=covid_vaccine, country=Argentina, date=2021-07-01) and LoadReportIntoDB(test_prefix=, indicator=covid_vaccine, country=Poland, date=2021-07-01)\n",
            "        - 1 MasterTask(test_prefix=, date=2021-07-01)\n",
            "\n",
            "This progress looks :( because there were failed tasks\n",
            "\n",
            "===== Luigi Execution Summary =====\n",
            "\n",
            "INFO:luigi-interface:\n",
            "===== Luigi Execution Summary =====\n",
            "\n",
            "Scheduled 86 tasks of which:\n",
            "* 81 ran successfully:\n",
            "    - 5 CreateTable(test_prefix=, indicator=anosmia) ...\n",
            "    - 38 DownloadAPIReport(indicator=anosmia, country=Algeria, date=2021-07-01) ...\n",
            "    - 38 LoadReportIntoDB(test_prefix=, indicator=anosmia, country=Algeria, date=2021-07-01) ...\n",
            "* 2 failed:\n",
            "    - 2 DownloadAPIReport(indicator=covid_vaccine, country=Argentina, date=2021-07-01) and DownloadAPIReport(indicator=covid_vaccine, country=Poland, date=2021-07-01)\n",
            "* 3 were left pending, among these:\n",
            "    * 3 had failed dependencies:\n",
            "        - 2 LoadReportIntoDB(test_prefix=, indicator=covid_vaccine, country=Argentina, date=2021-07-01) and LoadReportIntoDB(test_prefix=, indicator=covid_vaccine, country=Poland, date=2021-07-01)\n",
            "        - 1 MasterTask(test_prefix=, date=2021-07-01)\n",
            "\n",
            "This progress looks :( because there were failed tasks\n",
            "\n",
            "===== Luigi Execution Summary =====\n",
            "\n"
          ]
        }
      ]
    },
    {
      "cell_type": "code",
      "source": [
        "get_tables_list()"
      ],
      "metadata": {
        "colab": {
          "base_uri": "https://localhost:8080/",
          "height": 204
        },
        "id": "YW2_5poiwWAq",
        "outputId": "d49b5541-adce-41d1-cc74-68e767e23cf8"
      },
      "execution_count": null,
      "outputs": [
        {
          "output_type": "execute_result",
          "data": {
            "text/plain": [
              "                                   name\n",
              "0  rpl_covid_survey_tested_positive_14d\n",
              "1              rpl_covid_survey_anosmia\n",
              "2        rpl_covid_survey_covid_vaccine\n",
              "3                 rpl_covid_survey_mask\n",
              "4                rpl_covid_survey_covid"
            ],
            "text/html": [
              "\n",
              "  <div id=\"df-446a9c03-a85f-4213-989e-872577be9cef\">\n",
              "    <div class=\"colab-df-container\">\n",
              "      <div>\n",
              "<style scoped>\n",
              "    .dataframe tbody tr th:only-of-type {\n",
              "        vertical-align: middle;\n",
              "    }\n",
              "\n",
              "    .dataframe tbody tr th {\n",
              "        vertical-align: top;\n",
              "    }\n",
              "\n",
              "    .dataframe thead th {\n",
              "        text-align: right;\n",
              "    }\n",
              "</style>\n",
              "<table border=\"1\" class=\"dataframe\">\n",
              "  <thead>\n",
              "    <tr style=\"text-align: right;\">\n",
              "      <th></th>\n",
              "      <th>name</th>\n",
              "    </tr>\n",
              "  </thead>\n",
              "  <tbody>\n",
              "    <tr>\n",
              "      <th>0</th>\n",
              "      <td>rpl_covid_survey_tested_positive_14d</td>\n",
              "    </tr>\n",
              "    <tr>\n",
              "      <th>1</th>\n",
              "      <td>rpl_covid_survey_anosmia</td>\n",
              "    </tr>\n",
              "    <tr>\n",
              "      <th>2</th>\n",
              "      <td>rpl_covid_survey_covid_vaccine</td>\n",
              "    </tr>\n",
              "    <tr>\n",
              "      <th>3</th>\n",
              "      <td>rpl_covid_survey_mask</td>\n",
              "    </tr>\n",
              "    <tr>\n",
              "      <th>4</th>\n",
              "      <td>rpl_covid_survey_covid</td>\n",
              "    </tr>\n",
              "  </tbody>\n",
              "</table>\n",
              "</div>\n",
              "      <button class=\"colab-df-convert\" onclick=\"convertToInteractive('df-446a9c03-a85f-4213-989e-872577be9cef')\"\n",
              "              title=\"Convert this dataframe to an interactive table.\"\n",
              "              style=\"display:none;\">\n",
              "        \n",
              "  <svg xmlns=\"http://www.w3.org/2000/svg\" height=\"24px\"viewBox=\"0 0 24 24\"\n",
              "       width=\"24px\">\n",
              "    <path d=\"M0 0h24v24H0V0z\" fill=\"none\"/>\n",
              "    <path d=\"M18.56 5.44l.94 2.06.94-2.06 2.06-.94-2.06-.94-.94-2.06-.94 2.06-2.06.94zm-11 1L8.5 8.5l.94-2.06 2.06-.94-2.06-.94L8.5 2.5l-.94 2.06-2.06.94zm10 10l.94 2.06.94-2.06 2.06-.94-2.06-.94-.94-2.06-.94 2.06-2.06.94z\"/><path d=\"M17.41 7.96l-1.37-1.37c-.4-.4-.92-.59-1.43-.59-.52 0-1.04.2-1.43.59L10.3 9.45l-7.72 7.72c-.78.78-.78 2.05 0 2.83L4 21.41c.39.39.9.59 1.41.59.51 0 1.02-.2 1.41-.59l7.78-7.78 2.81-2.81c.8-.78.8-2.07 0-2.86zM5.41 20L4 18.59l7.72-7.72 1.47 1.35L5.41 20z\"/>\n",
              "  </svg>\n",
              "      </button>\n",
              "      \n",
              "  <style>\n",
              "    .colab-df-container {\n",
              "      display:flex;\n",
              "      flex-wrap:wrap;\n",
              "      gap: 12px;\n",
              "    }\n",
              "\n",
              "    .colab-df-convert {\n",
              "      background-color: #E8F0FE;\n",
              "      border: none;\n",
              "      border-radius: 50%;\n",
              "      cursor: pointer;\n",
              "      display: none;\n",
              "      fill: #1967D2;\n",
              "      height: 32px;\n",
              "      padding: 0 0 0 0;\n",
              "      width: 32px;\n",
              "    }\n",
              "\n",
              "    .colab-df-convert:hover {\n",
              "      background-color: #E2EBFA;\n",
              "      box-shadow: 0px 1px 2px rgba(60, 64, 67, 0.3), 0px 1px 3px 1px rgba(60, 64, 67, 0.15);\n",
              "      fill: #174EA6;\n",
              "    }\n",
              "\n",
              "    [theme=dark] .colab-df-convert {\n",
              "      background-color: #3B4455;\n",
              "      fill: #D2E3FC;\n",
              "    }\n",
              "\n",
              "    [theme=dark] .colab-df-convert:hover {\n",
              "      background-color: #434B5C;\n",
              "      box-shadow: 0px 1px 3px 1px rgba(0, 0, 0, 0.15);\n",
              "      filter: drop-shadow(0px 1px 2px rgba(0, 0, 0, 0.3));\n",
              "      fill: #FFFFFF;\n",
              "    }\n",
              "  </style>\n",
              "\n",
              "      <script>\n",
              "        const buttonEl =\n",
              "          document.querySelector('#df-446a9c03-a85f-4213-989e-872577be9cef button.colab-df-convert');\n",
              "        buttonEl.style.display =\n",
              "          google.colab.kernel.accessAllowed ? 'block' : 'none';\n",
              "\n",
              "        async function convertToInteractive(key) {\n",
              "          const element = document.querySelector('#df-446a9c03-a85f-4213-989e-872577be9cef');\n",
              "          const dataTable =\n",
              "            await google.colab.kernel.invokeFunction('convertToInteractive',\n",
              "                                                     [key], {});\n",
              "          if (!dataTable) return;\n",
              "\n",
              "          const docLinkHtml = 'Like what you see? Visit the ' +\n",
              "            '<a target=\"_blank\" href=https://colab.research.google.com/notebooks/data_table.ipynb>data table notebook</a>'\n",
              "            + ' to learn more about interactive tables.';\n",
              "          element.innerHTML = '';\n",
              "          dataTable['output_type'] = 'display_data';\n",
              "          await google.colab.output.renderOutput(dataTable, element);\n",
              "          const docLink = document.createElement('div');\n",
              "          docLink.innerHTML = docLinkHtml;\n",
              "          element.appendChild(docLink);\n",
              "        }\n",
              "      </script>\n",
              "    </div>\n",
              "  </div>\n",
              "  "
            ]
          },
          "metadata": {},
          "execution_count": 23
        }
      ]
    },
    {
      "cell_type": "code",
      "source": [
        "query_db(\"SELECT * FROM rpl_covid_survey_covid\")"
      ],
      "metadata": {
        "colab": {
          "base_uri": "https://localhost:8080/",
          "height": 297
        },
        "id": "GgawTxyWxdTS",
        "outputId": "4de62599-e5a5-4ae3-deba-3fab8a434fe3"
      },
      "execution_count": null,
      "outputs": [
        {
          "output_type": "execute_result",
          "data": {
            "text/plain": [
              "   pct_covid  covid_se  pct_covid_unw  covid_se_unw  sample_size  \\\n",
              "0   0.062552  0.008985       0.061325      0.007546         1011   \n",
              "1   0.016443  0.003064       0.015955      0.002503         2507   \n",
              "2   0.010525  0.003438       0.008521      0.002558         1291   \n",
              "3   0.007516  0.002026       0.008246      0.002120         1819   \n",
              "4   0.186964  0.083150       0.084469      0.014516          367   \n",
              "5   0.081996  0.020163       0.062678      0.012937          351   \n",
              "6   0.003485  0.002545       0.003704      0.002614          540   \n",
              "7   0.004077  0.001014       0.004395      0.000860         5916   \n",
              "\n",
              "        country iso_code gid_0  survey_date  \n",
              "0  South Africa      ZAF   ZAF     20210701  \n",
              "1     Argentina      ARG   ARG     20210701  \n",
              "2        Poland      POL   POL     20210701  \n",
              "3         Spain      ESP   ESP     20210701  \n",
              "4       Algeria      DZA   DZA     20210701  \n",
              "5         Kenya      KEN   KEN     20210701  \n",
              "6   Switzerland      CHE   CHE     20210701  \n",
              "7         Japan      JPN   JPN     20210701  "
            ],
            "text/html": [
              "\n",
              "  <div id=\"df-649fb478-3524-48f3-9682-e4f3e9c4124a\">\n",
              "    <div class=\"colab-df-container\">\n",
              "      <div>\n",
              "<style scoped>\n",
              "    .dataframe tbody tr th:only-of-type {\n",
              "        vertical-align: middle;\n",
              "    }\n",
              "\n",
              "    .dataframe tbody tr th {\n",
              "        vertical-align: top;\n",
              "    }\n",
              "\n",
              "    .dataframe thead th {\n",
              "        text-align: right;\n",
              "    }\n",
              "</style>\n",
              "<table border=\"1\" class=\"dataframe\">\n",
              "  <thead>\n",
              "    <tr style=\"text-align: right;\">\n",
              "      <th></th>\n",
              "      <th>pct_covid</th>\n",
              "      <th>covid_se</th>\n",
              "      <th>pct_covid_unw</th>\n",
              "      <th>covid_se_unw</th>\n",
              "      <th>sample_size</th>\n",
              "      <th>country</th>\n",
              "      <th>iso_code</th>\n",
              "      <th>gid_0</th>\n",
              "      <th>survey_date</th>\n",
              "    </tr>\n",
              "  </thead>\n",
              "  <tbody>\n",
              "    <tr>\n",
              "      <th>0</th>\n",
              "      <td>0.062552</td>\n",
              "      <td>0.008985</td>\n",
              "      <td>0.061325</td>\n",
              "      <td>0.007546</td>\n",
              "      <td>1011</td>\n",
              "      <td>South Africa</td>\n",
              "      <td>ZAF</td>\n",
              "      <td>ZAF</td>\n",
              "      <td>20210701</td>\n",
              "    </tr>\n",
              "    <tr>\n",
              "      <th>1</th>\n",
              "      <td>0.016443</td>\n",
              "      <td>0.003064</td>\n",
              "      <td>0.015955</td>\n",
              "      <td>0.002503</td>\n",
              "      <td>2507</td>\n",
              "      <td>Argentina</td>\n",
              "      <td>ARG</td>\n",
              "      <td>ARG</td>\n",
              "      <td>20210701</td>\n",
              "    </tr>\n",
              "    <tr>\n",
              "      <th>2</th>\n",
              "      <td>0.010525</td>\n",
              "      <td>0.003438</td>\n",
              "      <td>0.008521</td>\n",
              "      <td>0.002558</td>\n",
              "      <td>1291</td>\n",
              "      <td>Poland</td>\n",
              "      <td>POL</td>\n",
              "      <td>POL</td>\n",
              "      <td>20210701</td>\n",
              "    </tr>\n",
              "    <tr>\n",
              "      <th>3</th>\n",
              "      <td>0.007516</td>\n",
              "      <td>0.002026</td>\n",
              "      <td>0.008246</td>\n",
              "      <td>0.002120</td>\n",
              "      <td>1819</td>\n",
              "      <td>Spain</td>\n",
              "      <td>ESP</td>\n",
              "      <td>ESP</td>\n",
              "      <td>20210701</td>\n",
              "    </tr>\n",
              "    <tr>\n",
              "      <th>4</th>\n",
              "      <td>0.186964</td>\n",
              "      <td>0.083150</td>\n",
              "      <td>0.084469</td>\n",
              "      <td>0.014516</td>\n",
              "      <td>367</td>\n",
              "      <td>Algeria</td>\n",
              "      <td>DZA</td>\n",
              "      <td>DZA</td>\n",
              "      <td>20210701</td>\n",
              "    </tr>\n",
              "    <tr>\n",
              "      <th>5</th>\n",
              "      <td>0.081996</td>\n",
              "      <td>0.020163</td>\n",
              "      <td>0.062678</td>\n",
              "      <td>0.012937</td>\n",
              "      <td>351</td>\n",
              "      <td>Kenya</td>\n",
              "      <td>KEN</td>\n",
              "      <td>KEN</td>\n",
              "      <td>20210701</td>\n",
              "    </tr>\n",
              "    <tr>\n",
              "      <th>6</th>\n",
              "      <td>0.003485</td>\n",
              "      <td>0.002545</td>\n",
              "      <td>0.003704</td>\n",
              "      <td>0.002614</td>\n",
              "      <td>540</td>\n",
              "      <td>Switzerland</td>\n",
              "      <td>CHE</td>\n",
              "      <td>CHE</td>\n",
              "      <td>20210701</td>\n",
              "    </tr>\n",
              "    <tr>\n",
              "      <th>7</th>\n",
              "      <td>0.004077</td>\n",
              "      <td>0.001014</td>\n",
              "      <td>0.004395</td>\n",
              "      <td>0.000860</td>\n",
              "      <td>5916</td>\n",
              "      <td>Japan</td>\n",
              "      <td>JPN</td>\n",
              "      <td>JPN</td>\n",
              "      <td>20210701</td>\n",
              "    </tr>\n",
              "  </tbody>\n",
              "</table>\n",
              "</div>\n",
              "      <button class=\"colab-df-convert\" onclick=\"convertToInteractive('df-649fb478-3524-48f3-9682-e4f3e9c4124a')\"\n",
              "              title=\"Convert this dataframe to an interactive table.\"\n",
              "              style=\"display:none;\">\n",
              "        \n",
              "  <svg xmlns=\"http://www.w3.org/2000/svg\" height=\"24px\"viewBox=\"0 0 24 24\"\n",
              "       width=\"24px\">\n",
              "    <path d=\"M0 0h24v24H0V0z\" fill=\"none\"/>\n",
              "    <path d=\"M18.56 5.44l.94 2.06.94-2.06 2.06-.94-2.06-.94-.94-2.06-.94 2.06-2.06.94zm-11 1L8.5 8.5l.94-2.06 2.06-.94-2.06-.94L8.5 2.5l-.94 2.06-2.06.94zm10 10l.94 2.06.94-2.06 2.06-.94-2.06-.94-.94-2.06-.94 2.06-2.06.94z\"/><path d=\"M17.41 7.96l-1.37-1.37c-.4-.4-.92-.59-1.43-.59-.52 0-1.04.2-1.43.59L10.3 9.45l-7.72 7.72c-.78.78-.78 2.05 0 2.83L4 21.41c.39.39.9.59 1.41.59.51 0 1.02-.2 1.41-.59l7.78-7.78 2.81-2.81c.8-.78.8-2.07 0-2.86zM5.41 20L4 18.59l7.72-7.72 1.47 1.35L5.41 20z\"/>\n",
              "  </svg>\n",
              "      </button>\n",
              "      \n",
              "  <style>\n",
              "    .colab-df-container {\n",
              "      display:flex;\n",
              "      flex-wrap:wrap;\n",
              "      gap: 12px;\n",
              "    }\n",
              "\n",
              "    .colab-df-convert {\n",
              "      background-color: #E8F0FE;\n",
              "      border: none;\n",
              "      border-radius: 50%;\n",
              "      cursor: pointer;\n",
              "      display: none;\n",
              "      fill: #1967D2;\n",
              "      height: 32px;\n",
              "      padding: 0 0 0 0;\n",
              "      width: 32px;\n",
              "    }\n",
              "\n",
              "    .colab-df-convert:hover {\n",
              "      background-color: #E2EBFA;\n",
              "      box-shadow: 0px 1px 2px rgba(60, 64, 67, 0.3), 0px 1px 3px 1px rgba(60, 64, 67, 0.15);\n",
              "      fill: #174EA6;\n",
              "    }\n",
              "\n",
              "    [theme=dark] .colab-df-convert {\n",
              "      background-color: #3B4455;\n",
              "      fill: #D2E3FC;\n",
              "    }\n",
              "\n",
              "    [theme=dark] .colab-df-convert:hover {\n",
              "      background-color: #434B5C;\n",
              "      box-shadow: 0px 1px 3px 1px rgba(0, 0, 0, 0.15);\n",
              "      filter: drop-shadow(0px 1px 2px rgba(0, 0, 0, 0.3));\n",
              "      fill: #FFFFFF;\n",
              "    }\n",
              "  </style>\n",
              "\n",
              "      <script>\n",
              "        const buttonEl =\n",
              "          document.querySelector('#df-649fb478-3524-48f3-9682-e4f3e9c4124a button.colab-df-convert');\n",
              "        buttonEl.style.display =\n",
              "          google.colab.kernel.accessAllowed ? 'block' : 'none';\n",
              "\n",
              "        async function convertToInteractive(key) {\n",
              "          const element = document.querySelector('#df-649fb478-3524-48f3-9682-e4f3e9c4124a');\n",
              "          const dataTable =\n",
              "            await google.colab.kernel.invokeFunction('convertToInteractive',\n",
              "                                                     [key], {});\n",
              "          if (!dataTable) return;\n",
              "\n",
              "          const docLinkHtml = 'Like what you see? Visit the ' +\n",
              "            '<a target=\"_blank\" href=https://colab.research.google.com/notebooks/data_table.ipynb>data table notebook</a>'\n",
              "            + ' to learn more about interactive tables.';\n",
              "          element.innerHTML = '';\n",
              "          dataTable['output_type'] = 'display_data';\n",
              "          await google.colab.output.renderOutput(dataTable, element);\n",
              "          const docLink = document.createElement('div');\n",
              "          docLink.innerHTML = docLinkHtml;\n",
              "          element.appendChild(docLink);\n",
              "        }\n",
              "      </script>\n",
              "    </div>\n",
              "  </div>\n",
              "  "
            ]
          },
          "metadata": {},
          "execution_count": 24
        }
      ]
    },
    {
      "cell_type": "markdown",
      "source": [
        "# **2.1 covid_survey_covid_mask.py**\n",
        "\n",
        "This pipeline uses the data from the previous pipeline/task. Here, we’re enriching the data by joining multiple tables together using SQL — and then store it in a new table! "
      ],
      "metadata": {
        "id": "TTYWvKSO1WTX"
      }
    },
    {
      "cell_type": "code",
      "source": [
        "#!/usr/bin/env python\n",
        "\n",
        "#!/usr/bin/env python\n",
        "\n",
        "import luigi\n",
        "import requests\n",
        "import json\n",
        "\n",
        "\n",
        "# ###################\n",
        "# AUXILIARY FUNCTIONS\n",
        "# ###################\n",
        "\n",
        "# Renders the table name for each different indicator\n",
        "def get_covid_survey_covid_mask_table_name(test_prefix):\n",
        "    return f'{test_prefix}covid_survey_covid_mask'\n",
        "\n",
        "\n",
        "# ##############\n",
        "# PIPELINE TASKS\n",
        "# ##############\n",
        "\n",
        "class CreateTable(luigi.Task):\n",
        "    \"\"\"\n",
        "    Creates table in database.\n",
        "    \"\"\"\n",
        "    test_prefix = luigi.Parameter(default='')\n",
        "    def run(self):\n",
        "        indicator_code = get_indicator_code('covid')\n",
        "        table_schema = (\n",
        "            ('pct_covid', 'float'),\n",
        "            ('covid_se', 'float'),\n",
        "            ('pct_covid_unw', 'float'),\n",
        "            ('covid_se_unw', 'float'),\n",
        "            ('covid_sample_size', 'NUMERIC'),\n",
        "            ('percent_mc', 'float'),\n",
        "            ('mc_se', 'float'),\n",
        "            ('percent_mc_unw', 'float'),\n",
        "            ('mc_se_unw', 'float'),\n",
        "            ('mc_sample_size', 'NUMERIC'),\n",
        "            ('country', 'text'),\n",
        "            ('iso_code', 'text'),\n",
        "            ('gid_0', 'text'),\n",
        "            ('survey_date', 'NUMERIC'),\n",
        "        )\n",
        "        create_table(get_covid_survey_covid_mask_table_name(self.test_prefix), table_schema)\n",
        "\n",
        "    def output(self):\n",
        "        return TableExists(get_covid_survey_covid_mask_table_name(self.test_prefix))\n",
        "\n",
        "\n",
        "class LoadTable(luigi.Task):\n",
        "    \"\"\"\n",
        "    Loads report file into database.\n",
        "    \"\"\"\n",
        "    test_prefix = luigi.Parameter(default='')\n",
        "    date = luigi.Parameter()\n",
        "\n",
        "    def get_sql_filter(self):\n",
        "        return f\"survey_date = {self.date.replace('-','')}\"\n",
        "\n",
        "    def requires(self):\n",
        "        return CreateTable(test_prefix=self.test_prefix)\n",
        "\n",
        "    def run(self):\n",
        "        # Detele data from the data we are inserting into (overwrite)\n",
        "        run_query(f\"DELETE FROM {get_covid_survey_covid_mask_table_name(self.test_prefix)} WHERE {self.get_sql_filter()}\")\n",
        "        # Insert data\n",
        "        run_query(f\"\"\"\n",
        "            INSERT INTO {get_covid_survey_covid_mask_table_name(self.test_prefix)}\n",
        "            SELECT \n",
        "                pct_covid,\n",
        "                covid_se,\n",
        "                pct_covid_unw,\n",
        "                covid_se_unw,\n",
        "                a.sample_size AS covid_sample_size,\n",
        "                percent_mc,\n",
        "                mc_se,\n",
        "                percent_mc_unw,\n",
        "                mc_se_unw,\n",
        "                b.sample_size AS mc_sample_size,\n",
        "                a.country, \n",
        "                a.iso_code,\n",
        "                a.gid_0, \n",
        "                a.survey_date\n",
        "            FROM rpl_covid_survey_covid a\n",
        "            LEFT JOIN rpl_covid_survey_mask b\n",
        "            ON a.survey_date = b.survey_date\n",
        "            AND a.iso_code = b.iso_code\n",
        "            WHERE\n",
        "                a.survey_date = {self.date.replace('-','')}\n",
        "        \"\"\")\n",
        "\n",
        "    def output(self):\n",
        "        return DataExists(table_name=get_covid_survey_covid_mask_table_name(self.test_prefix), where_clause=self.get_sql_filter())\n",
        "\n",
        "\n",
        "DATE = '2021-07-01'\n",
        "TEST_PREFIX = ''\n",
        "\n",
        "if __name__ == '__main__':\n",
        "     luigi.build(\n",
        "         [LoadTable(\n",
        "             date=DATE,\n",
        "             test_prefix=TEST_PREFIX\n",
        "        )],\n",
        "         workers=5,\n",
        "         local_scheduler=True\n",
        "    )\n"
      ],
      "metadata": {
        "colab": {
          "base_uri": "https://localhost:8080/"
        },
        "id": "Zy2ZkXQb1Jzd",
        "outputId": "2ea7e74b-32b5-4784-cc88-dc51fbdbe588"
      },
      "execution_count": null,
      "outputs": [
        {
          "output_type": "stream",
          "name": "stderr",
          "text": [
            "DEBUG: Checking if LoadTable(test_prefix=, date=2021-07-01) is complete\n",
            "DEBUG:luigi-interface:Checking if LoadTable(test_prefix=, date=2021-07-01) is complete\n",
            "DEBUG: Checking if CreateTable(test_prefix=) is complete\n",
            "DEBUG:luigi-interface:Checking if CreateTable(test_prefix=) is complete\n",
            "INFO: Informed scheduler that task   LoadTable_2021_07_01__90be21f6f0   has status   PENDING\n",
            "INFO:luigi-interface:Informed scheduler that task   LoadTable_2021_07_01__90be21f6f0   has status   PENDING\n",
            "INFO: Informed scheduler that task   CreateTable__d167094286   has status   PENDING\n",
            "INFO:luigi-interface:Informed scheduler that task   CreateTable__d167094286   has status   PENDING\n",
            "INFO: Done scheduling tasks\n",
            "INFO:luigi-interface:Done scheduling tasks\n",
            "INFO: Running Worker with 5 processes\n",
            "INFO:luigi-interface:Running Worker with 5 processes\n",
            "DEBUG: Asking scheduler for work...\n",
            "DEBUG:luigi-interface:Asking scheduler for work...\n",
            "DEBUG: Pending tasks: 2\n",
            "DEBUG:luigi-interface:Pending tasks: 2\n",
            "DEBUG: Asking scheduler for work...\n",
            "DEBUG:luigi-interface:Asking scheduler for work...\n",
            "DEBUG: Done\n",
            "DEBUG:luigi-interface:Done\n",
            "DEBUG: There are no more tasks to run at this time\n",
            "DEBUG:luigi-interface:There are no more tasks to run at this time\n",
            "DEBUG: CreateTable__d167094286 is currently run by worker Worker(salt=782463717, workers=5, host=4b9918451cd2, username=root, pid=61)\n",
            "INFO: [pid 1939] Worker Worker(salt=782463717, workers=5, host=4b9918451cd2, username=root, pid=61) running   CreateTable(test_prefix=)\n",
            "DEBUG:luigi-interface:CreateTable__d167094286 is currently run by worker Worker(salt=782463717, workers=5, host=4b9918451cd2, username=root, pid=61)\n",
            "INFO:luigi-interface:[pid 1939] Worker Worker(salt=782463717, workers=5, host=4b9918451cd2, username=root, pid=61) running   CreateTable(test_prefix=)\n"
          ]
        },
        {
          "output_type": "stream",
          "name": "stdout",
          "text": [
            "\n",
            "        CREATE TABLE IF NOT EXISTS covid_survey_covid_mask(\n",
            "            pct_covid float,\n",
            "covid_se float,\n",
            "pct_covid_unw float,\n",
            "covid_se_unw float,\n",
            "covid_sample_size NUMERIC,\n",
            "percent_mc float,\n",
            "mc_se float,\n",
            "percent_mc_unw float,\n",
            "mc_se_unw float,\n",
            "mc_sample_size NUMERIC,\n",
            "country text,\n",
            "iso_code text,\n",
            "gid_0 text,\n",
            "survey_date NUMERIC\n",
            "        );\n",
            "    \n",
            "\n",
            "\n",
            "\n"
          ]
        },
        {
          "output_type": "stream",
          "name": "stderr",
          "text": [
            "INFO: [pid 1939] Worker Worker(salt=782463717, workers=5, host=4b9918451cd2, username=root, pid=61) done      CreateTable(test_prefix=)\n",
            "INFO:luigi-interface:[pid 1939] Worker Worker(salt=782463717, workers=5, host=4b9918451cd2, username=root, pid=61) done      CreateTable(test_prefix=)\n",
            "INFO: Informed scheduler that task   CreateTable__d167094286   has status   DONE\n",
            "INFO:luigi-interface:Informed scheduler that task   CreateTable__d167094286   has status   DONE\n",
            "DEBUG: Asking scheduler for work...\n",
            "DEBUG:luigi-interface:Asking scheduler for work...\n",
            "DEBUG: Pending tasks: 1\n",
            "DEBUG:luigi-interface:Pending tasks: 1\n",
            "DEBUG: Asking scheduler for work...\n",
            "DEBUG:luigi-interface:Asking scheduler for work...\n",
            "DEBUG: Done\n",
            "DEBUG:luigi-interface:Done\n",
            "DEBUG: There are no more tasks to run at this time\n",
            "DEBUG:luigi-interface:There are no more tasks to run at this time\n",
            "DEBUG: LoadTable_2021_07_01__90be21f6f0 is currently run by worker Worker(salt=782463717, workers=5, host=4b9918451cd2, username=root, pid=61)\n",
            "DEBUG:luigi-interface:LoadTable_2021_07_01__90be21f6f0 is currently run by worker Worker(salt=782463717, workers=5, host=4b9918451cd2, username=root, pid=61)\n",
            "INFO: [pid 1957] Worker Worker(salt=782463717, workers=5, host=4b9918451cd2, username=root, pid=61) running   LoadTable(test_prefix=, date=2021-07-01)\n",
            "INFO:luigi-interface:[pid 1957] Worker Worker(salt=782463717, workers=5, host=4b9918451cd2, username=root, pid=61) running   LoadTable(test_prefix=, date=2021-07-01)\n",
            "INFO: [pid 1957] Worker Worker(salt=782463717, workers=5, host=4b9918451cd2, username=root, pid=61) done      LoadTable(test_prefix=, date=2021-07-01)\n",
            "INFO:luigi-interface:[pid 1957] Worker Worker(salt=782463717, workers=5, host=4b9918451cd2, username=root, pid=61) done      LoadTable(test_prefix=, date=2021-07-01)\n",
            "INFO: Informed scheduler that task   LoadTable_2021_07_01__90be21f6f0   has status   DONE\n",
            "INFO:luigi-interface:Informed scheduler that task   LoadTable_2021_07_01__90be21f6f0   has status   DONE\n",
            "DEBUG: Asking scheduler for work...\n",
            "DEBUG:luigi-interface:Asking scheduler for work...\n",
            "DEBUG: Done\n",
            "DEBUG:luigi-interface:Done\n",
            "DEBUG: There are no more tasks to run at this time\n",
            "DEBUG:luigi-interface:There are no more tasks to run at this time\n",
            "INFO: Worker Worker(salt=782463717, workers=5, host=4b9918451cd2, username=root, pid=61) was stopped. Shutting down Keep-Alive thread\n",
            "INFO:luigi-interface:Worker Worker(salt=782463717, workers=5, host=4b9918451cd2, username=root, pid=61) was stopped. Shutting down Keep-Alive thread\n",
            "INFO: \n",
            "===== Luigi Execution Summary =====\n",
            "\n",
            "Scheduled 2 tasks of which:\n",
            "* 2 ran successfully:\n",
            "    - 1 CreateTable(test_prefix=)\n",
            "    - 1 LoadTable(test_prefix=, date=2021-07-01)\n",
            "\n",
            "This progress looks :) because there were no failed tasks or missing dependencies\n",
            "\n",
            "===== Luigi Execution Summary =====\n",
            "\n",
            "INFO:luigi-interface:\n",
            "===== Luigi Execution Summary =====\n",
            "\n",
            "Scheduled 2 tasks of which:\n",
            "* 2 ran successfully:\n",
            "    - 1 CreateTable(test_prefix=)\n",
            "    - 1 LoadTable(test_prefix=, date=2021-07-01)\n",
            "\n",
            "This progress looks :) because there were no failed tasks or missing dependencies\n",
            "\n",
            "===== Luigi Execution Summary =====\n",
            "\n"
          ]
        }
      ]
    },
    {
      "cell_type": "markdown",
      "source": [
        "# **2.2 covid_survey_covid_mask_2.py**\n",
        "This pipeline is similar to the pipeline above — we’re still enriching the data by joining multiple tables together — but here we’re using a more scalable data schema. Can anyone tell us what is different about this? \n"
      ],
      "metadata": {
        "id": "w6oycydb1edH"
      }
    },
    {
      "cell_type": "code",
      "source": [
        "#!/usr/bin/env python\n",
        "\n",
        "import luigi\n",
        "from jinja2 import Template\n",
        "\n",
        "\n",
        "# ###################\n",
        "# AUXILIARY FUNCTIONS\n",
        "# ###################\n",
        "\n",
        "# Renders the table name for each different indicator\n",
        "def get_covid_survey_covid_mask_2_table_name(test_prefix):\n",
        "    return f'{test_prefix}covid_survey_json'\n",
        "\n",
        "\n",
        "# ##############\n",
        "# PIPELINE TASKS\n",
        "# ##############\n",
        "\n",
        "class CreateTable(luigi.Task):\n",
        "    \"\"\"\n",
        "    Creates table in database.\n",
        "    \"\"\"\n",
        "    test_prefix = luigi.Parameter(default='')\n",
        "\n",
        "    def run(self):\n",
        "        table_schema = (\n",
        "            ('percent_json', 'text'),\n",
        "            ('json_se', 'text'),\n",
        "            ('percent_json_unw', 'text'),\n",
        "            ('json_se_unw', 'text'),\n",
        "            ('json_sample_size', 'text'),\n",
        "            ('country', 'text'),\n",
        "            ('iso_code', 'text'),\n",
        "            ('gid_0', 'text'),\n",
        "            ('survey_date', 'NUMERIC'),\n",
        "        )\n",
        "        create_table(get_covid_survey_covid_mask_2_table_name(self.test_prefix), table_schema)\n",
        "\n",
        "    def output(self):\n",
        "        return TableExists(get_covid_survey_covid_mask_2_table_name(self.test_prefix))\n",
        "\n",
        "\n",
        "class LoadTable(luigi.Task):\n",
        "    \"\"\"\n",
        "    Loads report file into database.\n",
        "    \"\"\"\n",
        "    test_prefix = luigi.Parameter(default='')\n",
        "    date = luigi.Parameter()\n",
        "\n",
        "    def get_sql_filter(self):\n",
        "        return f\"survey_date = {self.date.replace('-', '')}\"\n",
        "\n",
        "    def requires(self):\n",
        "        return CreateTable(test_prefix=self.test_prefix)\n",
        "\n",
        "    def run(self):\n",
        "        # Detele data from the data we are inserting into (overwrite)\n",
        "        run_query(f\"DELETE FROM {get_covid_survey_covid_mask_2_table_name(self.test_prefix)} WHERE {self.get_sql_filter()}\")\n",
        "        # Insert data\n",
        "        run_query(Template(\"\"\"\n",
        "            INSERT INTO {{table_name}}\n",
        "            SELECT \n",
        "                    '{\"covid:\" ' || pct_covid || ', ' || '\"mask\": ' || percent_mc || '}'\n",
        "                AS percent_json,\n",
        "                    '{\"covid\": ' || covid_se || ', ' || '\"mask\": ' || mc_se || '}'\n",
        "                AS json_se,\n",
        "                    '{\"covid\": ' || pct_covid_unw || ', ' || '\"mask\": ' || percent_mc_unw || '}'\n",
        "                AS percent_json_unw,\n",
        "                    '{\"covid\": ' || covid_se_unw || ', ' || '\"mask\": ' || mc_se_unw || '}'\n",
        "                AS json_se_unw,\n",
        "                    '{\"covid\": ' || a.sample_size || ', ' || '\"mask\": ' || b.sample_size || '}'\n",
        "                AS json_sample_size,\n",
        "                a.country, \n",
        "                a.iso_code,\n",
        "                a.gid_0,\n",
        "                a.survey_date\n",
        "            FROM rpl_covid_survey_covid a\n",
        "            LEFT JOIN rpl_covid_survey_mask b\n",
        "            ON a.survey_date = b.survey_date\n",
        "            AND a.iso_code = b.iso_code\n",
        "            WHERE\n",
        "                a.survey_date = {{data_date}}\n",
        "        \"\"\").render(\n",
        "            table_name=get_covid_survey_covid_mask_2_table_name(self.test_prefix),\n",
        "            data_date=self.date.replace('-', '')\n",
        "          ), \n",
        "          True\n",
        "        )\n",
        " \n",
        "\n",
        "    def output(self):\n",
        "        return DataExists(table_name=get_covid_survey_covid_mask_2_table_name(self.test_prefix), where_clause=self.get_sql_filter())\n",
        "\n",
        "\n",
        "DATE = '2021-07-01'\n",
        "TEST_PREFIX = ''\n",
        "\n",
        "if __name__ == '__main__':\n",
        "     luigi.build(\n",
        "         [LoadTable(\n",
        "             date=DATE,\n",
        "             test_prefix=TEST_PREFIX\n",
        "        )],\n",
        "         workers=5,\n",
        "         local_scheduler=True\n",
        "    )"
      ],
      "metadata": {
        "colab": {
          "base_uri": "https://localhost:8080/"
        },
        "id": "PlA2n3Kw1dK0",
        "outputId": "21a2566a-55c7-42ee-ac92-1ebacee3d27d"
      },
      "execution_count": null,
      "outputs": [
        {
          "output_type": "stream",
          "name": "stderr",
          "text": [
            "DEBUG: Checking if LoadTable(test_prefix=, date=2021-07-01) is complete\n",
            "DEBUG:luigi-interface:Checking if LoadTable(test_prefix=, date=2021-07-01) is complete\n",
            "DEBUG: Checking if CreateTable(test_prefix=) is complete\n",
            "DEBUG:luigi-interface:Checking if CreateTable(test_prefix=) is complete\n",
            "INFO: Informed scheduler that task   LoadTable_2021_07_01__90be21f6f0   has status   PENDING\n",
            "INFO:luigi-interface:Informed scheduler that task   LoadTable_2021_07_01__90be21f6f0   has status   PENDING\n",
            "INFO: Informed scheduler that task   CreateTable__d167094286   has status   PENDING\n",
            "INFO:luigi-interface:Informed scheduler that task   CreateTable__d167094286   has status   PENDING\n",
            "INFO: Done scheduling tasks\n",
            "INFO:luigi-interface:Done scheduling tasks\n",
            "INFO: Running Worker with 5 processes\n",
            "INFO:luigi-interface:Running Worker with 5 processes\n",
            "DEBUG: Asking scheduler for work...\n",
            "DEBUG:luigi-interface:Asking scheduler for work...\n",
            "DEBUG: Pending tasks: 2\n",
            "DEBUG:luigi-interface:Pending tasks: 2\n",
            "DEBUG: Asking scheduler for work...\n",
            "DEBUG:luigi-interface:Asking scheduler for work...\n",
            "INFO: [pid 2050] Worker Worker(salt=434774988, workers=5, host=4b9918451cd2, username=root, pid=61) running   CreateTable(test_prefix=)\n",
            "DEBUG: Done\n",
            "INFO:luigi-interface:[pid 2050] Worker Worker(salt=434774988, workers=5, host=4b9918451cd2, username=root, pid=61) running   CreateTable(test_prefix=)\n",
            "DEBUG:luigi-interface:Done\n",
            "DEBUG: There are no more tasks to run at this time\n",
            "DEBUG:luigi-interface:There are no more tasks to run at this time\n",
            "DEBUG: CreateTable__d167094286 is currently run by worker Worker(salt=434774988, workers=5, host=4b9918451cd2, username=root, pid=61)\n"
          ]
        },
        {
          "output_type": "stream",
          "name": "stdout",
          "text": [
            "\n",
            "        CREATE TABLE IF NOT EXISTS covid_survey_json(\n",
            "            percent_json text,\n",
            "json_se text,\n",
            "percent_json_unw text,\n",
            "json_se_unw text,\n",
            "json_sample_size text,\n",
            "country text,\n",
            "iso_code text,\n",
            "gid_0 text,\n",
            "survey_date NUMERIC\n",
            "        );\n",
            "    "
          ]
        },
        {
          "output_type": "stream",
          "name": "stderr",
          "text": [
            "DEBUG:luigi-interface:CreateTable__d167094286 is currently run by worker Worker(salt=434774988, workers=5, host=4b9918451cd2, username=root, pid=61)\n"
          ]
        },
        {
          "output_type": "stream",
          "name": "stdout",
          "text": [
            "\n",
            "\n",
            "\n",
            "\n"
          ]
        },
        {
          "output_type": "stream",
          "name": "stderr",
          "text": [
            "INFO: [pid 2050] Worker Worker(salt=434774988, workers=5, host=4b9918451cd2, username=root, pid=61) done      CreateTable(test_prefix=)\n",
            "INFO:luigi-interface:[pid 2050] Worker Worker(salt=434774988, workers=5, host=4b9918451cd2, username=root, pid=61) done      CreateTable(test_prefix=)\n",
            "INFO: Informed scheduler that task   CreateTable__d167094286   has status   DONE\n",
            "INFO:luigi-interface:Informed scheduler that task   CreateTable__d167094286   has status   DONE\n",
            "DEBUG: Asking scheduler for work...\n",
            "DEBUG:luigi-interface:Asking scheduler for work...\n",
            "DEBUG: Pending tasks: 1\n",
            "DEBUG:luigi-interface:Pending tasks: 1\n",
            "DEBUG: Asking scheduler for work...\n",
            "DEBUG:luigi-interface:Asking scheduler for work...\n",
            "DEBUG: Done\n",
            "DEBUG:luigi-interface:Done\n",
            "DEBUG: There are no more tasks to run at this time\n",
            "DEBUG:luigi-interface:There are no more tasks to run at this time\n",
            "DEBUG: LoadTable_2021_07_01__90be21f6f0 is currently run by worker Worker(salt=434774988, workers=5, host=4b9918451cd2, username=root, pid=61)\n",
            "DEBUG:luigi-interface:LoadTable_2021_07_01__90be21f6f0 is currently run by worker Worker(salt=434774988, workers=5, host=4b9918451cd2, username=root, pid=61)\n",
            "INFO: [pid 2068] Worker Worker(salt=434774988, workers=5, host=4b9918451cd2, username=root, pid=61) running   LoadTable(test_prefix=, date=2021-07-01)\n",
            "INFO:luigi-interface:[pid 2068] Worker Worker(salt=434774988, workers=5, host=4b9918451cd2, username=root, pid=61) running   LoadTable(test_prefix=, date=2021-07-01)\n"
          ]
        },
        {
          "output_type": "stream",
          "name": "stdout",
          "text": [
            "\n",
            "            INSERT INTO covid_survey_json\n",
            "            SELECT \n",
            "                    '{\"covid:\" ' || pct_covid || ', ' || '\"mask\": ' || percent_mc || '}'\n",
            "                AS percent_json,\n",
            "                    '{\"covid\": ' || covid_se || ', ' || '\"mask\": ' || mc_se || '}'\n",
            "                AS json_se,\n",
            "                    '{\"covid\": ' || pct_covid_unw || ', ' || '\"mask\": ' || percent_mc_unw || '}'\n",
            "                AS percent_json_unw,\n",
            "                    '{\"covid\": ' || covid_se_unw || ', ' || '\"mask\": ' || mc_se_unw || '}'\n",
            "                AS json_se_unw,\n",
            "                    '{\"covid\": ' || a.sample_size || ', ' || '\"mask\": ' || b.sample_size || '}'\n",
            "                AS json_sample_size,\n",
            "                a.country, \n",
            "                a.iso_code,\n",
            "                a.gid_0,\n",
            "                a.survey_date\n",
            "            FROM rpl_covid_survey_covid a\n",
            "            LEFT JOIN rpl_covid_survey_mask b\n",
            "            ON a.survey_date = b.survey_date\n",
            "            AND a.iso_code = b.iso_code\n",
            "            WHERE\n",
            "                a.survey_date = 20210701\n",
            "        \n"
          ]
        },
        {
          "output_type": "stream",
          "name": "stderr",
          "text": [
            "INFO: [pid 2068] Worker Worker(salt=434774988, workers=5, host=4b9918451cd2, username=root, pid=61) done      LoadTable(test_prefix=, date=2021-07-01)\n",
            "INFO:luigi-interface:[pid 2068] Worker Worker(salt=434774988, workers=5, host=4b9918451cd2, username=root, pid=61) done      LoadTable(test_prefix=, date=2021-07-01)\n",
            "INFO: Informed scheduler that task   LoadTable_2021_07_01__90be21f6f0   has status   DONE\n",
            "INFO:luigi-interface:Informed scheduler that task   LoadTable_2021_07_01__90be21f6f0   has status   DONE\n",
            "DEBUG: Asking scheduler for work...\n",
            "DEBUG:luigi-interface:Asking scheduler for work...\n",
            "DEBUG: Done\n",
            "DEBUG:luigi-interface:Done\n",
            "DEBUG: There are no more tasks to run at this time\n",
            "DEBUG:luigi-interface:There are no more tasks to run at this time\n",
            "INFO: Worker Worker(salt=434774988, workers=5, host=4b9918451cd2, username=root, pid=61) was stopped. Shutting down Keep-Alive thread\n",
            "INFO:luigi-interface:Worker Worker(salt=434774988, workers=5, host=4b9918451cd2, username=root, pid=61) was stopped. Shutting down Keep-Alive thread\n",
            "INFO: \n",
            "===== Luigi Execution Summary =====\n",
            "\n",
            "Scheduled 2 tasks of which:\n",
            "* 2 ran successfully:\n",
            "    - 1 CreateTable(test_prefix=)\n",
            "    - 1 LoadTable(test_prefix=, date=2021-07-01)\n",
            "\n",
            "This progress looks :) because there were no failed tasks or missing dependencies\n",
            "\n",
            "===== Luigi Execution Summary =====\n",
            "\n",
            "INFO:luigi-interface:\n",
            "===== Luigi Execution Summary =====\n",
            "\n",
            "Scheduled 2 tasks of which:\n",
            "* 2 ran successfully:\n",
            "    - 1 CreateTable(test_prefix=)\n",
            "    - 1 LoadTable(test_prefix=, date=2021-07-01)\n",
            "\n",
            "This progress looks :) because there were no failed tasks or missing dependencies\n",
            "\n",
            "===== Luigi Execution Summary =====\n",
            "\n"
          ]
        }
      ]
    },
    {
      "cell_type": "markdown",
      "source": [
        "# **2.3 covid_survey_json.py**\n",
        "This is YET ANOTHER iteration on covid_survey_covid_mask. However, we’ve now made it fully scalable to handle a dynamic list of rpl_covid_XXX reports as input.\n",
        "\n",
        "You can see through the progression of these pipelines how we took something simpler and by making it more parameterized/scaleable, turned it into a much more useful setup. "
      ],
      "metadata": {
        "id": "HRAx6s-Z1fNG"
      }
    },
    {
      "cell_type": "code",
      "source": [
        "#!/usr/bin/env python\n",
        "\n",
        "import luigi\n",
        "from jinja2 import Template\n",
        "\n",
        "\n",
        "# ###################\n",
        "# AUXILIARY FUNCTIONS\n",
        "# ###################\n",
        "\n",
        "# Renders the table name for each different indicator\n",
        "def get_covid_surve_json_table_name(test_prefix):\n",
        "    return f'{test_prefix}covid_survey_json'\n",
        "\n",
        "\n",
        "# ##############\n",
        "# PIPELINE TASKS\n",
        "# ##############\n",
        "\n",
        "class CreateTable(luigi.Task):\n",
        "    \"\"\"\n",
        "    Creates table in database.\n",
        "    \"\"\"\n",
        "    test_prefix = luigi.Parameter(default='')\n",
        "    def run(self):\n",
        "        table_schema = (\n",
        "            ('percent_json', 'json'),\n",
        "            ('json_se', 'json'),\n",
        "            ('percent_json_unw', 'json'),\n",
        "            ('json_se_unw', 'json'),\n",
        "            ('json_sample_size', 'json'),\n",
        "            ('country', 'text'),\n",
        "            ('iso_code', 'text'),\n",
        "            ('gid_0', 'text'),\n",
        "            ('survey_date', 'NUMERIC'),\n",
        "        )\n",
        "        create_table(get_covid_surve_json_table_name(self.test_prefix), table_schema)\n",
        "\n",
        "    def output(self):\n",
        "        return TableExists(get_covid_surve_json_table_name(self.test_prefix))\n",
        "\n",
        "\n",
        "class LoadTable(luigi.Task):\n",
        "    \"\"\"\n",
        "    Loads report file into database.\n",
        "    \"\"\"\n",
        "    test_prefix = luigi.Parameter(default='')\n",
        "    date = luigi.Parameter()\n",
        "\n",
        "    def get_sql_filter(self):\n",
        "        return f\"survey_date = {self.date.replace('-','')}\"\n",
        "\n",
        "    def requires(self):\n",
        "        return CreateTable(test_prefix=self.test_prefix)\n",
        "\n",
        "    def run(self):\n",
        "\n",
        "        data_date = self.date.replace('-','')\n",
        "\n",
        "        JOIN_STATEMENT = f'{INDICATORS[0]}'\n",
        "        for i in range(1, len(INDICATORS)):\n",
        "            # NOTE: SQLite doesn't support FULL OUTER JOIN\n",
        "            JOIN_STATEMENT += \"\"\"\n",
        "                LEFT JOIN {i1}\n",
        "                ON {i0}.iso_code = {i1}.iso_code\n",
        "                AND {i0}.survey_date = {i1}.survey_date\n",
        "            \"\"\".format(i0=INDICATORS[0], i1=INDICATORS[i])\n",
        "\n",
        "        WITH_STATEMENT = ',\\n'.join(['{i} AS (SELECT * FROM rpl_covid_survey_{i} WHERE survey_date={data_date})'.format(i=i, data_date=data_date) for i in INDICATORS])\n",
        "\n",
        "        # String manipulation to concatenate different indicators withing a JSON-formatted string\n",
        "        percent_json = \" || ',' || \".join([\"\"\" '\"{i}\": ' || COALESCE(CAST({percent}_{code} AS TEXT), 'null') \"\"\".format(i=i, code=get_indicator_code(i), percent = get_pct_prefix(i)) for i in INDICATORS])\n",
        "        json_se = \" || ',' || \".join([\"\"\" '\"{i}\": ' || COALESCE(CAST({code}_se AS TEXT), 'null') \"\"\".format(i=i, code=get_indicator_code(i)) for i in INDICATORS])\n",
        "        percent_json_unw = \" || ',' || \".join([\"\"\" '\"{i}\": ' || COALESCE(CAST({percent}_{code}_unw AS TEXT), 'null') \"\"\".format(i=i, code=get_indicator_code(i), percent=get_pct_prefix(i)) for i in INDICATORS])\n",
        "        json_se_unw = \" || ',' || \".join([\"\"\" '\"{i}\": ' || COALESCE(CAST({code}_se_unw AS TEXT), 'null') \"\"\".format(i=i, code=get_indicator_code(i)) for i in INDICATORS])\n",
        "        json_sample_size = \" || ',' || \".join([\"\"\" '\"{i}\": ' || COALESCE(CAST({i}.sample_size AS TEXT), 'null') \"\"\".format(i=i) for i in INDICATORS])\n",
        "\n",
        "        country = 'COALESCE(%s)' % ', '.join([f'{i}.country' for i in INDICATORS])\n",
        "        iso_code = 'COALESCE(%s)' % ', '.join([f'{i}.iso_code' for i in INDICATORS])\n",
        "        gid_0 = 'COALESCE(%s)' % ', '.join([f'{i}.gid_0' for i in INDICATORS])\n",
        "\n",
        "        # Delete data from the data we are inserting into (overwrite)\n",
        "        run_query(f\"DELETE FROM {get_covid_surve_json_table_name(self.test_prefix)} WHERE {self.get_sql_filter()}\")\n",
        "        # Insert data\n",
        "        query = Template(\"\"\"\n",
        "            WITH {{WITH_STATEMENT}}\n",
        "            INSERT INTO {{table_name}}\n",
        "            SELECT\n",
        "                '{' || {{percent_json}} || '}'\n",
        "                AS percent_json,\n",
        "                '{' || {{json_se}} || '}'\n",
        "                AS json_se,\n",
        "                '{' || {{percent_json_unw}} || '}'\n",
        "                AS percent_json_unw,\n",
        "                '{' || {{json_se_unw}} || '}'\n",
        "                AS json_se_unw,\n",
        "                '{' || {{json_sample_size}} || '}'\n",
        "                AS json_sample_size,\n",
        "                {{country}} AS country, \n",
        "                {{iso_code}} AS iso_code,\n",
        "                {{gid_0}} AS gid_0,\n",
        "                {{data_date}} AS survey_date\n",
        "            FROM {{JOIN_STATEMENT}}\n",
        "        \"\"\").render(\n",
        "            table_name=get_covid_surve_json_table_name(self.test_prefix),\n",
        "            data_date=data_date,\n",
        "            WITH_STATEMENT=WITH_STATEMENT,\n",
        "            JOIN_STATEMENT=JOIN_STATEMENT,\n",
        "            percent_json=percent_json,\n",
        "            json_se=json_se,\n",
        "            percent_json_unw=percent_json_unw,\n",
        "            json_se_unw=json_se_unw,\n",
        "            json_sample_size=json_sample_size,\n",
        "            country=country,\n",
        "            iso_code=iso_code,\n",
        "            gid_0=gid_0,\n",
        "        )\n",
        "        print(query)\n",
        "        run_query(query, True)\n",
        "\n",
        "    def output(self):\n",
        "        return DataExists(table_name=get_covid_surve_json_table_name(self.test_prefix), where_clause=self.get_sql_filter())\n",
        "\n",
        "\n",
        "DATE = '2021-07-01'\n",
        "TEST_PREFIX = ''\n",
        "\n",
        "if __name__ == '__main__':\n",
        "     luigi.build(\n",
        "         [LoadTable(\n",
        "             date=DATE,\n",
        "             test_prefix=TEST_PREFIX\n",
        "        )],\n",
        "         workers=5,\n",
        "         local_scheduler=True\n",
        "    )\n"
      ],
      "metadata": {
        "colab": {
          "base_uri": "https://localhost:8080/"
        },
        "id": "LSRUjRyixkXa",
        "outputId": "dc0f697b-5f83-4bde-8303-e012a96415fd"
      },
      "execution_count": null,
      "outputs": [
        {
          "output_type": "stream",
          "name": "stderr",
          "text": [
            "DEBUG: Checking if LoadTable(test_prefix=, date=2021-07-01) is complete\n",
            "DEBUG:luigi-interface:Checking if LoadTable(test_prefix=, date=2021-07-01) is complete\n",
            "DEBUG: Checking if CreateTable(test_prefix=) is complete\n",
            "DEBUG:luigi-interface:Checking if CreateTable(test_prefix=) is complete\n",
            "INFO: Informed scheduler that task   LoadTable_2021_07_01__90be21f6f0   has status   PENDING\n",
            "INFO:luigi-interface:Informed scheduler that task   LoadTable_2021_07_01__90be21f6f0   has status   PENDING\n",
            "INFO: Informed scheduler that task   CreateTable__d167094286   has status   PENDING\n",
            "INFO:luigi-interface:Informed scheduler that task   CreateTable__d167094286   has status   PENDING\n",
            "INFO: Done scheduling tasks\n",
            "INFO:luigi-interface:Done scheduling tasks\n",
            "INFO: Running Worker with 5 processes\n",
            "INFO:luigi-interface:Running Worker with 5 processes\n",
            "DEBUG: Asking scheduler for work...\n",
            "DEBUG:luigi-interface:Asking scheduler for work...\n",
            "DEBUG: Pending tasks: 2\n",
            "DEBUG:luigi-interface:Pending tasks: 2\n",
            "DEBUG: Asking scheduler for work...\n",
            "DEBUG:luigi-interface:Asking scheduler for work...\n",
            "DEBUG: Done\n",
            "DEBUG:luigi-interface:Done\n",
            "DEBUG: There are no more tasks to run at this time\n",
            "DEBUG:luigi-interface:There are no more tasks to run at this time\n",
            "DEBUG: CreateTable__d167094286 is currently run by worker Worker(salt=584550454, workers=5, host=4b9918451cd2, username=root, pid=61)\n",
            "DEBUG:luigi-interface:CreateTable__d167094286 is currently run by worker Worker(salt=584550454, workers=5, host=4b9918451cd2, username=root, pid=61)\n",
            "INFO: [pid 2266] Worker Worker(salt=584550454, workers=5, host=4b9918451cd2, username=root, pid=61) running   CreateTable(test_prefix=)\n",
            "INFO:luigi-interface:[pid 2266] Worker Worker(salt=584550454, workers=5, host=4b9918451cd2, username=root, pid=61) running   CreateTable(test_prefix=)\n"
          ]
        },
        {
          "output_type": "stream",
          "name": "stdout",
          "text": [
            "\n",
            "\n",
            "        CREATE TABLE IF NOT EXISTS covid_survey_json(\n",
            "            percent_json json,\n",
            "json_se json,\n",
            "percent_json_unw json,\n",
            "json_se_unw json,\n",
            "json_sample_size json,\n",
            "country text,\n",
            "iso_code text,\n",
            "gid_0 text,\n",
            "survey_date NUMERIC\n",
            "        );\n",
            "    \n",
            "\n",
            "\n"
          ]
        },
        {
          "output_type": "stream",
          "name": "stderr",
          "text": [
            "INFO: [pid 2266] Worker Worker(salt=584550454, workers=5, host=4b9918451cd2, username=root, pid=61) done      CreateTable(test_prefix=)\n",
            "INFO: Informed scheduler that task   CreateTable__d167094286   has status   DONE\n",
            "INFO:luigi-interface:[pid 2266] Worker Worker(salt=584550454, workers=5, host=4b9918451cd2, username=root, pid=61) done      CreateTable(test_prefix=)\n",
            "INFO:luigi-interface:Informed scheduler that task   CreateTable__d167094286   has status   DONE\n",
            "DEBUG: Asking scheduler for work...\n",
            "DEBUG:luigi-interface:Asking scheduler for work...\n",
            "DEBUG: Pending tasks: 1\n",
            "DEBUG:luigi-interface:Pending tasks: 1\n",
            "DEBUG: Asking scheduler for work...\n",
            "DEBUG:luigi-interface:Asking scheduler for work...\n",
            "DEBUG: Done\n",
            "DEBUG:luigi-interface:Done\n",
            "DEBUG: There are no more tasks to run at this time\n",
            "DEBUG:luigi-interface:There are no more tasks to run at this time\n",
            "DEBUG: LoadTable_2021_07_01__90be21f6f0 is currently run by worker Worker(salt=584550454, workers=5, host=4b9918451cd2, username=root, pid=61)\n",
            "DEBUG:luigi-interface:LoadTable_2021_07_01__90be21f6f0 is currently run by worker Worker(salt=584550454, workers=5, host=4b9918451cd2, username=root, pid=61)\n",
            "INFO: [pid 2284] Worker Worker(salt=584550454, workers=5, host=4b9918451cd2, username=root, pid=61) running   LoadTable(test_prefix=, date=2021-07-01)\n",
            "INFO:luigi-interface:[pid 2284] Worker Worker(salt=584550454, workers=5, host=4b9918451cd2, username=root, pid=61) running   LoadTable(test_prefix=, date=2021-07-01)\n"
          ]
        },
        {
          "output_type": "stream",
          "name": "stdout",
          "text": [
            "\n",
            "            WITH covid AS (SELECT * FROM rpl_covid_survey_covid WHERE survey_date=20210701),\n",
            "mask AS (SELECT * FROM rpl_covid_survey_mask WHERE survey_date=20210701),\n",
            "covid_vaccine AS (SELECT * FROM rpl_covid_survey_covid_vaccine WHERE survey_date=20210701),\n",
            "anosmia AS (SELECT * FROM rpl_covid_survey_anosmia WHERE survey_date=20210701),\n",
            "tested_positive_14d AS (SELECT * FROM rpl_covid_survey_tested_positive_14d WHERE survey_date=20210701)\n",
            "            INSERT INTO covid_survey_json\n",
            "            SELECT\n",
            "                '{' ||  '\"covid\": ' || COALESCE(CAST(pct_covid AS TEXT), 'null')  || ',' ||  '\"mask\": ' || COALESCE(CAST(percent_mc AS TEXT), 'null')  || ',' ||  '\"covid_vaccine\": ' || COALESCE(CAST(pct_covid_vaccine AS TEXT), 'null')  || ',' ||  '\"anosmia\": ' || COALESCE(CAST(percent_anos AS TEXT), 'null')  || ',' ||  '\"tested_positive_14d\": ' || COALESCE(CAST(pct_tested_positive_14d AS TEXT), 'null')  || '}'\n",
            "                AS percent_json,\n",
            "                '{' ||  '\"covid\": ' || COALESCE(CAST(covid_se AS TEXT), 'null')  || ',' ||  '\"mask\": ' || COALESCE(CAST(mc_se AS TEXT), 'null')  || ',' ||  '\"covid_vaccine\": ' || COALESCE(CAST(covid_vaccine_se AS TEXT), 'null')  || ',' ||  '\"anosmia\": ' || COALESCE(CAST(anos_se AS TEXT), 'null')  || ',' ||  '\"tested_positive_14d\": ' || COALESCE(CAST(tested_positive_14d_se AS TEXT), 'null')  || '}'\n",
            "                AS json_se,\n",
            "                '{' ||  '\"covid\": ' || COALESCE(CAST(pct_covid_unw AS TEXT), 'null')  || ',' ||  '\"mask\": ' || COALESCE(CAST(percent_mc_unw AS TEXT), 'null')  || ',' ||  '\"covid_vaccine\": ' || COALESCE(CAST(pct_covid_vaccine_unw AS TEXT), 'null')  || ',' ||  '\"anosmia\": ' || COALESCE(CAST(percent_anos_unw AS TEXT), 'null')  || ',' ||  '\"tested_positive_14d\": ' || COALESCE(CAST(pct_tested_positive_14d_unw AS TEXT), 'null')  || '}'\n",
            "                AS percent_json_unw,\n",
            "                '{' ||  '\"covid\": ' || COALESCE(CAST(covid_se_unw AS TEXT), 'null')  || ',' ||  '\"mask\": ' || COALESCE(CAST(mc_se_unw AS TEXT), 'null')  || ',' ||  '\"covid_vaccine\": ' || COALESCE(CAST(covid_vaccine_se_unw AS TEXT), 'null')  || ',' ||  '\"anosmia\": ' || COALESCE(CAST(anos_se_unw AS TEXT), 'null')  || ',' ||  '\"tested_positive_14d\": ' || COALESCE(CAST(tested_positive_14d_se_unw AS TEXT), 'null')  || '}'\n",
            "                AS json_se_unw,\n",
            "                '{' ||  '\"covid\": ' || COALESCE(CAST(covid.sample_size AS TEXT), 'null')  || ',' ||  '\"mask\": ' || COALESCE(CAST(mask.sample_size AS TEXT), 'null')  || ',' ||  '\"covid_vaccine\": ' || COALESCE(CAST(covid_vaccine.sample_size AS TEXT), 'null')  || ',' ||  '\"anosmia\": ' || COALESCE(CAST(anosmia.sample_size AS TEXT), 'null')  || ',' ||  '\"tested_positive_14d\": ' || COALESCE(CAST(tested_positive_14d.sample_size AS TEXT), 'null')  || '}'\n",
            "                AS json_sample_size,\n",
            "                COALESCE(covid.country, mask.country, covid_vaccine.country, anosmia.country, tested_positive_14d.country) AS country, \n",
            "                COALESCE(covid.iso_code, mask.iso_code, covid_vaccine.iso_code, anosmia.iso_code, tested_positive_14d.iso_code) AS iso_code,\n",
            "                COALESCE(covid.gid_0, mask.gid_0, covid_vaccine.gid_0, anosmia.gid_0, tested_positive_14d.gid_0) AS gid_0,\n",
            "                20210701 AS survey_date\n",
            "            FROM covid\n",
            "                LEFT JOIN mask\n",
            "                ON covid.iso_code = mask.iso_code\n",
            "                AND covid.survey_date = mask.survey_date\n",
            "            \n",
            "                LEFT JOIN covid_vaccine\n",
            "                ON covid.iso_code = covid_vaccine.iso_code\n",
            "                AND covid.survey_date = covid_vaccine.survey_date\n",
            "            \n",
            "                LEFT JOIN anosmia\n",
            "                ON covid.iso_code = anosmia.iso_code\n",
            "                AND covid.survey_date = anosmia.survey_date\n",
            "            \n",
            "                LEFT JOIN tested_positive_14d\n",
            "                ON covid.iso_code = tested_positive_14d.iso_code\n",
            "                AND covid.survey_date = tested_positive_14d.survey_date\n",
            "            \n",
            "        \n",
            "\n",
            "            WITH covid AS (SELECT * FROM rpl_covid_survey_covid WHERE survey_date=20210701),\n",
            "mask AS (SELECT * FROM rpl_covid_survey_mask WHERE survey_date=20210701),\n",
            "covid_vaccine AS (SELECT * FROM rpl_covid_survey_covid_vaccine WHERE survey_date=20210701),\n",
            "anosmia AS (SELECT * FROM rpl_covid_survey_anosmia WHERE survey_date=20210701),\n",
            "tested_positive_14d AS (SELECT * FROM rpl_covid_survey_tested_positive_14d WHERE survey_date=20210701)\n",
            "            INSERT INTO covid_survey_json\n",
            "            SELECT\n",
            "                '{' ||  '\"covid\": ' || COALESCE(CAST(pct_covid AS TEXT), 'null')  || ',' ||  '\"mask\": ' || COALESCE(CAST(percent_mc AS TEXT), 'null')  || ',' ||  '\"covid_vaccine\": ' || COALESCE(CAST(pct_covid_vaccine AS TEXT), 'null')  || ',' ||  '\"anosmia\": ' || COALESCE(CAST(percent_anos AS TEXT), 'null')  || ',' ||  '\"tested_positive_14d\": ' || COALESCE(CAST(pct_tested_positive_14d AS TEXT), 'null')  || '}'\n",
            "                AS percent_json,\n",
            "                '{' ||  '\"covid\": ' || COALESCE(CAST(covid_se AS TEXT), 'null')  || ',' ||  '\"mask\": ' || COALESCE(CAST(mc_se AS TEXT), 'null')  || ',' ||  '\"covid_vaccine\": ' || COALESCE(CAST(covid_vaccine_se AS TEXT), 'null')  || ',' ||  '\"anosmia\": ' || COALESCE(CAST(anos_se AS TEXT), 'null')  || ',' ||  '\"tested_positive_14d\": ' || COALESCE(CAST(tested_positive_14d_se AS TEXT), 'null')  || '}'\n",
            "                AS json_se,\n",
            "                '{' ||  '\"covid\": ' || COALESCE(CAST(pct_covid_unw AS TEXT), 'null')  || ',' ||  '\"mask\": ' || COALESCE(CAST(percent_mc_unw AS TEXT), 'null')  || ',' ||  '\"covid_vaccine\": ' || COALESCE(CAST(pct_covid_vaccine_unw AS TEXT), 'null')  || ',' ||  '\"anosmia\": ' || COALESCE(CAST(percent_anos_unw AS TEXT), 'null')  || ',' ||  '\"tested_positive_14d\": ' || COALESCE(CAST(pct_tested_positive_14d_unw AS TEXT), 'null')  || '}'\n",
            "                AS percent_json_unw,\n",
            "                '{' ||  '\"covid\": ' || COALESCE(CAST(covid_se_unw AS TEXT), 'null')  || ',' ||  '\"mask\": ' || COALESCE(CAST(mc_se_unw AS TEXT), 'null')  || ',' ||  '\"covid_vaccine\": ' || COALESCE(CAST(covid_vaccine_se_unw AS TEXT), 'null')  || ',' ||  '\"anosmia\": ' || COALESCE(CAST(anos_se_unw AS TEXT), 'null')  || ',' ||  '\"tested_positive_14d\": ' || COALESCE(CAST(tested_positive_14d_se_unw AS TEXT), 'null')  || '}'\n",
            "                AS json_se_unw,\n",
            "                '{' ||  '\"covid\": ' || COALESCE(CAST(covid.sample_size AS TEXT), 'null')  || ',' ||  '\"mask\": ' || COALESCE(CAST(mask.sample_size AS TEXT), 'null')  || ',' ||  '\"covid_vaccine\": ' || COALESCE(CAST(covid_vaccine.sample_size AS TEXT), 'null')  || ',' ||  '\"anosmia\": ' || COALESCE(CAST(anosmia.sample_size AS TEXT), 'null')  || ',' ||  '\"tested_positive_14d\": ' || COALESCE(CAST(tested_positive_14d.sample_size AS TEXT), 'null')  || '}'\n",
            "                AS json_sample_size,\n",
            "                COALESCE(covid.country, mask.country, covid_vaccine.country, anosmia.country, tested_positive_14d.country) AS country, \n",
            "                COALESCE(covid.iso_code, mask.iso_code, covid_vaccine.iso_code, anosmia.iso_code, tested_positive_14d.iso_code) AS iso_code,\n",
            "                COALESCE(covid.gid_0, mask.gid_0, covid_vaccine.gid_0, anosmia.gid_0, tested_positive_14d.gid_0) AS gid_0,\n",
            "                20210701 AS survey_date\n",
            "            FROM covid\n",
            "                LEFT JOIN mask\n",
            "                ON covid.iso_code = mask.iso_code\n",
            "                AND covid.survey_date = mask.survey_date\n",
            "            \n",
            "                LEFT JOIN covid_vaccine\n",
            "                ON covid.iso_code = covid_vaccine.iso_code\n",
            "                AND covid.survey_date = covid_vaccine.survey_date\n",
            "            \n",
            "                LEFT JOIN anosmia\n",
            "                ON covid.iso_code = anosmia.iso_code\n",
            "                AND covid.survey_date = anosmia.survey_date\n",
            "            \n",
            "                LEFT JOIN tested_positive_14d\n",
            "                ON covid.iso_code = tested_positive_14d.iso_code\n",
            "                AND covid.survey_date = tested_positive_14d.survey_date\n",
            "            \n",
            "        \n"
          ]
        },
        {
          "output_type": "stream",
          "name": "stderr",
          "text": [
            "INFO: [pid 2284] Worker Worker(salt=584550454, workers=5, host=4b9918451cd2, username=root, pid=61) done      LoadTable(test_prefix=, date=2021-07-01)\n",
            "INFO:luigi-interface:[pid 2284] Worker Worker(salt=584550454, workers=5, host=4b9918451cd2, username=root, pid=61) done      LoadTable(test_prefix=, date=2021-07-01)\n",
            "INFO: Informed scheduler that task   LoadTable_2021_07_01__90be21f6f0   has status   DONE\n",
            "INFO:luigi-interface:Informed scheduler that task   LoadTable_2021_07_01__90be21f6f0   has status   DONE\n",
            "DEBUG: Asking scheduler for work...\n",
            "DEBUG:luigi-interface:Asking scheduler for work...\n",
            "DEBUG: Done\n",
            "DEBUG:luigi-interface:Done\n",
            "DEBUG: There are no more tasks to run at this time\n",
            "DEBUG:luigi-interface:There are no more tasks to run at this time\n",
            "INFO: Worker Worker(salt=584550454, workers=5, host=4b9918451cd2, username=root, pid=61) was stopped. Shutting down Keep-Alive thread\n",
            "INFO:luigi-interface:Worker Worker(salt=584550454, workers=5, host=4b9918451cd2, username=root, pid=61) was stopped. Shutting down Keep-Alive thread\n",
            "INFO: \n",
            "===== Luigi Execution Summary =====\n",
            "\n",
            "Scheduled 2 tasks of which:\n",
            "* 2 ran successfully:\n",
            "    - 1 CreateTable(test_prefix=)\n",
            "    - 1 LoadTable(test_prefix=, date=2021-07-01)\n",
            "\n",
            "This progress looks :) because there were no failed tasks or missing dependencies\n",
            "\n",
            "===== Luigi Execution Summary =====\n",
            "\n",
            "INFO:luigi-interface:\n",
            "===== Luigi Execution Summary =====\n",
            "\n",
            "Scheduled 2 tasks of which:\n",
            "* 2 ran successfully:\n",
            "    - 1 CreateTable(test_prefix=)\n",
            "    - 1 LoadTable(test_prefix=, date=2021-07-01)\n",
            "\n",
            "This progress looks :) because there were no failed tasks or missing dependencies\n",
            "\n",
            "===== Luigi Execution Summary =====\n",
            "\n"
          ]
        }
      ]
    },
    {
      "cell_type": "markdown",
      "source": [
        "# 3. Try yourself!\n",
        "1. We are only retrieving a few **<u>countries</u>**... How could we add some more? See the [list of countries](https://covidmap.umd.edu/api/country) available in the survey. Also, are you interested in any **<u>other indicators</u>**? Check the [full list](https://gisumd.github.io/COVID-19-API-Documentation/docs/indicators/indicators_all.html) on the API documentation.\n",
        "2. Here we are only retrieving **<u>data from a single day</u>**... How could we get data for more?\n",
        "3. What analysis could you run with this? What **<u>other relevant information</u>** would you add to our database to enable better analsys?\n"
      ],
      "metadata": {
        "id": "WuZ9me6YAuFV"
      }
    },
    {
      "cell_type": "markdown",
      "source": [
        "# 4. Data Exploration"
      ],
      "metadata": {
        "id": "S5mBGkGM66MB"
      }
    },
    {
      "cell_type": "code",
      "source": [
        "!pip install plotly"
      ],
      "metadata": {
        "colab": {
          "base_uri": "https://localhost:8080/"
        },
        "id": "aULJLzgQ4n0L",
        "outputId": "25ad4922-279d-4f0a-ac72-7c4e6457eff1"
      },
      "execution_count": null,
      "outputs": [
        {
          "output_type": "stream",
          "name": "stdout",
          "text": [
            "Looking in indexes: https://pypi.org/simple, https://us-python.pkg.dev/colab-wheels/public/simple/\n",
            "Requirement already satisfied: plotly in /usr/local/lib/python3.7/dist-packages (5.5.0)\n",
            "Requirement already satisfied: tenacity>=6.2.0 in /usr/local/lib/python3.7/dist-packages (from plotly) (8.0.1)\n",
            "Requirement already satisfied: six in /usr/local/lib/python3.7/dist-packages (from plotly) (1.15.0)\n"
          ]
        }
      ]
    },
    {
      "cell_type": "code",
      "source": [
        "query_db(\"SELECT percent_json, json_se, json_sample_size FROM covid_survey_json LIMIT 10\")"
      ],
      "metadata": {
        "colab": {
          "base_uri": "https://localhost:8080/",
          "height": 297
        },
        "id": "O00MVUrzMEmQ",
        "outputId": "ac1d3d6f-3892-46a3-8fdd-1b56253f7254"
      },
      "execution_count": null,
      "outputs": [
        {
          "output_type": "execute_result",
          "data": {
            "text/plain": [
              "                                        percent_json  \\\n",
              "0  {\"covid\": 0.062552,\"mask\": 0.897014,\"covid_vac...   \n",
              "1  {\"covid\": 0.016443,\"mask\": 0.893224,\"covid_vac...   \n",
              "2  {\"covid\": 0.010525,\"mask\": 0.568328,\"covid_vac...   \n",
              "3  {\"covid\": 0.007516,\"mask\": 0.921133,\"covid_vac...   \n",
              "4  {\"covid\": 0.186964,\"mask\": 0.462942,\"covid_vac...   \n",
              "5  {\"covid\": 0.081996,\"mask\": 0.853899,\"covid_vac...   \n",
              "6  {\"covid\": 0.003485,\"mask\": 0.697497,\"covid_vac...   \n",
              "7  {\"covid\": 0.004077,\"mask\": 0.963163,\"covid_vac...   \n",
              "\n",
              "                                             json_se  \\\n",
              "0  {\"covid\": 0.008985,\"mask\": 0.013687,\"covid_vac...   \n",
              "1  {\"covid\": 0.003064,\"mask\": 0.008383,\"covid_vac...   \n",
              "2  {\"covid\": 0.003438,\"mask\": 0.015636,\"covid_vac...   \n",
              "3  {\"covid\": 0.002026,\"mask\": 0.011344,\"covid_vac...   \n",
              "4  {\"covid\": 0.08315,\"mask\": 0.04495,\"covid_vacci...   \n",
              "5  {\"covid\": 0.020163,\"mask\": 0.026508,\"covid_vac...   \n",
              "6  {\"covid\": 0.002545,\"mask\": 0.024835,\"covid_vac...   \n",
              "7  {\"covid\": 0.001014,\"mask\": 0.003969,\"covid_vac...   \n",
              "\n",
              "                                    json_sample_size  \n",
              "0  {\"covid\": 1011,\"mask\": 913,\"covid_vaccine\": 97...  \n",
              "1  {\"covid\": 2507,\"mask\": 2330,\"covid_vaccine\": n...  \n",
              "2  {\"covid\": 1291,\"mask\": 1205,\"covid_vaccine\": n...  \n",
              "3  {\"covid\": 1819,\"mask\": 1712,\"covid_vaccine\": 1...  \n",
              "4  {\"covid\": 367,\"mask\": 295,\"covid_vaccine\": 333...  \n",
              "5  {\"covid\": 351,\"mask\": 312,\"covid_vaccine\": 332...  \n",
              "6  {\"covid\": 540,\"mask\": 502,\"covid_vaccine\": 527...  \n",
              "7  {\"covid\": 5916,\"mask\": 5580,\"covid_vaccine\": 5...  "
            ],
            "text/html": [
              "\n",
              "  <div id=\"df-9af1c8c5-5ab7-4c91-a4b9-8a868d0e3cb6\">\n",
              "    <div class=\"colab-df-container\">\n",
              "      <div>\n",
              "<style scoped>\n",
              "    .dataframe tbody tr th:only-of-type {\n",
              "        vertical-align: middle;\n",
              "    }\n",
              "\n",
              "    .dataframe tbody tr th {\n",
              "        vertical-align: top;\n",
              "    }\n",
              "\n",
              "    .dataframe thead th {\n",
              "        text-align: right;\n",
              "    }\n",
              "</style>\n",
              "<table border=\"1\" class=\"dataframe\">\n",
              "  <thead>\n",
              "    <tr style=\"text-align: right;\">\n",
              "      <th></th>\n",
              "      <th>percent_json</th>\n",
              "      <th>json_se</th>\n",
              "      <th>json_sample_size</th>\n",
              "    </tr>\n",
              "  </thead>\n",
              "  <tbody>\n",
              "    <tr>\n",
              "      <th>0</th>\n",
              "      <td>{\"covid\": 0.062552,\"mask\": 0.897014,\"covid_vac...</td>\n",
              "      <td>{\"covid\": 0.008985,\"mask\": 0.013687,\"covid_vac...</td>\n",
              "      <td>{\"covid\": 1011,\"mask\": 913,\"covid_vaccine\": 97...</td>\n",
              "    </tr>\n",
              "    <tr>\n",
              "      <th>1</th>\n",
              "      <td>{\"covid\": 0.016443,\"mask\": 0.893224,\"covid_vac...</td>\n",
              "      <td>{\"covid\": 0.003064,\"mask\": 0.008383,\"covid_vac...</td>\n",
              "      <td>{\"covid\": 2507,\"mask\": 2330,\"covid_vaccine\": n...</td>\n",
              "    </tr>\n",
              "    <tr>\n",
              "      <th>2</th>\n",
              "      <td>{\"covid\": 0.010525,\"mask\": 0.568328,\"covid_vac...</td>\n",
              "      <td>{\"covid\": 0.003438,\"mask\": 0.015636,\"covid_vac...</td>\n",
              "      <td>{\"covid\": 1291,\"mask\": 1205,\"covid_vaccine\": n...</td>\n",
              "    </tr>\n",
              "    <tr>\n",
              "      <th>3</th>\n",
              "      <td>{\"covid\": 0.007516,\"mask\": 0.921133,\"covid_vac...</td>\n",
              "      <td>{\"covid\": 0.002026,\"mask\": 0.011344,\"covid_vac...</td>\n",
              "      <td>{\"covid\": 1819,\"mask\": 1712,\"covid_vaccine\": 1...</td>\n",
              "    </tr>\n",
              "    <tr>\n",
              "      <th>4</th>\n",
              "      <td>{\"covid\": 0.186964,\"mask\": 0.462942,\"covid_vac...</td>\n",
              "      <td>{\"covid\": 0.08315,\"mask\": 0.04495,\"covid_vacci...</td>\n",
              "      <td>{\"covid\": 367,\"mask\": 295,\"covid_vaccine\": 333...</td>\n",
              "    </tr>\n",
              "    <tr>\n",
              "      <th>5</th>\n",
              "      <td>{\"covid\": 0.081996,\"mask\": 0.853899,\"covid_vac...</td>\n",
              "      <td>{\"covid\": 0.020163,\"mask\": 0.026508,\"covid_vac...</td>\n",
              "      <td>{\"covid\": 351,\"mask\": 312,\"covid_vaccine\": 332...</td>\n",
              "    </tr>\n",
              "    <tr>\n",
              "      <th>6</th>\n",
              "      <td>{\"covid\": 0.003485,\"mask\": 0.697497,\"covid_vac...</td>\n",
              "      <td>{\"covid\": 0.002545,\"mask\": 0.024835,\"covid_vac...</td>\n",
              "      <td>{\"covid\": 540,\"mask\": 502,\"covid_vaccine\": 527...</td>\n",
              "    </tr>\n",
              "    <tr>\n",
              "      <th>7</th>\n",
              "      <td>{\"covid\": 0.004077,\"mask\": 0.963163,\"covid_vac...</td>\n",
              "      <td>{\"covid\": 0.001014,\"mask\": 0.003969,\"covid_vac...</td>\n",
              "      <td>{\"covid\": 5916,\"mask\": 5580,\"covid_vaccine\": 5...</td>\n",
              "    </tr>\n",
              "  </tbody>\n",
              "</table>\n",
              "</div>\n",
              "      <button class=\"colab-df-convert\" onclick=\"convertToInteractive('df-9af1c8c5-5ab7-4c91-a4b9-8a868d0e3cb6')\"\n",
              "              title=\"Convert this dataframe to an interactive table.\"\n",
              "              style=\"display:none;\">\n",
              "        \n",
              "  <svg xmlns=\"http://www.w3.org/2000/svg\" height=\"24px\"viewBox=\"0 0 24 24\"\n",
              "       width=\"24px\">\n",
              "    <path d=\"M0 0h24v24H0V0z\" fill=\"none\"/>\n",
              "    <path d=\"M18.56 5.44l.94 2.06.94-2.06 2.06-.94-2.06-.94-.94-2.06-.94 2.06-2.06.94zm-11 1L8.5 8.5l.94-2.06 2.06-.94-2.06-.94L8.5 2.5l-.94 2.06-2.06.94zm10 10l.94 2.06.94-2.06 2.06-.94-2.06-.94-.94-2.06-.94 2.06-2.06.94z\"/><path d=\"M17.41 7.96l-1.37-1.37c-.4-.4-.92-.59-1.43-.59-.52 0-1.04.2-1.43.59L10.3 9.45l-7.72 7.72c-.78.78-.78 2.05 0 2.83L4 21.41c.39.39.9.59 1.41.59.51 0 1.02-.2 1.41-.59l7.78-7.78 2.81-2.81c.8-.78.8-2.07 0-2.86zM5.41 20L4 18.59l7.72-7.72 1.47 1.35L5.41 20z\"/>\n",
              "  </svg>\n",
              "      </button>\n",
              "      \n",
              "  <style>\n",
              "    .colab-df-container {\n",
              "      display:flex;\n",
              "      flex-wrap:wrap;\n",
              "      gap: 12px;\n",
              "    }\n",
              "\n",
              "    .colab-df-convert {\n",
              "      background-color: #E8F0FE;\n",
              "      border: none;\n",
              "      border-radius: 50%;\n",
              "      cursor: pointer;\n",
              "      display: none;\n",
              "      fill: #1967D2;\n",
              "      height: 32px;\n",
              "      padding: 0 0 0 0;\n",
              "      width: 32px;\n",
              "    }\n",
              "\n",
              "    .colab-df-convert:hover {\n",
              "      background-color: #E2EBFA;\n",
              "      box-shadow: 0px 1px 2px rgba(60, 64, 67, 0.3), 0px 1px 3px 1px rgba(60, 64, 67, 0.15);\n",
              "      fill: #174EA6;\n",
              "    }\n",
              "\n",
              "    [theme=dark] .colab-df-convert {\n",
              "      background-color: #3B4455;\n",
              "      fill: #D2E3FC;\n",
              "    }\n",
              "\n",
              "    [theme=dark] .colab-df-convert:hover {\n",
              "      background-color: #434B5C;\n",
              "      box-shadow: 0px 1px 3px 1px rgba(0, 0, 0, 0.15);\n",
              "      filter: drop-shadow(0px 1px 2px rgba(0, 0, 0, 0.3));\n",
              "      fill: #FFFFFF;\n",
              "    }\n",
              "  </style>\n",
              "\n",
              "      <script>\n",
              "        const buttonEl =\n",
              "          document.querySelector('#df-9af1c8c5-5ab7-4c91-a4b9-8a868d0e3cb6 button.colab-df-convert');\n",
              "        buttonEl.style.display =\n",
              "          google.colab.kernel.accessAllowed ? 'block' : 'none';\n",
              "\n",
              "        async function convertToInteractive(key) {\n",
              "          const element = document.querySelector('#df-9af1c8c5-5ab7-4c91-a4b9-8a868d0e3cb6');\n",
              "          const dataTable =\n",
              "            await google.colab.kernel.invokeFunction('convertToInteractive',\n",
              "                                                     [key], {});\n",
              "          if (!dataTable) return;\n",
              "\n",
              "          const docLinkHtml = 'Like what you see? Visit the ' +\n",
              "            '<a target=\"_blank\" href=https://colab.research.google.com/notebooks/data_table.ipynb>data table notebook</a>'\n",
              "            + ' to learn more about interactive tables.';\n",
              "          element.innerHTML = '';\n",
              "          dataTable['output_type'] = 'display_data';\n",
              "          await google.colab.output.renderOutput(dataTable, element);\n",
              "          const docLink = document.createElement('div');\n",
              "          docLink.innerHTML = docLinkHtml;\n",
              "          element.appendChild(docLink);\n",
              "        }\n",
              "      </script>\n",
              "    </div>\n",
              "  </div>\n",
              "  "
            ]
          },
          "metadata": {},
          "execution_count": 40
        }
      ]
    },
    {
      "cell_type": "code",
      "source": [
        "import plotly.express as px\n",
        "import json\n",
        "\n",
        "indicators = ['mask', 'covid_vaccine',\n",
        "              'anosmia', 'covid']\n",
        "\n",
        "for indicator in indicators:\n",
        "    df = query_db(f\"\"\"\n",
        "        SELECT\n",
        "            iso_code,\n",
        "            country,\n",
        "            percent_json\n",
        "        FROM covid_survey_json\n",
        "        WHERE survey_date = 20210701\n",
        "        \"\"\")\n",
        "\n",
        "    def json_extract(text, key):\n",
        "      try:\n",
        "        return json.loads(text)[key]\n",
        "      except:\n",
        "        print(text)\n",
        "\n",
        "    df[indicator] = df['percent_json'].apply(lambda x: json_extract(x, indicator))\n",
        "\n",
        "    fig = px.choropleth(df, locations=\"iso_code\",\n",
        "                        title= f\"World Map: {indicator} (%)\",\n",
        "                        color=indicator, \n",
        "                        hover_name=\"country\",\n",
        "                        color_continuous_scale=px.colors.sequential.Plasma)\n",
        "    fig.show()"
      ],
      "metadata": {
        "colab": {
          "base_uri": "https://localhost:8080/",
          "height": 1000
        },
        "id": "KqJp-W_UJoEg",
        "outputId": "c51009a6-341f-40a6-a76b-3c7739466421"
      },
      "execution_count": null,
      "outputs": [
        {
          "output_type": "display_data",
          "data": {
            "text/html": [
              "<html>\n",
              "<head><meta charset=\"utf-8\" /></head>\n",
              "<body>\n",
              "    <div>            <script src=\"https://cdnjs.cloudflare.com/ajax/libs/mathjax/2.7.5/MathJax.js?config=TeX-AMS-MML_SVG\"></script><script type=\"text/javascript\">if (window.MathJax) {MathJax.Hub.Config({SVG: {font: \"STIX-Web\"}});}</script>                <script type=\"text/javascript\">window.PlotlyConfig = {MathJaxConfig: 'local'};</script>\n",
              "        <script src=\"https://cdn.plot.ly/plotly-2.8.3.min.js\"></script>                <div id=\"96b60374-4cc3-4655-a2a5-668455a5b574\" class=\"plotly-graph-div\" style=\"height:525px; width:100%;\"></div>            <script type=\"text/javascript\">                                    window.PLOTLYENV=window.PLOTLYENV || {};                                    if (document.getElementById(\"96b60374-4cc3-4655-a2a5-668455a5b574\")) {                    Plotly.newPlot(                        \"96b60374-4cc3-4655-a2a5-668455a5b574\",                        [{\"coloraxis\":\"coloraxis\",\"geo\":\"geo\",\"hovertemplate\":\"<b>%{hovertext}</b><br><br>iso_code=%{location}<br>mask=%{z}<extra></extra>\",\"hovertext\":[\"South Africa\",\"Argentina\",\"Poland\",\"Spain\",\"Algeria\",\"Kenya\",\"Switzerland\",\"Japan\"],\"locations\":[\"ZAF\",\"ARG\",\"POL\",\"ESP\",\"DZA\",\"KEN\",\"CHE\",\"JPN\"],\"name\":\"\",\"z\":[0.897014,0.893224,0.568328,0.921133,0.462942,0.853899,0.697497,0.963163],\"type\":\"choropleth\"}],                        {\"template\":{\"data\":{\"bar\":[{\"error_x\":{\"color\":\"#2a3f5f\"},\"error_y\":{\"color\":\"#2a3f5f\"},\"marker\":{\"line\":{\"color\":\"#E5ECF6\",\"width\":0.5},\"pattern\":{\"fillmode\":\"overlay\",\"size\":10,\"solidity\":0.2}},\"type\":\"bar\"}],\"barpolar\":[{\"marker\":{\"line\":{\"color\":\"#E5ECF6\",\"width\":0.5},\"pattern\":{\"fillmode\":\"overlay\",\"size\":10,\"solidity\":0.2}},\"type\":\"barpolar\"}],\"carpet\":[{\"aaxis\":{\"endlinecolor\":\"#2a3f5f\",\"gridcolor\":\"white\",\"linecolor\":\"white\",\"minorgridcolor\":\"white\",\"startlinecolor\":\"#2a3f5f\"},\"baxis\":{\"endlinecolor\":\"#2a3f5f\",\"gridcolor\":\"white\",\"linecolor\":\"white\",\"minorgridcolor\":\"white\",\"startlinecolor\":\"#2a3f5f\"},\"type\":\"carpet\"}],\"choropleth\":[{\"colorbar\":{\"outlinewidth\":0,\"ticks\":\"\"},\"type\":\"choropleth\"}],\"contour\":[{\"colorbar\":{\"outlinewidth\":0,\"ticks\":\"\"},\"colorscale\":[[0.0,\"#0d0887\"],[0.1111111111111111,\"#46039f\"],[0.2222222222222222,\"#7201a8\"],[0.3333333333333333,\"#9c179e\"],[0.4444444444444444,\"#bd3786\"],[0.5555555555555556,\"#d8576b\"],[0.6666666666666666,\"#ed7953\"],[0.7777777777777778,\"#fb9f3a\"],[0.8888888888888888,\"#fdca26\"],[1.0,\"#f0f921\"]],\"type\":\"contour\"}],\"contourcarpet\":[{\"colorbar\":{\"outlinewidth\":0,\"ticks\":\"\"},\"type\":\"contourcarpet\"}],\"heatmap\":[{\"colorbar\":{\"outlinewidth\":0,\"ticks\":\"\"},\"colorscale\":[[0.0,\"#0d0887\"],[0.1111111111111111,\"#46039f\"],[0.2222222222222222,\"#7201a8\"],[0.3333333333333333,\"#9c179e\"],[0.4444444444444444,\"#bd3786\"],[0.5555555555555556,\"#d8576b\"],[0.6666666666666666,\"#ed7953\"],[0.7777777777777778,\"#fb9f3a\"],[0.8888888888888888,\"#fdca26\"],[1.0,\"#f0f921\"]],\"type\":\"heatmap\"}],\"heatmapgl\":[{\"colorbar\":{\"outlinewidth\":0,\"ticks\":\"\"},\"colorscale\":[[0.0,\"#0d0887\"],[0.1111111111111111,\"#46039f\"],[0.2222222222222222,\"#7201a8\"],[0.3333333333333333,\"#9c179e\"],[0.4444444444444444,\"#bd3786\"],[0.5555555555555556,\"#d8576b\"],[0.6666666666666666,\"#ed7953\"],[0.7777777777777778,\"#fb9f3a\"],[0.8888888888888888,\"#fdca26\"],[1.0,\"#f0f921\"]],\"type\":\"heatmapgl\"}],\"histogram\":[{\"marker\":{\"pattern\":{\"fillmode\":\"overlay\",\"size\":10,\"solidity\":0.2}},\"type\":\"histogram\"}],\"histogram2d\":[{\"colorbar\":{\"outlinewidth\":0,\"ticks\":\"\"},\"colorscale\":[[0.0,\"#0d0887\"],[0.1111111111111111,\"#46039f\"],[0.2222222222222222,\"#7201a8\"],[0.3333333333333333,\"#9c179e\"],[0.4444444444444444,\"#bd3786\"],[0.5555555555555556,\"#d8576b\"],[0.6666666666666666,\"#ed7953\"],[0.7777777777777778,\"#fb9f3a\"],[0.8888888888888888,\"#fdca26\"],[1.0,\"#f0f921\"]],\"type\":\"histogram2d\"}],\"histogram2dcontour\":[{\"colorbar\":{\"outlinewidth\":0,\"ticks\":\"\"},\"colorscale\":[[0.0,\"#0d0887\"],[0.1111111111111111,\"#46039f\"],[0.2222222222222222,\"#7201a8\"],[0.3333333333333333,\"#9c179e\"],[0.4444444444444444,\"#bd3786\"],[0.5555555555555556,\"#d8576b\"],[0.6666666666666666,\"#ed7953\"],[0.7777777777777778,\"#fb9f3a\"],[0.8888888888888888,\"#fdca26\"],[1.0,\"#f0f921\"]],\"type\":\"histogram2dcontour\"}],\"mesh3d\":[{\"colorbar\":{\"outlinewidth\":0,\"ticks\":\"\"},\"type\":\"mesh3d\"}],\"parcoords\":[{\"line\":{\"colorbar\":{\"outlinewidth\":0,\"ticks\":\"\"}},\"type\":\"parcoords\"}],\"pie\":[{\"automargin\":true,\"type\":\"pie\"}],\"scatter\":[{\"marker\":{\"colorbar\":{\"outlinewidth\":0,\"ticks\":\"\"}},\"type\":\"scatter\"}],\"scatter3d\":[{\"line\":{\"colorbar\":{\"outlinewidth\":0,\"ticks\":\"\"}},\"marker\":{\"colorbar\":{\"outlinewidth\":0,\"ticks\":\"\"}},\"type\":\"scatter3d\"}],\"scattercarpet\":[{\"marker\":{\"colorbar\":{\"outlinewidth\":0,\"ticks\":\"\"}},\"type\":\"scattercarpet\"}],\"scattergeo\":[{\"marker\":{\"colorbar\":{\"outlinewidth\":0,\"ticks\":\"\"}},\"type\":\"scattergeo\"}],\"scattergl\":[{\"marker\":{\"colorbar\":{\"outlinewidth\":0,\"ticks\":\"\"}},\"type\":\"scattergl\"}],\"scattermapbox\":[{\"marker\":{\"colorbar\":{\"outlinewidth\":0,\"ticks\":\"\"}},\"type\":\"scattermapbox\"}],\"scatterpolar\":[{\"marker\":{\"colorbar\":{\"outlinewidth\":0,\"ticks\":\"\"}},\"type\":\"scatterpolar\"}],\"scatterpolargl\":[{\"marker\":{\"colorbar\":{\"outlinewidth\":0,\"ticks\":\"\"}},\"type\":\"scatterpolargl\"}],\"scatterternary\":[{\"marker\":{\"colorbar\":{\"outlinewidth\":0,\"ticks\":\"\"}},\"type\":\"scatterternary\"}],\"surface\":[{\"colorbar\":{\"outlinewidth\":0,\"ticks\":\"\"},\"colorscale\":[[0.0,\"#0d0887\"],[0.1111111111111111,\"#46039f\"],[0.2222222222222222,\"#7201a8\"],[0.3333333333333333,\"#9c179e\"],[0.4444444444444444,\"#bd3786\"],[0.5555555555555556,\"#d8576b\"],[0.6666666666666666,\"#ed7953\"],[0.7777777777777778,\"#fb9f3a\"],[0.8888888888888888,\"#fdca26\"],[1.0,\"#f0f921\"]],\"type\":\"surface\"}],\"table\":[{\"cells\":{\"fill\":{\"color\":\"#EBF0F8\"},\"line\":{\"color\":\"white\"}},\"header\":{\"fill\":{\"color\":\"#C8D4E3\"},\"line\":{\"color\":\"white\"}},\"type\":\"table\"}]},\"layout\":{\"annotationdefaults\":{\"arrowcolor\":\"#2a3f5f\",\"arrowhead\":0,\"arrowwidth\":1},\"autotypenumbers\":\"strict\",\"coloraxis\":{\"colorbar\":{\"outlinewidth\":0,\"ticks\":\"\"}},\"colorscale\":{\"diverging\":[[0,\"#8e0152\"],[0.1,\"#c51b7d\"],[0.2,\"#de77ae\"],[0.3,\"#f1b6da\"],[0.4,\"#fde0ef\"],[0.5,\"#f7f7f7\"],[0.6,\"#e6f5d0\"],[0.7,\"#b8e186\"],[0.8,\"#7fbc41\"],[0.9,\"#4d9221\"],[1,\"#276419\"]],\"sequential\":[[0.0,\"#0d0887\"],[0.1111111111111111,\"#46039f\"],[0.2222222222222222,\"#7201a8\"],[0.3333333333333333,\"#9c179e\"],[0.4444444444444444,\"#bd3786\"],[0.5555555555555556,\"#d8576b\"],[0.6666666666666666,\"#ed7953\"],[0.7777777777777778,\"#fb9f3a\"],[0.8888888888888888,\"#fdca26\"],[1.0,\"#f0f921\"]],\"sequentialminus\":[[0.0,\"#0d0887\"],[0.1111111111111111,\"#46039f\"],[0.2222222222222222,\"#7201a8\"],[0.3333333333333333,\"#9c179e\"],[0.4444444444444444,\"#bd3786\"],[0.5555555555555556,\"#d8576b\"],[0.6666666666666666,\"#ed7953\"],[0.7777777777777778,\"#fb9f3a\"],[0.8888888888888888,\"#fdca26\"],[1.0,\"#f0f921\"]]},\"colorway\":[\"#636efa\",\"#EF553B\",\"#00cc96\",\"#ab63fa\",\"#FFA15A\",\"#19d3f3\",\"#FF6692\",\"#B6E880\",\"#FF97FF\",\"#FECB52\"],\"font\":{\"color\":\"#2a3f5f\"},\"geo\":{\"bgcolor\":\"white\",\"lakecolor\":\"white\",\"landcolor\":\"#E5ECF6\",\"showlakes\":true,\"showland\":true,\"subunitcolor\":\"white\"},\"hoverlabel\":{\"align\":\"left\"},\"hovermode\":\"closest\",\"mapbox\":{\"style\":\"light\"},\"paper_bgcolor\":\"white\",\"plot_bgcolor\":\"#E5ECF6\",\"polar\":{\"angularaxis\":{\"gridcolor\":\"white\",\"linecolor\":\"white\",\"ticks\":\"\"},\"bgcolor\":\"#E5ECF6\",\"radialaxis\":{\"gridcolor\":\"white\",\"linecolor\":\"white\",\"ticks\":\"\"}},\"scene\":{\"xaxis\":{\"backgroundcolor\":\"#E5ECF6\",\"gridcolor\":\"white\",\"gridwidth\":2,\"linecolor\":\"white\",\"showbackground\":true,\"ticks\":\"\",\"zerolinecolor\":\"white\"},\"yaxis\":{\"backgroundcolor\":\"#E5ECF6\",\"gridcolor\":\"white\",\"gridwidth\":2,\"linecolor\":\"white\",\"showbackground\":true,\"ticks\":\"\",\"zerolinecolor\":\"white\"},\"zaxis\":{\"backgroundcolor\":\"#E5ECF6\",\"gridcolor\":\"white\",\"gridwidth\":2,\"linecolor\":\"white\",\"showbackground\":true,\"ticks\":\"\",\"zerolinecolor\":\"white\"}},\"shapedefaults\":{\"line\":{\"color\":\"#2a3f5f\"}},\"ternary\":{\"aaxis\":{\"gridcolor\":\"white\",\"linecolor\":\"white\",\"ticks\":\"\"},\"baxis\":{\"gridcolor\":\"white\",\"linecolor\":\"white\",\"ticks\":\"\"},\"bgcolor\":\"#E5ECF6\",\"caxis\":{\"gridcolor\":\"white\",\"linecolor\":\"white\",\"ticks\":\"\"}},\"title\":{\"x\":0.05},\"xaxis\":{\"automargin\":true,\"gridcolor\":\"white\",\"linecolor\":\"white\",\"ticks\":\"\",\"title\":{\"standoff\":15},\"zerolinecolor\":\"white\",\"zerolinewidth\":2},\"yaxis\":{\"automargin\":true,\"gridcolor\":\"white\",\"linecolor\":\"white\",\"ticks\":\"\",\"title\":{\"standoff\":15},\"zerolinecolor\":\"white\",\"zerolinewidth\":2}}},\"geo\":{\"domain\":{\"x\":[0.0,1.0],\"y\":[0.0,1.0]},\"center\":{}},\"coloraxis\":{\"colorbar\":{\"title\":{\"text\":\"mask\"}},\"colorscale\":[[0.0,\"#0d0887\"],[0.1111111111111111,\"#46039f\"],[0.2222222222222222,\"#7201a8\"],[0.3333333333333333,\"#9c179e\"],[0.4444444444444444,\"#bd3786\"],[0.5555555555555556,\"#d8576b\"],[0.6666666666666666,\"#ed7953\"],[0.7777777777777778,\"#fb9f3a\"],[0.8888888888888888,\"#fdca26\"],[1.0,\"#f0f921\"]]},\"legend\":{\"tracegroupgap\":0},\"title\":{\"text\":\"World Map: mask (%)\"}},                        {\"responsive\": true}                    ).then(function(){\n",
              "                            \n",
              "var gd = document.getElementById('96b60374-4cc3-4655-a2a5-668455a5b574');\n",
              "var x = new MutationObserver(function (mutations, observer) {{\n",
              "        var display = window.getComputedStyle(gd).display;\n",
              "        if (!display || display === 'none') {{\n",
              "            console.log([gd, 'removed!']);\n",
              "            Plotly.purge(gd);\n",
              "            observer.disconnect();\n",
              "        }}\n",
              "}});\n",
              "\n",
              "// Listen for the removal of the full notebook cells\n",
              "var notebookContainer = gd.closest('#notebook-container');\n",
              "if (notebookContainer) {{\n",
              "    x.observe(notebookContainer, {childList: true});\n",
              "}}\n",
              "\n",
              "// Listen for the clearing of the current output cell\n",
              "var outputEl = gd.closest('.output');\n",
              "if (outputEl) {{\n",
              "    x.observe(outputEl, {childList: true});\n",
              "}}\n",
              "\n",
              "                        })                };                            </script>        </div>\n",
              "</body>\n",
              "</html>"
            ]
          },
          "metadata": {}
        },
        {
          "output_type": "display_data",
          "data": {
            "text/html": [
              "<html>\n",
              "<head><meta charset=\"utf-8\" /></head>\n",
              "<body>\n",
              "    <div>            <script src=\"https://cdnjs.cloudflare.com/ajax/libs/mathjax/2.7.5/MathJax.js?config=TeX-AMS-MML_SVG\"></script><script type=\"text/javascript\">if (window.MathJax) {MathJax.Hub.Config({SVG: {font: \"STIX-Web\"}});}</script>                <script type=\"text/javascript\">window.PlotlyConfig = {MathJaxConfig: 'local'};</script>\n",
              "        <script src=\"https://cdn.plot.ly/plotly-2.8.3.min.js\"></script>                <div id=\"f5ff1e70-736e-4996-bf96-ff8313719016\" class=\"plotly-graph-div\" style=\"height:525px; width:100%;\"></div>            <script type=\"text/javascript\">                                    window.PLOTLYENV=window.PLOTLYENV || {};                                    if (document.getElementById(\"f5ff1e70-736e-4996-bf96-ff8313719016\")) {                    Plotly.newPlot(                        \"f5ff1e70-736e-4996-bf96-ff8313719016\",                        [{\"coloraxis\":\"coloraxis\",\"geo\":\"geo\",\"hovertemplate\":\"<b>%{hovertext}</b><br><br>iso_code=%{location}<br>covid_vaccine=%{z}<extra></extra>\",\"hovertext\":[\"South Africa\",\"Argentina\",\"Poland\",\"Spain\",\"Algeria\",\"Kenya\",\"Switzerland\",\"Japan\"],\"locations\":[\"ZAF\",\"ARG\",\"POL\",\"ESP\",\"DZA\",\"KEN\",\"CHE\",\"JPN\"],\"name\":\"\",\"z\":[0.178507,null,null,0.741105,0.223095,0.269156,0.75062,0.428118],\"type\":\"choropleth\"}],                        {\"template\":{\"data\":{\"bar\":[{\"error_x\":{\"color\":\"#2a3f5f\"},\"error_y\":{\"color\":\"#2a3f5f\"},\"marker\":{\"line\":{\"color\":\"#E5ECF6\",\"width\":0.5},\"pattern\":{\"fillmode\":\"overlay\",\"size\":10,\"solidity\":0.2}},\"type\":\"bar\"}],\"barpolar\":[{\"marker\":{\"line\":{\"color\":\"#E5ECF6\",\"width\":0.5},\"pattern\":{\"fillmode\":\"overlay\",\"size\":10,\"solidity\":0.2}},\"type\":\"barpolar\"}],\"carpet\":[{\"aaxis\":{\"endlinecolor\":\"#2a3f5f\",\"gridcolor\":\"white\",\"linecolor\":\"white\",\"minorgridcolor\":\"white\",\"startlinecolor\":\"#2a3f5f\"},\"baxis\":{\"endlinecolor\":\"#2a3f5f\",\"gridcolor\":\"white\",\"linecolor\":\"white\",\"minorgridcolor\":\"white\",\"startlinecolor\":\"#2a3f5f\"},\"type\":\"carpet\"}],\"choropleth\":[{\"colorbar\":{\"outlinewidth\":0,\"ticks\":\"\"},\"type\":\"choropleth\"}],\"contour\":[{\"colorbar\":{\"outlinewidth\":0,\"ticks\":\"\"},\"colorscale\":[[0.0,\"#0d0887\"],[0.1111111111111111,\"#46039f\"],[0.2222222222222222,\"#7201a8\"],[0.3333333333333333,\"#9c179e\"],[0.4444444444444444,\"#bd3786\"],[0.5555555555555556,\"#d8576b\"],[0.6666666666666666,\"#ed7953\"],[0.7777777777777778,\"#fb9f3a\"],[0.8888888888888888,\"#fdca26\"],[1.0,\"#f0f921\"]],\"type\":\"contour\"}],\"contourcarpet\":[{\"colorbar\":{\"outlinewidth\":0,\"ticks\":\"\"},\"type\":\"contourcarpet\"}],\"heatmap\":[{\"colorbar\":{\"outlinewidth\":0,\"ticks\":\"\"},\"colorscale\":[[0.0,\"#0d0887\"],[0.1111111111111111,\"#46039f\"],[0.2222222222222222,\"#7201a8\"],[0.3333333333333333,\"#9c179e\"],[0.4444444444444444,\"#bd3786\"],[0.5555555555555556,\"#d8576b\"],[0.6666666666666666,\"#ed7953\"],[0.7777777777777778,\"#fb9f3a\"],[0.8888888888888888,\"#fdca26\"],[1.0,\"#f0f921\"]],\"type\":\"heatmap\"}],\"heatmapgl\":[{\"colorbar\":{\"outlinewidth\":0,\"ticks\":\"\"},\"colorscale\":[[0.0,\"#0d0887\"],[0.1111111111111111,\"#46039f\"],[0.2222222222222222,\"#7201a8\"],[0.3333333333333333,\"#9c179e\"],[0.4444444444444444,\"#bd3786\"],[0.5555555555555556,\"#d8576b\"],[0.6666666666666666,\"#ed7953\"],[0.7777777777777778,\"#fb9f3a\"],[0.8888888888888888,\"#fdca26\"],[1.0,\"#f0f921\"]],\"type\":\"heatmapgl\"}],\"histogram\":[{\"marker\":{\"pattern\":{\"fillmode\":\"overlay\",\"size\":10,\"solidity\":0.2}},\"type\":\"histogram\"}],\"histogram2d\":[{\"colorbar\":{\"outlinewidth\":0,\"ticks\":\"\"},\"colorscale\":[[0.0,\"#0d0887\"],[0.1111111111111111,\"#46039f\"],[0.2222222222222222,\"#7201a8\"],[0.3333333333333333,\"#9c179e\"],[0.4444444444444444,\"#bd3786\"],[0.5555555555555556,\"#d8576b\"],[0.6666666666666666,\"#ed7953\"],[0.7777777777777778,\"#fb9f3a\"],[0.8888888888888888,\"#fdca26\"],[1.0,\"#f0f921\"]],\"type\":\"histogram2d\"}],\"histogram2dcontour\":[{\"colorbar\":{\"outlinewidth\":0,\"ticks\":\"\"},\"colorscale\":[[0.0,\"#0d0887\"],[0.1111111111111111,\"#46039f\"],[0.2222222222222222,\"#7201a8\"],[0.3333333333333333,\"#9c179e\"],[0.4444444444444444,\"#bd3786\"],[0.5555555555555556,\"#d8576b\"],[0.6666666666666666,\"#ed7953\"],[0.7777777777777778,\"#fb9f3a\"],[0.8888888888888888,\"#fdca26\"],[1.0,\"#f0f921\"]],\"type\":\"histogram2dcontour\"}],\"mesh3d\":[{\"colorbar\":{\"outlinewidth\":0,\"ticks\":\"\"},\"type\":\"mesh3d\"}],\"parcoords\":[{\"line\":{\"colorbar\":{\"outlinewidth\":0,\"ticks\":\"\"}},\"type\":\"parcoords\"}],\"pie\":[{\"automargin\":true,\"type\":\"pie\"}],\"scatter\":[{\"marker\":{\"colorbar\":{\"outlinewidth\":0,\"ticks\":\"\"}},\"type\":\"scatter\"}],\"scatter3d\":[{\"line\":{\"colorbar\":{\"outlinewidth\":0,\"ticks\":\"\"}},\"marker\":{\"colorbar\":{\"outlinewidth\":0,\"ticks\":\"\"}},\"type\":\"scatter3d\"}],\"scattercarpet\":[{\"marker\":{\"colorbar\":{\"outlinewidth\":0,\"ticks\":\"\"}},\"type\":\"scattercarpet\"}],\"scattergeo\":[{\"marker\":{\"colorbar\":{\"outlinewidth\":0,\"ticks\":\"\"}},\"type\":\"scattergeo\"}],\"scattergl\":[{\"marker\":{\"colorbar\":{\"outlinewidth\":0,\"ticks\":\"\"}},\"type\":\"scattergl\"}],\"scattermapbox\":[{\"marker\":{\"colorbar\":{\"outlinewidth\":0,\"ticks\":\"\"}},\"type\":\"scattermapbox\"}],\"scatterpolar\":[{\"marker\":{\"colorbar\":{\"outlinewidth\":0,\"ticks\":\"\"}},\"type\":\"scatterpolar\"}],\"scatterpolargl\":[{\"marker\":{\"colorbar\":{\"outlinewidth\":0,\"ticks\":\"\"}},\"type\":\"scatterpolargl\"}],\"scatterternary\":[{\"marker\":{\"colorbar\":{\"outlinewidth\":0,\"ticks\":\"\"}},\"type\":\"scatterternary\"}],\"surface\":[{\"colorbar\":{\"outlinewidth\":0,\"ticks\":\"\"},\"colorscale\":[[0.0,\"#0d0887\"],[0.1111111111111111,\"#46039f\"],[0.2222222222222222,\"#7201a8\"],[0.3333333333333333,\"#9c179e\"],[0.4444444444444444,\"#bd3786\"],[0.5555555555555556,\"#d8576b\"],[0.6666666666666666,\"#ed7953\"],[0.7777777777777778,\"#fb9f3a\"],[0.8888888888888888,\"#fdca26\"],[1.0,\"#f0f921\"]],\"type\":\"surface\"}],\"table\":[{\"cells\":{\"fill\":{\"color\":\"#EBF0F8\"},\"line\":{\"color\":\"white\"}},\"header\":{\"fill\":{\"color\":\"#C8D4E3\"},\"line\":{\"color\":\"white\"}},\"type\":\"table\"}]},\"layout\":{\"annotationdefaults\":{\"arrowcolor\":\"#2a3f5f\",\"arrowhead\":0,\"arrowwidth\":1},\"autotypenumbers\":\"strict\",\"coloraxis\":{\"colorbar\":{\"outlinewidth\":0,\"ticks\":\"\"}},\"colorscale\":{\"diverging\":[[0,\"#8e0152\"],[0.1,\"#c51b7d\"],[0.2,\"#de77ae\"],[0.3,\"#f1b6da\"],[0.4,\"#fde0ef\"],[0.5,\"#f7f7f7\"],[0.6,\"#e6f5d0\"],[0.7,\"#b8e186\"],[0.8,\"#7fbc41\"],[0.9,\"#4d9221\"],[1,\"#276419\"]],\"sequential\":[[0.0,\"#0d0887\"],[0.1111111111111111,\"#46039f\"],[0.2222222222222222,\"#7201a8\"],[0.3333333333333333,\"#9c179e\"],[0.4444444444444444,\"#bd3786\"],[0.5555555555555556,\"#d8576b\"],[0.6666666666666666,\"#ed7953\"],[0.7777777777777778,\"#fb9f3a\"],[0.8888888888888888,\"#fdca26\"],[1.0,\"#f0f921\"]],\"sequentialminus\":[[0.0,\"#0d0887\"],[0.1111111111111111,\"#46039f\"],[0.2222222222222222,\"#7201a8\"],[0.3333333333333333,\"#9c179e\"],[0.4444444444444444,\"#bd3786\"],[0.5555555555555556,\"#d8576b\"],[0.6666666666666666,\"#ed7953\"],[0.7777777777777778,\"#fb9f3a\"],[0.8888888888888888,\"#fdca26\"],[1.0,\"#f0f921\"]]},\"colorway\":[\"#636efa\",\"#EF553B\",\"#00cc96\",\"#ab63fa\",\"#FFA15A\",\"#19d3f3\",\"#FF6692\",\"#B6E880\",\"#FF97FF\",\"#FECB52\"],\"font\":{\"color\":\"#2a3f5f\"},\"geo\":{\"bgcolor\":\"white\",\"lakecolor\":\"white\",\"landcolor\":\"#E5ECF6\",\"showlakes\":true,\"showland\":true,\"subunitcolor\":\"white\"},\"hoverlabel\":{\"align\":\"left\"},\"hovermode\":\"closest\",\"mapbox\":{\"style\":\"light\"},\"paper_bgcolor\":\"white\",\"plot_bgcolor\":\"#E5ECF6\",\"polar\":{\"angularaxis\":{\"gridcolor\":\"white\",\"linecolor\":\"white\",\"ticks\":\"\"},\"bgcolor\":\"#E5ECF6\",\"radialaxis\":{\"gridcolor\":\"white\",\"linecolor\":\"white\",\"ticks\":\"\"}},\"scene\":{\"xaxis\":{\"backgroundcolor\":\"#E5ECF6\",\"gridcolor\":\"white\",\"gridwidth\":2,\"linecolor\":\"white\",\"showbackground\":true,\"ticks\":\"\",\"zerolinecolor\":\"white\"},\"yaxis\":{\"backgroundcolor\":\"#E5ECF6\",\"gridcolor\":\"white\",\"gridwidth\":2,\"linecolor\":\"white\",\"showbackground\":true,\"ticks\":\"\",\"zerolinecolor\":\"white\"},\"zaxis\":{\"backgroundcolor\":\"#E5ECF6\",\"gridcolor\":\"white\",\"gridwidth\":2,\"linecolor\":\"white\",\"showbackground\":true,\"ticks\":\"\",\"zerolinecolor\":\"white\"}},\"shapedefaults\":{\"line\":{\"color\":\"#2a3f5f\"}},\"ternary\":{\"aaxis\":{\"gridcolor\":\"white\",\"linecolor\":\"white\",\"ticks\":\"\"},\"baxis\":{\"gridcolor\":\"white\",\"linecolor\":\"white\",\"ticks\":\"\"},\"bgcolor\":\"#E5ECF6\",\"caxis\":{\"gridcolor\":\"white\",\"linecolor\":\"white\",\"ticks\":\"\"}},\"title\":{\"x\":0.05},\"xaxis\":{\"automargin\":true,\"gridcolor\":\"white\",\"linecolor\":\"white\",\"ticks\":\"\",\"title\":{\"standoff\":15},\"zerolinecolor\":\"white\",\"zerolinewidth\":2},\"yaxis\":{\"automargin\":true,\"gridcolor\":\"white\",\"linecolor\":\"white\",\"ticks\":\"\",\"title\":{\"standoff\":15},\"zerolinecolor\":\"white\",\"zerolinewidth\":2}}},\"geo\":{\"domain\":{\"x\":[0.0,1.0],\"y\":[0.0,1.0]},\"center\":{}},\"coloraxis\":{\"colorbar\":{\"title\":{\"text\":\"covid_vaccine\"}},\"colorscale\":[[0.0,\"#0d0887\"],[0.1111111111111111,\"#46039f\"],[0.2222222222222222,\"#7201a8\"],[0.3333333333333333,\"#9c179e\"],[0.4444444444444444,\"#bd3786\"],[0.5555555555555556,\"#d8576b\"],[0.6666666666666666,\"#ed7953\"],[0.7777777777777778,\"#fb9f3a\"],[0.8888888888888888,\"#fdca26\"],[1.0,\"#f0f921\"]]},\"legend\":{\"tracegroupgap\":0},\"title\":{\"text\":\"World Map: covid_vaccine (%)\"}},                        {\"responsive\": true}                    ).then(function(){\n",
              "                            \n",
              "var gd = document.getElementById('f5ff1e70-736e-4996-bf96-ff8313719016');\n",
              "var x = new MutationObserver(function (mutations, observer) {{\n",
              "        var display = window.getComputedStyle(gd).display;\n",
              "        if (!display || display === 'none') {{\n",
              "            console.log([gd, 'removed!']);\n",
              "            Plotly.purge(gd);\n",
              "            observer.disconnect();\n",
              "        }}\n",
              "}});\n",
              "\n",
              "// Listen for the removal of the full notebook cells\n",
              "var notebookContainer = gd.closest('#notebook-container');\n",
              "if (notebookContainer) {{\n",
              "    x.observe(notebookContainer, {childList: true});\n",
              "}}\n",
              "\n",
              "// Listen for the clearing of the current output cell\n",
              "var outputEl = gd.closest('.output');\n",
              "if (outputEl) {{\n",
              "    x.observe(outputEl, {childList: true});\n",
              "}}\n",
              "\n",
              "                        })                };                            </script>        </div>\n",
              "</body>\n",
              "</html>"
            ]
          },
          "metadata": {}
        },
        {
          "output_type": "display_data",
          "data": {
            "text/html": [
              "<html>\n",
              "<head><meta charset=\"utf-8\" /></head>\n",
              "<body>\n",
              "    <div>            <script src=\"https://cdnjs.cloudflare.com/ajax/libs/mathjax/2.7.5/MathJax.js?config=TeX-AMS-MML_SVG\"></script><script type=\"text/javascript\">if (window.MathJax) {MathJax.Hub.Config({SVG: {font: \"STIX-Web\"}});}</script>                <script type=\"text/javascript\">window.PlotlyConfig = {MathJaxConfig: 'local'};</script>\n",
              "        <script src=\"https://cdn.plot.ly/plotly-2.8.3.min.js\"></script>                <div id=\"2b146e95-f083-48fa-ad23-cca8b2e68f40\" class=\"plotly-graph-div\" style=\"height:525px; width:100%;\"></div>            <script type=\"text/javascript\">                                    window.PLOTLYENV=window.PLOTLYENV || {};                                    if (document.getElementById(\"2b146e95-f083-48fa-ad23-cca8b2e68f40\")) {                    Plotly.newPlot(                        \"2b146e95-f083-48fa-ad23-cca8b2e68f40\",                        [{\"coloraxis\":\"coloraxis\",\"geo\":\"geo\",\"hovertemplate\":\"<b>%{hovertext}</b><br><br>iso_code=%{location}<br>anosmia=%{z}<extra></extra>\",\"hovertext\":[\"South Africa\",\"Argentina\",\"Poland\",\"Spain\",\"Algeria\",\"Kenya\",\"Switzerland\",\"Japan\"],\"locations\":[\"ZAF\",\"ARG\",\"POL\",\"ESP\",\"DZA\",\"KEN\",\"CHE\",\"JPN\"],\"name\":\"\",\"z\":[0.069003,0.038286,0.018585,0.017776,0.178183,0.095575,0.01897,0.0072],\"type\":\"choropleth\"}],                        {\"template\":{\"data\":{\"bar\":[{\"error_x\":{\"color\":\"#2a3f5f\"},\"error_y\":{\"color\":\"#2a3f5f\"},\"marker\":{\"line\":{\"color\":\"#E5ECF6\",\"width\":0.5},\"pattern\":{\"fillmode\":\"overlay\",\"size\":10,\"solidity\":0.2}},\"type\":\"bar\"}],\"barpolar\":[{\"marker\":{\"line\":{\"color\":\"#E5ECF6\",\"width\":0.5},\"pattern\":{\"fillmode\":\"overlay\",\"size\":10,\"solidity\":0.2}},\"type\":\"barpolar\"}],\"carpet\":[{\"aaxis\":{\"endlinecolor\":\"#2a3f5f\",\"gridcolor\":\"white\",\"linecolor\":\"white\",\"minorgridcolor\":\"white\",\"startlinecolor\":\"#2a3f5f\"},\"baxis\":{\"endlinecolor\":\"#2a3f5f\",\"gridcolor\":\"white\",\"linecolor\":\"white\",\"minorgridcolor\":\"white\",\"startlinecolor\":\"#2a3f5f\"},\"type\":\"carpet\"}],\"choropleth\":[{\"colorbar\":{\"outlinewidth\":0,\"ticks\":\"\"},\"type\":\"choropleth\"}],\"contour\":[{\"colorbar\":{\"outlinewidth\":0,\"ticks\":\"\"},\"colorscale\":[[0.0,\"#0d0887\"],[0.1111111111111111,\"#46039f\"],[0.2222222222222222,\"#7201a8\"],[0.3333333333333333,\"#9c179e\"],[0.4444444444444444,\"#bd3786\"],[0.5555555555555556,\"#d8576b\"],[0.6666666666666666,\"#ed7953\"],[0.7777777777777778,\"#fb9f3a\"],[0.8888888888888888,\"#fdca26\"],[1.0,\"#f0f921\"]],\"type\":\"contour\"}],\"contourcarpet\":[{\"colorbar\":{\"outlinewidth\":0,\"ticks\":\"\"},\"type\":\"contourcarpet\"}],\"heatmap\":[{\"colorbar\":{\"outlinewidth\":0,\"ticks\":\"\"},\"colorscale\":[[0.0,\"#0d0887\"],[0.1111111111111111,\"#46039f\"],[0.2222222222222222,\"#7201a8\"],[0.3333333333333333,\"#9c179e\"],[0.4444444444444444,\"#bd3786\"],[0.5555555555555556,\"#d8576b\"],[0.6666666666666666,\"#ed7953\"],[0.7777777777777778,\"#fb9f3a\"],[0.8888888888888888,\"#fdca26\"],[1.0,\"#f0f921\"]],\"type\":\"heatmap\"}],\"heatmapgl\":[{\"colorbar\":{\"outlinewidth\":0,\"ticks\":\"\"},\"colorscale\":[[0.0,\"#0d0887\"],[0.1111111111111111,\"#46039f\"],[0.2222222222222222,\"#7201a8\"],[0.3333333333333333,\"#9c179e\"],[0.4444444444444444,\"#bd3786\"],[0.5555555555555556,\"#d8576b\"],[0.6666666666666666,\"#ed7953\"],[0.7777777777777778,\"#fb9f3a\"],[0.8888888888888888,\"#fdca26\"],[1.0,\"#f0f921\"]],\"type\":\"heatmapgl\"}],\"histogram\":[{\"marker\":{\"pattern\":{\"fillmode\":\"overlay\",\"size\":10,\"solidity\":0.2}},\"type\":\"histogram\"}],\"histogram2d\":[{\"colorbar\":{\"outlinewidth\":0,\"ticks\":\"\"},\"colorscale\":[[0.0,\"#0d0887\"],[0.1111111111111111,\"#46039f\"],[0.2222222222222222,\"#7201a8\"],[0.3333333333333333,\"#9c179e\"],[0.4444444444444444,\"#bd3786\"],[0.5555555555555556,\"#d8576b\"],[0.6666666666666666,\"#ed7953\"],[0.7777777777777778,\"#fb9f3a\"],[0.8888888888888888,\"#fdca26\"],[1.0,\"#f0f921\"]],\"type\":\"histogram2d\"}],\"histogram2dcontour\":[{\"colorbar\":{\"outlinewidth\":0,\"ticks\":\"\"},\"colorscale\":[[0.0,\"#0d0887\"],[0.1111111111111111,\"#46039f\"],[0.2222222222222222,\"#7201a8\"],[0.3333333333333333,\"#9c179e\"],[0.4444444444444444,\"#bd3786\"],[0.5555555555555556,\"#d8576b\"],[0.6666666666666666,\"#ed7953\"],[0.7777777777777778,\"#fb9f3a\"],[0.8888888888888888,\"#fdca26\"],[1.0,\"#f0f921\"]],\"type\":\"histogram2dcontour\"}],\"mesh3d\":[{\"colorbar\":{\"outlinewidth\":0,\"ticks\":\"\"},\"type\":\"mesh3d\"}],\"parcoords\":[{\"line\":{\"colorbar\":{\"outlinewidth\":0,\"ticks\":\"\"}},\"type\":\"parcoords\"}],\"pie\":[{\"automargin\":true,\"type\":\"pie\"}],\"scatter\":[{\"marker\":{\"colorbar\":{\"outlinewidth\":0,\"ticks\":\"\"}},\"type\":\"scatter\"}],\"scatter3d\":[{\"line\":{\"colorbar\":{\"outlinewidth\":0,\"ticks\":\"\"}},\"marker\":{\"colorbar\":{\"outlinewidth\":0,\"ticks\":\"\"}},\"type\":\"scatter3d\"}],\"scattercarpet\":[{\"marker\":{\"colorbar\":{\"outlinewidth\":0,\"ticks\":\"\"}},\"type\":\"scattercarpet\"}],\"scattergeo\":[{\"marker\":{\"colorbar\":{\"outlinewidth\":0,\"ticks\":\"\"}},\"type\":\"scattergeo\"}],\"scattergl\":[{\"marker\":{\"colorbar\":{\"outlinewidth\":0,\"ticks\":\"\"}},\"type\":\"scattergl\"}],\"scattermapbox\":[{\"marker\":{\"colorbar\":{\"outlinewidth\":0,\"ticks\":\"\"}},\"type\":\"scattermapbox\"}],\"scatterpolar\":[{\"marker\":{\"colorbar\":{\"outlinewidth\":0,\"ticks\":\"\"}},\"type\":\"scatterpolar\"}],\"scatterpolargl\":[{\"marker\":{\"colorbar\":{\"outlinewidth\":0,\"ticks\":\"\"}},\"type\":\"scatterpolargl\"}],\"scatterternary\":[{\"marker\":{\"colorbar\":{\"outlinewidth\":0,\"ticks\":\"\"}},\"type\":\"scatterternary\"}],\"surface\":[{\"colorbar\":{\"outlinewidth\":0,\"ticks\":\"\"},\"colorscale\":[[0.0,\"#0d0887\"],[0.1111111111111111,\"#46039f\"],[0.2222222222222222,\"#7201a8\"],[0.3333333333333333,\"#9c179e\"],[0.4444444444444444,\"#bd3786\"],[0.5555555555555556,\"#d8576b\"],[0.6666666666666666,\"#ed7953\"],[0.7777777777777778,\"#fb9f3a\"],[0.8888888888888888,\"#fdca26\"],[1.0,\"#f0f921\"]],\"type\":\"surface\"}],\"table\":[{\"cells\":{\"fill\":{\"color\":\"#EBF0F8\"},\"line\":{\"color\":\"white\"}},\"header\":{\"fill\":{\"color\":\"#C8D4E3\"},\"line\":{\"color\":\"white\"}},\"type\":\"table\"}]},\"layout\":{\"annotationdefaults\":{\"arrowcolor\":\"#2a3f5f\",\"arrowhead\":0,\"arrowwidth\":1},\"autotypenumbers\":\"strict\",\"coloraxis\":{\"colorbar\":{\"outlinewidth\":0,\"ticks\":\"\"}},\"colorscale\":{\"diverging\":[[0,\"#8e0152\"],[0.1,\"#c51b7d\"],[0.2,\"#de77ae\"],[0.3,\"#f1b6da\"],[0.4,\"#fde0ef\"],[0.5,\"#f7f7f7\"],[0.6,\"#e6f5d0\"],[0.7,\"#b8e186\"],[0.8,\"#7fbc41\"],[0.9,\"#4d9221\"],[1,\"#276419\"]],\"sequential\":[[0.0,\"#0d0887\"],[0.1111111111111111,\"#46039f\"],[0.2222222222222222,\"#7201a8\"],[0.3333333333333333,\"#9c179e\"],[0.4444444444444444,\"#bd3786\"],[0.5555555555555556,\"#d8576b\"],[0.6666666666666666,\"#ed7953\"],[0.7777777777777778,\"#fb9f3a\"],[0.8888888888888888,\"#fdca26\"],[1.0,\"#f0f921\"]],\"sequentialminus\":[[0.0,\"#0d0887\"],[0.1111111111111111,\"#46039f\"],[0.2222222222222222,\"#7201a8\"],[0.3333333333333333,\"#9c179e\"],[0.4444444444444444,\"#bd3786\"],[0.5555555555555556,\"#d8576b\"],[0.6666666666666666,\"#ed7953\"],[0.7777777777777778,\"#fb9f3a\"],[0.8888888888888888,\"#fdca26\"],[1.0,\"#f0f921\"]]},\"colorway\":[\"#636efa\",\"#EF553B\",\"#00cc96\",\"#ab63fa\",\"#FFA15A\",\"#19d3f3\",\"#FF6692\",\"#B6E880\",\"#FF97FF\",\"#FECB52\"],\"font\":{\"color\":\"#2a3f5f\"},\"geo\":{\"bgcolor\":\"white\",\"lakecolor\":\"white\",\"landcolor\":\"#E5ECF6\",\"showlakes\":true,\"showland\":true,\"subunitcolor\":\"white\"},\"hoverlabel\":{\"align\":\"left\"},\"hovermode\":\"closest\",\"mapbox\":{\"style\":\"light\"},\"paper_bgcolor\":\"white\",\"plot_bgcolor\":\"#E5ECF6\",\"polar\":{\"angularaxis\":{\"gridcolor\":\"white\",\"linecolor\":\"white\",\"ticks\":\"\"},\"bgcolor\":\"#E5ECF6\",\"radialaxis\":{\"gridcolor\":\"white\",\"linecolor\":\"white\",\"ticks\":\"\"}},\"scene\":{\"xaxis\":{\"backgroundcolor\":\"#E5ECF6\",\"gridcolor\":\"white\",\"gridwidth\":2,\"linecolor\":\"white\",\"showbackground\":true,\"ticks\":\"\",\"zerolinecolor\":\"white\"},\"yaxis\":{\"backgroundcolor\":\"#E5ECF6\",\"gridcolor\":\"white\",\"gridwidth\":2,\"linecolor\":\"white\",\"showbackground\":true,\"ticks\":\"\",\"zerolinecolor\":\"white\"},\"zaxis\":{\"backgroundcolor\":\"#E5ECF6\",\"gridcolor\":\"white\",\"gridwidth\":2,\"linecolor\":\"white\",\"showbackground\":true,\"ticks\":\"\",\"zerolinecolor\":\"white\"}},\"shapedefaults\":{\"line\":{\"color\":\"#2a3f5f\"}},\"ternary\":{\"aaxis\":{\"gridcolor\":\"white\",\"linecolor\":\"white\",\"ticks\":\"\"},\"baxis\":{\"gridcolor\":\"white\",\"linecolor\":\"white\",\"ticks\":\"\"},\"bgcolor\":\"#E5ECF6\",\"caxis\":{\"gridcolor\":\"white\",\"linecolor\":\"white\",\"ticks\":\"\"}},\"title\":{\"x\":0.05},\"xaxis\":{\"automargin\":true,\"gridcolor\":\"white\",\"linecolor\":\"white\",\"ticks\":\"\",\"title\":{\"standoff\":15},\"zerolinecolor\":\"white\",\"zerolinewidth\":2},\"yaxis\":{\"automargin\":true,\"gridcolor\":\"white\",\"linecolor\":\"white\",\"ticks\":\"\",\"title\":{\"standoff\":15},\"zerolinecolor\":\"white\",\"zerolinewidth\":2}}},\"geo\":{\"domain\":{\"x\":[0.0,1.0],\"y\":[0.0,1.0]},\"center\":{}},\"coloraxis\":{\"colorbar\":{\"title\":{\"text\":\"anosmia\"}},\"colorscale\":[[0.0,\"#0d0887\"],[0.1111111111111111,\"#46039f\"],[0.2222222222222222,\"#7201a8\"],[0.3333333333333333,\"#9c179e\"],[0.4444444444444444,\"#bd3786\"],[0.5555555555555556,\"#d8576b\"],[0.6666666666666666,\"#ed7953\"],[0.7777777777777778,\"#fb9f3a\"],[0.8888888888888888,\"#fdca26\"],[1.0,\"#f0f921\"]]},\"legend\":{\"tracegroupgap\":0},\"title\":{\"text\":\"World Map: anosmia (%)\"}},                        {\"responsive\": true}                    ).then(function(){\n",
              "                            \n",
              "var gd = document.getElementById('2b146e95-f083-48fa-ad23-cca8b2e68f40');\n",
              "var x = new MutationObserver(function (mutations, observer) {{\n",
              "        var display = window.getComputedStyle(gd).display;\n",
              "        if (!display || display === 'none') {{\n",
              "            console.log([gd, 'removed!']);\n",
              "            Plotly.purge(gd);\n",
              "            observer.disconnect();\n",
              "        }}\n",
              "}});\n",
              "\n",
              "// Listen for the removal of the full notebook cells\n",
              "var notebookContainer = gd.closest('#notebook-container');\n",
              "if (notebookContainer) {{\n",
              "    x.observe(notebookContainer, {childList: true});\n",
              "}}\n",
              "\n",
              "// Listen for the clearing of the current output cell\n",
              "var outputEl = gd.closest('.output');\n",
              "if (outputEl) {{\n",
              "    x.observe(outputEl, {childList: true});\n",
              "}}\n",
              "\n",
              "                        })                };                            </script>        </div>\n",
              "</body>\n",
              "</html>"
            ]
          },
          "metadata": {}
        },
        {
          "output_type": "display_data",
          "data": {
            "text/html": [
              "<html>\n",
              "<head><meta charset=\"utf-8\" /></head>\n",
              "<body>\n",
              "    <div>            <script src=\"https://cdnjs.cloudflare.com/ajax/libs/mathjax/2.7.5/MathJax.js?config=TeX-AMS-MML_SVG\"></script><script type=\"text/javascript\">if (window.MathJax) {MathJax.Hub.Config({SVG: {font: \"STIX-Web\"}});}</script>                <script type=\"text/javascript\">window.PlotlyConfig = {MathJaxConfig: 'local'};</script>\n",
              "        <script src=\"https://cdn.plot.ly/plotly-2.8.3.min.js\"></script>                <div id=\"90c0b14f-1f4a-469a-b179-80f694e0f5d7\" class=\"plotly-graph-div\" style=\"height:525px; width:100%;\"></div>            <script type=\"text/javascript\">                                    window.PLOTLYENV=window.PLOTLYENV || {};                                    if (document.getElementById(\"90c0b14f-1f4a-469a-b179-80f694e0f5d7\")) {                    Plotly.newPlot(                        \"90c0b14f-1f4a-469a-b179-80f694e0f5d7\",                        [{\"coloraxis\":\"coloraxis\",\"geo\":\"geo\",\"hovertemplate\":\"<b>%{hovertext}</b><br><br>iso_code=%{location}<br>covid=%{z}<extra></extra>\",\"hovertext\":[\"South Africa\",\"Argentina\",\"Poland\",\"Spain\",\"Algeria\",\"Kenya\",\"Switzerland\",\"Japan\"],\"locations\":[\"ZAF\",\"ARG\",\"POL\",\"ESP\",\"DZA\",\"KEN\",\"CHE\",\"JPN\"],\"name\":\"\",\"z\":[0.062552,0.016443,0.010525,0.007516,0.186964,0.081996,0.003485,0.004077],\"type\":\"choropleth\"}],                        {\"template\":{\"data\":{\"bar\":[{\"error_x\":{\"color\":\"#2a3f5f\"},\"error_y\":{\"color\":\"#2a3f5f\"},\"marker\":{\"line\":{\"color\":\"#E5ECF6\",\"width\":0.5},\"pattern\":{\"fillmode\":\"overlay\",\"size\":10,\"solidity\":0.2}},\"type\":\"bar\"}],\"barpolar\":[{\"marker\":{\"line\":{\"color\":\"#E5ECF6\",\"width\":0.5},\"pattern\":{\"fillmode\":\"overlay\",\"size\":10,\"solidity\":0.2}},\"type\":\"barpolar\"}],\"carpet\":[{\"aaxis\":{\"endlinecolor\":\"#2a3f5f\",\"gridcolor\":\"white\",\"linecolor\":\"white\",\"minorgridcolor\":\"white\",\"startlinecolor\":\"#2a3f5f\"},\"baxis\":{\"endlinecolor\":\"#2a3f5f\",\"gridcolor\":\"white\",\"linecolor\":\"white\",\"minorgridcolor\":\"white\",\"startlinecolor\":\"#2a3f5f\"},\"type\":\"carpet\"}],\"choropleth\":[{\"colorbar\":{\"outlinewidth\":0,\"ticks\":\"\"},\"type\":\"choropleth\"}],\"contour\":[{\"colorbar\":{\"outlinewidth\":0,\"ticks\":\"\"},\"colorscale\":[[0.0,\"#0d0887\"],[0.1111111111111111,\"#46039f\"],[0.2222222222222222,\"#7201a8\"],[0.3333333333333333,\"#9c179e\"],[0.4444444444444444,\"#bd3786\"],[0.5555555555555556,\"#d8576b\"],[0.6666666666666666,\"#ed7953\"],[0.7777777777777778,\"#fb9f3a\"],[0.8888888888888888,\"#fdca26\"],[1.0,\"#f0f921\"]],\"type\":\"contour\"}],\"contourcarpet\":[{\"colorbar\":{\"outlinewidth\":0,\"ticks\":\"\"},\"type\":\"contourcarpet\"}],\"heatmap\":[{\"colorbar\":{\"outlinewidth\":0,\"ticks\":\"\"},\"colorscale\":[[0.0,\"#0d0887\"],[0.1111111111111111,\"#46039f\"],[0.2222222222222222,\"#7201a8\"],[0.3333333333333333,\"#9c179e\"],[0.4444444444444444,\"#bd3786\"],[0.5555555555555556,\"#d8576b\"],[0.6666666666666666,\"#ed7953\"],[0.7777777777777778,\"#fb9f3a\"],[0.8888888888888888,\"#fdca26\"],[1.0,\"#f0f921\"]],\"type\":\"heatmap\"}],\"heatmapgl\":[{\"colorbar\":{\"outlinewidth\":0,\"ticks\":\"\"},\"colorscale\":[[0.0,\"#0d0887\"],[0.1111111111111111,\"#46039f\"],[0.2222222222222222,\"#7201a8\"],[0.3333333333333333,\"#9c179e\"],[0.4444444444444444,\"#bd3786\"],[0.5555555555555556,\"#d8576b\"],[0.6666666666666666,\"#ed7953\"],[0.7777777777777778,\"#fb9f3a\"],[0.8888888888888888,\"#fdca26\"],[1.0,\"#f0f921\"]],\"type\":\"heatmapgl\"}],\"histogram\":[{\"marker\":{\"pattern\":{\"fillmode\":\"overlay\",\"size\":10,\"solidity\":0.2}},\"type\":\"histogram\"}],\"histogram2d\":[{\"colorbar\":{\"outlinewidth\":0,\"ticks\":\"\"},\"colorscale\":[[0.0,\"#0d0887\"],[0.1111111111111111,\"#46039f\"],[0.2222222222222222,\"#7201a8\"],[0.3333333333333333,\"#9c179e\"],[0.4444444444444444,\"#bd3786\"],[0.5555555555555556,\"#d8576b\"],[0.6666666666666666,\"#ed7953\"],[0.7777777777777778,\"#fb9f3a\"],[0.8888888888888888,\"#fdca26\"],[1.0,\"#f0f921\"]],\"type\":\"histogram2d\"}],\"histogram2dcontour\":[{\"colorbar\":{\"outlinewidth\":0,\"ticks\":\"\"},\"colorscale\":[[0.0,\"#0d0887\"],[0.1111111111111111,\"#46039f\"],[0.2222222222222222,\"#7201a8\"],[0.3333333333333333,\"#9c179e\"],[0.4444444444444444,\"#bd3786\"],[0.5555555555555556,\"#d8576b\"],[0.6666666666666666,\"#ed7953\"],[0.7777777777777778,\"#fb9f3a\"],[0.8888888888888888,\"#fdca26\"],[1.0,\"#f0f921\"]],\"type\":\"histogram2dcontour\"}],\"mesh3d\":[{\"colorbar\":{\"outlinewidth\":0,\"ticks\":\"\"},\"type\":\"mesh3d\"}],\"parcoords\":[{\"line\":{\"colorbar\":{\"outlinewidth\":0,\"ticks\":\"\"}},\"type\":\"parcoords\"}],\"pie\":[{\"automargin\":true,\"type\":\"pie\"}],\"scatter\":[{\"marker\":{\"colorbar\":{\"outlinewidth\":0,\"ticks\":\"\"}},\"type\":\"scatter\"}],\"scatter3d\":[{\"line\":{\"colorbar\":{\"outlinewidth\":0,\"ticks\":\"\"}},\"marker\":{\"colorbar\":{\"outlinewidth\":0,\"ticks\":\"\"}},\"type\":\"scatter3d\"}],\"scattercarpet\":[{\"marker\":{\"colorbar\":{\"outlinewidth\":0,\"ticks\":\"\"}},\"type\":\"scattercarpet\"}],\"scattergeo\":[{\"marker\":{\"colorbar\":{\"outlinewidth\":0,\"ticks\":\"\"}},\"type\":\"scattergeo\"}],\"scattergl\":[{\"marker\":{\"colorbar\":{\"outlinewidth\":0,\"ticks\":\"\"}},\"type\":\"scattergl\"}],\"scattermapbox\":[{\"marker\":{\"colorbar\":{\"outlinewidth\":0,\"ticks\":\"\"}},\"type\":\"scattermapbox\"}],\"scatterpolar\":[{\"marker\":{\"colorbar\":{\"outlinewidth\":0,\"ticks\":\"\"}},\"type\":\"scatterpolar\"}],\"scatterpolargl\":[{\"marker\":{\"colorbar\":{\"outlinewidth\":0,\"ticks\":\"\"}},\"type\":\"scatterpolargl\"}],\"scatterternary\":[{\"marker\":{\"colorbar\":{\"outlinewidth\":0,\"ticks\":\"\"}},\"type\":\"scatterternary\"}],\"surface\":[{\"colorbar\":{\"outlinewidth\":0,\"ticks\":\"\"},\"colorscale\":[[0.0,\"#0d0887\"],[0.1111111111111111,\"#46039f\"],[0.2222222222222222,\"#7201a8\"],[0.3333333333333333,\"#9c179e\"],[0.4444444444444444,\"#bd3786\"],[0.5555555555555556,\"#d8576b\"],[0.6666666666666666,\"#ed7953\"],[0.7777777777777778,\"#fb9f3a\"],[0.8888888888888888,\"#fdca26\"],[1.0,\"#f0f921\"]],\"type\":\"surface\"}],\"table\":[{\"cells\":{\"fill\":{\"color\":\"#EBF0F8\"},\"line\":{\"color\":\"white\"}},\"header\":{\"fill\":{\"color\":\"#C8D4E3\"},\"line\":{\"color\":\"white\"}},\"type\":\"table\"}]},\"layout\":{\"annotationdefaults\":{\"arrowcolor\":\"#2a3f5f\",\"arrowhead\":0,\"arrowwidth\":1},\"autotypenumbers\":\"strict\",\"coloraxis\":{\"colorbar\":{\"outlinewidth\":0,\"ticks\":\"\"}},\"colorscale\":{\"diverging\":[[0,\"#8e0152\"],[0.1,\"#c51b7d\"],[0.2,\"#de77ae\"],[0.3,\"#f1b6da\"],[0.4,\"#fde0ef\"],[0.5,\"#f7f7f7\"],[0.6,\"#e6f5d0\"],[0.7,\"#b8e186\"],[0.8,\"#7fbc41\"],[0.9,\"#4d9221\"],[1,\"#276419\"]],\"sequential\":[[0.0,\"#0d0887\"],[0.1111111111111111,\"#46039f\"],[0.2222222222222222,\"#7201a8\"],[0.3333333333333333,\"#9c179e\"],[0.4444444444444444,\"#bd3786\"],[0.5555555555555556,\"#d8576b\"],[0.6666666666666666,\"#ed7953\"],[0.7777777777777778,\"#fb9f3a\"],[0.8888888888888888,\"#fdca26\"],[1.0,\"#f0f921\"]],\"sequentialminus\":[[0.0,\"#0d0887\"],[0.1111111111111111,\"#46039f\"],[0.2222222222222222,\"#7201a8\"],[0.3333333333333333,\"#9c179e\"],[0.4444444444444444,\"#bd3786\"],[0.5555555555555556,\"#d8576b\"],[0.6666666666666666,\"#ed7953\"],[0.7777777777777778,\"#fb9f3a\"],[0.8888888888888888,\"#fdca26\"],[1.0,\"#f0f921\"]]},\"colorway\":[\"#636efa\",\"#EF553B\",\"#00cc96\",\"#ab63fa\",\"#FFA15A\",\"#19d3f3\",\"#FF6692\",\"#B6E880\",\"#FF97FF\",\"#FECB52\"],\"font\":{\"color\":\"#2a3f5f\"},\"geo\":{\"bgcolor\":\"white\",\"lakecolor\":\"white\",\"landcolor\":\"#E5ECF6\",\"showlakes\":true,\"showland\":true,\"subunitcolor\":\"white\"},\"hoverlabel\":{\"align\":\"left\"},\"hovermode\":\"closest\",\"mapbox\":{\"style\":\"light\"},\"paper_bgcolor\":\"white\",\"plot_bgcolor\":\"#E5ECF6\",\"polar\":{\"angularaxis\":{\"gridcolor\":\"white\",\"linecolor\":\"white\",\"ticks\":\"\"},\"bgcolor\":\"#E5ECF6\",\"radialaxis\":{\"gridcolor\":\"white\",\"linecolor\":\"white\",\"ticks\":\"\"}},\"scene\":{\"xaxis\":{\"backgroundcolor\":\"#E5ECF6\",\"gridcolor\":\"white\",\"gridwidth\":2,\"linecolor\":\"white\",\"showbackground\":true,\"ticks\":\"\",\"zerolinecolor\":\"white\"},\"yaxis\":{\"backgroundcolor\":\"#E5ECF6\",\"gridcolor\":\"white\",\"gridwidth\":2,\"linecolor\":\"white\",\"showbackground\":true,\"ticks\":\"\",\"zerolinecolor\":\"white\"},\"zaxis\":{\"backgroundcolor\":\"#E5ECF6\",\"gridcolor\":\"white\",\"gridwidth\":2,\"linecolor\":\"white\",\"showbackground\":true,\"ticks\":\"\",\"zerolinecolor\":\"white\"}},\"shapedefaults\":{\"line\":{\"color\":\"#2a3f5f\"}},\"ternary\":{\"aaxis\":{\"gridcolor\":\"white\",\"linecolor\":\"white\",\"ticks\":\"\"},\"baxis\":{\"gridcolor\":\"white\",\"linecolor\":\"white\",\"ticks\":\"\"},\"bgcolor\":\"#E5ECF6\",\"caxis\":{\"gridcolor\":\"white\",\"linecolor\":\"white\",\"ticks\":\"\"}},\"title\":{\"x\":0.05},\"xaxis\":{\"automargin\":true,\"gridcolor\":\"white\",\"linecolor\":\"white\",\"ticks\":\"\",\"title\":{\"standoff\":15},\"zerolinecolor\":\"white\",\"zerolinewidth\":2},\"yaxis\":{\"automargin\":true,\"gridcolor\":\"white\",\"linecolor\":\"white\",\"ticks\":\"\",\"title\":{\"standoff\":15},\"zerolinecolor\":\"white\",\"zerolinewidth\":2}}},\"geo\":{\"domain\":{\"x\":[0.0,1.0],\"y\":[0.0,1.0]},\"center\":{}},\"coloraxis\":{\"colorbar\":{\"title\":{\"text\":\"covid\"}},\"colorscale\":[[0.0,\"#0d0887\"],[0.1111111111111111,\"#46039f\"],[0.2222222222222222,\"#7201a8\"],[0.3333333333333333,\"#9c179e\"],[0.4444444444444444,\"#bd3786\"],[0.5555555555555556,\"#d8576b\"],[0.6666666666666666,\"#ed7953\"],[0.7777777777777778,\"#fb9f3a\"],[0.8888888888888888,\"#fdca26\"],[1.0,\"#f0f921\"]]},\"legend\":{\"tracegroupgap\":0},\"title\":{\"text\":\"World Map: covid (%)\"}},                        {\"responsive\": true}                    ).then(function(){\n",
              "                            \n",
              "var gd = document.getElementById('90c0b14f-1f4a-469a-b179-80f694e0f5d7');\n",
              "var x = new MutationObserver(function (mutations, observer) {{\n",
              "        var display = window.getComputedStyle(gd).display;\n",
              "        if (!display || display === 'none') {{\n",
              "            console.log([gd, 'removed!']);\n",
              "            Plotly.purge(gd);\n",
              "            observer.disconnect();\n",
              "        }}\n",
              "}});\n",
              "\n",
              "// Listen for the removal of the full notebook cells\n",
              "var notebookContainer = gd.closest('#notebook-container');\n",
              "if (notebookContainer) {{\n",
              "    x.observe(notebookContainer, {childList: true});\n",
              "}}\n",
              "\n",
              "// Listen for the clearing of the current output cell\n",
              "var outputEl = gd.closest('.output');\n",
              "if (outputEl) {{\n",
              "    x.observe(outputEl, {childList: true});\n",
              "}}\n",
              "\n",
              "                        })                };                            </script>        </div>\n",
              "</body>\n",
              "</html>"
            ]
          },
          "metadata": {}
        }
      ]
    },
    {
      "cell_type": "code",
      "source": [
        "import plotly.express as px\n",
        "import json\n",
        "\n",
        "indicators = ['mask', 'covid_vaccine',\n",
        "              'anosmia', 'covid']\n",
        "\n",
        "\n",
        "for indicator in indicators:\n",
        "    indicator_code = get_indicator_code(indicator)\n",
        "    percent = get_pct_prefix(indicator)\n",
        "    df = query_db(f\"\"\"\n",
        "        SELECT\n",
        "            iso_code,\n",
        "            country,\n",
        "            {percent}_{indicator_code} AS percentage\n",
        "        FROM rpl_covid_survey_{indicator}\n",
        "        WHERE survey_date = 20210701\n",
        "        \"\"\")\n",
        "\n",
        "    fig = px.choropleth(df, locations=\"iso_code\",\n",
        "                        title= f\"World Map: {indicator} (%)\",\n",
        "                        color='percentage',\n",
        "                        hover_name=\"country\",\n",
        "                        color_continuous_scale=px.colors.sequential.Plasma)\n",
        "    fig.show()"
      ],
      "metadata": {
        "colab": {
          "base_uri": "https://localhost:8080/",
          "height": 1000
        },
        "id": "Pm3e0mWJb3cG",
        "outputId": "21a2240d-048f-435a-f852-9d40fab8a361"
      },
      "execution_count": null,
      "outputs": [
        {
          "output_type": "display_data",
          "data": {
            "text/html": [
              "<html>\n",
              "<head><meta charset=\"utf-8\" /></head>\n",
              "<body>\n",
              "    <div>            <script src=\"https://cdnjs.cloudflare.com/ajax/libs/mathjax/2.7.5/MathJax.js?config=TeX-AMS-MML_SVG\"></script><script type=\"text/javascript\">if (window.MathJax) {MathJax.Hub.Config({SVG: {font: \"STIX-Web\"}});}</script>                <script type=\"text/javascript\">window.PlotlyConfig = {MathJaxConfig: 'local'};</script>\n",
              "        <script src=\"https://cdn.plot.ly/plotly-2.8.3.min.js\"></script>                <div id=\"a4b3d709-68a3-4e45-8373-4d0fa4f7c10c\" class=\"plotly-graph-div\" style=\"height:525px; width:100%;\"></div>            <script type=\"text/javascript\">                                    window.PLOTLYENV=window.PLOTLYENV || {};                                    if (document.getElementById(\"a4b3d709-68a3-4e45-8373-4d0fa4f7c10c\")) {                    Plotly.newPlot(                        \"a4b3d709-68a3-4e45-8373-4d0fa4f7c10c\",                        [{\"coloraxis\":\"coloraxis\",\"geo\":\"geo\",\"hovertemplate\":\"<b>%{hovertext}</b><br><br>iso_code=%{location}<br>percentage=%{z}<extra></extra>\",\"hovertext\":[\"Japan\",\"Germany\",\"Venezuela\",\"Vietnam\",\"United Kingdom\",\"Uruguay\",\"United Arab Emirates\",\"Turkey\",\"Ukraine\",\"Thailand\",\"Tunisia\",\"Taiwan\",\"Sweden\",\"Switzerland\",\"Spain\",\"Sudan\",\"South Korea\",\"Slovenia\",\"Slovakia\",\"Singapore\",\"Serbia\",\"Russia\",\"Saudi Arabia\",\"Romania\",\"Puerto Rico, U.S.\",\"Poland\",\"Portugal\",\"Philippines\",\"Peru\",\"Paraguay\",\"Panama\",\"Pakistan\",\"Norway\",\"Nigeria\",\"Nicaragua\",\"Netherlands\",\"New Zealand\",\"Myanmar\",\"Nepal\",\"Morocco\",\"Mexico\",\"Malaysia\",\"Kazakhstan\",\"Jordan\",\"Kenya\",\"Italy\",\"Iraq\",\"Israel\",\"Ireland\",\"Indonesia\",\"India\",\"Hungary\",\"Hong Kong\",\"Greece\",\"Guatemala\",\"Honduras\",\"Ghana\",\"France\",\"Finland\",\"El Salvador\",\"Dominican Republic\",\"Egypt\",\"Ecuador\",\"Croatia\",\"Denmark\",\"Czech Republic\",\"Costa Rica\",\"Colombia\",\"Chile\",\"Canada\",\"Bulgaria\",\"Bolivia\",\"Brazil\",\"Belgium\",\"Belarus\",\"Bangladesh\",\"Austria\",\"Argentina\",\"Australia\",\"Algeria\"],\"locations\":[\"JPN\",\"DEU\",\"VEN\",\"VNM\",\"GBR\",\"URY\",\"ARE\",\"TUR\",\"UKR\",\"THA\",\"TUN\",\"TWN\",\"SWE\",\"CHE\",\"ESP\",\"SDN\",\"KOR\",\"SVN\",\"SVK\",\"SGP\",\"SRB\",\"RUS\",\"SAU\",\"ROU\",\"PRI\",\"POL\",\"PRT\",\"PHL\",\"PER\",\"PRY\",\"PAN\",\"PAK\",\"NOR\",\"NGA\",\"NIC\",\"NLD\",\"NZL\",\"MMR\",\"NPL\",\"MAR\",\"MEX\",\"MYS\",\"KAZ\",\"JOR\",\"KEN\",\"ITA\",\"IRQ\",\"ISR\",\"IRL\",\"IDN\",\"IND\",\"HUN\",\"HKG\",\"GRC\",\"GTM\",\"HND\",\"GHA\",\"FRA\",\"FIN\",\"SLV\",\"DOM\",\"EGY\",\"ECU\",\"HRV\",\"DNK\",\"CZE\",\"CRI\",\"COL\",\"CHL\",\"CAN\",\"BGR\",\"BOL\",\"BRA\",\"BEL\",\"BLR\",\"BGD\",\"AUT\",\"ARG\",\"AUS\",\"DZA\"],\"name\":\"\",\"z\":[0.963163,0.791662,0.894167,0.838525,0.739122,0.881664,0.886296,0.787357,0.692826,0.910579,0.819876,0.934503,0.128045,0.697497,0.921133,0.411103,0.976958,0.544869,0.578225,0.953922,0.464432,0.660318,0.833193,0.68691,0.915299,0.568328,0.959606,0.902405,0.881005,0.829658,0.942812,0.626345,0.380361,0.482007,0.781959,0.423345,0.07148,0.748146,0.821338,0.624346,0.887732,0.817219,0.715159,0.709546,0.853899,0.886913,0.45812,0.513158,0.849525,0.837011,0.801939,0.598661,0.996847,0.742968,0.87811,0.913843,null,0.822608,0.822387,0.914206,0.862702,0.542756,0.886194,0.47147,0.081337,0.528709,0.919915,0.877202,0.891119,0.868243,0.580331,0.887055,0.852174,0.828649,0.67334,0.802343,0.725215,0.893224,0.672287,0.462942],\"type\":\"choropleth\"}],                        {\"template\":{\"data\":{\"bar\":[{\"error_x\":{\"color\":\"#2a3f5f\"},\"error_y\":{\"color\":\"#2a3f5f\"},\"marker\":{\"line\":{\"color\":\"#E5ECF6\",\"width\":0.5},\"pattern\":{\"fillmode\":\"overlay\",\"size\":10,\"solidity\":0.2}},\"type\":\"bar\"}],\"barpolar\":[{\"marker\":{\"line\":{\"color\":\"#E5ECF6\",\"width\":0.5},\"pattern\":{\"fillmode\":\"overlay\",\"size\":10,\"solidity\":0.2}},\"type\":\"barpolar\"}],\"carpet\":[{\"aaxis\":{\"endlinecolor\":\"#2a3f5f\",\"gridcolor\":\"white\",\"linecolor\":\"white\",\"minorgridcolor\":\"white\",\"startlinecolor\":\"#2a3f5f\"},\"baxis\":{\"endlinecolor\":\"#2a3f5f\",\"gridcolor\":\"white\",\"linecolor\":\"white\",\"minorgridcolor\":\"white\",\"startlinecolor\":\"#2a3f5f\"},\"type\":\"carpet\"}],\"choropleth\":[{\"colorbar\":{\"outlinewidth\":0,\"ticks\":\"\"},\"type\":\"choropleth\"}],\"contour\":[{\"colorbar\":{\"outlinewidth\":0,\"ticks\":\"\"},\"colorscale\":[[0.0,\"#0d0887\"],[0.1111111111111111,\"#46039f\"],[0.2222222222222222,\"#7201a8\"],[0.3333333333333333,\"#9c179e\"],[0.4444444444444444,\"#bd3786\"],[0.5555555555555556,\"#d8576b\"],[0.6666666666666666,\"#ed7953\"],[0.7777777777777778,\"#fb9f3a\"],[0.8888888888888888,\"#fdca26\"],[1.0,\"#f0f921\"]],\"type\":\"contour\"}],\"contourcarpet\":[{\"colorbar\":{\"outlinewidth\":0,\"ticks\":\"\"},\"type\":\"contourcarpet\"}],\"heatmap\":[{\"colorbar\":{\"outlinewidth\":0,\"ticks\":\"\"},\"colorscale\":[[0.0,\"#0d0887\"],[0.1111111111111111,\"#46039f\"],[0.2222222222222222,\"#7201a8\"],[0.3333333333333333,\"#9c179e\"],[0.4444444444444444,\"#bd3786\"],[0.5555555555555556,\"#d8576b\"],[0.6666666666666666,\"#ed7953\"],[0.7777777777777778,\"#fb9f3a\"],[0.8888888888888888,\"#fdca26\"],[1.0,\"#f0f921\"]],\"type\":\"heatmap\"}],\"heatmapgl\":[{\"colorbar\":{\"outlinewidth\":0,\"ticks\":\"\"},\"colorscale\":[[0.0,\"#0d0887\"],[0.1111111111111111,\"#46039f\"],[0.2222222222222222,\"#7201a8\"],[0.3333333333333333,\"#9c179e\"],[0.4444444444444444,\"#bd3786\"],[0.5555555555555556,\"#d8576b\"],[0.6666666666666666,\"#ed7953\"],[0.7777777777777778,\"#fb9f3a\"],[0.8888888888888888,\"#fdca26\"],[1.0,\"#f0f921\"]],\"type\":\"heatmapgl\"}],\"histogram\":[{\"marker\":{\"pattern\":{\"fillmode\":\"overlay\",\"size\":10,\"solidity\":0.2}},\"type\":\"histogram\"}],\"histogram2d\":[{\"colorbar\":{\"outlinewidth\":0,\"ticks\":\"\"},\"colorscale\":[[0.0,\"#0d0887\"],[0.1111111111111111,\"#46039f\"],[0.2222222222222222,\"#7201a8\"],[0.3333333333333333,\"#9c179e\"],[0.4444444444444444,\"#bd3786\"],[0.5555555555555556,\"#d8576b\"],[0.6666666666666666,\"#ed7953\"],[0.7777777777777778,\"#fb9f3a\"],[0.8888888888888888,\"#fdca26\"],[1.0,\"#f0f921\"]],\"type\":\"histogram2d\"}],\"histogram2dcontour\":[{\"colorbar\":{\"outlinewidth\":0,\"ticks\":\"\"},\"colorscale\":[[0.0,\"#0d0887\"],[0.1111111111111111,\"#46039f\"],[0.2222222222222222,\"#7201a8\"],[0.3333333333333333,\"#9c179e\"],[0.4444444444444444,\"#bd3786\"],[0.5555555555555556,\"#d8576b\"],[0.6666666666666666,\"#ed7953\"],[0.7777777777777778,\"#fb9f3a\"],[0.8888888888888888,\"#fdca26\"],[1.0,\"#f0f921\"]],\"type\":\"histogram2dcontour\"}],\"mesh3d\":[{\"colorbar\":{\"outlinewidth\":0,\"ticks\":\"\"},\"type\":\"mesh3d\"}],\"parcoords\":[{\"line\":{\"colorbar\":{\"outlinewidth\":0,\"ticks\":\"\"}},\"type\":\"parcoords\"}],\"pie\":[{\"automargin\":true,\"type\":\"pie\"}],\"scatter\":[{\"marker\":{\"colorbar\":{\"outlinewidth\":0,\"ticks\":\"\"}},\"type\":\"scatter\"}],\"scatter3d\":[{\"line\":{\"colorbar\":{\"outlinewidth\":0,\"ticks\":\"\"}},\"marker\":{\"colorbar\":{\"outlinewidth\":0,\"ticks\":\"\"}},\"type\":\"scatter3d\"}],\"scattercarpet\":[{\"marker\":{\"colorbar\":{\"outlinewidth\":0,\"ticks\":\"\"}},\"type\":\"scattercarpet\"}],\"scattergeo\":[{\"marker\":{\"colorbar\":{\"outlinewidth\":0,\"ticks\":\"\"}},\"type\":\"scattergeo\"}],\"scattergl\":[{\"marker\":{\"colorbar\":{\"outlinewidth\":0,\"ticks\":\"\"}},\"type\":\"scattergl\"}],\"scattermapbox\":[{\"marker\":{\"colorbar\":{\"outlinewidth\":0,\"ticks\":\"\"}},\"type\":\"scattermapbox\"}],\"scatterpolar\":[{\"marker\":{\"colorbar\":{\"outlinewidth\":0,\"ticks\":\"\"}},\"type\":\"scatterpolar\"}],\"scatterpolargl\":[{\"marker\":{\"colorbar\":{\"outlinewidth\":0,\"ticks\":\"\"}},\"type\":\"scatterpolargl\"}],\"scatterternary\":[{\"marker\":{\"colorbar\":{\"outlinewidth\":0,\"ticks\":\"\"}},\"type\":\"scatterternary\"}],\"surface\":[{\"colorbar\":{\"outlinewidth\":0,\"ticks\":\"\"},\"colorscale\":[[0.0,\"#0d0887\"],[0.1111111111111111,\"#46039f\"],[0.2222222222222222,\"#7201a8\"],[0.3333333333333333,\"#9c179e\"],[0.4444444444444444,\"#bd3786\"],[0.5555555555555556,\"#d8576b\"],[0.6666666666666666,\"#ed7953\"],[0.7777777777777778,\"#fb9f3a\"],[0.8888888888888888,\"#fdca26\"],[1.0,\"#f0f921\"]],\"type\":\"surface\"}],\"table\":[{\"cells\":{\"fill\":{\"color\":\"#EBF0F8\"},\"line\":{\"color\":\"white\"}},\"header\":{\"fill\":{\"color\":\"#C8D4E3\"},\"line\":{\"color\":\"white\"}},\"type\":\"table\"}]},\"layout\":{\"annotationdefaults\":{\"arrowcolor\":\"#2a3f5f\",\"arrowhead\":0,\"arrowwidth\":1},\"autotypenumbers\":\"strict\",\"coloraxis\":{\"colorbar\":{\"outlinewidth\":0,\"ticks\":\"\"}},\"colorscale\":{\"diverging\":[[0,\"#8e0152\"],[0.1,\"#c51b7d\"],[0.2,\"#de77ae\"],[0.3,\"#f1b6da\"],[0.4,\"#fde0ef\"],[0.5,\"#f7f7f7\"],[0.6,\"#e6f5d0\"],[0.7,\"#b8e186\"],[0.8,\"#7fbc41\"],[0.9,\"#4d9221\"],[1,\"#276419\"]],\"sequential\":[[0.0,\"#0d0887\"],[0.1111111111111111,\"#46039f\"],[0.2222222222222222,\"#7201a8\"],[0.3333333333333333,\"#9c179e\"],[0.4444444444444444,\"#bd3786\"],[0.5555555555555556,\"#d8576b\"],[0.6666666666666666,\"#ed7953\"],[0.7777777777777778,\"#fb9f3a\"],[0.8888888888888888,\"#fdca26\"],[1.0,\"#f0f921\"]],\"sequentialminus\":[[0.0,\"#0d0887\"],[0.1111111111111111,\"#46039f\"],[0.2222222222222222,\"#7201a8\"],[0.3333333333333333,\"#9c179e\"],[0.4444444444444444,\"#bd3786\"],[0.5555555555555556,\"#d8576b\"],[0.6666666666666666,\"#ed7953\"],[0.7777777777777778,\"#fb9f3a\"],[0.8888888888888888,\"#fdca26\"],[1.0,\"#f0f921\"]]},\"colorway\":[\"#636efa\",\"#EF553B\",\"#00cc96\",\"#ab63fa\",\"#FFA15A\",\"#19d3f3\",\"#FF6692\",\"#B6E880\",\"#FF97FF\",\"#FECB52\"],\"font\":{\"color\":\"#2a3f5f\"},\"geo\":{\"bgcolor\":\"white\",\"lakecolor\":\"white\",\"landcolor\":\"#E5ECF6\",\"showlakes\":true,\"showland\":true,\"subunitcolor\":\"white\"},\"hoverlabel\":{\"align\":\"left\"},\"hovermode\":\"closest\",\"mapbox\":{\"style\":\"light\"},\"paper_bgcolor\":\"white\",\"plot_bgcolor\":\"#E5ECF6\",\"polar\":{\"angularaxis\":{\"gridcolor\":\"white\",\"linecolor\":\"white\",\"ticks\":\"\"},\"bgcolor\":\"#E5ECF6\",\"radialaxis\":{\"gridcolor\":\"white\",\"linecolor\":\"white\",\"ticks\":\"\"}},\"scene\":{\"xaxis\":{\"backgroundcolor\":\"#E5ECF6\",\"gridcolor\":\"white\",\"gridwidth\":2,\"linecolor\":\"white\",\"showbackground\":true,\"ticks\":\"\",\"zerolinecolor\":\"white\"},\"yaxis\":{\"backgroundcolor\":\"#E5ECF6\",\"gridcolor\":\"white\",\"gridwidth\":2,\"linecolor\":\"white\",\"showbackground\":true,\"ticks\":\"\",\"zerolinecolor\":\"white\"},\"zaxis\":{\"backgroundcolor\":\"#E5ECF6\",\"gridcolor\":\"white\",\"gridwidth\":2,\"linecolor\":\"white\",\"showbackground\":true,\"ticks\":\"\",\"zerolinecolor\":\"white\"}},\"shapedefaults\":{\"line\":{\"color\":\"#2a3f5f\"}},\"ternary\":{\"aaxis\":{\"gridcolor\":\"white\",\"linecolor\":\"white\",\"ticks\":\"\"},\"baxis\":{\"gridcolor\":\"white\",\"linecolor\":\"white\",\"ticks\":\"\"},\"bgcolor\":\"#E5ECF6\",\"caxis\":{\"gridcolor\":\"white\",\"linecolor\":\"white\",\"ticks\":\"\"}},\"title\":{\"x\":0.05},\"xaxis\":{\"automargin\":true,\"gridcolor\":\"white\",\"linecolor\":\"white\",\"ticks\":\"\",\"title\":{\"standoff\":15},\"zerolinecolor\":\"white\",\"zerolinewidth\":2},\"yaxis\":{\"automargin\":true,\"gridcolor\":\"white\",\"linecolor\":\"white\",\"ticks\":\"\",\"title\":{\"standoff\":15},\"zerolinecolor\":\"white\",\"zerolinewidth\":2}}},\"geo\":{\"domain\":{\"x\":[0.0,1.0],\"y\":[0.0,1.0]},\"center\":{}},\"coloraxis\":{\"colorbar\":{\"title\":{\"text\":\"percentage\"}},\"colorscale\":[[0.0,\"#0d0887\"],[0.1111111111111111,\"#46039f\"],[0.2222222222222222,\"#7201a8\"],[0.3333333333333333,\"#9c179e\"],[0.4444444444444444,\"#bd3786\"],[0.5555555555555556,\"#d8576b\"],[0.6666666666666666,\"#ed7953\"],[0.7777777777777778,\"#fb9f3a\"],[0.8888888888888888,\"#fdca26\"],[1.0,\"#f0f921\"]]},\"legend\":{\"tracegroupgap\":0},\"title\":{\"text\":\"World Map: mask (%)\"}},                        {\"responsive\": true}                    ).then(function(){\n",
              "                            \n",
              "var gd = document.getElementById('a4b3d709-68a3-4e45-8373-4d0fa4f7c10c');\n",
              "var x = new MutationObserver(function (mutations, observer) {{\n",
              "        var display = window.getComputedStyle(gd).display;\n",
              "        if (!display || display === 'none') {{\n",
              "            console.log([gd, 'removed!']);\n",
              "            Plotly.purge(gd);\n",
              "            observer.disconnect();\n",
              "        }}\n",
              "}});\n",
              "\n",
              "// Listen for the removal of the full notebook cells\n",
              "var notebookContainer = gd.closest('#notebook-container');\n",
              "if (notebookContainer) {{\n",
              "    x.observe(notebookContainer, {childList: true});\n",
              "}}\n",
              "\n",
              "// Listen for the clearing of the current output cell\n",
              "var outputEl = gd.closest('.output');\n",
              "if (outputEl) {{\n",
              "    x.observe(outputEl, {childList: true});\n",
              "}}\n",
              "\n",
              "                        })                };                            </script>        </div>\n",
              "</body>\n",
              "</html>"
            ]
          },
          "metadata": {}
        },
        {
          "output_type": "display_data",
          "data": {
            "text/html": [
              "<html>\n",
              "<head><meta charset=\"utf-8\" /></head>\n",
              "<body>\n",
              "    <div>            <script src=\"https://cdnjs.cloudflare.com/ajax/libs/mathjax/2.7.5/MathJax.js?config=TeX-AMS-MML_SVG\"></script><script type=\"text/javascript\">if (window.MathJax) {MathJax.Hub.Config({SVG: {font: \"STIX-Web\"}});}</script>                <script type=\"text/javascript\">window.PlotlyConfig = {MathJaxConfig: 'local'};</script>\n",
              "        <script src=\"https://cdn.plot.ly/plotly-2.8.3.min.js\"></script>                <div id=\"32870aa3-085f-4aec-a5b0-ab37d4fe80c2\" class=\"plotly-graph-div\" style=\"height:525px; width:100%;\"></div>            <script type=\"text/javascript\">                                    window.PLOTLYENV=window.PLOTLYENV || {};                                    if (document.getElementById(\"32870aa3-085f-4aec-a5b0-ab37d4fe80c2\")) {                    Plotly.newPlot(                        \"32870aa3-085f-4aec-a5b0-ab37d4fe80c2\",                        [{\"coloraxis\":\"coloraxis\",\"geo\":\"geo\",\"hovertemplate\":\"<b>%{hovertext}</b><br><br>iso_code=%{location}<br>percentage=%{z}<extra></extra>\",\"hovertext\":[\"Japan\",\"Germany\",\"Vietnam\",\"United Kingdom\",\"Venezuela\",\"Ukraine\",\"Uruguay\",\"United Arab Emirates\",\"Tunisia\",\"Turkey\",\"Thailand\",\"Taiwan\",\"Switzerland\",\"Sweden\",\"Sudan\",\"Spain\",\"Slovenia\",\"South Korea\",\"South Africa\",\"Serbia\",\"Singapore\",\"Slovakia\",\"Saudi Arabia\",\"Russia\",\"Romania\",\"Puerto Rico, U.S.\",\"Poland\",\"Portugal\",\"Philippines\",\"Paraguay\",\"Panama\",\"Peru\",\"Pakistan\",\"Norway\",\"Nigeria\",\"Nicaragua\",\"Nepal\",\"Myanmar\",\"Netherlands\",\"Morocco\",\"Mexico\",\"Malaysia\",\"Kenya\",\"Jordan\",\"Kazakhstan\",\"Italy\",\"Ireland\",\"Israel\",\"Indonesia\",\"Hungary\",\"India\",\"Iraq\",\"Hong Kong\",\"Honduras\",\"Guatemala\",\"Ghana\",\"Greece\",\"France\",\"Finland\",\"El Salvador\",\"Egypt\",\"Denmark\",\"Ecuador\",\"Dominican Republic\",\"Czech Republic\",\"Croatia\",\"Colombia\",\"Costa Rica\",\"Chile\",\"Canada\",\"Bulgaria\",\"Brazil\",\"Belgium\",\"Bolivia\",\"Belarus\",\"Bangladesh\",\"Austria\",\"Australia\",\"Argentina\",\"Algeria\"],\"locations\":[\"JPN\",\"DEU\",\"VNM\",\"GBR\",\"VEN\",\"UKR\",\"URY\",\"ARE\",\"TUN\",\"TUR\",\"THA\",\"TWN\",\"CHE\",\"SWE\",\"SDN\",\"ESP\",\"SVN\",\"KOR\",\"ZAF\",\"SRB\",\"SGP\",\"SVK\",\"SAU\",\"RUS\",\"ROU\",\"PRI\",\"POL\",\"PRT\",\"PHL\",\"PRY\",\"PAN\",\"PER\",\"PAK\",\"NOR\",\"NGA\",\"NIC\",\"NPL\",\"MMR\",\"NLD\",\"MAR\",\"MEX\",\"MYS\",\"KEN\",\"JOR\",\"KAZ\",\"ITA\",\"IRL\",\"ISR\",\"IDN\",\"HUN\",\"IND\",\"IRQ\",\"HKG\",\"HND\",\"GTM\",\"GHA\",\"GRC\",\"FRA\",\"FIN\",\"SLV\",\"EGY\",\"DNK\",\"ECU\",\"DOM\",\"CZE\",\"HRV\",\"COL\",\"CRI\",\"CHL\",\"CAN\",\"BGR\",\"BRA\",\"BEL\",\"BOL\",\"BLR\",\"BGD\",\"AUT\",\"AUS\",\"ARG\",\"DZA\"],\"name\":\"\",\"z\":[0.428118,0.813148,0.121062,0.883586,0.256444,0.300017,0.806342,0.866834,0.300612,0.691121,0.367998,0.166132,0.75062,0.76071,0.222864,0.741105,0.67848,0.508888,0.178507,0.680159,0.824284,0.718034,0.887443,0.498045,0.714756,0.938504,0.794846,0.669723,0.366268,0.30525,0.538276,0.252213,0.709951,0.758894,0.366649,0.142614,0.406393,0.285337,0.78683,0.52729,0.494109,0.406987,0.269156,0.737969,0.603827,0.816867,0.754486,0.899106,0.448321,0.796351,0.718924,0.281218,0.752449,0.416657,0.290104,null,0.80264,0.779319,0.804017,0.533923,0.288264,0.777621,0.374272,0.807035,0.791424,0.714478,0.416251,0.604454,0.898791,0.864879,0.478985,0.551219,0.866154,0.516296,0.31979,0.437555,0.77206,0.42757,0.604587,0.223095],\"type\":\"choropleth\"}],                        {\"template\":{\"data\":{\"bar\":[{\"error_x\":{\"color\":\"#2a3f5f\"},\"error_y\":{\"color\":\"#2a3f5f\"},\"marker\":{\"line\":{\"color\":\"#E5ECF6\",\"width\":0.5},\"pattern\":{\"fillmode\":\"overlay\",\"size\":10,\"solidity\":0.2}},\"type\":\"bar\"}],\"barpolar\":[{\"marker\":{\"line\":{\"color\":\"#E5ECF6\",\"width\":0.5},\"pattern\":{\"fillmode\":\"overlay\",\"size\":10,\"solidity\":0.2}},\"type\":\"barpolar\"}],\"carpet\":[{\"aaxis\":{\"endlinecolor\":\"#2a3f5f\",\"gridcolor\":\"white\",\"linecolor\":\"white\",\"minorgridcolor\":\"white\",\"startlinecolor\":\"#2a3f5f\"},\"baxis\":{\"endlinecolor\":\"#2a3f5f\",\"gridcolor\":\"white\",\"linecolor\":\"white\",\"minorgridcolor\":\"white\",\"startlinecolor\":\"#2a3f5f\"},\"type\":\"carpet\"}],\"choropleth\":[{\"colorbar\":{\"outlinewidth\":0,\"ticks\":\"\"},\"type\":\"choropleth\"}],\"contour\":[{\"colorbar\":{\"outlinewidth\":0,\"ticks\":\"\"},\"colorscale\":[[0.0,\"#0d0887\"],[0.1111111111111111,\"#46039f\"],[0.2222222222222222,\"#7201a8\"],[0.3333333333333333,\"#9c179e\"],[0.4444444444444444,\"#bd3786\"],[0.5555555555555556,\"#d8576b\"],[0.6666666666666666,\"#ed7953\"],[0.7777777777777778,\"#fb9f3a\"],[0.8888888888888888,\"#fdca26\"],[1.0,\"#f0f921\"]],\"type\":\"contour\"}],\"contourcarpet\":[{\"colorbar\":{\"outlinewidth\":0,\"ticks\":\"\"},\"type\":\"contourcarpet\"}],\"heatmap\":[{\"colorbar\":{\"outlinewidth\":0,\"ticks\":\"\"},\"colorscale\":[[0.0,\"#0d0887\"],[0.1111111111111111,\"#46039f\"],[0.2222222222222222,\"#7201a8\"],[0.3333333333333333,\"#9c179e\"],[0.4444444444444444,\"#bd3786\"],[0.5555555555555556,\"#d8576b\"],[0.6666666666666666,\"#ed7953\"],[0.7777777777777778,\"#fb9f3a\"],[0.8888888888888888,\"#fdca26\"],[1.0,\"#f0f921\"]],\"type\":\"heatmap\"}],\"heatmapgl\":[{\"colorbar\":{\"outlinewidth\":0,\"ticks\":\"\"},\"colorscale\":[[0.0,\"#0d0887\"],[0.1111111111111111,\"#46039f\"],[0.2222222222222222,\"#7201a8\"],[0.3333333333333333,\"#9c179e\"],[0.4444444444444444,\"#bd3786\"],[0.5555555555555556,\"#d8576b\"],[0.6666666666666666,\"#ed7953\"],[0.7777777777777778,\"#fb9f3a\"],[0.8888888888888888,\"#fdca26\"],[1.0,\"#f0f921\"]],\"type\":\"heatmapgl\"}],\"histogram\":[{\"marker\":{\"pattern\":{\"fillmode\":\"overlay\",\"size\":10,\"solidity\":0.2}},\"type\":\"histogram\"}],\"histogram2d\":[{\"colorbar\":{\"outlinewidth\":0,\"ticks\":\"\"},\"colorscale\":[[0.0,\"#0d0887\"],[0.1111111111111111,\"#46039f\"],[0.2222222222222222,\"#7201a8\"],[0.3333333333333333,\"#9c179e\"],[0.4444444444444444,\"#bd3786\"],[0.5555555555555556,\"#d8576b\"],[0.6666666666666666,\"#ed7953\"],[0.7777777777777778,\"#fb9f3a\"],[0.8888888888888888,\"#fdca26\"],[1.0,\"#f0f921\"]],\"type\":\"histogram2d\"}],\"histogram2dcontour\":[{\"colorbar\":{\"outlinewidth\":0,\"ticks\":\"\"},\"colorscale\":[[0.0,\"#0d0887\"],[0.1111111111111111,\"#46039f\"],[0.2222222222222222,\"#7201a8\"],[0.3333333333333333,\"#9c179e\"],[0.4444444444444444,\"#bd3786\"],[0.5555555555555556,\"#d8576b\"],[0.6666666666666666,\"#ed7953\"],[0.7777777777777778,\"#fb9f3a\"],[0.8888888888888888,\"#fdca26\"],[1.0,\"#f0f921\"]],\"type\":\"histogram2dcontour\"}],\"mesh3d\":[{\"colorbar\":{\"outlinewidth\":0,\"ticks\":\"\"},\"type\":\"mesh3d\"}],\"parcoords\":[{\"line\":{\"colorbar\":{\"outlinewidth\":0,\"ticks\":\"\"}},\"type\":\"parcoords\"}],\"pie\":[{\"automargin\":true,\"type\":\"pie\"}],\"scatter\":[{\"marker\":{\"colorbar\":{\"outlinewidth\":0,\"ticks\":\"\"}},\"type\":\"scatter\"}],\"scatter3d\":[{\"line\":{\"colorbar\":{\"outlinewidth\":0,\"ticks\":\"\"}},\"marker\":{\"colorbar\":{\"outlinewidth\":0,\"ticks\":\"\"}},\"type\":\"scatter3d\"}],\"scattercarpet\":[{\"marker\":{\"colorbar\":{\"outlinewidth\":0,\"ticks\":\"\"}},\"type\":\"scattercarpet\"}],\"scattergeo\":[{\"marker\":{\"colorbar\":{\"outlinewidth\":0,\"ticks\":\"\"}},\"type\":\"scattergeo\"}],\"scattergl\":[{\"marker\":{\"colorbar\":{\"outlinewidth\":0,\"ticks\":\"\"}},\"type\":\"scattergl\"}],\"scattermapbox\":[{\"marker\":{\"colorbar\":{\"outlinewidth\":0,\"ticks\":\"\"}},\"type\":\"scattermapbox\"}],\"scatterpolar\":[{\"marker\":{\"colorbar\":{\"outlinewidth\":0,\"ticks\":\"\"}},\"type\":\"scatterpolar\"}],\"scatterpolargl\":[{\"marker\":{\"colorbar\":{\"outlinewidth\":0,\"ticks\":\"\"}},\"type\":\"scatterpolargl\"}],\"scatterternary\":[{\"marker\":{\"colorbar\":{\"outlinewidth\":0,\"ticks\":\"\"}},\"type\":\"scatterternary\"}],\"surface\":[{\"colorbar\":{\"outlinewidth\":0,\"ticks\":\"\"},\"colorscale\":[[0.0,\"#0d0887\"],[0.1111111111111111,\"#46039f\"],[0.2222222222222222,\"#7201a8\"],[0.3333333333333333,\"#9c179e\"],[0.4444444444444444,\"#bd3786\"],[0.5555555555555556,\"#d8576b\"],[0.6666666666666666,\"#ed7953\"],[0.7777777777777778,\"#fb9f3a\"],[0.8888888888888888,\"#fdca26\"],[1.0,\"#f0f921\"]],\"type\":\"surface\"}],\"table\":[{\"cells\":{\"fill\":{\"color\":\"#EBF0F8\"},\"line\":{\"color\":\"white\"}},\"header\":{\"fill\":{\"color\":\"#C8D4E3\"},\"line\":{\"color\":\"white\"}},\"type\":\"table\"}]},\"layout\":{\"annotationdefaults\":{\"arrowcolor\":\"#2a3f5f\",\"arrowhead\":0,\"arrowwidth\":1},\"autotypenumbers\":\"strict\",\"coloraxis\":{\"colorbar\":{\"outlinewidth\":0,\"ticks\":\"\"}},\"colorscale\":{\"diverging\":[[0,\"#8e0152\"],[0.1,\"#c51b7d\"],[0.2,\"#de77ae\"],[0.3,\"#f1b6da\"],[0.4,\"#fde0ef\"],[0.5,\"#f7f7f7\"],[0.6,\"#e6f5d0\"],[0.7,\"#b8e186\"],[0.8,\"#7fbc41\"],[0.9,\"#4d9221\"],[1,\"#276419\"]],\"sequential\":[[0.0,\"#0d0887\"],[0.1111111111111111,\"#46039f\"],[0.2222222222222222,\"#7201a8\"],[0.3333333333333333,\"#9c179e\"],[0.4444444444444444,\"#bd3786\"],[0.5555555555555556,\"#d8576b\"],[0.6666666666666666,\"#ed7953\"],[0.7777777777777778,\"#fb9f3a\"],[0.8888888888888888,\"#fdca26\"],[1.0,\"#f0f921\"]],\"sequentialminus\":[[0.0,\"#0d0887\"],[0.1111111111111111,\"#46039f\"],[0.2222222222222222,\"#7201a8\"],[0.3333333333333333,\"#9c179e\"],[0.4444444444444444,\"#bd3786\"],[0.5555555555555556,\"#d8576b\"],[0.6666666666666666,\"#ed7953\"],[0.7777777777777778,\"#fb9f3a\"],[0.8888888888888888,\"#fdca26\"],[1.0,\"#f0f921\"]]},\"colorway\":[\"#636efa\",\"#EF553B\",\"#00cc96\",\"#ab63fa\",\"#FFA15A\",\"#19d3f3\",\"#FF6692\",\"#B6E880\",\"#FF97FF\",\"#FECB52\"],\"font\":{\"color\":\"#2a3f5f\"},\"geo\":{\"bgcolor\":\"white\",\"lakecolor\":\"white\",\"landcolor\":\"#E5ECF6\",\"showlakes\":true,\"showland\":true,\"subunitcolor\":\"white\"},\"hoverlabel\":{\"align\":\"left\"},\"hovermode\":\"closest\",\"mapbox\":{\"style\":\"light\"},\"paper_bgcolor\":\"white\",\"plot_bgcolor\":\"#E5ECF6\",\"polar\":{\"angularaxis\":{\"gridcolor\":\"white\",\"linecolor\":\"white\",\"ticks\":\"\"},\"bgcolor\":\"#E5ECF6\",\"radialaxis\":{\"gridcolor\":\"white\",\"linecolor\":\"white\",\"ticks\":\"\"}},\"scene\":{\"xaxis\":{\"backgroundcolor\":\"#E5ECF6\",\"gridcolor\":\"white\",\"gridwidth\":2,\"linecolor\":\"white\",\"showbackground\":true,\"ticks\":\"\",\"zerolinecolor\":\"white\"},\"yaxis\":{\"backgroundcolor\":\"#E5ECF6\",\"gridcolor\":\"white\",\"gridwidth\":2,\"linecolor\":\"white\",\"showbackground\":true,\"ticks\":\"\",\"zerolinecolor\":\"white\"},\"zaxis\":{\"backgroundcolor\":\"#E5ECF6\",\"gridcolor\":\"white\",\"gridwidth\":2,\"linecolor\":\"white\",\"showbackground\":true,\"ticks\":\"\",\"zerolinecolor\":\"white\"}},\"shapedefaults\":{\"line\":{\"color\":\"#2a3f5f\"}},\"ternary\":{\"aaxis\":{\"gridcolor\":\"white\",\"linecolor\":\"white\",\"ticks\":\"\"},\"baxis\":{\"gridcolor\":\"white\",\"linecolor\":\"white\",\"ticks\":\"\"},\"bgcolor\":\"#E5ECF6\",\"caxis\":{\"gridcolor\":\"white\",\"linecolor\":\"white\",\"ticks\":\"\"}},\"title\":{\"x\":0.05},\"xaxis\":{\"automargin\":true,\"gridcolor\":\"white\",\"linecolor\":\"white\",\"ticks\":\"\",\"title\":{\"standoff\":15},\"zerolinecolor\":\"white\",\"zerolinewidth\":2},\"yaxis\":{\"automargin\":true,\"gridcolor\":\"white\",\"linecolor\":\"white\",\"ticks\":\"\",\"title\":{\"standoff\":15},\"zerolinecolor\":\"white\",\"zerolinewidth\":2}}},\"geo\":{\"domain\":{\"x\":[0.0,1.0],\"y\":[0.0,1.0]},\"center\":{}},\"coloraxis\":{\"colorbar\":{\"title\":{\"text\":\"percentage\"}},\"colorscale\":[[0.0,\"#0d0887\"],[0.1111111111111111,\"#46039f\"],[0.2222222222222222,\"#7201a8\"],[0.3333333333333333,\"#9c179e\"],[0.4444444444444444,\"#bd3786\"],[0.5555555555555556,\"#d8576b\"],[0.6666666666666666,\"#ed7953\"],[0.7777777777777778,\"#fb9f3a\"],[0.8888888888888888,\"#fdca26\"],[1.0,\"#f0f921\"]]},\"legend\":{\"tracegroupgap\":0},\"title\":{\"text\":\"World Map: covid_vaccine (%)\"}},                        {\"responsive\": true}                    ).then(function(){\n",
              "                            \n",
              "var gd = document.getElementById('32870aa3-085f-4aec-a5b0-ab37d4fe80c2');\n",
              "var x = new MutationObserver(function (mutations, observer) {{\n",
              "        var display = window.getComputedStyle(gd).display;\n",
              "        if (!display || display === 'none') {{\n",
              "            console.log([gd, 'removed!']);\n",
              "            Plotly.purge(gd);\n",
              "            observer.disconnect();\n",
              "        }}\n",
              "}});\n",
              "\n",
              "// Listen for the removal of the full notebook cells\n",
              "var notebookContainer = gd.closest('#notebook-container');\n",
              "if (notebookContainer) {{\n",
              "    x.observe(notebookContainer, {childList: true});\n",
              "}}\n",
              "\n",
              "// Listen for the clearing of the current output cell\n",
              "var outputEl = gd.closest('.output');\n",
              "if (outputEl) {{\n",
              "    x.observe(outputEl, {childList: true});\n",
              "}}\n",
              "\n",
              "                        })                };                            </script>        </div>\n",
              "</body>\n",
              "</html>"
            ]
          },
          "metadata": {}
        },
        {
          "output_type": "display_data",
          "data": {
            "text/html": [
              "<html>\n",
              "<head><meta charset=\"utf-8\" /></head>\n",
              "<body>\n",
              "    <div>            <script src=\"https://cdnjs.cloudflare.com/ajax/libs/mathjax/2.7.5/MathJax.js?config=TeX-AMS-MML_SVG\"></script><script type=\"text/javascript\">if (window.MathJax) {MathJax.Hub.Config({SVG: {font: \"STIX-Web\"}});}</script>                <script type=\"text/javascript\">window.PlotlyConfig = {MathJaxConfig: 'local'};</script>\n",
              "        <script src=\"https://cdn.plot.ly/plotly-2.8.3.min.js\"></script>                <div id=\"0470b06b-915f-43c0-98a8-9fb567df6497\" class=\"plotly-graph-div\" style=\"height:525px; width:100%;\"></div>            <script type=\"text/javascript\">                                    window.PLOTLYENV=window.PLOTLYENV || {};                                    if (document.getElementById(\"0470b06b-915f-43c0-98a8-9fb567df6497\")) {                    Plotly.newPlot(                        \"0470b06b-915f-43c0-98a8-9fb567df6497\",                        [{\"coloraxis\":\"coloraxis\",\"geo\":\"geo\",\"hovertemplate\":\"<b>%{hovertext}</b><br><br>iso_code=%{location}<br>percentage=%{z}<extra></extra>\",\"hovertext\":[\"Japan\",\"Germany\",\"Vietnam\",\"Venezuela\",\"United Arab Emirates\",\"Uruguay\",\"United Kingdom\",\"Ukraine\",\"Turkey\",\"Thailand\",\"Tunisia\",\"Taiwan\",\"Switzerland\",\"Sweden\",\"Sudan\",\"South Korea\",\"Spain\",\"Slovenia\",\"Slovakia\",\"Singapore\",\"Serbia\",\"Saudi Arabia\",\"Romania\",\"Russia\",\"Puerto Rico, U.S.\",\"Philippines\",\"Portugal\",\"Poland\",\"Paraguay\",\"Peru\",\"Panama\",\"Pakistan\",\"Nigeria\",\"Norway\",\"Nicaragua\",\"New Zealand\",\"Nepal\",\"Netherlands\",\"Myanmar\",\"Morocco\",\"Mexico\",\"Malaysia\",\"Kenya\",\"Jordan\",\"Kazakhstan\",\"Ireland\",\"Italy\",\"Iraq\",\"India\",\"Indonesia\",\"Hong Kong\",\"Hungary\",\"Honduras\",\"Greece\",\"Guatemala\",\"Ghana\",\"France\",\"Finland\",\"Egypt\",\"El Salvador\",\"Denmark\",\"Dominican Republic\",\"Croatia\",\"Ecuador\",\"Czech Republic\",\"Colombia\",\"Costa Rica\",\"Canada\",\"Chile\",\"Bulgaria\",\"Brazil\",\"Belgium\",\"Bolivia\",\"Bangladesh\",\"Belarus\",\"Australia\",\"Austria\",\"Argentina\",\"Algeria\"],\"locations\":[\"JPN\",\"DEU\",\"VNM\",\"VEN\",\"ARE\",\"URY\",\"GBR\",\"UKR\",\"TUR\",\"THA\",\"TUN\",\"TWN\",\"CHE\",\"SWE\",\"SDN\",\"KOR\",\"ESP\",\"SVN\",\"SVK\",\"SGP\",\"SRB\",\"SAU\",\"ROU\",\"RUS\",\"PRI\",\"PHL\",\"PRT\",\"POL\",\"PRY\",\"PER\",\"PAN\",\"PAK\",\"NGA\",\"NOR\",\"NIC\",\"NZL\",\"NPL\",\"NLD\",\"MMR\",\"MAR\",\"MEX\",\"MYS\",\"KEN\",\"JOR\",\"KAZ\",\"IRL\",\"ITA\",\"IRQ\",\"IND\",\"IDN\",\"HKG\",\"HUN\",\"HND\",\"GRC\",\"GTM\",\"GHA\",\"FRA\",\"FIN\",\"EGY\",\"SLV\",\"DNK\",\"DOM\",\"HRV\",\"ECU\",\"CZE\",\"COL\",\"CRI\",\"CAN\",\"CHL\",\"BGR\",\"BRA\",\"BEL\",\"BOL\",\"BGD\",\"BLR\",\"AUS\",\"AUT\",\"ARG\",\"DZA\"],\"name\":\"\",\"z\":[0.0072,0.016258,0.008322,0.061506,0.066529,0.030058,0.034624,0.029326,0.043615,0.012202,0.067748,0.004115,0.01897,0.040586,0.086935,0.004436,0.017776,0.021167,0.008539,0.0,0.006482,0.026062,0.008629,0.041643,0.002958,0.041196,0.026494,0.018585,0.096608,0.063276,0.034183,0.06676,0.067798,0.041806,0.1044,0.03919,0.040077,0.032097,0.088951,0.108774,0.041066,0.008593,0.095575,0.03917,0.046072,0.019026,0.008593,0.108158,0.04804,0.067898,0.010658,0.016114,0.099041,0.013426,0.042926,0.051435,0.013752,0.037354,0.035973,0.103638,0.032411,0.08787,0.020147,0.071689,0.019061,0.104086,0.051083,0.014445,0.040867,0.020021,0.03704,0.013971,0.082911,0.122228,0.059848,0.042937,0.020204,0.038286,0.178183],\"type\":\"choropleth\"}],                        {\"template\":{\"data\":{\"bar\":[{\"error_x\":{\"color\":\"#2a3f5f\"},\"error_y\":{\"color\":\"#2a3f5f\"},\"marker\":{\"line\":{\"color\":\"#E5ECF6\",\"width\":0.5},\"pattern\":{\"fillmode\":\"overlay\",\"size\":10,\"solidity\":0.2}},\"type\":\"bar\"}],\"barpolar\":[{\"marker\":{\"line\":{\"color\":\"#E5ECF6\",\"width\":0.5},\"pattern\":{\"fillmode\":\"overlay\",\"size\":10,\"solidity\":0.2}},\"type\":\"barpolar\"}],\"carpet\":[{\"aaxis\":{\"endlinecolor\":\"#2a3f5f\",\"gridcolor\":\"white\",\"linecolor\":\"white\",\"minorgridcolor\":\"white\",\"startlinecolor\":\"#2a3f5f\"},\"baxis\":{\"endlinecolor\":\"#2a3f5f\",\"gridcolor\":\"white\",\"linecolor\":\"white\",\"minorgridcolor\":\"white\",\"startlinecolor\":\"#2a3f5f\"},\"type\":\"carpet\"}],\"choropleth\":[{\"colorbar\":{\"outlinewidth\":0,\"ticks\":\"\"},\"type\":\"choropleth\"}],\"contour\":[{\"colorbar\":{\"outlinewidth\":0,\"ticks\":\"\"},\"colorscale\":[[0.0,\"#0d0887\"],[0.1111111111111111,\"#46039f\"],[0.2222222222222222,\"#7201a8\"],[0.3333333333333333,\"#9c179e\"],[0.4444444444444444,\"#bd3786\"],[0.5555555555555556,\"#d8576b\"],[0.6666666666666666,\"#ed7953\"],[0.7777777777777778,\"#fb9f3a\"],[0.8888888888888888,\"#fdca26\"],[1.0,\"#f0f921\"]],\"type\":\"contour\"}],\"contourcarpet\":[{\"colorbar\":{\"outlinewidth\":0,\"ticks\":\"\"},\"type\":\"contourcarpet\"}],\"heatmap\":[{\"colorbar\":{\"outlinewidth\":0,\"ticks\":\"\"},\"colorscale\":[[0.0,\"#0d0887\"],[0.1111111111111111,\"#46039f\"],[0.2222222222222222,\"#7201a8\"],[0.3333333333333333,\"#9c179e\"],[0.4444444444444444,\"#bd3786\"],[0.5555555555555556,\"#d8576b\"],[0.6666666666666666,\"#ed7953\"],[0.7777777777777778,\"#fb9f3a\"],[0.8888888888888888,\"#fdca26\"],[1.0,\"#f0f921\"]],\"type\":\"heatmap\"}],\"heatmapgl\":[{\"colorbar\":{\"outlinewidth\":0,\"ticks\":\"\"},\"colorscale\":[[0.0,\"#0d0887\"],[0.1111111111111111,\"#46039f\"],[0.2222222222222222,\"#7201a8\"],[0.3333333333333333,\"#9c179e\"],[0.4444444444444444,\"#bd3786\"],[0.5555555555555556,\"#d8576b\"],[0.6666666666666666,\"#ed7953\"],[0.7777777777777778,\"#fb9f3a\"],[0.8888888888888888,\"#fdca26\"],[1.0,\"#f0f921\"]],\"type\":\"heatmapgl\"}],\"histogram\":[{\"marker\":{\"pattern\":{\"fillmode\":\"overlay\",\"size\":10,\"solidity\":0.2}},\"type\":\"histogram\"}],\"histogram2d\":[{\"colorbar\":{\"outlinewidth\":0,\"ticks\":\"\"},\"colorscale\":[[0.0,\"#0d0887\"],[0.1111111111111111,\"#46039f\"],[0.2222222222222222,\"#7201a8\"],[0.3333333333333333,\"#9c179e\"],[0.4444444444444444,\"#bd3786\"],[0.5555555555555556,\"#d8576b\"],[0.6666666666666666,\"#ed7953\"],[0.7777777777777778,\"#fb9f3a\"],[0.8888888888888888,\"#fdca26\"],[1.0,\"#f0f921\"]],\"type\":\"histogram2d\"}],\"histogram2dcontour\":[{\"colorbar\":{\"outlinewidth\":0,\"ticks\":\"\"},\"colorscale\":[[0.0,\"#0d0887\"],[0.1111111111111111,\"#46039f\"],[0.2222222222222222,\"#7201a8\"],[0.3333333333333333,\"#9c179e\"],[0.4444444444444444,\"#bd3786\"],[0.5555555555555556,\"#d8576b\"],[0.6666666666666666,\"#ed7953\"],[0.7777777777777778,\"#fb9f3a\"],[0.8888888888888888,\"#fdca26\"],[1.0,\"#f0f921\"]],\"type\":\"histogram2dcontour\"}],\"mesh3d\":[{\"colorbar\":{\"outlinewidth\":0,\"ticks\":\"\"},\"type\":\"mesh3d\"}],\"parcoords\":[{\"line\":{\"colorbar\":{\"outlinewidth\":0,\"ticks\":\"\"}},\"type\":\"parcoords\"}],\"pie\":[{\"automargin\":true,\"type\":\"pie\"}],\"scatter\":[{\"marker\":{\"colorbar\":{\"outlinewidth\":0,\"ticks\":\"\"}},\"type\":\"scatter\"}],\"scatter3d\":[{\"line\":{\"colorbar\":{\"outlinewidth\":0,\"ticks\":\"\"}},\"marker\":{\"colorbar\":{\"outlinewidth\":0,\"ticks\":\"\"}},\"type\":\"scatter3d\"}],\"scattercarpet\":[{\"marker\":{\"colorbar\":{\"outlinewidth\":0,\"ticks\":\"\"}},\"type\":\"scattercarpet\"}],\"scattergeo\":[{\"marker\":{\"colorbar\":{\"outlinewidth\":0,\"ticks\":\"\"}},\"type\":\"scattergeo\"}],\"scattergl\":[{\"marker\":{\"colorbar\":{\"outlinewidth\":0,\"ticks\":\"\"}},\"type\":\"scattergl\"}],\"scattermapbox\":[{\"marker\":{\"colorbar\":{\"outlinewidth\":0,\"ticks\":\"\"}},\"type\":\"scattermapbox\"}],\"scatterpolar\":[{\"marker\":{\"colorbar\":{\"outlinewidth\":0,\"ticks\":\"\"}},\"type\":\"scatterpolar\"}],\"scatterpolargl\":[{\"marker\":{\"colorbar\":{\"outlinewidth\":0,\"ticks\":\"\"}},\"type\":\"scatterpolargl\"}],\"scatterternary\":[{\"marker\":{\"colorbar\":{\"outlinewidth\":0,\"ticks\":\"\"}},\"type\":\"scatterternary\"}],\"surface\":[{\"colorbar\":{\"outlinewidth\":0,\"ticks\":\"\"},\"colorscale\":[[0.0,\"#0d0887\"],[0.1111111111111111,\"#46039f\"],[0.2222222222222222,\"#7201a8\"],[0.3333333333333333,\"#9c179e\"],[0.4444444444444444,\"#bd3786\"],[0.5555555555555556,\"#d8576b\"],[0.6666666666666666,\"#ed7953\"],[0.7777777777777778,\"#fb9f3a\"],[0.8888888888888888,\"#fdca26\"],[1.0,\"#f0f921\"]],\"type\":\"surface\"}],\"table\":[{\"cells\":{\"fill\":{\"color\":\"#EBF0F8\"},\"line\":{\"color\":\"white\"}},\"header\":{\"fill\":{\"color\":\"#C8D4E3\"},\"line\":{\"color\":\"white\"}},\"type\":\"table\"}]},\"layout\":{\"annotationdefaults\":{\"arrowcolor\":\"#2a3f5f\",\"arrowhead\":0,\"arrowwidth\":1},\"autotypenumbers\":\"strict\",\"coloraxis\":{\"colorbar\":{\"outlinewidth\":0,\"ticks\":\"\"}},\"colorscale\":{\"diverging\":[[0,\"#8e0152\"],[0.1,\"#c51b7d\"],[0.2,\"#de77ae\"],[0.3,\"#f1b6da\"],[0.4,\"#fde0ef\"],[0.5,\"#f7f7f7\"],[0.6,\"#e6f5d0\"],[0.7,\"#b8e186\"],[0.8,\"#7fbc41\"],[0.9,\"#4d9221\"],[1,\"#276419\"]],\"sequential\":[[0.0,\"#0d0887\"],[0.1111111111111111,\"#46039f\"],[0.2222222222222222,\"#7201a8\"],[0.3333333333333333,\"#9c179e\"],[0.4444444444444444,\"#bd3786\"],[0.5555555555555556,\"#d8576b\"],[0.6666666666666666,\"#ed7953\"],[0.7777777777777778,\"#fb9f3a\"],[0.8888888888888888,\"#fdca26\"],[1.0,\"#f0f921\"]],\"sequentialminus\":[[0.0,\"#0d0887\"],[0.1111111111111111,\"#46039f\"],[0.2222222222222222,\"#7201a8\"],[0.3333333333333333,\"#9c179e\"],[0.4444444444444444,\"#bd3786\"],[0.5555555555555556,\"#d8576b\"],[0.6666666666666666,\"#ed7953\"],[0.7777777777777778,\"#fb9f3a\"],[0.8888888888888888,\"#fdca26\"],[1.0,\"#f0f921\"]]},\"colorway\":[\"#636efa\",\"#EF553B\",\"#00cc96\",\"#ab63fa\",\"#FFA15A\",\"#19d3f3\",\"#FF6692\",\"#B6E880\",\"#FF97FF\",\"#FECB52\"],\"font\":{\"color\":\"#2a3f5f\"},\"geo\":{\"bgcolor\":\"white\",\"lakecolor\":\"white\",\"landcolor\":\"#E5ECF6\",\"showlakes\":true,\"showland\":true,\"subunitcolor\":\"white\"},\"hoverlabel\":{\"align\":\"left\"},\"hovermode\":\"closest\",\"mapbox\":{\"style\":\"light\"},\"paper_bgcolor\":\"white\",\"plot_bgcolor\":\"#E5ECF6\",\"polar\":{\"angularaxis\":{\"gridcolor\":\"white\",\"linecolor\":\"white\",\"ticks\":\"\"},\"bgcolor\":\"#E5ECF6\",\"radialaxis\":{\"gridcolor\":\"white\",\"linecolor\":\"white\",\"ticks\":\"\"}},\"scene\":{\"xaxis\":{\"backgroundcolor\":\"#E5ECF6\",\"gridcolor\":\"white\",\"gridwidth\":2,\"linecolor\":\"white\",\"showbackground\":true,\"ticks\":\"\",\"zerolinecolor\":\"white\"},\"yaxis\":{\"backgroundcolor\":\"#E5ECF6\",\"gridcolor\":\"white\",\"gridwidth\":2,\"linecolor\":\"white\",\"showbackground\":true,\"ticks\":\"\",\"zerolinecolor\":\"white\"},\"zaxis\":{\"backgroundcolor\":\"#E5ECF6\",\"gridcolor\":\"white\",\"gridwidth\":2,\"linecolor\":\"white\",\"showbackground\":true,\"ticks\":\"\",\"zerolinecolor\":\"white\"}},\"shapedefaults\":{\"line\":{\"color\":\"#2a3f5f\"}},\"ternary\":{\"aaxis\":{\"gridcolor\":\"white\",\"linecolor\":\"white\",\"ticks\":\"\"},\"baxis\":{\"gridcolor\":\"white\",\"linecolor\":\"white\",\"ticks\":\"\"},\"bgcolor\":\"#E5ECF6\",\"caxis\":{\"gridcolor\":\"white\",\"linecolor\":\"white\",\"ticks\":\"\"}},\"title\":{\"x\":0.05},\"xaxis\":{\"automargin\":true,\"gridcolor\":\"white\",\"linecolor\":\"white\",\"ticks\":\"\",\"title\":{\"standoff\":15},\"zerolinecolor\":\"white\",\"zerolinewidth\":2},\"yaxis\":{\"automargin\":true,\"gridcolor\":\"white\",\"linecolor\":\"white\",\"ticks\":\"\",\"title\":{\"standoff\":15},\"zerolinecolor\":\"white\",\"zerolinewidth\":2}}},\"geo\":{\"domain\":{\"x\":[0.0,1.0],\"y\":[0.0,1.0]},\"center\":{}},\"coloraxis\":{\"colorbar\":{\"title\":{\"text\":\"percentage\"}},\"colorscale\":[[0.0,\"#0d0887\"],[0.1111111111111111,\"#46039f\"],[0.2222222222222222,\"#7201a8\"],[0.3333333333333333,\"#9c179e\"],[0.4444444444444444,\"#bd3786\"],[0.5555555555555556,\"#d8576b\"],[0.6666666666666666,\"#ed7953\"],[0.7777777777777778,\"#fb9f3a\"],[0.8888888888888888,\"#fdca26\"],[1.0,\"#f0f921\"]]},\"legend\":{\"tracegroupgap\":0},\"title\":{\"text\":\"World Map: anosmia (%)\"}},                        {\"responsive\": true}                    ).then(function(){\n",
              "                            \n",
              "var gd = document.getElementById('0470b06b-915f-43c0-98a8-9fb567df6497');\n",
              "var x = new MutationObserver(function (mutations, observer) {{\n",
              "        var display = window.getComputedStyle(gd).display;\n",
              "        if (!display || display === 'none') {{\n",
              "            console.log([gd, 'removed!']);\n",
              "            Plotly.purge(gd);\n",
              "            observer.disconnect();\n",
              "        }}\n",
              "}});\n",
              "\n",
              "// Listen for the removal of the full notebook cells\n",
              "var notebookContainer = gd.closest('#notebook-container');\n",
              "if (notebookContainer) {{\n",
              "    x.observe(notebookContainer, {childList: true});\n",
              "}}\n",
              "\n",
              "// Listen for the clearing of the current output cell\n",
              "var outputEl = gd.closest('.output');\n",
              "if (outputEl) {{\n",
              "    x.observe(outputEl, {childList: true});\n",
              "}}\n",
              "\n",
              "                        })                };                            </script>        </div>\n",
              "</body>\n",
              "</html>"
            ]
          },
          "metadata": {}
        },
        {
          "output_type": "display_data",
          "data": {
            "text/html": [
              "<html>\n",
              "<head><meta charset=\"utf-8\" /></head>\n",
              "<body>\n",
              "    <div>            <script src=\"https://cdnjs.cloudflare.com/ajax/libs/mathjax/2.7.5/MathJax.js?config=TeX-AMS-MML_SVG\"></script><script type=\"text/javascript\">if (window.MathJax) {MathJax.Hub.Config({SVG: {font: \"STIX-Web\"}});}</script>                <script type=\"text/javascript\">window.PlotlyConfig = {MathJaxConfig: 'local'};</script>\n",
              "        <script src=\"https://cdn.plot.ly/plotly-2.8.3.min.js\"></script>                <div id=\"2af25ab1-7bc1-4df9-9535-eb0e1eadca26\" class=\"plotly-graph-div\" style=\"height:525px; width:100%;\"></div>            <script type=\"text/javascript\">                                    window.PLOTLYENV=window.PLOTLYENV || {};                                    if (document.getElementById(\"2af25ab1-7bc1-4df9-9535-eb0e1eadca26\")) {                    Plotly.newPlot(                        \"2af25ab1-7bc1-4df9-9535-eb0e1eadca26\",                        [{\"coloraxis\":\"coloraxis\",\"geo\":\"geo\",\"hovertemplate\":\"<b>%{hovertext}</b><br><br>iso_code=%{location}<br>percentage=%{z}<extra></extra>\",\"hovertext\":[\"Japan\",\"Germany\",\"Vietnam\",\"Venezuela\",\"Uruguay\",\"United Kingdom\",\"United Arab Emirates\",\"Ukraine\",\"Turkey\",\"Tunisia\",\"Thailand\",\"Taiwan\",\"Switzerland\",\"Sweden\",\"Sudan\",\"Spain\",\"South Korea\",\"South Africa\",\"Slovenia\",\"Slovakia\",\"Singapore\",\"Serbia\",\"Saudi Arabia\",\"Russia\",\"Romania\",\"Puerto Rico, U.S.\",\"Portugal\",\"Poland\",\"Philippines\",\"Peru\",\"Panama\",\"Paraguay\",\"Pakistan\",\"Norway\",\"Nigeria\",\"Nicaragua\",\"New Zealand\",\"Netherlands\",\"Nepal\",\"Myanmar\",\"Morocco\",\"Mexico\",\"Malaysia\",\"Kenya\",\"Kazakhstan\",\"Jordan\",\"Italy\",\"Israel\",\"Ireland\",\"Iraq\",\"Indonesia\",\"India\",\"Hungary\",\"Hong Kong\",\"Honduras\",\"Guatemala\",\"Greece\",\"Ghana\",\"France\",\"Finland\",\"El Salvador\",\"Egypt\",\"Ecuador\",\"Dominican Republic\",\"Denmark\",\"Czech Republic\",\"Croatia\",\"Costa Rica\",\"Colombia\",\"Chile\",\"Canada\",\"Bulgaria\",\"Brazil\",\"Bolivia\",\"Belgium\",\"Belarus\",\"Bangladesh\",\"Austria\",\"Australia\",\"Argentina\",\"Algeria\"],\"locations\":[\"JPN\",\"DEU\",\"VNM\",\"VEN\",\"URY\",\"GBR\",\"ARE\",\"UKR\",\"TUR\",\"TUN\",\"THA\",\"TWN\",\"CHE\",\"SWE\",\"SDN\",\"ESP\",\"KOR\",\"ZAF\",\"SVN\",\"SVK\",\"SGP\",\"SRB\",\"SAU\",\"RUS\",\"ROU\",\"PRI\",\"PRT\",\"POL\",\"PHL\",\"PER\",\"PAN\",\"PRY\",\"PAK\",\"NOR\",\"NGA\",\"NIC\",\"NZL\",\"NLD\",\"NPL\",\"MMR\",\"MAR\",\"MEX\",\"MYS\",\"KEN\",\"KAZ\",\"JOR\",\"ITA\",\"ISR\",\"IRL\",\"IRQ\",\"IDN\",\"IND\",\"HUN\",\"HKG\",\"HND\",\"GTM\",\"GRC\",\"GHA\",\"FRA\",\"FIN\",\"SLV\",\"EGY\",\"ECU\",\"DOM\",\"DNK\",\"CZE\",\"HRV\",\"CRI\",\"COL\",\"CHL\",\"CAN\",\"BGR\",\"BRA\",\"BOL\",\"BEL\",\"BLR\",\"BGD\",\"AUT\",\"AUS\",\"ARG\",\"DZA\"],\"name\":\"\",\"z\":[0.004077,0.005203,0.006898,0.045699,0.018302,0.016279,0.028796,0.017382,0.022864,0.056047,0.006004,0.001786,0.003485,0.007507,0.025053,0.007516,0.005907,0.062552,0.02188,0.005778,0.0,0.0,0.01543,0.022436,0.007092,0.001382,0.004597,0.010525,0.021333,0.044924,0.034656,0.055845,0.06548,0.009826,0.060483,0.065546,0.023529,0.007197,0.009188,0.087188,0.037271,0.024203,0.004656,0.081996,0.031139,0.039325,0.003993,0.02636,0.024415,0.089736,0.061291,0.033356,0.00355,0.013606,0.061999,0.040437,0.005285,0.01098,0.007598,0.0,0.054099,0.055107,0.041122,0.034907,0.007263,0.00877,0.013955,0.038391,0.066469,0.014748,0.010115,0.008043,0.023271,0.05238,0.010032,0.027186,0.074094,0.012274,0.023942,0.016443,0.186964],\"type\":\"choropleth\"}],                        {\"template\":{\"data\":{\"bar\":[{\"error_x\":{\"color\":\"#2a3f5f\"},\"error_y\":{\"color\":\"#2a3f5f\"},\"marker\":{\"line\":{\"color\":\"#E5ECF6\",\"width\":0.5},\"pattern\":{\"fillmode\":\"overlay\",\"size\":10,\"solidity\":0.2}},\"type\":\"bar\"}],\"barpolar\":[{\"marker\":{\"line\":{\"color\":\"#E5ECF6\",\"width\":0.5},\"pattern\":{\"fillmode\":\"overlay\",\"size\":10,\"solidity\":0.2}},\"type\":\"barpolar\"}],\"carpet\":[{\"aaxis\":{\"endlinecolor\":\"#2a3f5f\",\"gridcolor\":\"white\",\"linecolor\":\"white\",\"minorgridcolor\":\"white\",\"startlinecolor\":\"#2a3f5f\"},\"baxis\":{\"endlinecolor\":\"#2a3f5f\",\"gridcolor\":\"white\",\"linecolor\":\"white\",\"minorgridcolor\":\"white\",\"startlinecolor\":\"#2a3f5f\"},\"type\":\"carpet\"}],\"choropleth\":[{\"colorbar\":{\"outlinewidth\":0,\"ticks\":\"\"},\"type\":\"choropleth\"}],\"contour\":[{\"colorbar\":{\"outlinewidth\":0,\"ticks\":\"\"},\"colorscale\":[[0.0,\"#0d0887\"],[0.1111111111111111,\"#46039f\"],[0.2222222222222222,\"#7201a8\"],[0.3333333333333333,\"#9c179e\"],[0.4444444444444444,\"#bd3786\"],[0.5555555555555556,\"#d8576b\"],[0.6666666666666666,\"#ed7953\"],[0.7777777777777778,\"#fb9f3a\"],[0.8888888888888888,\"#fdca26\"],[1.0,\"#f0f921\"]],\"type\":\"contour\"}],\"contourcarpet\":[{\"colorbar\":{\"outlinewidth\":0,\"ticks\":\"\"},\"type\":\"contourcarpet\"}],\"heatmap\":[{\"colorbar\":{\"outlinewidth\":0,\"ticks\":\"\"},\"colorscale\":[[0.0,\"#0d0887\"],[0.1111111111111111,\"#46039f\"],[0.2222222222222222,\"#7201a8\"],[0.3333333333333333,\"#9c179e\"],[0.4444444444444444,\"#bd3786\"],[0.5555555555555556,\"#d8576b\"],[0.6666666666666666,\"#ed7953\"],[0.7777777777777778,\"#fb9f3a\"],[0.8888888888888888,\"#fdca26\"],[1.0,\"#f0f921\"]],\"type\":\"heatmap\"}],\"heatmapgl\":[{\"colorbar\":{\"outlinewidth\":0,\"ticks\":\"\"},\"colorscale\":[[0.0,\"#0d0887\"],[0.1111111111111111,\"#46039f\"],[0.2222222222222222,\"#7201a8\"],[0.3333333333333333,\"#9c179e\"],[0.4444444444444444,\"#bd3786\"],[0.5555555555555556,\"#d8576b\"],[0.6666666666666666,\"#ed7953\"],[0.7777777777777778,\"#fb9f3a\"],[0.8888888888888888,\"#fdca26\"],[1.0,\"#f0f921\"]],\"type\":\"heatmapgl\"}],\"histogram\":[{\"marker\":{\"pattern\":{\"fillmode\":\"overlay\",\"size\":10,\"solidity\":0.2}},\"type\":\"histogram\"}],\"histogram2d\":[{\"colorbar\":{\"outlinewidth\":0,\"ticks\":\"\"},\"colorscale\":[[0.0,\"#0d0887\"],[0.1111111111111111,\"#46039f\"],[0.2222222222222222,\"#7201a8\"],[0.3333333333333333,\"#9c179e\"],[0.4444444444444444,\"#bd3786\"],[0.5555555555555556,\"#d8576b\"],[0.6666666666666666,\"#ed7953\"],[0.7777777777777778,\"#fb9f3a\"],[0.8888888888888888,\"#fdca26\"],[1.0,\"#f0f921\"]],\"type\":\"histogram2d\"}],\"histogram2dcontour\":[{\"colorbar\":{\"outlinewidth\":0,\"ticks\":\"\"},\"colorscale\":[[0.0,\"#0d0887\"],[0.1111111111111111,\"#46039f\"],[0.2222222222222222,\"#7201a8\"],[0.3333333333333333,\"#9c179e\"],[0.4444444444444444,\"#bd3786\"],[0.5555555555555556,\"#d8576b\"],[0.6666666666666666,\"#ed7953\"],[0.7777777777777778,\"#fb9f3a\"],[0.8888888888888888,\"#fdca26\"],[1.0,\"#f0f921\"]],\"type\":\"histogram2dcontour\"}],\"mesh3d\":[{\"colorbar\":{\"outlinewidth\":0,\"ticks\":\"\"},\"type\":\"mesh3d\"}],\"parcoords\":[{\"line\":{\"colorbar\":{\"outlinewidth\":0,\"ticks\":\"\"}},\"type\":\"parcoords\"}],\"pie\":[{\"automargin\":true,\"type\":\"pie\"}],\"scatter\":[{\"marker\":{\"colorbar\":{\"outlinewidth\":0,\"ticks\":\"\"}},\"type\":\"scatter\"}],\"scatter3d\":[{\"line\":{\"colorbar\":{\"outlinewidth\":0,\"ticks\":\"\"}},\"marker\":{\"colorbar\":{\"outlinewidth\":0,\"ticks\":\"\"}},\"type\":\"scatter3d\"}],\"scattercarpet\":[{\"marker\":{\"colorbar\":{\"outlinewidth\":0,\"ticks\":\"\"}},\"type\":\"scattercarpet\"}],\"scattergeo\":[{\"marker\":{\"colorbar\":{\"outlinewidth\":0,\"ticks\":\"\"}},\"type\":\"scattergeo\"}],\"scattergl\":[{\"marker\":{\"colorbar\":{\"outlinewidth\":0,\"ticks\":\"\"}},\"type\":\"scattergl\"}],\"scattermapbox\":[{\"marker\":{\"colorbar\":{\"outlinewidth\":0,\"ticks\":\"\"}},\"type\":\"scattermapbox\"}],\"scatterpolar\":[{\"marker\":{\"colorbar\":{\"outlinewidth\":0,\"ticks\":\"\"}},\"type\":\"scatterpolar\"}],\"scatterpolargl\":[{\"marker\":{\"colorbar\":{\"outlinewidth\":0,\"ticks\":\"\"}},\"type\":\"scatterpolargl\"}],\"scatterternary\":[{\"marker\":{\"colorbar\":{\"outlinewidth\":0,\"ticks\":\"\"}},\"type\":\"scatterternary\"}],\"surface\":[{\"colorbar\":{\"outlinewidth\":0,\"ticks\":\"\"},\"colorscale\":[[0.0,\"#0d0887\"],[0.1111111111111111,\"#46039f\"],[0.2222222222222222,\"#7201a8\"],[0.3333333333333333,\"#9c179e\"],[0.4444444444444444,\"#bd3786\"],[0.5555555555555556,\"#d8576b\"],[0.6666666666666666,\"#ed7953\"],[0.7777777777777778,\"#fb9f3a\"],[0.8888888888888888,\"#fdca26\"],[1.0,\"#f0f921\"]],\"type\":\"surface\"}],\"table\":[{\"cells\":{\"fill\":{\"color\":\"#EBF0F8\"},\"line\":{\"color\":\"white\"}},\"header\":{\"fill\":{\"color\":\"#C8D4E3\"},\"line\":{\"color\":\"white\"}},\"type\":\"table\"}]},\"layout\":{\"annotationdefaults\":{\"arrowcolor\":\"#2a3f5f\",\"arrowhead\":0,\"arrowwidth\":1},\"autotypenumbers\":\"strict\",\"coloraxis\":{\"colorbar\":{\"outlinewidth\":0,\"ticks\":\"\"}},\"colorscale\":{\"diverging\":[[0,\"#8e0152\"],[0.1,\"#c51b7d\"],[0.2,\"#de77ae\"],[0.3,\"#f1b6da\"],[0.4,\"#fde0ef\"],[0.5,\"#f7f7f7\"],[0.6,\"#e6f5d0\"],[0.7,\"#b8e186\"],[0.8,\"#7fbc41\"],[0.9,\"#4d9221\"],[1,\"#276419\"]],\"sequential\":[[0.0,\"#0d0887\"],[0.1111111111111111,\"#46039f\"],[0.2222222222222222,\"#7201a8\"],[0.3333333333333333,\"#9c179e\"],[0.4444444444444444,\"#bd3786\"],[0.5555555555555556,\"#d8576b\"],[0.6666666666666666,\"#ed7953\"],[0.7777777777777778,\"#fb9f3a\"],[0.8888888888888888,\"#fdca26\"],[1.0,\"#f0f921\"]],\"sequentialminus\":[[0.0,\"#0d0887\"],[0.1111111111111111,\"#46039f\"],[0.2222222222222222,\"#7201a8\"],[0.3333333333333333,\"#9c179e\"],[0.4444444444444444,\"#bd3786\"],[0.5555555555555556,\"#d8576b\"],[0.6666666666666666,\"#ed7953\"],[0.7777777777777778,\"#fb9f3a\"],[0.8888888888888888,\"#fdca26\"],[1.0,\"#f0f921\"]]},\"colorway\":[\"#636efa\",\"#EF553B\",\"#00cc96\",\"#ab63fa\",\"#FFA15A\",\"#19d3f3\",\"#FF6692\",\"#B6E880\",\"#FF97FF\",\"#FECB52\"],\"font\":{\"color\":\"#2a3f5f\"},\"geo\":{\"bgcolor\":\"white\",\"lakecolor\":\"white\",\"landcolor\":\"#E5ECF6\",\"showlakes\":true,\"showland\":true,\"subunitcolor\":\"white\"},\"hoverlabel\":{\"align\":\"left\"},\"hovermode\":\"closest\",\"mapbox\":{\"style\":\"light\"},\"paper_bgcolor\":\"white\",\"plot_bgcolor\":\"#E5ECF6\",\"polar\":{\"angularaxis\":{\"gridcolor\":\"white\",\"linecolor\":\"white\",\"ticks\":\"\"},\"bgcolor\":\"#E5ECF6\",\"radialaxis\":{\"gridcolor\":\"white\",\"linecolor\":\"white\",\"ticks\":\"\"}},\"scene\":{\"xaxis\":{\"backgroundcolor\":\"#E5ECF6\",\"gridcolor\":\"white\",\"gridwidth\":2,\"linecolor\":\"white\",\"showbackground\":true,\"ticks\":\"\",\"zerolinecolor\":\"white\"},\"yaxis\":{\"backgroundcolor\":\"#E5ECF6\",\"gridcolor\":\"white\",\"gridwidth\":2,\"linecolor\":\"white\",\"showbackground\":true,\"ticks\":\"\",\"zerolinecolor\":\"white\"},\"zaxis\":{\"backgroundcolor\":\"#E5ECF6\",\"gridcolor\":\"white\",\"gridwidth\":2,\"linecolor\":\"white\",\"showbackground\":true,\"ticks\":\"\",\"zerolinecolor\":\"white\"}},\"shapedefaults\":{\"line\":{\"color\":\"#2a3f5f\"}},\"ternary\":{\"aaxis\":{\"gridcolor\":\"white\",\"linecolor\":\"white\",\"ticks\":\"\"},\"baxis\":{\"gridcolor\":\"white\",\"linecolor\":\"white\",\"ticks\":\"\"},\"bgcolor\":\"#E5ECF6\",\"caxis\":{\"gridcolor\":\"white\",\"linecolor\":\"white\",\"ticks\":\"\"}},\"title\":{\"x\":0.05},\"xaxis\":{\"automargin\":true,\"gridcolor\":\"white\",\"linecolor\":\"white\",\"ticks\":\"\",\"title\":{\"standoff\":15},\"zerolinecolor\":\"white\",\"zerolinewidth\":2},\"yaxis\":{\"automargin\":true,\"gridcolor\":\"white\",\"linecolor\":\"white\",\"ticks\":\"\",\"title\":{\"standoff\":15},\"zerolinecolor\":\"white\",\"zerolinewidth\":2}}},\"geo\":{\"domain\":{\"x\":[0.0,1.0],\"y\":[0.0,1.0]},\"center\":{}},\"coloraxis\":{\"colorbar\":{\"title\":{\"text\":\"percentage\"}},\"colorscale\":[[0.0,\"#0d0887\"],[0.1111111111111111,\"#46039f\"],[0.2222222222222222,\"#7201a8\"],[0.3333333333333333,\"#9c179e\"],[0.4444444444444444,\"#bd3786\"],[0.5555555555555556,\"#d8576b\"],[0.6666666666666666,\"#ed7953\"],[0.7777777777777778,\"#fb9f3a\"],[0.8888888888888888,\"#fdca26\"],[1.0,\"#f0f921\"]]},\"legend\":{\"tracegroupgap\":0},\"title\":{\"text\":\"World Map: covid (%)\"}},                        {\"responsive\": true}                    ).then(function(){\n",
              "                            \n",
              "var gd = document.getElementById('2af25ab1-7bc1-4df9-9535-eb0e1eadca26');\n",
              "var x = new MutationObserver(function (mutations, observer) {{\n",
              "        var display = window.getComputedStyle(gd).display;\n",
              "        if (!display || display === 'none') {{\n",
              "            console.log([gd, 'removed!']);\n",
              "            Plotly.purge(gd);\n",
              "            observer.disconnect();\n",
              "        }}\n",
              "}});\n",
              "\n",
              "// Listen for the removal of the full notebook cells\n",
              "var notebookContainer = gd.closest('#notebook-container');\n",
              "if (notebookContainer) {{\n",
              "    x.observe(notebookContainer, {childList: true});\n",
              "}}\n",
              "\n",
              "// Listen for the clearing of the current output cell\n",
              "var outputEl = gd.closest('.output');\n",
              "if (outputEl) {{\n",
              "    x.observe(outputEl, {childList: true});\n",
              "}}\n",
              "\n",
              "                        })                };                            </script>        </div>\n",
              "</body>\n",
              "</html>"
            ]
          },
          "metadata": {}
        }
      ]
    },
    {
      "cell_type": "code",
      "source": [
        "!pip install seaborn\n",
        "!pip install matplotlib"
      ],
      "metadata": {
        "colab": {
          "base_uri": "https://localhost:8080/"
        },
        "id": "QDmx_0jpdL6D",
        "outputId": "da96fb59-c6f4-446a-9b3a-258470f80bae"
      },
      "execution_count": null,
      "outputs": [
        {
          "output_type": "stream",
          "name": "stdout",
          "text": [
            "Looking in indexes: https://pypi.org/simple, https://us-python.pkg.dev/colab-wheels/public/simple/\n",
            "Requirement already satisfied: seaborn in /usr/local/lib/python3.7/dist-packages (0.11.2)\n",
            "Requirement already satisfied: matplotlib>=2.2 in /usr/local/lib/python3.7/dist-packages (from seaborn) (3.2.2)\n",
            "Requirement already satisfied: scipy>=1.0 in /usr/local/lib/python3.7/dist-packages (from seaborn) (1.7.3)\n",
            "Requirement already satisfied: numpy>=1.15 in /usr/local/lib/python3.7/dist-packages (from seaborn) (1.21.6)\n",
            "Requirement already satisfied: pandas>=0.23 in /usr/local/lib/python3.7/dist-packages (from seaborn) (1.3.5)\n",
            "Requirement already satisfied: kiwisolver>=1.0.1 in /usr/local/lib/python3.7/dist-packages (from matplotlib>=2.2->seaborn) (1.4.3)\n",
            "Requirement already satisfied: python-dateutil>=2.1 in /usr/local/lib/python3.7/dist-packages (from matplotlib>=2.2->seaborn) (2.8.2)\n",
            "Requirement already satisfied: cycler>=0.10 in /usr/local/lib/python3.7/dist-packages (from matplotlib>=2.2->seaborn) (0.11.0)\n",
            "Requirement already satisfied: pyparsing!=2.0.4,!=2.1.2,!=2.1.6,>=2.0.1 in /usr/local/lib/python3.7/dist-packages (from matplotlib>=2.2->seaborn) (3.0.9)\n",
            "Requirement already satisfied: typing-extensions in /usr/local/lib/python3.7/dist-packages (from kiwisolver>=1.0.1->matplotlib>=2.2->seaborn) (4.1.1)\n",
            "Requirement already satisfied: pytz>=2017.3 in /usr/local/lib/python3.7/dist-packages (from pandas>=0.23->seaborn) (2022.1)\n",
            "Requirement already satisfied: six>=1.5 in /usr/local/lib/python3.7/dist-packages (from python-dateutil>=2.1->matplotlib>=2.2->seaborn) (1.15.0)\n",
            "Looking in indexes: https://pypi.org/simple, https://us-python.pkg.dev/colab-wheels/public/simple/\n",
            "Requirement already satisfied: matplotlib in /usr/local/lib/python3.7/dist-packages (3.2.2)\n",
            "Requirement already satisfied: pyparsing!=2.0.4,!=2.1.2,!=2.1.6,>=2.0.1 in /usr/local/lib/python3.7/dist-packages (from matplotlib) (3.0.9)\n",
            "Requirement already satisfied: numpy>=1.11 in /usr/local/lib/python3.7/dist-packages (from matplotlib) (1.21.6)\n",
            "Requirement already satisfied: python-dateutil>=2.1 in /usr/local/lib/python3.7/dist-packages (from matplotlib) (2.8.2)\n",
            "Requirement already satisfied: cycler>=0.10 in /usr/local/lib/python3.7/dist-packages (from matplotlib) (0.11.0)\n",
            "Requirement already satisfied: kiwisolver>=1.0.1 in /usr/local/lib/python3.7/dist-packages (from matplotlib) (1.4.3)\n",
            "Requirement already satisfied: typing-extensions in /usr/local/lib/python3.7/dist-packages (from kiwisolver>=1.0.1->matplotlib) (4.1.1)\n",
            "Requirement already satisfied: six>=1.5 in /usr/local/lib/python3.7/dist-packages (from python-dateutil>=2.1->matplotlib) (1.15.0)\n"
          ]
        }
      ]
    },
    {
      "cell_type": "code",
      "source": [
        "import pandas as pd\n",
        "import seaborn as sn\n",
        "import matplotlib.pyplot as plt\n",
        "import json\n",
        "\n",
        "\n",
        "df = query_db(\"SELECT percent_json FROM covid_survey_json\")\n",
        "\n",
        "for indicator in INDICATORS:\n",
        "  df[indicator] = df['percent_json'].apply(lambda x: json.loads(x).get(indicator))\n",
        "\n",
        "df[INDICATORS]\n",
        "\n",
        "corrMatrix = df.corr()\n",
        "sn.heatmap(corrMatrix, annot=True)\n",
        "plt.show()"
      ],
      "metadata": {
        "colab": {
          "base_uri": "https://localhost:8080/",
          "height": 270
        },
        "id": "ILe8SZVjerz6",
        "outputId": "982a4d9b-45b2-4ac9-c410-9a5e0f2f2f13"
      },
      "execution_count": null,
      "outputs": [
        {
          "output_type": "display_data",
          "data": {
            "text/plain": [
              "<Figure size 432x288 with 2 Axes>"
            ],
            "image/png": "[encoded data removed]"
          },
          "metadata": {
            "needs_background": "light"
          }
        }
      ]
    },
    {
      "cell_type": "code",
      "source": [
        "query_db(\"SELECT * FROM rpl_covid_survey_tested_positive_14d\")"
      ],
      "metadata": {
        "colab": {
          "base_uri": "https://localhost:8080/",
          "height": 378
        },
        "id": "pUF1DU_EyVKA",
        "outputId": "31e9e138-318c-4a1c-f44b-d3aa0c47a06a"
      },
      "execution_count": null,
      "outputs": [
        {
          "output_type": "execute_result",
          "data": {
            "text/plain": [
              "  pct_tested_positive_14d tested_positive_14d_se pct_tested_positive_14d_unw  \\\n",
              "0                    None                   None                        None   \n",
              "1                    None                   None                        None   \n",
              "2                    None                   None                        None   \n",
              "3                    None                   None                        None   \n",
              "4                    None                   None                        None   \n",
              "5                    None                   None                        None   \n",
              "6                    None                   None                        None   \n",
              "7                    None                   None                        None   \n",
              "\n",
              "  tested_positive_14d_se_unw sample_size       country iso_code gid_0  \\\n",
              "0                       None        None  South Africa      ZAF   ZAF   \n",
              "1                       None        None         Spain      ESP   ESP   \n",
              "2                       None        None        Poland      POL   POL   \n",
              "3                       None        None       Algeria      DZA   DZA   \n",
              "4                       None        None     Argentina      ARG   ARG   \n",
              "5                       None        None         Kenya      KEN   KEN   \n",
              "6                       None        None   Switzerland      CHE   CHE   \n",
              "7                       None        None         Japan      JPN   JPN   \n",
              "\n",
              "   survey_date  \n",
              "0     20210701  \n",
              "1     20210701  \n",
              "2     20210701  \n",
              "3     20210701  \n",
              "4     20210701  \n",
              "5     20210701  \n",
              "6     20210701  \n",
              "7     20210701  "
            ],
            "text/html": [
              "\n",
              "  <div id=\"df-c10bf466-de9f-45a7-870f-a7f53693ee43\">\n",
              "    <div class=\"colab-df-container\">\n",
              "      <div>\n",
              "<style scoped>\n",
              "    .dataframe tbody tr th:only-of-type {\n",
              "        vertical-align: middle;\n",
              "    }\n",
              "\n",
              "    .dataframe tbody tr th {\n",
              "        vertical-align: top;\n",
              "    }\n",
              "\n",
              "    .dataframe thead th {\n",
              "        text-align: right;\n",
              "    }\n",
              "</style>\n",
              "<table border=\"1\" class=\"dataframe\">\n",
              "  <thead>\n",
              "    <tr style=\"text-align: right;\">\n",
              "      <th></th>\n",
              "      <th>pct_tested_positive_14d</th>\n",
              "      <th>tested_positive_14d_se</th>\n",
              "      <th>pct_tested_positive_14d_unw</th>\n",
              "      <th>tested_positive_14d_se_unw</th>\n",
              "      <th>sample_size</th>\n",
              "      <th>country</th>\n",
              "      <th>iso_code</th>\n",
              "      <th>gid_0</th>\n",
              "      <th>survey_date</th>\n",
              "    </tr>\n",
              "  </thead>\n",
              "  <tbody>\n",
              "    <tr>\n",
              "      <th>0</th>\n",
              "      <td>None</td>\n",
              "      <td>None</td>\n",
              "      <td>None</td>\n",
              "      <td>None</td>\n",
              "      <td>None</td>\n",
              "      <td>South Africa</td>\n",
              "      <td>ZAF</td>\n",
              "      <td>ZAF</td>\n",
              "      <td>20210701</td>\n",
              "    </tr>\n",
              "    <tr>\n",
              "      <th>1</th>\n",
              "      <td>None</td>\n",
              "      <td>None</td>\n",
              "      <td>None</td>\n",
              "      <td>None</td>\n",
              "      <td>None</td>\n",
              "      <td>Spain</td>\n",
              "      <td>ESP</td>\n",
              "      <td>ESP</td>\n",
              "      <td>20210701</td>\n",
              "    </tr>\n",
              "    <tr>\n",
              "      <th>2</th>\n",
              "      <td>None</td>\n",
              "      <td>None</td>\n",
              "      <td>None</td>\n",
              "      <td>None</td>\n",
              "      <td>None</td>\n",
              "      <td>Poland</td>\n",
              "      <td>POL</td>\n",
              "      <td>POL</td>\n",
              "      <td>20210701</td>\n",
              "    </tr>\n",
              "    <tr>\n",
              "      <th>3</th>\n",
              "      <td>None</td>\n",
              "      <td>None</td>\n",
              "      <td>None</td>\n",
              "      <td>None</td>\n",
              "      <td>None</td>\n",
              "      <td>Algeria</td>\n",
              "      <td>DZA</td>\n",
              "      <td>DZA</td>\n",
              "      <td>20210701</td>\n",
              "    </tr>\n",
              "    <tr>\n",
              "      <th>4</th>\n",
              "      <td>None</td>\n",
              "      <td>None</td>\n",
              "      <td>None</td>\n",
              "      <td>None</td>\n",
              "      <td>None</td>\n",
              "      <td>Argentina</td>\n",
              "      <td>ARG</td>\n",
              "      <td>ARG</td>\n",
              "      <td>20210701</td>\n",
              "    </tr>\n",
              "    <tr>\n",
              "      <th>5</th>\n",
              "      <td>None</td>\n",
              "      <td>None</td>\n",
              "      <td>None</td>\n",
              "      <td>None</td>\n",
              "      <td>None</td>\n",
              "      <td>Kenya</td>\n",
              "      <td>KEN</td>\n",
              "      <td>KEN</td>\n",
              "      <td>20210701</td>\n",
              "    </tr>\n",
              "    <tr>\n",
              "      <th>6</th>\n",
              "      <td>None</td>\n",
              "      <td>None</td>\n",
              "      <td>None</td>\n",
              "      <td>None</td>\n",
              "      <td>None</td>\n",
              "      <td>Switzerland</td>\n",
              "      <td>CHE</td>\n",
              "      <td>CHE</td>\n",
              "      <td>20210701</td>\n",
              "    </tr>\n",
              "    <tr>\n",
              "      <th>7</th>\n",
              "      <td>None</td>\n",
              "      <td>None</td>\n",
              "      <td>None</td>\n",
              "      <td>None</td>\n",
              "      <td>None</td>\n",
              "      <td>Japan</td>\n",
              "      <td>JPN</td>\n",
              "      <td>JPN</td>\n",
              "      <td>20210701</td>\n",
              "    </tr>\n",
              "  </tbody>\n",
              "</table>\n",
              "</div>\n",
              "      <button class=\"colab-df-convert\" onclick=\"convertToInteractive('df-c10bf466-de9f-45a7-870f-a7f53693ee43')\"\n",
              "              title=\"Convert this dataframe to an interactive table.\"\n",
              "              style=\"display:none;\">\n",
              "        \n",
              "  <svg xmlns=\"http://www.w3.org/2000/svg\" height=\"24px\"viewBox=\"0 0 24 24\"\n",
              "       width=\"24px\">\n",
              "    <path d=\"M0 0h24v24H0V0z\" fill=\"none\"/>\n",
              "    <path d=\"M18.56 5.44l.94 2.06.94-2.06 2.06-.94-2.06-.94-.94-2.06-.94 2.06-2.06.94zm-11 1L8.5 8.5l.94-2.06 2.06-.94-2.06-.94L8.5 2.5l-.94 2.06-2.06.94zm10 10l.94 2.06.94-2.06 2.06-.94-2.06-.94-.94-2.06-.94 2.06-2.06.94z\"/><path d=\"M17.41 7.96l-1.37-1.37c-.4-.4-.92-.59-1.43-.59-.52 0-1.04.2-1.43.59L10.3 9.45l-7.72 7.72c-.78.78-.78 2.05 0 2.83L4 21.41c.39.39.9.59 1.41.59.51 0 1.02-.2 1.41-.59l7.78-7.78 2.81-2.81c.8-.78.8-2.07 0-2.86zM5.41 20L4 18.59l7.72-7.72 1.47 1.35L5.41 20z\"/>\n",
              "  </svg>\n",
              "      </button>\n",
              "      \n",
              "  <style>\n",
              "    .colab-df-container {\n",
              "      display:flex;\n",
              "      flex-wrap:wrap;\n",
              "      gap: 12px;\n",
              "    }\n",
              "\n",
              "    .colab-df-convert {\n",
              "      background-color: #E8F0FE;\n",
              "      border: none;\n",
              "      border-radius: 50%;\n",
              "      cursor: pointer;\n",
              "      display: none;\n",
              "      fill: #1967D2;\n",
              "      height: 32px;\n",
              "      padding: 0 0 0 0;\n",
              "      width: 32px;\n",
              "    }\n",
              "\n",
              "    .colab-df-convert:hover {\n",
              "      background-color: #E2EBFA;\n",
              "      box-shadow: 0px 1px 2px rgba(60, 64, 67, 0.3), 0px 1px 3px 1px rgba(60, 64, 67, 0.15);\n",
              "      fill: #174EA6;\n",
              "    }\n",
              "\n",
              "    [theme=dark] .colab-df-convert {\n",
              "      background-color: #3B4455;\n",
              "      fill: #D2E3FC;\n",
              "    }\n",
              "\n",
              "    [theme=dark] .colab-df-convert:hover {\n",
              "      background-color: #434B5C;\n",
              "      box-shadow: 0px 1px 3px 1px rgba(0, 0, 0, 0.15);\n",
              "      filter: drop-shadow(0px 1px 2px rgba(0, 0, 0, 0.3));\n",
              "      fill: #FFFFFF;\n",
              "    }\n",
              "  </style>\n",
              "\n",
              "      <script>\n",
              "        const buttonEl =\n",
              "          document.querySelector('#df-c10bf466-de9f-45a7-870f-a7f53693ee43 button.colab-df-convert');\n",
              "        buttonEl.style.display =\n",
              "          google.colab.kernel.accessAllowed ? 'block' : 'none';\n",
              "\n",
              "        async function convertToInteractive(key) {\n",
              "          const element = document.querySelector('#df-c10bf466-de9f-45a7-870f-a7f53693ee43');\n",
              "          const dataTable =\n",
              "            await google.colab.kernel.invokeFunction('convertToInteractive',\n",
              "                                                     [key], {});\n",
              "          if (!dataTable) return;\n",
              "\n",
              "          const docLinkHtml = 'Like what you see? Visit the ' +\n",
              "            '<a target=\"_blank\" href=https://colab.research.google.com/notebooks/data_table.ipynb>data table notebook</a>'\n",
              "            + ' to learn more about interactive tables.';\n",
              "          element.innerHTML = '';\n",
              "          dataTable['output_type'] = 'display_data';\n",
              "          await google.colab.output.renderOutput(dataTable, element);\n",
              "          const docLink = document.createElement('div');\n",
              "          docLink.innerHTML = docLinkHtml;\n",
              "          element.appendChild(docLink);\n",
              "        }\n",
              "      </script>\n",
              "    </div>\n",
              "  </div>\n",
              "  "
            ]
          },
          "metadata": {},
          "execution_count": 44
        }
      ]
    },
    {
      "cell_type": "code",
      "source": [
        "query_db(\"SELECT * FROM covid_survey_json\")"
      ],
      "metadata": {
        "colab": {
          "base_uri": "https://localhost:8080/",
          "height": 633
        },
        "id": "nHG-qlLagLmk",
        "outputId": "7bd20677-4600-47c9-87fc-66465337865c"
      },
      "execution_count": null,
      "outputs": [
        {
          "output_type": "execute_result",
          "data": {
            "text/plain": [
              "                                         percent_json  \\\n",
              "0   {\"covid\": 0.004077,\"mask\": 0.963163,\"covid_vac...   \n",
              "1   {\"covid\": 0.005203,\"mask\": 0.791662,\"covid_vac...   \n",
              "2   {\"covid\": 0.006898,\"mask\": 0.838525,\"covid_vac...   \n",
              "3   {\"covid\": 0.045699,\"mask\": 0.894167,\"covid_vac...   \n",
              "4   {\"covid\": 0.018302,\"mask\": 0.881664,\"covid_vac...   \n",
              "..                                                ...   \n",
              "76  {\"covid\": 0.074094,\"mask\": 0.802343,\"covid_vac...   \n",
              "77  {\"covid\": 0.012274,\"mask\": 0.725215,\"covid_vac...   \n",
              "78  {\"covid\": 0.023942,\"mask\": 0.672287,\"covid_vac...   \n",
              "79  {\"covid\": 0.016443,\"mask\": 0.893224,\"covid_vac...   \n",
              "80  {\"covid\": 0.186964,\"mask\": 0.462942,\"covid_vac...   \n",
              "\n",
              "                                              json_se  \\\n",
              "0   {\"covid\": 0.001014,\"mask\": 0.003969,\"covid_vac...   \n",
              "1   {\"covid\": 0.001419,\"mask\": 0.008764,\"covid_vac...   \n",
              "2   {\"covid\": 0.003247,\"mask\": 0.013297,\"covid_vac...   \n",
              "3   {\"covid\": 0.010931,\"mask\": 0.014362,\"covid_vac...   \n",
              "4   {\"covid\": 0.008787,\"mask\": 0.026141,\"covid_vac...   \n",
              "..                                                ...   \n",
              "76  {\"covid\": 0.01566,\"mask\": 0.031168,\"covid_vacc...   \n",
              "77  {\"covid\": 0.005129,\"mask\": 0.022226,\"covid_vac...   \n",
              "78  {\"covid\": 0.004655,\"mask\": 0.01548,\"covid_vacc...   \n",
              "79  {\"covid\": 0.003064,\"mask\": 0.008383,\"covid_vac...   \n",
              "80  {\"covid\": 0.08315,\"mask\": 0.04495,\"covid_vacci...   \n",
              "\n",
              "                                     percent_json_unw  \\\n",
              "0   {\"covid\": 0.004395,\"mask\": 0.9681,\"covid_vacci...   \n",
              "1   {\"covid\": 0.005156,\"mask\": 0.78265,\"covid_vacc...   \n",
              "2   {\"covid\": 0.005771,\"mask\": 0.827139,\"covid_vac...   \n",
              "3   {\"covid\": 0.032218,\"mask\": 0.892144,\"covid_vac...   \n",
              "4   {\"covid\": 0.014388,\"mask\": 0.903896,\"covid_vac...   \n",
              "..                                                ...   \n",
              "76  {\"covid\": 0.103627,\"mask\": 0.788671,\"covid_vac...   \n",
              "77  {\"covid\": 0.012024,\"mask\": 0.732068,\"covid_vac...   \n",
              "78  {\"covid\": 0.022576,\"mask\": 0.644238,\"covid_vac...   \n",
              "79  {\"covid\": 0.015955,\"mask\": 0.90515,\"covid_vacc...   \n",
              "80  {\"covid\": 0.084469,\"mask\": 0.498305,\"covid_vac...   \n",
              "\n",
              "                                          json_se_unw  \\\n",
              "0   {\"covid\": 0.00086,\"mask\": 0.002353,\"covid_vacc...   \n",
              "1   {\"covid\": 0.001247,\"mask\": 0.007352,\"covid_vac...   \n",
              "2   {\"covid\": 0.001735,\"mask\": 0.009184,\"covid_vac...   \n",
              "3   {\"covid\": 0.006216,\"mask\": 0.011319,\"covid_vac...   \n",
              "4   {\"covid\": 0.005832,\"mask\": 0.015021,\"covid_vac...   \n",
              "..                                                ...   \n",
              "76  {\"covid\": 0.012666,\"mask\": 0.019056,\"covid_vac...   \n",
              "77  {\"covid\": 0.004879,\"mask\": 0.020342,\"covid_vac...   \n",
              "78  {\"covid\": 0.003828,\"mask\": 0.012809,\"covid_vac...   \n",
              "79  {\"covid\": 0.002503,\"mask\": 0.00607,\"covid_vacc...   \n",
              "80  {\"covid\": 0.014516,\"mask\": 0.029111,\"covid_vac...   \n",
              "\n",
              "                                     json_sample_size     country iso_code  \\\n",
              "0   {\"covid\": 5916,\"mask\": 5580,\"covid_vaccine\": 5...       Japan      JPN   \n",
              "1   {\"covid\": 3297,\"mask\": 3147,\"covid_vaccine\": 3...     Germany      DEU   \n",
              "2   {\"covid\": 1906,\"mask\": 1695,\"covid_vaccine\": 1...     Vietnam      VNM   \n",
              "3   {\"covid\": 807,\"mask\": 751,\"covid_vaccine\": 776...   Venezuela      VEN   \n",
              "4   {\"covid\": 417,\"mask\": 385,\"covid_vaccine\": 397...     Uruguay      URY   \n",
              "..                                                ...         ...      ...   \n",
              "76  {\"covid\": 579,\"mask\": 459,\"covid_vaccine\": 511...  Bangladesh      BGD   \n",
              "77  {\"covid\": 499,\"mask\": 474,\"covid_vaccine\": 484...     Austria      AUT   \n",
              "78  {\"covid\": 1506,\"mask\": 1397,\"covid_vaccine\": 1...   Australia      AUS   \n",
              "79  {\"covid\": 2507,\"mask\": 2330,\"covid_vaccine\": 2...   Argentina      ARG   \n",
              "80  {\"covid\": 367,\"mask\": 295,\"covid_vaccine\": 333...     Algeria      DZA   \n",
              "\n",
              "   gid_0  survey_date  \n",
              "0    JPN     20210701  \n",
              "1    DEU     20210701  \n",
              "2    VNM     20210701  \n",
              "3    VEN     20210701  \n",
              "4    URY     20210701  \n",
              "..   ...          ...  \n",
              "76   BGD     20210701  \n",
              "77   AUT     20210701  \n",
              "78   AUS     20210701  \n",
              "79   ARG     20210701  \n",
              "80   DZA     20210701  \n",
              "\n",
              "[81 rows x 9 columns]"
            ],
            "text/html": [
              "\n",
              "  <div id=\"df-0cb6ae77-b39f-4ea0-bf3e-0bdab1dfd425\">\n",
              "    <div class=\"colab-df-container\">\n",
              "      <div>\n",
              "<style scoped>\n",
              "    .dataframe tbody tr th:only-of-type {\n",
              "        vertical-align: middle;\n",
              "    }\n",
              "\n",
              "    .dataframe tbody tr th {\n",
              "        vertical-align: top;\n",
              "    }\n",
              "\n",
              "    .dataframe thead th {\n",
              "        text-align: right;\n",
              "    }\n",
              "</style>\n",
              "<table border=\"1\" class=\"dataframe\">\n",
              "  <thead>\n",
              "    <tr style=\"text-align: right;\">\n",
              "      <th></th>\n",
              "      <th>percent_json</th>\n",
              "      <th>json_se</th>\n",
              "      <th>percent_json_unw</th>\n",
              "      <th>json_se_unw</th>\n",
              "      <th>json_sample_size</th>\n",
              "      <th>country</th>\n",
              "      <th>iso_code</th>\n",
              "      <th>gid_0</th>\n",
              "      <th>survey_date</th>\n",
              "    </tr>\n",
              "  </thead>\n",
              "  <tbody>\n",
              "    <tr>\n",
              "      <th>0</th>\n",
              "      <td>{\"covid\": 0.004077,\"mask\": 0.963163,\"covid_vac...</td>\n",
              "      <td>{\"covid\": 0.001014,\"mask\": 0.003969,\"covid_vac...</td>\n",
              "      <td>{\"covid\": 0.004395,\"mask\": 0.9681,\"covid_vacci...</td>\n",
              "      <td>{\"covid\": 0.00086,\"mask\": 0.002353,\"covid_vacc...</td>\n",
              "      <td>{\"covid\": 5916,\"mask\": 5580,\"covid_vaccine\": 5...</td>\n",
              "      <td>Japan</td>\n",
              "      <td>JPN</td>\n",
              "      <td>JPN</td>\n",
              "      <td>20210701</td>\n",
              "    </tr>\n",
              "    <tr>\n",
              "      <th>1</th>\n",
              "      <td>{\"covid\": 0.005203,\"mask\": 0.791662,\"covid_vac...</td>\n",
              "      <td>{\"covid\": 0.001419,\"mask\": 0.008764,\"covid_vac...</td>\n",
              "      <td>{\"covid\": 0.005156,\"mask\": 0.78265,\"covid_vacc...</td>\n",
              "      <td>{\"covid\": 0.001247,\"mask\": 0.007352,\"covid_vac...</td>\n",
              "      <td>{\"covid\": 3297,\"mask\": 3147,\"covid_vaccine\": 3...</td>\n",
              "      <td>Germany</td>\n",
              "      <td>DEU</td>\n",
              "      <td>DEU</td>\n",
              "      <td>20210701</td>\n",
              "    </tr>\n",
              "    <tr>\n",
              "      <th>2</th>\n",
              "      <td>{\"covid\": 0.006898,\"mask\": 0.838525,\"covid_vac...</td>\n",
              "      <td>{\"covid\": 0.003247,\"mask\": 0.013297,\"covid_vac...</td>\n",
              "      <td>{\"covid\": 0.005771,\"mask\": 0.827139,\"covid_vac...</td>\n",
              "      <td>{\"covid\": 0.001735,\"mask\": 0.009184,\"covid_vac...</td>\n",
              "      <td>{\"covid\": 1906,\"mask\": 1695,\"covid_vaccine\": 1...</td>\n",
              "      <td>Vietnam</td>\n",
              "      <td>VNM</td>\n",
              "      <td>VNM</td>\n",
              "      <td>20210701</td>\n",
              "    </tr>\n",
              "    <tr>\n",
              "      <th>3</th>\n",
              "      <td>{\"covid\": 0.045699,\"mask\": 0.894167,\"covid_vac...</td>\n",
              "      <td>{\"covid\": 0.010931,\"mask\": 0.014362,\"covid_vac...</td>\n",
              "      <td>{\"covid\": 0.032218,\"mask\": 0.892144,\"covid_vac...</td>\n",
              "      <td>{\"covid\": 0.006216,\"mask\": 0.011319,\"covid_vac...</td>\n",
              "      <td>{\"covid\": 807,\"mask\": 751,\"covid_vaccine\": 776...</td>\n",
              "      <td>Venezuela</td>\n",
              "      <td>VEN</td>\n",
              "      <td>VEN</td>\n",
              "      <td>20210701</td>\n",
              "    </tr>\n",
              "    <tr>\n",
              "      <th>4</th>\n",
              "      <td>{\"covid\": 0.018302,\"mask\": 0.881664,\"covid_vac...</td>\n",
              "      <td>{\"covid\": 0.008787,\"mask\": 0.026141,\"covid_vac...</td>\n",
              "      <td>{\"covid\": 0.014388,\"mask\": 0.903896,\"covid_vac...</td>\n",
              "      <td>{\"covid\": 0.005832,\"mask\": 0.015021,\"covid_vac...</td>\n",
              "      <td>{\"covid\": 417,\"mask\": 385,\"covid_vaccine\": 397...</td>\n",
              "      <td>Uruguay</td>\n",
              "      <td>URY</td>\n",
              "      <td>URY</td>\n",
              "      <td>20210701</td>\n",
              "    </tr>\n",
              "    <tr>\n",
              "      <th>...</th>\n",
              "      <td>...</td>\n",
              "      <td>...</td>\n",
              "      <td>...</td>\n",
              "      <td>...</td>\n",
              "      <td>...</td>\n",
              "      <td>...</td>\n",
              "      <td>...</td>\n",
              "      <td>...</td>\n",
              "      <td>...</td>\n",
              "    </tr>\n",
              "    <tr>\n",
              "      <th>76</th>\n",
              "      <td>{\"covid\": 0.074094,\"mask\": 0.802343,\"covid_vac...</td>\n",
              "      <td>{\"covid\": 0.01566,\"mask\": 0.031168,\"covid_vacc...</td>\n",
              "      <td>{\"covid\": 0.103627,\"mask\": 0.788671,\"covid_vac...</td>\n",
              "      <td>{\"covid\": 0.012666,\"mask\": 0.019056,\"covid_vac...</td>\n",
              "      <td>{\"covid\": 579,\"mask\": 459,\"covid_vaccine\": 511...</td>\n",
              "      <td>Bangladesh</td>\n",
              "      <td>BGD</td>\n",
              "      <td>BGD</td>\n",
              "      <td>20210701</td>\n",
              "    </tr>\n",
              "    <tr>\n",
              "      <th>77</th>\n",
              "      <td>{\"covid\": 0.012274,\"mask\": 0.725215,\"covid_vac...</td>\n",
              "      <td>{\"covid\": 0.005129,\"mask\": 0.022226,\"covid_vac...</td>\n",
              "      <td>{\"covid\": 0.012024,\"mask\": 0.732068,\"covid_vac...</td>\n",
              "      <td>{\"covid\": 0.004879,\"mask\": 0.020342,\"covid_vac...</td>\n",
              "      <td>{\"covid\": 499,\"mask\": 474,\"covid_vaccine\": 484...</td>\n",
              "      <td>Austria</td>\n",
              "      <td>AUT</td>\n",
              "      <td>AUT</td>\n",
              "      <td>20210701</td>\n",
              "    </tr>\n",
              "    <tr>\n",
              "      <th>78</th>\n",
              "      <td>{\"covid\": 0.023942,\"mask\": 0.672287,\"covid_vac...</td>\n",
              "      <td>{\"covid\": 0.004655,\"mask\": 0.01548,\"covid_vacc...</td>\n",
              "      <td>{\"covid\": 0.022576,\"mask\": 0.644238,\"covid_vac...</td>\n",
              "      <td>{\"covid\": 0.003828,\"mask\": 0.012809,\"covid_vac...</td>\n",
              "      <td>{\"covid\": 1506,\"mask\": 1397,\"covid_vaccine\": 1...</td>\n",
              "      <td>Australia</td>\n",
              "      <td>AUS</td>\n",
              "      <td>AUS</td>\n",
              "      <td>20210701</td>\n",
              "    </tr>\n",
              "    <tr>\n",
              "      <th>79</th>\n",
              "      <td>{\"covid\": 0.016443,\"mask\": 0.893224,\"covid_vac...</td>\n",
              "      <td>{\"covid\": 0.003064,\"mask\": 0.008383,\"covid_vac...</td>\n",
              "      <td>{\"covid\": 0.015955,\"mask\": 0.90515,\"covid_vacc...</td>\n",
              "      <td>{\"covid\": 0.002503,\"mask\": 0.00607,\"covid_vacc...</td>\n",
              "      <td>{\"covid\": 2507,\"mask\": 2330,\"covid_vaccine\": 2...</td>\n",
              "      <td>Argentina</td>\n",
              "      <td>ARG</td>\n",
              "      <td>ARG</td>\n",
              "      <td>20210701</td>\n",
              "    </tr>\n",
              "    <tr>\n",
              "      <th>80</th>\n",
              "      <td>{\"covid\": 0.186964,\"mask\": 0.462942,\"covid_vac...</td>\n",
              "      <td>{\"covid\": 0.08315,\"mask\": 0.04495,\"covid_vacci...</td>\n",
              "      <td>{\"covid\": 0.084469,\"mask\": 0.498305,\"covid_vac...</td>\n",
              "      <td>{\"covid\": 0.014516,\"mask\": 0.029111,\"covid_vac...</td>\n",
              "      <td>{\"covid\": 367,\"mask\": 295,\"covid_vaccine\": 333...</td>\n",
              "      <td>Algeria</td>\n",
              "      <td>DZA</td>\n",
              "      <td>DZA</td>\n",
              "      <td>20210701</td>\n",
              "    </tr>\n",
              "  </tbody>\n",
              "</table>\n",
              "<p>81 rows × 9 columns</p>\n",
              "</div>\n",
              "      <button class=\"colab-df-convert\" onclick=\"convertToInteractive('df-0cb6ae77-b39f-4ea0-bf3e-0bdab1dfd425')\"\n",
              "              title=\"Convert this dataframe to an interactive table.\"\n",
              "              style=\"display:none;\">\n",
              "        \n",
              "  <svg xmlns=\"http://www.w3.org/2000/svg\" height=\"24px\"viewBox=\"0 0 24 24\"\n",
              "       width=\"24px\">\n",
              "    <path d=\"M0 0h24v24H0V0z\" fill=\"none\"/>\n",
              "    <path d=\"M18.56 5.44l.94 2.06.94-2.06 2.06-.94-2.06-.94-.94-2.06-.94 2.06-2.06.94zm-11 1L8.5 8.5l.94-2.06 2.06-.94-2.06-.94L8.5 2.5l-.94 2.06-2.06.94zm10 10l.94 2.06.94-2.06 2.06-.94-2.06-.94-.94-2.06-.94 2.06-2.06.94z\"/><path d=\"M17.41 7.96l-1.37-1.37c-.4-.4-.92-.59-1.43-.59-.52 0-1.04.2-1.43.59L10.3 9.45l-7.72 7.72c-.78.78-.78 2.05 0 2.83L4 21.41c.39.39.9.59 1.41.59.51 0 1.02-.2 1.41-.59l7.78-7.78 2.81-2.81c.8-.78.8-2.07 0-2.86zM5.41 20L4 18.59l7.72-7.72 1.47 1.35L5.41 20z\"/>\n",
              "  </svg>\n",
              "      </button>\n",
              "      \n",
              "  <style>\n",
              "    .colab-df-container {\n",
              "      display:flex;\n",
              "      flex-wrap:wrap;\n",
              "      gap: 12px;\n",
              "    }\n",
              "\n",
              "    .colab-df-convert {\n",
              "      background-color: #E8F0FE;\n",
              "      border: none;\n",
              "      border-radius: 50%;\n",
              "      cursor: pointer;\n",
              "      display: none;\n",
              "      fill: #1967D2;\n",
              "      height: 32px;\n",
              "      padding: 0 0 0 0;\n",
              "      width: 32px;\n",
              "    }\n",
              "\n",
              "    .colab-df-convert:hover {\n",
              "      background-color: #E2EBFA;\n",
              "      box-shadow: 0px 1px 2px rgba(60, 64, 67, 0.3), 0px 1px 3px 1px rgba(60, 64, 67, 0.15);\n",
              "      fill: #174EA6;\n",
              "    }\n",
              "\n",
              "    [theme=dark] .colab-df-convert {\n",
              "      background-color: #3B4455;\n",
              "      fill: #D2E3FC;\n",
              "    }\n",
              "\n",
              "    [theme=dark] .colab-df-convert:hover {\n",
              "      background-color: #434B5C;\n",
              "      box-shadow: 0px 1px 3px 1px rgba(0, 0, 0, 0.15);\n",
              "      filter: drop-shadow(0px 1px 2px rgba(0, 0, 0, 0.3));\n",
              "      fill: #FFFFFF;\n",
              "    }\n",
              "  </style>\n",
              "\n",
              "      <script>\n",
              "        const buttonEl =\n",
              "          document.querySelector('#df-0cb6ae77-b39f-4ea0-bf3e-0bdab1dfd425 button.colab-df-convert');\n",
              "        buttonEl.style.display =\n",
              "          google.colab.kernel.accessAllowed ? 'block' : 'none';\n",
              "\n",
              "        async function convertToInteractive(key) {\n",
              "          const element = document.querySelector('#df-0cb6ae77-b39f-4ea0-bf3e-0bdab1dfd425');\n",
              "          const dataTable =\n",
              "            await google.colab.kernel.invokeFunction('convertToInteractive',\n",
              "                                                     [key], {});\n",
              "          if (!dataTable) return;\n",
              "\n",
              "          const docLinkHtml = 'Like what you see? Visit the ' +\n",
              "            '<a target=\"_blank\" href=https://colab.research.google.com/notebooks/data_table.ipynb>data table notebook</a>'\n",
              "            + ' to learn more about interactive tables.';\n",
              "          element.innerHTML = '';\n",
              "          dataTable['output_type'] = 'display_data';\n",
              "          await google.colab.output.renderOutput(dataTable, element);\n",
              "          const docLink = document.createElement('div');\n",
              "          docLink.innerHTML = docLinkHtml;\n",
              "          element.appendChild(docLink);\n",
              "        }\n",
              "      </script>\n",
              "    </div>\n",
              "  </div>\n",
              "  "
            ]
          },
          "metadata": {},
          "execution_count": 66
        }
      ]
    },
    {
      "cell_type": "code",
      "source": [
        ""
      ],
      "metadata": {
        "id": "U7Bjts0Af2YO"
      },
      "execution_count": null,
      "outputs": []
    }
  ]
}